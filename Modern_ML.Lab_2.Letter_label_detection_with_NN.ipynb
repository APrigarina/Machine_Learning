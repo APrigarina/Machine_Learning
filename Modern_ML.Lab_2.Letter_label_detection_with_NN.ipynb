{
 "cells": [
  {
   "cell_type": "markdown",
   "metadata": {},
   "source": [
    "# <center> Майнор \"Интеллектуальный анализ данных\" </center>"
   ]
  },
  {
   "cell_type": "markdown",
   "metadata": {},
   "source": [
    "# <center> Курс \"Современные методы машинного обучения\" </center>"
   ]
  },
  {
   "cell_type": "markdown",
   "metadata": {},
   "source": [
    "# <center> Лабораторная работа №2. Детектирование букв. </center>"
   ]
  },
  {
   "cell_type": "markdown",
   "metadata": {},
   "source": [
    "Вам дано два датасета: train.csv и test.csv. Каждая строчка в файлах - это одна картинка с буквой, в строчке 785 элементов, первый элемент - класс, все остальные - картинка 28х28:"
   ]
  },
  {
   "cell_type": "code",
   "execution_count": 1,
   "metadata": {},
   "outputs": [],
   "source": [
    "import pandas as pd\n",
    "train = pd.read_csv(\"train.csv\", header=None)"
   ]
  },
  {
   "cell_type": "code",
   "execution_count": 2,
   "metadata": {},
   "outputs": [
    {
     "name": "stdout",
     "output_type": "stream",
     "text": [
      "7\n"
     ]
    }
   ],
   "source": [
    "import numpy as np\n",
    "train = np.asarray(train)\n",
    "first_pic = train[8]\n",
    "pic_label, pic = first_pic[0], first_pic[1:]\n",
    "print(pic_label)"
   ]
  },
  {
   "cell_type": "code",
   "execution_count": 4,
   "metadata": {},
   "outputs": [
    {
     "data": {
      "image/png": "[encoded data removed]",
      "text/plain": [
       "<Figure size 432x288 with 1 Axes>"
      ]
     },
     "metadata": {
      "needs_background": "light"
     },
     "output_type": "display_data"
    }
   ],
   "source": [
    "import matplotlib.pyplot as plt\n",
    "plt.imshow(pic.reshape((28, 28)).T, cmap='gray')\n",
    "plt.show()"
   ]
  },
  {
   "cell_type": "markdown",
   "metadata": {},
   "source": [
    "a, b, c, d, e, f, g - 7ая буква английского алфавита. "
   ]
  },
  {
   "cell_type": "code",
   "execution_count": 5,
   "metadata": {},
   "outputs": [],
   "source": [
    "import tensorflow as tf\n",
    "from tensorflow import keras"
   ]
  },
  {
   "cell_type": "markdown",
   "metadata": {},
   "source": [
    "## Задание"
   ]
  },
  {
   "cell_type": "markdown",
   "metadata": {},
   "source": [
    "1) Создать модель нейронной сети, которая предсказывает букву по картинке. Модель обучать на данных из train.csv, качество модели проверять на данных из файла test.csv. Для построения модели желательно использовать библиотеки tensorflow и keras.\n",
    "    1. Обязательно : построить модели с 2мя и 3мя скрытыми слоями, количество нейронов в слоях подобрать таким, какое вы считаете необходимым (по результатам обучения). \n",
    "    2. Объяснить выбор оптимальных параметров нейронной сети - количество и состав слоёв, нейронов на каждом слое, функций активации и других параметров. (3 балла за пункты 1-2)\n",
    "    3. По желанию: попробовать другие возможные архитектуры (большее/меньшее количество слоёв, нейронов, свёрточные слои) с объяснением выбора и указанием получившихся результатов качества модели. Выбрать наилучшую модель. (1-2 балла)\n",
    "2) Для наилучшей модели построить матрицу смежности (confusion_matrix) результатов предсказаний модели на тестовых данных (2 балла):\n",
    "    1. Найти 10 пар букв, которые чаще всего путаются между собой - объяснить с логической точки зрения почему. Привести примеры с картинками, которые были детектированы с ошибкой.\n",
    "    2. Насколько равномерно обучилась ваша модель, а именно все ли буквы определяются с примерно одинаковой точностью? Приведите доказательства вашей точки зрения, а также буквы с самым лучшим и с самым худшим процентом детекции (точностью детекции).\n",
    "    3. Возьмите первую букву вашей фамилии и укажите её точность детекции. С какими буквами ваша модель чаще всего путает эту букву?\n",
    "3) Оценка качества:\n",
    "    - >0.85    +1 балл\n",
    "    - >0.95    +2 балла\n",
    "    - >0.99    +3 балла\n",
    "4) Творческое задание (3 балла). Написать на листке белой бумаги (маркером или ручкой) от 5 разных букв (можно больше 5и букв в целом с повторениями, но должно быть 5 разных) английского алфавита (в датасете есть как прописные, так и строчные буквы). Сфотографировать букву и привести её картинку к размеру 28х28 и чёрно-белой палитре цветов. Сделать предсказание буквы вашей моделью. Получилось? :)\n",
    "    - В датасете все буквы занимают практически всё пространство картинки по высоте или ширине (или вместе). Если ваша буква будет слишком маленькой или большой, это может повлиять на результат детекции.\n",
    "    - Помните, что буква должна быть белого цвета, а фон - чёрного. Или другими словами, картинка должна в итоге представлять из себя 784 значения от 0 до 255 (целых) или от 0 до 1 (если вы приводите весь датасет к такому виду).\n",
    "    - Также важно, что в исходном датасете все картинки транспонированы (см. 3 часть кода выше, 2ую строчку), а значит для корректной детекции надо транспонировать картинку, перед тем как делать функцию reshape. Либо надо перед обучением транспонировать все картинки, чтобы правильно посылать их на обучение.\n",
    "    - Описание ваших действий по выполнению этого задания (что вы использовали чтобы привести картинку к нужному виду) полностью приветствуется преподавателями :)"
   ]
  },
  {
   "cell_type": "code",
   "execution_count": 6,
   "metadata": {},
   "outputs": [],
   "source": [
    "train = pd.DataFrame(train)"
   ]
  },
  {
   "cell_type": "code",
   "execution_count": 7,
   "metadata": {},
   "outputs": [],
   "source": [
    "train_images = np.array(train.loc[:, 1:])\n",
    "train_labels = np.array(train[0])"
   ]
  },
  {
   "cell_type": "code",
   "execution_count": 8,
   "metadata": {},
   "outputs": [],
   "source": [
    "test = pd.read_csv(\"test.csv\", header=None)"
   ]
  },
  {
   "cell_type": "code",
   "execution_count": 9,
   "metadata": {},
   "outputs": [],
   "source": [
    "test_images = np.array(test.loc[:, 1:])\n",
    "test_labels = np.array(test[0])"
   ]
  },
  {
   "cell_type": "code",
   "execution_count": 10,
   "metadata": {},
   "outputs": [
    {
     "name": "stdout",
     "output_type": "stream",
     "text": [
      "Train data size: (65000, 784) \n",
      "Test data size: (13000, 784) \n",
      "\n",
      "Train label size: (65000,) \n",
      "Test label size: (13000,)\n"
     ]
    }
   ],
   "source": [
    "print('Train data size:', train_images.shape,\n",
    "      '\\nTest data size:', test_images.shape,\n",
    "      '\\n\\nTrain label size:', train_labels.shape,\n",
    "      '\\nTest label size:', test_labels.shape)"
   ]
  },
  {
   "cell_type": "code",
   "execution_count": 11,
   "metadata": {},
   "outputs": [
    {
     "data": {
      "text/plain": [
       "array([ 5, 25,  1, ...,  4,  7, 21], dtype=int64)"
      ]
     },
     "execution_count": 11,
     "metadata": {},
     "output_type": "execute_result"
    }
   ],
   "source": [
    "train_labels"
   ]
  },
  {
   "cell_type": "code",
   "execution_count": 12,
   "metadata": {},
   "outputs": [
    {
     "data": {
      "text/plain": [
       "(array([ 1,  2,  3,  4,  5,  6,  7,  8,  9, 10, 11, 12, 13, 14, 15, 16, 17,\n",
       "        18, 19, 20, 21, 22, 23, 24, 25, 26], dtype=int64),\n",
       " array([2500, 2500, 2500, 2500, 2500, 2500, 2500, 2500, 2500, 2500, 2500,\n",
       "        2500, 2500, 2500, 2500, 2500, 2500, 2500, 2500, 2500, 2500, 2500,\n",
       "        2500, 2500, 2500, 2500], dtype=int64))"
      ]
     },
     "execution_count": 12,
     "metadata": {},
     "output_type": "execute_result"
    }
   ],
   "source": [
    "np.unique(train_labels, return_counts=True)"
   ]
  },
  {
   "cell_type": "code",
   "execution_count": 13,
   "metadata": {},
   "outputs": [],
   "source": [
    "train_labels = train_labels-1"
   ]
  },
  {
   "cell_type": "code",
   "execution_count": 14,
   "metadata": {},
   "outputs": [
    {
     "data": {
      "text/plain": [
       "array([ 4, 24,  0, ...,  3,  6, 20], dtype=int64)"
      ]
     },
     "execution_count": 14,
     "metadata": {},
     "output_type": "execute_result"
    }
   ],
   "source": [
    "train_labels"
   ]
  },
  {
   "cell_type": "code",
   "execution_count": 15,
   "metadata": {},
   "outputs": [
    {
     "data": {
      "text/plain": [
       "(array([ 0,  1,  2,  3,  4,  5,  6,  7,  8,  9, 10, 11, 12, 13, 14, 15, 16,\n",
       "        17, 18, 19, 20, 21, 22, 23, 24, 25], dtype=int64),\n",
       " array([2500, 2500, 2500, 2500, 2500, 2500, 2500, 2500, 2500, 2500, 2500,\n",
       "        2500, 2500, 2500, 2500, 2500, 2500, 2500, 2500, 2500, 2500, 2500,\n",
       "        2500, 2500, 2500, 2500], dtype=int64))"
      ]
     },
     "execution_count": 15,
     "metadata": {},
     "output_type": "execute_result"
    }
   ],
   "source": [
    "np.unique(train_labels, return_counts=True)"
   ]
  },
  {
   "cell_type": "code",
   "execution_count": 16,
   "metadata": {},
   "outputs": [],
   "source": [
    "test_labels = test_labels - 1"
   ]
  },
  {
   "cell_type": "code",
   "execution_count": 17,
   "metadata": {},
   "outputs": [
    {
     "data": {
      "text/plain": [
       "(array([ 0,  1,  2,  3,  4,  5,  6,  7,  8,  9, 10, 11, 12, 13, 14, 15, 16,\n",
       "        17, 18, 19, 20, 21, 22, 23, 24, 25], dtype=int64),\n",
       " array([500, 500, 500, 500, 500, 500, 500, 500, 500, 500, 500, 500, 500,\n",
       "        500, 500, 500, 500, 500, 500, 500, 500, 500, 500, 500, 500, 500],\n",
       "       dtype=int64))"
      ]
     },
     "execution_count": 17,
     "metadata": {},
     "output_type": "execute_result"
    }
   ],
   "source": [
    "np.unique(test_labels, return_counts=True)"
   ]
  },
  {
   "cell_type": "code",
   "execution_count": 18,
   "metadata": {},
   "outputs": [
    {
     "data": {
      "image/png": "[encoded data removed]",
      "text/plain": [
       "<Figure size 432x288 with 2 Axes>"
      ]
     },
     "metadata": {
      "needs_background": "light"
     },
     "output_type": "display_data"
    }
   ],
   "source": [
    "pic = train_images[2]\n",
    "\n",
    "plt.imshow(pic.reshape((28, 28)).T, cmap='gray')\n",
    "plt.colorbar()\n",
    "plt.show()"
   ]
  },
  {
   "cell_type": "code",
   "execution_count": 19,
   "metadata": {},
   "outputs": [
    {
     "data": {
      "text/plain": [
       "0"
      ]
     },
     "execution_count": 19,
     "metadata": {},
     "output_type": "execute_result"
    }
   ],
   "source": [
    "train_labels[2]"
   ]
  },
  {
   "cell_type": "code",
   "execution_count": 20,
   "metadata": {},
   "outputs": [],
   "source": [
    "train_images = train_images / 255.0\n",
    "test_images = test_images / 255.0"
   ]
  },
  {
   "cell_type": "code",
   "execution_count": 21,
   "metadata": {},
   "outputs": [
    {
     "data": {
      "image/png": "[encoded data removed]",
      "text/plain": [
       "<Figure size 432x288 with 2 Axes>"
      ]
     },
     "metadata": {
      "needs_background": "light"
     },
     "output_type": "display_data"
    }
   ],
   "source": [
    "pic = train_images[2]\n",
    "\n",
    "plt.imshow(pic.reshape((28, 28)).T, cmap='gray')\n",
    "plt.colorbar()\n",
    "plt.show()"
   ]
  },
  {
   "cell_type": "code",
   "execution_count": 21,
   "metadata": {},
   "outputs": [],
   "source": [
    "linear_model = keras.Sequential([\n",
    "    keras.layers.Flatten(), \n",
    "    keras.layers.Dense(26, activation=tf.nn.softmax) \n",
    "])"
   ]
  },
  {
   "cell_type": "code",
   "execution_count": 22,
   "metadata": {},
   "outputs": [],
   "source": [
    "linear_model.compile(optimizer=tf.train.GradientDescentOptimizer(learning_rate=0.01), \n",
    "                     loss='sparse_categorical_crossentropy',\n",
    "                     metrics=['accuracy'])"
   ]
  },
  {
   "cell_type": "code",
   "execution_count": 23,
   "metadata": {},
   "outputs": [
    {
     "name": "stdout",
     "output_type": "stream",
     "text": [
      "Epoch 1/10\n",
      "65000/65000 [==============================] - 4s 62us/step - loss: 1.8768 - acc: 0.5207\n",
      "Epoch 2/10\n",
      "65000/65000 [==============================] - 4s 60us/step - loss: 1.3568 - acc: 0.6266\n",
      "Epoch 3/10\n",
      "65000/65000 [==============================] - 4s 60us/step - loss: 1.2511 - acc: 0.6510\n",
      "Epoch 4/10\n",
      "65000/65000 [==============================] - 4s 61us/step - loss: 1.1973 - acc: 0.6644\n",
      "Epoch 5/10\n",
      "65000/65000 [==============================] - 4s 60us/step - loss: 1.1631 - acc: 0.6747\n",
      "Epoch 6/10\n",
      "65000/65000 [==============================] - 4s 60us/step - loss: 1.1394 - acc: 0.6818\n",
      "Epoch 7/10\n",
      "65000/65000 [==============================] - 4s 60us/step - loss: 1.1214 - acc: 0.6867\n",
      "Epoch 8/10\n",
      "65000/65000 [==============================] - 4s 61us/step - loss: 1.1073 - acc: 0.6908\n",
      "Epoch 9/10\n",
      "65000/65000 [==============================] - 4s 61us/step - loss: 1.0955 - acc: 0.6944\n",
      "Epoch 10/10\n",
      "65000/65000 [==============================] - 4s 60us/step - loss: 1.0862 - acc: 0.6965\n"
     ]
    },
    {
     "data": {
      "text/plain": [
       "<tensorflow.python.keras.callbacks.History at 0x2884a00dda0>"
      ]
     },
     "execution_count": 23,
     "metadata": {},
     "output_type": "execute_result"
    }
   ],
   "source": [
    "linear_model.fit(train_images, train_labels, epochs=10)"
   ]
  },
  {
   "cell_type": "code",
   "execution_count": 24,
   "metadata": {},
   "outputs": [
    {
     "name": "stdout",
     "output_type": "stream",
     "text": [
      "13000/13000 [==============================] - 0s 27us/step\n"
     ]
    }
   ],
   "source": [
    "test_loss, test_acc = linear_model.evaluate(test_images, test_labels)"
   ]
  },
  {
   "cell_type": "code",
   "execution_count": 25,
   "metadata": {},
   "outputs": [
    {
     "name": "stdout",
     "output_type": "stream",
     "text": [
      "Test accuracy: 0.688 \n",
      "Test loss: 1.1065395761636587\n"
     ]
    }
   ],
   "source": [
    "print('Test accuracy:', test_acc, '\\nTest loss:', test_loss)"
   ]
  },
  {
   "cell_type": "code",
   "execution_count": 26,
   "metadata": {},
   "outputs": [
    {
     "data": {
      "image/png": "[encoded data removed]",
      "text/plain": [
       "<Figure size 720x720 with 26 Axes>"
      ]
     },
     "metadata": {},
     "output_type": "display_data"
    }
   ],
   "source": [
    "plt.figure(figsize=(10,10))\n",
    "for i in range(26):\n",
    "    plt.subplot(7,4,i+1)\n",
    "    plt.xticks([])\n",
    "    plt.yticks([])\n",
    "    plt.imshow(linear_model.get_layer(index=1).get_weights()[0][:, i].reshape((28, 28)) * -1, cmap='gray')\n",
    "    plt.xlabel(i)\n",
    "    plt.grid(False)\n",
    "\n",
    "plt.show()"
   ]
  },
  {
   "cell_type": "markdown",
   "metadata": {},
   "source": [
    "<h3> Задание 1</h3>"
   ]
  },
  {
   "cell_type": "code",
   "execution_count": 29,
   "metadata": {},
   "outputs": [],
   "source": [
    "from tensorflow.keras.layers import Dense, Flatten, Activation"
   ]
  },
  {
   "cell_type": "markdown",
   "metadata": {},
   "source": [
    "*Модель с 2мя слоями*"
   ]
  },
  {
   "cell_type": "code",
   "execution_count": 30,
   "metadata": {},
   "outputs": [],
   "source": [
    "linear_model = keras.Sequential()\n",
    "\n",
    "linear_model.add(Flatten()) \n",
    "\n",
    "linear_model.add(Dense(100, activation='relu'))\n",
    "linear_model.add(Dense(100, activation='relu'))  \n",
    "\n",
    "linear_model.add(Dense(26, activation=tf.nn.softmax)) "
   ]
  },
  {
   "cell_type": "code",
   "execution_count": 31,
   "metadata": {},
   "outputs": [],
   "source": [
    "linear_model.compile(optimizer=tf.train.GradientDescentOptimizer(learning_rate=0.01), \n",
    "                     loss='sparse_categorical_crossentropy',\n",
    "                     metrics=['accuracy'])\n"
   ]
  },
  {
   "cell_type": "code",
   "execution_count": 32,
   "metadata": {},
   "outputs": [
    {
     "name": "stdout",
     "output_type": "stream",
     "text": [
      "Epoch 1/10\n",
      "65000/65000 [==============================] - 6s 89us/step - loss: 1.8119 - acc: 0.5068\n",
      "Epoch 2/10\n",
      "65000/65000 [==============================] - 6s 88us/step - loss: 1.0800 - acc: 0.6880\n",
      "Epoch 3/10\n",
      "65000/65000 [==============================] - 6s 87us/step - loss: 0.9041 - acc: 0.7405\n",
      "Epoch 4/10\n",
      "65000/65000 [==============================] - 7s 112us/step - loss: 0.7810 - acc: 0.7754\n",
      "Epoch 5/10\n",
      "65000/65000 [==============================] - 6s 88us/step - loss: 0.6896 - acc: 0.7992\n",
      "Epoch 6/10\n",
      "65000/65000 [==============================] - 6s 88us/step - loss: 0.6227 - acc: 0.8166\n",
      "Epoch 7/10\n",
      "65000/65000 [==============================] - 6s 100us/step - loss: 0.5715 - acc: 0.8307\n",
      "Epoch 8/10\n",
      "65000/65000 [==============================] - 6s 88us/step - loss: 0.5305 - acc: 0.8426\n",
      "Epoch 9/10\n",
      "65000/65000 [==============================] - 6s 91us/step - loss: 0.4980 - acc: 0.8497\n",
      "Epoch 10/10\n",
      "65000/65000 [==============================] - 5s 84us/step - loss: 0.4712 - acc: 0.8581\n"
     ]
    },
    {
     "data": {
      "text/plain": [
       "<tensorflow.python.keras.callbacks.History at 0x28849f70748>"
      ]
     },
     "execution_count": 32,
     "metadata": {},
     "output_type": "execute_result"
    }
   ],
   "source": [
    "linear_model.fit(train_images, train_labels, epochs=10)"
   ]
  },
  {
   "cell_type": "code",
   "execution_count": 33,
   "metadata": {},
   "outputs": [
    {
     "name": "stdout",
     "output_type": "stream",
     "text": [
      "13000/13000 [==============================] - 0s 37us/step\n",
      "Test accuracy: 0.8480769230769231 \n",
      "Test loss: 0.5015984591704149\n"
     ]
    }
   ],
   "source": [
    "test_loss, test_acc = linear_model.evaluate(test_images, test_labels)\n",
    "print('Test accuracy:', test_acc, '\\nTest loss:', test_loss)"
   ]
  },
  {
   "cell_type": "markdown",
   "metadata": {},
   "source": [
    "Будем подбирать параметры для нейросети"
   ]
  },
  {
   "cell_type": "code",
   "execution_count": 43,
   "metadata": {},
   "outputs": [
    {
     "name": "stdout",
     "output_type": "stream",
     "text": [
      "13000/13000 [==============================] - 1s 47us/step\n",
      "n = 50 m = 50 \tTest accuracy = 0.818923 Test loss = 0.611686\n",
      "13000/13000 [==============================] - 0s 33us/step\n",
      "n = 50 m = 100 \tTest accuracy = 0.830154 Test loss = 0.562239\n",
      "13000/13000 [==============================] - 0s 35us/step\n",
      "n = 50 m = 200 \tTest accuracy = 0.832538 Test loss = 0.548974\n",
      "13000/13000 [==============================] - 0s 37us/step\n",
      "n = 50 m = 300 \tTest accuracy = 0.844308 Test loss = 0.526319\n",
      "13000/13000 [==============================] - 1s 40us/step\n",
      "n = 100 m = 50 \tTest accuracy = 0.827077 Test loss = 0.552060\n",
      "13000/13000 [==============================] - 1s 44us/step\n",
      "n = 100 m = 100 \tTest accuracy = 0.852846 Test loss = 0.490947\n",
      "13000/13000 [==============================] - 1s 45us/step\n",
      "n = 100 m = 200 \tTest accuracy = 0.850000 Test loss = 0.492847\n",
      "13000/13000 [==============================] - 1s 48us/step\n",
      "n = 100 m = 300 \tTest accuracy = 0.853000 Test loss = 0.492573\n",
      "13000/13000 [==============================] - 1s 51us/step\n",
      "n = 200 m = 50 \tTest accuracy = 0.854615 Test loss = 0.479373\n",
      "13000/13000 [==============================] - 1s 53us/step\n",
      "n = 200 m = 100 \tTest accuracy = 0.858308 Test loss = 0.460852\n",
      "13000/13000 [==============================] - 1s 58us/step\n",
      "n = 200 m = 200 \tTest accuracy = 0.863615 Test loss = 0.458866\n",
      "13000/13000 [==============================] - 1s 62us/step\n",
      "n = 200 m = 300 \tTest accuracy = 0.863385 Test loss = 0.455705\n",
      "13000/13000 [==============================] - 1s 61us/step\n",
      "n = 300 m = 50 \tTest accuracy = 0.865000 Test loss = 0.448832\n",
      "13000/13000 [==============================] - 1s 67us/step\n",
      "n = 300 m = 100 \tTest accuracy = 0.864846 Test loss = 0.448894\n",
      "13000/13000 [==============================] - 1s 71us/step\n",
      "n = 300 m = 200 \tTest accuracy = 0.869923 Test loss = 0.431150\n",
      "13000/13000 [==============================] - 1s 74us/step\n",
      "n = 300 m = 300 \tTest accuracy = 0.868615 Test loss = 0.437229\n",
      "Wall time: 15min 17s\n"
     ]
    }
   ],
   "source": [
    "%%time\n",
    "neurons = [50, 100, 200, 300]\n",
    "\n",
    "for n in neurons:\n",
    "    for m in neurons:\n",
    "        linear_model = keras.Sequential([\n",
    "            Flatten(), \n",
    "            Dense(n, activation='relu'),\n",
    "            Dense(m, activation='relu'),\n",
    "            Dense(26, activation=tf.nn.softmax) \n",
    "        ])\n",
    "        linear_model.compile(optimizer=tf.train.GradientDescentOptimizer(learning_rate=0.01), \n",
    "                             loss='sparse_categorical_crossentropy',\n",
    "                             metrics=['accuracy'])\n",
    "\n",
    "        linear_model.fit(train_images, train_labels, epochs=10, verbose=0)\n",
    "        \n",
    "        test_loss, test_acc = linear_model.evaluate(test_images, test_labels)\n",
    "        \n",
    "        print(\"n = %d m = %d \\tTest accuracy = %f Test loss = %f\" % (n, m, test_acc, test_loss))"
   ]
  },
  {
   "cell_type": "markdown",
   "metadata": {},
   "source": [
    "Для первого слоя выберем 300 нейронов, для второго - 200"
   ]
  },
  {
   "cell_type": "code",
   "execution_count": 44,
   "metadata": {},
   "outputs": [],
   "source": [
    "linear_model = keras.Sequential([\n",
    "            Flatten(), \n",
    "            Dense(300, activation='relu'),\n",
    "            Dense(200, activation='relu'),\n",
    "            Dense(26, activation=tf.nn.softmax) \n",
    "        ]) "
   ]
  },
  {
   "cell_type": "code",
   "execution_count": 45,
   "metadata": {},
   "outputs": [],
   "source": [
    "linear_model.compile(optimizer=tf.train.GradientDescentOptimizer(learning_rate=0.01), \n",
    "                     loss='sparse_categorical_crossentropy',\n",
    "                     metrics=['accuracy'])"
   ]
  },
  {
   "cell_type": "code",
   "execution_count": 46,
   "metadata": {},
   "outputs": [
    {
     "data": {
      "text/plain": [
       "<tensorflow.python.keras.callbacks.History at 0x2884ead1ac8>"
      ]
     },
     "execution_count": 46,
     "metadata": {},
     "output_type": "execute_result"
    }
   ],
   "source": [
    "linear_model.fit(train_images, train_labels, epochs=10, verbose=0)"
   ]
  },
  {
   "cell_type": "code",
   "execution_count": 47,
   "metadata": {},
   "outputs": [
    {
     "name": "stdout",
     "output_type": "stream",
     "text": [
      "13000/13000 [==============================] - 1s 79us/step\n",
      "Test accuracy: 0.8701538461538462 \n",
      "Test loss: 0.4297672096765958\n"
     ]
    }
   ],
   "source": [
    "test_loss, test_acc = linear_model.evaluate(test_images, test_labels)\n",
    "print('Test accuracy:', test_acc, '\\nTest loss:', test_loss)"
   ]
  },
  {
   "cell_type": "markdown",
   "metadata": {},
   "source": [
    "Посмотрим другие функции активации"
   ]
  },
  {
   "cell_type": "code",
   "execution_count": 61,
   "metadata": {},
   "outputs": [
    {
     "name": "stdout",
     "output_type": "stream",
     "text": [
      "13000/13000 [==============================] - 1s 68us/step\n",
      "Activation function: sigmoid \tTest accuracy = 0.612846 Test loss= 1.327862\n",
      "13000/13000 [==============================] - 1s 71us/step\n",
      "Activation function: tanh \tTest accuracy = 0.843000 Test loss= 0.536195\n",
      "Wall time: 2min 18s\n"
     ]
    }
   ],
   "source": [
    "%%time\n",
    "act_function = ['sigmoid', 'tanh']\n",
    "\n",
    "for act in act_function:\n",
    "    linear_model = keras.Sequential([\n",
    "        Flatten(), \n",
    "        Dense(300, activation=act),\n",
    "        Dense(200, activation=act),\n",
    "        Dense(26, activation=tf.nn.softmax) \n",
    "    ])\n",
    "    linear_model.compile(optimizer=tf.train.GradientDescentOptimizer(learning_rate=0.01), \n",
    "                         loss='sparse_categorical_crossentropy',\n",
    "                         metrics=['accuracy'])\n",
    "\n",
    "    linear_model.fit(train_images, train_labels, epochs=10, verbose=0)\n",
    "\n",
    "    test_loss, test_acc = linear_model.evaluate(test_images, test_labels)\n",
    "\n",
    "    print(\"Activation function: %s \\tTest accuracy = %f Test loss= %f\" % (act, test_acc, test_loss))"
   ]
  },
  {
   "cell_type": "markdown",
   "metadata": {},
   "source": [
    "Наилучшее качество получается при использовании функции Relu, в соответствии с этим для инициализации весов используем he-normal"
   ]
  },
  {
   "cell_type": "code",
   "execution_count": 95,
   "metadata": {},
   "outputs": [],
   "source": [
    "del linear_model"
   ]
  },
  {
   "cell_type": "code",
   "execution_count": 96,
   "metadata": {},
   "outputs": [],
   "source": [
    "linear_model = keras.Sequential([\n",
    "        Flatten(), \n",
    "        Dense(200, activation='relu',\n",
    "              kernel_initializer='he_normal', bias_initializer='zeros'),\n",
    "        Dense(200, activation='relu', \n",
    "              kernel_initializer='he_normal', bias_initializer='zeros'),\n",
    "        Dense(26, activation=tf.nn.softmax) \n",
    "    ])"
   ]
  },
  {
   "cell_type": "code",
   "execution_count": 97,
   "metadata": {},
   "outputs": [],
   "source": [
    "linear_model.compile(optimizer=tf.train.GradientDescentOptimizer(learning_rate=0.01), \n",
    "                         loss='sparse_categorical_crossentropy',\n",
    "                         metrics=['accuracy'])"
   ]
  },
  {
   "cell_type": "code",
   "execution_count": 98,
   "metadata": {},
   "outputs": [
    {
     "name": "stdout",
     "output_type": "stream",
     "text": [
      "Epoch 1/10\n",
      "65000/65000 [==============================] - 10s 161us/step - loss: 1.5602 - acc: 0.5675\n",
      "Epoch 2/10\n",
      "65000/65000 [==============================] - 8s 130us/step - loss: 0.9343 - acc: 0.7293\n",
      "Epoch 3/10\n",
      "65000/65000 [==============================] - 9s 142us/step - loss: 0.7582 - acc: 0.7809\n",
      "Epoch 4/10\n",
      "65000/65000 [==============================] - 9s 141us/step - loss: 0.6472 - acc: 0.8109\n",
      "Epoch 5/10\n",
      "65000/65000 [==============================] - 11s 166us/step - loss: 0.5715 - acc: 0.8314\n",
      "Epoch 6/10\n",
      "65000/65000 [==============================] - 10s 147us/step - loss: 0.5158 - acc: 0.8468\n",
      "Epoch 7/10\n",
      "65000/65000 [==============================] - 9s 135us/step - loss: 0.4752 - acc: 0.8574\n",
      "Epoch 8/10\n",
      "65000/65000 [==============================] - 10s 148us/step - loss: 0.4414 - acc: 0.8671\n",
      "Epoch 9/10\n",
      "65000/65000 [==============================] - 10s 147us/step - loss: 0.4141 - acc: 0.8742\n",
      "Epoch 10/10\n",
      "65000/65000 [==============================] - 9s 133us/step - loss: 0.3913 - acc: 0.8817\n"
     ]
    },
    {
     "data": {
      "text/plain": [
       "<tensorflow.python.keras.callbacks.History at 0x28851c2cda0>"
      ]
     },
     "execution_count": 98,
     "metadata": {},
     "output_type": "execute_result"
    }
   ],
   "source": [
    "linear_model.fit(train_images, train_labels, epochs=10)"
   ]
  },
  {
   "cell_type": "code",
   "execution_count": 99,
   "metadata": {},
   "outputs": [
    {
     "name": "stdout",
     "output_type": "stream",
     "text": [
      "13000/13000 [==============================] - 1s 87us/step\n",
      "Test accuracy: 0.8687692307692307 \n",
      "Test loss: 0.4387929956179399\n"
     ]
    }
   ],
   "source": [
    "test_loss, test_acc = linear_model.evaluate(test_images, test_labels)\n",
    "print('Test accuracy:', test_acc, '\\nTest loss:', test_loss)"
   ]
  },
  {
   "cell_type": "code",
   "execution_count": 84,
   "metadata": {},
   "outputs": [],
   "source": [
    "del linear_model"
   ]
  },
  {
   "cell_type": "code",
   "execution_count": 85,
   "metadata": {},
   "outputs": [],
   "source": [
    "from tensorflow.keras.layers import BatchNormalization"
   ]
  },
  {
   "cell_type": "code",
   "execution_count": 91,
   "metadata": {},
   "outputs": [],
   "source": [
    "linear_model = keras.Sequential([\n",
    "        Flatten(), \n",
    "        Dense(300, kernel_initializer='he_normal', bias_initializer='zeros'),\n",
    "        BatchNormalization(), \n",
    "        Activation('relu'),\n",
    "    \n",
    "        Dense(200, kernel_initializer='he_normal', bias_initializer='zeros'),\n",
    "        BatchNormalization(), \n",
    "        Activation('relu'),\n",
    "    \n",
    "        Dense(26, activation=tf.nn.softmax) \n",
    "    ])"
   ]
  },
  {
   "cell_type": "code",
   "execution_count": 92,
   "metadata": {},
   "outputs": [],
   "source": [
    "linear_model.compile(optimizer=tf.train.GradientDescentOptimizer(learning_rate=0.01), \n",
    "                         loss='sparse_categorical_crossentropy',\n",
    "                         metrics=['accuracy'])"
   ]
  },
  {
   "cell_type": "code",
   "execution_count": 93,
   "metadata": {},
   "outputs": [
    {
     "name": "stdout",
     "output_type": "stream",
     "text": [
      "Epoch 1/10\n",
      "65000/65000 [==============================] - 13s 193us/step - loss: 1.5021 - acc: 0.5812\n",
      "Epoch 2/10\n",
      "65000/65000 [==============================] - 11s 169us/step - loss: 0.9076 - acc: 0.7382\n",
      "Epoch 3/10\n",
      "65000/65000 [==============================] - 11s 176us/step - loss: 0.7279 - acc: 0.7890\n",
      "Epoch 4/10\n",
      "65000/65000 [==============================] - 11s 171us/step - loss: 0.6127 - acc: 0.8200\n",
      "Epoch 5/10\n",
      "65000/65000 [==============================] - 11s 174us/step - loss: 0.5345 - acc: 0.8410\n",
      "Epoch 6/10\n",
      "65000/65000 [==============================] - 11s 173us/step - loss: 0.4783 - acc: 0.8572\n",
      "Epoch 7/10\n",
      "65000/65000 [==============================] - 11s 173us/step - loss: 0.4357 - acc: 0.8694\n",
      "Epoch 8/10\n",
      "65000/65000 [==============================] - 11s 173us/step - loss: 0.4018 - acc: 0.8783\n",
      "Epoch 9/10\n",
      "65000/65000 [==============================] - 11s 173us/step - loss: 0.3732 - acc: 0.8855\n",
      "Epoch 10/10\n",
      "65000/65000 [==============================] - 11s 174us/step - loss: 0.3494 - acc: 0.8931\n"
     ]
    },
    {
     "data": {
      "text/plain": [
       "<tensorflow.python.keras.callbacks.History at 0x28851c2c4e0>"
      ]
     },
     "execution_count": 93,
     "metadata": {},
     "output_type": "execute_result"
    }
   ],
   "source": [
    "linear_model.fit(train_images, train_labels, epochs=10)"
   ]
  },
  {
   "cell_type": "code",
   "execution_count": 94,
   "metadata": {},
   "outputs": [
    {
     "name": "stdout",
     "output_type": "stream",
     "text": [
      "13000/13000 [==============================] - 1s 108us/step\n",
      "Test accuracy: 0.8692307692307693 \n",
      "Test loss: 0.4219458129772773\n"
     ]
    }
   ],
   "source": [
    "test_loss, test_acc = linear_model.evaluate(test_images, test_labels)\n",
    "print('Test accuracy:', test_acc, '\\nTest loss:', test_loss)"
   ]
  },
  {
   "cell_type": "code",
   "execution_count": 105,
   "metadata": {},
   "outputs": [],
   "source": [
    "del linear_model"
   ]
  },
  {
   "cell_type": "markdown",
   "metadata": {},
   "source": [
    "Посмотрим другой оптимизатор"
   ]
  },
  {
   "cell_type": "code",
   "execution_count": 100,
   "metadata": {},
   "outputs": [],
   "source": [
    "from tensorflow.keras.optimizers import Adam"
   ]
  },
  {
   "cell_type": "code",
   "execution_count": 106,
   "metadata": {},
   "outputs": [],
   "source": [
    "linear_model = keras.Sequential([\n",
    "        Flatten(), \n",
    "    \n",
    "        Dense(300, kernel_initializer='he_normal', bias_initializer='zeros'),\n",
    "        BatchNormalization(), \n",
    "        Activation('relu'),\n",
    "    \n",
    "        Dense(200, kernel_initializer='he_normal', bias_initializer='zeros'),\n",
    "        BatchNormalization(), \n",
    "        Activation('relu'),\n",
    "    \n",
    "        Dense(26, activation=tf.nn.softmax) \n",
    "    ])"
   ]
  },
  {
   "cell_type": "code",
   "execution_count": 107,
   "metadata": {},
   "outputs": [],
   "source": [
    "linear_model.compile(optimizer=Adam(lr=0.001), \n",
    "                         loss='sparse_categorical_crossentropy',\n",
    "                         metrics=['accuracy'])"
   ]
  },
  {
   "cell_type": "code",
   "execution_count": 108,
   "metadata": {},
   "outputs": [
    {
     "name": "stdout",
     "output_type": "stream",
     "text": [
      "Epoch 1/10\n",
      "65000/65000 [==============================] - 25s 382us/step - loss: 0.6986 - acc: 0.7867\n",
      "Epoch 2/10\n",
      "65000/65000 [==============================] - 21s 327us/step - loss: 0.3746 - acc: 0.8791\n",
      "Epoch 3/10\n",
      "65000/65000 [==============================] - 21s 324us/step - loss: 0.2933 - acc: 0.9016\n",
      "Epoch 4/10\n",
      "65000/65000 [==============================] - 30s 463us/step - loss: 0.2474 - acc: 0.9146\n",
      "Epoch 5/10\n",
      "65000/65000 [==============================] - 19s 296us/step - loss: 0.2074 - acc: 0.9272\n",
      "Epoch 6/10\n",
      "65000/65000 [==============================] - 20s 308us/step - loss: 0.1865 - acc: 0.9332\n",
      "Epoch 7/10\n",
      "65000/65000 [==============================] - 21s 327us/step - loss: 0.1662 - acc: 0.9382\n",
      "Epoch 8/10\n",
      "65000/65000 [==============================] - 21s 323us/step - loss: 0.1505 - acc: 0.9439\n",
      "Epoch 9/10\n",
      "65000/65000 [==============================] - 21s 318us/step - loss: 0.1362 - acc: 0.9481\n",
      "Epoch 10/10\n",
      "65000/65000 [==============================] - 21s 318us/step - loss: 0.1250 - acc: 0.9518\n"
     ]
    },
    {
     "data": {
      "text/plain": [
       "<tensorflow.python.keras.callbacks.History at 0x28852969eb8>"
      ]
     },
     "execution_count": 108,
     "metadata": {},
     "output_type": "execute_result"
    }
   ],
   "source": [
    "linear_model.fit(train_images, train_labels, epochs=10)"
   ]
  },
  {
   "cell_type": "code",
   "execution_count": 109,
   "metadata": {},
   "outputs": [
    {
     "name": "stdout",
     "output_type": "stream",
     "text": [
      "13000/13000 [==============================] - 2s 116us/step\n",
      "Test accuracy: 0.8915384615384615 \n",
      "Test loss: 0.42560422560343375\n"
     ]
    }
   ],
   "source": [
    "test_loss, test_acc = linear_model.evaluate(test_images, test_labels)\n",
    "print('Test accuracy:', test_acc, '\\nTest loss:', test_loss)"
   ]
  },
  {
   "cell_type": "markdown",
   "metadata": {},
   "source": [
    "Качество немного повысилось. Но заметно переобучение: качество на тестовой выборке получается хуже"
   ]
  },
  {
   "cell_type": "markdown",
   "metadata": {},
   "source": [
    "Подберем параметр Dropout чтобы отсечь часть нейронов"
   ]
  },
  {
   "cell_type": "code",
   "execution_count": 120,
   "metadata": {},
   "outputs": [],
   "source": [
    "del linear_model"
   ]
  },
  {
   "cell_type": "code",
   "execution_count": 121,
   "metadata": {},
   "outputs": [],
   "source": [
    "from tensorflow.keras.layers import Dropout"
   ]
  },
  {
   "cell_type": "code",
   "execution_count": 122,
   "metadata": {},
   "outputs": [],
   "source": [
    "from sklearn.model_selection import GridSearchCV\n",
    "from tensorflow.keras.wrappers.scikit_learn import KerasClassifier"
   ]
  },
  {
   "cell_type": "code",
   "execution_count": 123,
   "metadata": {},
   "outputs": [],
   "source": [
    "linear_model = keras.Sequential([\n",
    "        Flatten(), \n",
    "        \n",
    "        Dense(300, kernel_initializer='he_normal', bias_initializer='zeros'),\n",
    "        BatchNormalization(), \n",
    "        Activation('relu'),\n",
    "        Dropout(0.5),\n",
    "        \n",
    "        Dense(200, kernel_initializer='he_normal', bias_initializer='zeros'),\n",
    "        BatchNormalization(), \n",
    "        Activation('relu'),\n",
    "        Dropout(0.5),\n",
    "        \n",
    "        Dense(26, activation=tf.nn.softmax, \n",
    "              kernel_initializer='he_normal', bias_initializer='zeros') \n",
    "    ])\n",
    "    "
   ]
  },
  {
   "cell_type": "code",
   "execution_count": 125,
   "metadata": {},
   "outputs": [],
   "source": [
    "linear_model.compile(optimizer=Adam(lr=0.001), \n",
    "                         loss='sparse_categorical_crossentropy',\n",
    "                         metrics=['accuracy'])"
   ]
  },
  {
   "cell_type": "code",
   "execution_count": 126,
   "metadata": {},
   "outputs": [
    {
     "name": "stdout",
     "output_type": "stream",
     "text": [
      "Epoch 1/10\n",
      "65000/65000 [==============================] - 20s 313us/step - loss: 0.7113 - acc: 0.7848\n",
      "Epoch 2/10\n",
      "65000/65000 [==============================] - 19s 288us/step - loss: 0.3735 - acc: 0.8792\n",
      "Epoch 3/10\n",
      "65000/65000 [==============================] - 19s 291us/step - loss: 0.2962 - acc: 0.9017\n",
      "Epoch 4/10\n",
      "65000/65000 [==============================] - 19s 289us/step - loss: 0.2460 - acc: 0.9164\n",
      "Epoch 5/10\n",
      "65000/65000 [==============================] - 24s 371us/step - loss: 0.2134 - acc: 0.9246\n",
      "Epoch 6/10\n",
      "65000/65000 [==============================] - 22s 343us/step - loss: 0.1837 - acc: 0.9335\n",
      "Epoch 7/10\n",
      "65000/65000 [==============================] - 22s 338us/step - loss: 0.1661 - acc: 0.9387\n",
      "Epoch 8/10\n",
      "65000/65000 [==============================] - 22s 331us/step - loss: 0.1470 - acc: 0.9448\n",
      "Epoch 9/10\n",
      "65000/65000 [==============================] - 22s 335us/step - loss: 0.1367 - acc: 0.9481\n",
      "Epoch 10/10\n",
      "65000/65000 [==============================] - 20s 307us/step - loss: 0.1258 - acc: 0.9513\n"
     ]
    },
    {
     "data": {
      "text/plain": [
       "<tensorflow.python.keras.callbacks.History at 0x28854b27d68>"
      ]
     },
     "execution_count": 126,
     "metadata": {},
     "output_type": "execute_result"
    }
   ],
   "source": [
    "linear_model.fit(train_images, train_labels, epochs=10)"
   ]
  },
  {
   "cell_type": "code",
   "execution_count": 127,
   "metadata": {},
   "outputs": [
    {
     "name": "stdout",
     "output_type": "stream",
     "text": [
      "13000/13000 [==============================] - 2s 186us/step\n",
      "Test accuracy: 0.8993076923076923 \n",
      "Test loss: 0.392272816823079\n"
     ]
    }
   ],
   "source": [
    "test_loss, test_acc = linear_model.evaluate(test_images, test_labels)\n",
    "print('Test accuracy:', test_acc, '\\nTest loss:', test_loss)"
   ]
  },
  {
   "cell_type": "markdown",
   "metadata": {},
   "source": [
    "Видим, что немного снизилось значение функции потерь. На Grid Search подберем оптимальную вероятность для Dropout, а также learning rate"
   ]
  },
  {
   "cell_type": "code",
   "execution_count": 129,
   "metadata": {},
   "outputs": [],
   "source": [
    "del linear_model"
   ]
  },
  {
   "cell_type": "code",
   "execution_count": 130,
   "metadata": {},
   "outputs": [],
   "source": [
    "def create_model(learning_rate=0.001, p=0.5):\n",
    "    linear_model = keras.Sequential([\n",
    "        Flatten(), \n",
    "        \n",
    "        Dense(300, kernel_initializer='he_normal', bias_initializer='zeros'),\n",
    "        BatchNormalization(), \n",
    "        Activation('relu'),\n",
    "        Dropout(p),\n",
    "        \n",
    "        Dense(200, kernel_initializer='he_normal', bias_initializer='zeros'),\n",
    "        BatchNormalization(), \n",
    "        Activation('relu'),\n",
    "        Dropout(p),\n",
    "        \n",
    "        Dense(26, activation=tf.nn.softmax) \n",
    "    ])\n",
    "    \n",
    "    linear_model.compile(optimizer=Adam(lr=learning_rate), \n",
    "                         loss='sparse_categorical_crossentropy',\n",
    "                         metrics=['accuracy'])\n",
    "    return linear_model"
   ]
  },
  {
   "cell_type": "code",
   "execution_count": 132,
   "metadata": {},
   "outputs": [],
   "source": [
    "model = KerasClassifier(build_fn=create_model, epochs=10)"
   ]
  },
  {
   "cell_type": "code",
   "execution_count": 133,
   "metadata": {},
   "outputs": [],
   "source": [
    "params = {'learning_rate': np.array(range(1,10,2))/1000,\n",
    "          'p': np.array(range(5,10,1))/10,\n",
    "         }"
   ]
  },
  {
   "cell_type": "code",
   "execution_count": 134,
   "metadata": {},
   "outputs": [],
   "source": [
    "clf = GridSearchCV(estimator=model, param_grid=params, cv=5, n_jobs=-1)"
   ]
  },
  {
   "cell_type": "code",
   "execution_count": 135,
   "metadata": {},
   "outputs": [
    {
     "name": "stdout",
     "output_type": "stream",
     "text": [
      "Epoch 1/10\n",
      "65000/65000 [==============================] - 59s 911us/step - loss: 0.7022 - acc: 0.7859\n",
      "Epoch 2/10\n",
      "65000/65000 [==============================] - 17s 255us/step - loss: 0.3742 - acc: 0.8780\n",
      "Epoch 3/10\n",
      "65000/65000 [==============================] - 17s 259us/step - loss: 0.2942 - acc: 0.9010\n",
      "Epoch 4/10\n",
      "65000/65000 [==============================] - 17s 263us/step - loss: 0.2463 - acc: 0.9152\n",
      "Epoch 5/10\n",
      "65000/65000 [==============================] - 16s 249us/step - loss: 0.2119 - acc: 0.9247\n",
      "Epoch 6/10\n",
      "65000/65000 [==============================] - 18s 276us/step - loss: 0.1873 - acc: 0.9325\n",
      "Epoch 7/10\n",
      "65000/65000 [==============================] - 17s 259us/step - loss: 0.1658 - acc: 0.9391\n",
      "Epoch 8/10\n",
      "65000/65000 [==============================] - 19s 285us/step - loss: 0.1482 - acc: 0.9449\n",
      "Epoch 9/10\n",
      "65000/65000 [==============================] - 19s 287us/step - loss: 0.1356 - acc: 0.9486\n",
      "Epoch 10/10\n",
      "65000/65000 [==============================] - 19s 294us/step - loss: 0.1254 - acc: 0.9521\n",
      "Wall time: 7h 18min 56s\n"
     ]
    },
    {
     "data": {
      "text/plain": [
       "GridSearchCV(cv=5, error_score='raise-deprecating',\n",
       "       estimator=<tensorflow.python.keras.wrappers.scikit_learn.KerasClassifier object at 0x00000288558F66D8>,\n",
       "       fit_params=None, iid='warn', n_jobs=-1,\n",
       "       param_grid={'learning_rate': array([0.001, 0.003, 0.005, 0.007, 0.009]), 'p': array([0.5, 0.6, 0.7, 0.8, 0.9])},\n",
       "       pre_dispatch='2*n_jobs', refit=True, return_train_score='warn',\n",
       "       scoring=None, verbose=0)"
      ]
     },
     "execution_count": 135,
     "metadata": {},
     "output_type": "execute_result"
    }
   ],
   "source": [
    "%%time\n",
    "clf.fit(train_images, train_labels)"
   ]
  },
  {
   "cell_type": "code",
   "execution_count": 136,
   "metadata": {},
   "outputs": [
    {
     "data": {
      "text/plain": [
       "{'learning_rate': 0.001, 'p': 0.6}"
      ]
     },
     "execution_count": 136,
     "metadata": {},
     "output_type": "execute_result"
    }
   ],
   "source": [
    "clf.best_params_"
   ]
  },
  {
   "cell_type": "code",
   "execution_count": 161,
   "metadata": {},
   "outputs": [],
   "source": [
    "linear_model = keras.Sequential([\n",
    "        Flatten(), \n",
    "        \n",
    "        Dense(300, kernel_initializer='he_normal', bias_initializer='zeros'),\n",
    "        BatchNormalization(), \n",
    "        Activation('relu'),\n",
    "        Dropout(0.6),\n",
    "        \n",
    "        Dense(200, kernel_initializer='he_normal', bias_initializer='zeros'),\n",
    "        BatchNormalization(), \n",
    "        Activation('relu'),\n",
    "        Dropout(0.6),\n",
    "        \n",
    "        Dense(26, activation=tf.nn.softmax) \n",
    "    ])\n",
    "    "
   ]
  },
  {
   "cell_type": "code",
   "execution_count": 162,
   "metadata": {},
   "outputs": [],
   "source": [
    "linear_model.compile(optimizer=Adam(lr=0.001), \n",
    "                         loss='sparse_categorical_crossentropy',\n",
    "                         metrics=['accuracy'])"
   ]
  },
  {
   "cell_type": "code",
   "execution_count": 163,
   "metadata": {},
   "outputs": [
    {
     "name": "stdout",
     "output_type": "stream",
     "text": [
      "Epoch 1/20\n",
      "65000/65000 [==============================] - 22s 333us/step - loss: 0.6994 - acc: 0.7874\n",
      "Epoch 2/20\n",
      "65000/65000 [==============================] - 19s 291us/step - loss: 0.3733 - acc: 0.8803\n",
      "Epoch 3/20\n",
      "65000/65000 [==============================] - 19s 289us/step - loss: 0.2945 - acc: 0.9027\n",
      "Epoch 4/20\n",
      "65000/65000 [==============================] - 19s 288us/step - loss: 0.2471 - acc: 0.9148\n",
      "Epoch 5/20\n",
      "65000/65000 [==============================] - 19s 290us/step - loss: 0.2126 - acc: 0.9252\n",
      "Epoch 6/20\n",
      "65000/65000 [==============================] - 20s 309us/step - loss: 0.1845 - acc: 0.9338\n",
      "Epoch 7/20\n",
      "65000/65000 [==============================] - 20s 311us/step - loss: 0.1637 - acc: 0.9398\n",
      "Epoch 8/20\n",
      "65000/65000 [==============================] - 19s 297us/step - loss: 0.1492 - acc: 0.9453\n",
      "Epoch 9/20\n",
      "65000/65000 [==============================] - 19s 290us/step - loss: 0.1369 - acc: 0.9475\n",
      "Epoch 10/20\n",
      "65000/65000 [==============================] - 19s 291us/step - loss: 0.1262 - acc: 0.9516\n",
      "Epoch 11/20\n",
      "65000/65000 [==============================] - 19s 290us/step - loss: 0.1172 - acc: 0.9549\n",
      "Epoch 12/20\n",
      "65000/65000 [==============================] - 19s 290us/step - loss: 0.1150 - acc: 0.9556\n",
      "Epoch 13/20\n",
      "65000/65000 [==============================] - 19s 290us/step - loss: 0.1051 - acc: 0.9590\n",
      "Epoch 14/20\n",
      "65000/65000 [==============================] - 20s 307us/step - loss: 0.0972 - acc: 0.9620\n",
      "Epoch 15/20\n",
      "65000/65000 [==============================] - 19s 295us/step - loss: 0.0955 - acc: 0.9626\n",
      "Epoch 16/20\n",
      "65000/65000 [==============================] - 19s 292us/step - loss: 0.0920 - acc: 0.9637\n",
      "Epoch 17/20\n",
      "65000/65000 [==============================] - 19s 293us/step - loss: 0.0898 - acc: 0.9648\n",
      "Epoch 18/20\n",
      "65000/65000 [==============================] - 19s 294us/step - loss: 0.0864 - acc: 0.9654\n",
      "Epoch 19/20\n",
      "65000/65000 [==============================] - 19s 295us/step - loss: 0.0840 - acc: 0.9671\n",
      "Epoch 20/20\n",
      "65000/65000 [==============================] - 19s 296us/step - loss: 0.0797 - acc: 0.9686\n"
     ]
    },
    {
     "data": {
      "text/plain": [
       "<tensorflow.python.keras.callbacks.History at 0x2885d5cf358>"
      ]
     },
     "execution_count": 163,
     "metadata": {},
     "output_type": "execute_result"
    }
   ],
   "source": [
    "linear_model.fit(train_images, train_labels, epochs=20)"
   ]
  },
  {
   "cell_type": "code",
   "execution_count": 164,
   "metadata": {},
   "outputs": [
    {
     "name": "stdout",
     "output_type": "stream",
     "text": [
      "13000/13000 [==============================] - 2s 146us/step\n",
      "Test accuracy: 0.8982307692307693 \n",
      "Test loss: 0.5019332273029364\n"
     ]
    }
   ],
   "source": [
    "test_loss, test_acc = linear_model.evaluate(test_images, test_labels)\n",
    "print('Test accuracy:', test_acc, '\\nTest loss:', test_loss)"
   ]
  },
  {
   "cell_type": "markdown",
   "metadata": {},
   "source": [
    "Качество не улучшилось, а ошибка возросла"
   ]
  },
  {
   "cell_type": "markdown",
   "metadata": {},
   "source": [
    "Модель все равно переобучается, попробуем применить регуляризацию"
   ]
  },
  {
   "cell_type": "code",
   "execution_count": 257,
   "metadata": {},
   "outputs": [],
   "source": [
    "del linear_model"
   ]
  },
  {
   "cell_type": "code",
   "execution_count": 261,
   "metadata": {},
   "outputs": [],
   "source": [
    "linear_model = keras.Sequential([\n",
    "        Flatten(), \n",
    "        \n",
    "        Dense(200, kernel_initializer='he_normal', bias_initializer='zeros', \n",
    "              kernel_regularizer=regularizers.l2(0.09)),\n",
    "        BatchNormalization(), \n",
    "        Activation('relu'),\n",
    "        Dropout(0.2),\n",
    "        \n",
    "        Dense(100, kernel_initializer='he_normal', bias_initializer='zeros', \n",
    "              kernel_regularizer=regularizers.l2(0.09)),\n",
    "        BatchNormalization(), \n",
    "        Activation('relu'),\n",
    "        Dropout(0.2),\n",
    "        \n",
    "        Dense(26, activation=tf.nn.softmax) \n",
    "    ])\n",
    "    "
   ]
  },
  {
   "cell_type": "code",
   "execution_count": 262,
   "metadata": {},
   "outputs": [],
   "source": [
    "linear_model.compile(optimizer=Adam(lr=0.001), \n",
    "                         loss='sparse_categorical_crossentropy',\n",
    "                         metrics=['accuracy'])"
   ]
  },
  {
   "cell_type": "code",
   "execution_count": 265,
   "metadata": {},
   "outputs": [
    {
     "name": "stdout",
     "output_type": "stream",
     "text": [
      "Epoch 1/10\n",
      "65000/65000 [==============================] - 34s 516us/step - loss: 1.4182 - acc: 0.6858\n",
      "Epoch 2/10\n",
      "65000/65000 [==============================] - 33s 515us/step - loss: 1.3236 - acc: 0.7044\n",
      "Epoch 3/10\n",
      "65000/65000 [==============================] - 33s 515us/step - loss: 1.2583 - acc: 0.7197\n",
      "Epoch 4/10\n",
      "65000/65000 [==============================] - 33s 514us/step - loss: 1.2186 - acc: 0.7283\n",
      "Epoch 5/10\n",
      "65000/65000 [==============================] - 34s 521us/step - loss: 1.1752 - acc: 0.7386\n",
      "Epoch 6/10\n",
      "65000/65000 [==============================] - 34s 520us/step - loss: 1.1514 - acc: 0.7452\n",
      "Epoch 7/10\n",
      "65000/65000 [==============================] - 34s 520us/step - loss: 1.1252 - acc: 0.7504\n",
      "Epoch 8/10\n",
      "65000/65000 [==============================] - 34s 523us/step - loss: 1.1130 - acc: 0.7516\n",
      "Epoch 9/10\n",
      "65000/65000 [==============================] - 34s 517us/step - loss: 1.0963 - acc: 0.7575\n",
      "Epoch 10/10\n",
      "65000/65000 [==============================] - 34s 518us/step - loss: 1.0854 - acc: 0.7573\n"
     ]
    },
    {
     "data": {
      "text/plain": [
       "<tensorflow.python.keras.callbacks.History at 0x288ad4ee0b8>"
      ]
     },
     "execution_count": 265,
     "metadata": {},
     "output_type": "execute_result"
    }
   ],
   "source": [
    "linear_model.fit(train_images, train_labels, epochs=10)"
   ]
  },
  {
   "cell_type": "code",
   "execution_count": 266,
   "metadata": {},
   "outputs": [
    {
     "name": "stdout",
     "output_type": "stream",
     "text": [
      "13000/13000 [==============================] - 3s 215us/step\n",
      "Test accuracy: 0.7686923076923077 \n",
      "Test loss: 1.0520356783500084\n"
     ]
    }
   ],
   "source": [
    "test_loss, test_acc = linear_model.evaluate(test_images, test_labels)\n",
    "print('Test accuracy:', test_acc, '\\nTest loss:', test_loss)"
   ]
  },
  {
   "cell_type": "markdown",
   "metadata": {},
   "source": [
    "Переобучения нет, но сильно пострадало качество "
   ]
  },
  {
   "cell_type": "code",
   "execution_count": null,
   "metadata": {},
   "outputs": [],
   "source": [
    "# подобрать параметры (на Grid Search очень долго)"
   ]
  },
  {
   "cell_type": "markdown",
   "metadata": {},
   "source": [
    "*Модель с 3мя слоями*"
   ]
  },
  {
   "cell_type": "code",
   "execution_count": 22,
   "metadata": {},
   "outputs": [],
   "source": [
    "from tensorflow.keras.models import model_from_json"
   ]
  },
  {
   "cell_type": "code",
   "execution_count": 305,
   "metadata": {},
   "outputs": [],
   "source": [
    "linear_model = keras.Sequential([\n",
    "        Flatten(), \n",
    "        \n",
    "        Dense(300, activation='relu'),\n",
    "        \n",
    "        Dense(200, activation='relu'),\n",
    "    \n",
    "        Dense(100, activation='relu'),\n",
    "    \n",
    "        Dense(26, activation=tf.nn.softmax) \n",
    "    ])"
   ]
  },
  {
   "cell_type": "code",
   "execution_count": 306,
   "metadata": {},
   "outputs": [],
   "source": [
    "linear_model.compile(optimizer=Adam(lr=0.001), \n",
    "                         loss='sparse_categorical_crossentropy',\n",
    "                         metrics=['accuracy'])"
   ]
  },
  {
   "cell_type": "code",
   "execution_count": 307,
   "metadata": {},
   "outputs": [
    {
     "name": "stdout",
     "output_type": "stream",
     "text": [
      "Epoch 1/7\n",
      "65000/65000 [==============================] - 53s 808us/step - loss: 0.7137 - acc: 0.7820\n",
      "Epoch 2/7\n",
      "65000/65000 [==============================] - 45s 691us/step - loss: 0.3764 - acc: 0.8777\n",
      "Epoch 3/7\n",
      "65000/65000 [==============================] - 47s 721us/step - loss: 0.2948 - acc: 0.9008\n",
      "Epoch 4/7\n",
      "65000/65000 [==============================] - 45s 696us/step - loss: 0.2524 - acc: 0.9135\n",
      "Epoch 5/7\n",
      "65000/65000 [==============================] - 45s 700us/step - loss: 0.2193 - acc: 0.9230\n",
      "Epoch 6/7\n",
      "65000/65000 [==============================] - 50s 775us/step - loss: 0.1961 - acc: 0.9297\n",
      "Epoch 7/7\n",
      "65000/65000 [==============================] - 50s 766us/step - loss: 0.1787 - acc: 0.9343\n"
     ]
    },
    {
     "data": {
      "text/plain": [
       "<tensorflow.python.keras.callbacks.History at 0x288b8514cf8>"
      ]
     },
     "execution_count": 307,
     "metadata": {},
     "output_type": "execute_result"
    }
   ],
   "source": [
    "linear_model.fit(train_images, train_labels, epochs=7)"
   ]
  },
  {
   "cell_type": "code",
   "execution_count": 308,
   "metadata": {},
   "outputs": [
    {
     "name": "stdout",
     "output_type": "stream",
     "text": [
      "13000/13000 [==============================] - 8s 607us/step\n",
      "Test accuracy: 0.9029230769230769 \n",
      "Test loss: 0.32018948147847104\n"
     ]
    }
   ],
   "source": [
    "test_loss, test_acc = linear_model.evaluate(test_images, test_labels)\n",
    "print('Test accuracy:', test_acc, '\\nTest loss:', test_loss)"
   ]
  },
  {
   "cell_type": "markdown",
   "metadata": {},
   "source": [
    "Полносвязная нейросеть с 3мя слоями немного лучше решает задачу. Для повышения качества классификации добавим сверточные слои"
   ]
  },
  {
   "cell_type": "code",
   "execution_count": 32,
   "metadata": {},
   "outputs": [],
   "source": [
    "from tensorflow.keras.layers import Conv2D, MaxPooling2D\n",
    "from tensorflow.keras.utils import to_categorical"
   ]
  },
  {
   "cell_type": "code",
   "execution_count": 30,
   "metadata": {},
   "outputs": [],
   "source": [
    "train_images_2 = train_images.reshape(train_images.shape[0], 28, 28, 1)\n",
    "test_images_2 = test_images.reshape(test_images.shape[0], 28, 28, 1)\n",
    "input_shape = (28, 28, 1)"
   ]
  },
  {
   "cell_type": "code",
   "execution_count": 33,
   "metadata": {},
   "outputs": [],
   "source": [
    "train_labels_2 = to_categorical(train_labels, 26)\n",
    "test_labels_2 = to_categorical(test_labels, 26)"
   ]
  },
  {
   "cell_type": "code",
   "execution_count": 320,
   "metadata": {},
   "outputs": [
    {
     "data": {
      "text/plain": [
       "array([[0., 0., 0., ..., 0., 0., 0.],\n",
       "       [0., 0., 0., ..., 0., 1., 0.],\n",
       "       [1., 0., 0., ..., 0., 0., 0.],\n",
       "       ...,\n",
       "       [0., 0., 0., ..., 0., 0., 0.],\n",
       "       [0., 0., 0., ..., 0., 0., 0.],\n",
       "       [0., 0., 0., ..., 0., 0., 0.]], dtype=float32)"
      ]
     },
     "execution_count": 320,
     "metadata": {},
     "output_type": "execute_result"
    }
   ],
   "source": [
    "train_labels_2"
   ]
  },
  {
   "cell_type": "code",
   "execution_count": 368,
   "metadata": {},
   "outputs": [],
   "source": [
    "model1 = keras.Sequential([\n",
    "\n",
    "        \n",
    "        Conv2D(64, kernel_size=(3, 3),\n",
    "                 activation='relu',\n",
    "                 input_shape=input_shape),\n",
    "        Dropout(0.2),\n",
    "        \n",
    "        MaxPooling2D(pool_size=(2, 2)),\n",
    "        Dropout(0.2),\n",
    "    \n",
    "        Flatten(), \n",
    "    \n",
    "        Dense(300, activation='relu'),\n",
    "        Dropout(0.2),\n",
    "    \n",
    "        Dense(26, activation=tf.nn.softmax) \n",
    "    ])"
   ]
  },
  {
   "cell_type": "code",
   "execution_count": 369,
   "metadata": {},
   "outputs": [],
   "source": [
    "model1.compile(optimizer=Adam(lr=0.001), \n",
    "                         loss='categorical_crossentropy',\n",
    "                         metrics=['accuracy'])"
   ]
  },
  {
   "cell_type": "code",
   "execution_count": 372,
   "metadata": {},
   "outputs": [
    {
     "name": "stdout",
     "output_type": "stream",
     "text": [
      "Train on 52000 samples, validate on 13000 samples\n",
      "Epoch 1/10\n",
      "52000/52000 [==============================] - 210s 4ms/step - loss: 0.3374 - acc: 0.8883 - val_loss: 0.2839 - val_acc: 0.9095\n",
      "Epoch 2/10\n",
      "52000/52000 [==============================] - 211s 4ms/step - loss: 0.2662 - acc: 0.9090 - val_loss: 0.2727 - val_acc: 0.9147\n",
      "Epoch 3/10\n",
      "52000/52000 [==============================] - 211s 4ms/step - loss: 0.2246 - acc: 0.9212 - val_loss: 0.2601 - val_acc: 0.9138\n",
      "Epoch 4/10\n",
      "52000/52000 [==============================] - 211s 4ms/step - loss: 0.1926 - acc: 0.9317 - val_loss: 0.2576 - val_acc: 0.9171\n",
      "Epoch 5/10\n",
      "52000/52000 [==============================] - 208s 4ms/step - loss: 0.1696 - acc: 0.9384 - val_loss: 0.2480 - val_acc: 0.9185\n",
      "Epoch 6/10\n",
      "52000/52000 [==============================] - 209s 4ms/step - loss: 0.1502 - acc: 0.9435 - val_loss: 0.2514 - val_acc: 0.9177\n",
      "Epoch 7/10\n",
      "52000/52000 [==============================] - 210s 4ms/step - loss: 0.1367 - acc: 0.9482 - val_loss: 0.2547 - val_acc: 0.9177\n",
      "Epoch 8/10\n",
      "52000/52000 [==============================] - 209s 4ms/step - loss: 0.1223 - acc: 0.9526 - val_loss: 0.2621 - val_acc: 0.9202\n",
      "Epoch 9/10\n",
      "52000/52000 [==============================] - 210s 4ms/step - loss: 0.1104 - acc: 0.9574 - val_loss: 0.2669 - val_acc: 0.9185\n",
      "Epoch 10/10\n",
      "52000/52000 [==============================] - 209s 4ms/step - loss: 0.1058 - acc: 0.9582 - val_loss: 0.2682 - val_acc: 0.9248\n"
     ]
    },
    {
     "data": {
      "text/plain": [
       "<tensorflow.python.keras.callbacks.History at 0x288d0125748>"
      ]
     },
     "execution_count": 372,
     "metadata": {},
     "output_type": "execute_result"
    }
   ],
   "source": [
    "model1.fit(train_images_2, train_labels_2, validation_split=0.2, epochs=10)"
   ]
  },
  {
   "cell_type": "code",
   "execution_count": 373,
   "metadata": {},
   "outputs": [
    {
     "name": "stdout",
     "output_type": "stream",
     "text": [
      "13000/13000 [==============================] - 8s 591us/step\n",
      "Test accuracy: 0.9236923076923077 \n",
      "Test loss: 0.26448951157469014\n"
     ]
    }
   ],
   "source": [
    "test_loss, test_acc = model1.evaluate(test_images_2, test_labels_2)\n",
    "print('Test accuracy:', test_acc, '\\nTest loss:', test_loss)"
   ]
  },
  {
   "cell_type": "code",
   "execution_count": 374,
   "metadata": {},
   "outputs": [
    {
     "name": "stdout",
     "output_type": "stream",
     "text": [
      "Train on 52000 samples, validate on 13000 samples\n",
      "Epoch 1/10\n",
      "52000/52000 [==============================] - 212s 4ms/step - loss: 0.0992 - acc: 0.9605 - val_loss: 0.2721 - val_acc: 0.9228\n",
      "Epoch 2/10\n",
      "52000/52000 [==============================] - 212s 4ms/step - loss: 0.0930 - acc: 0.9624 - val_loss: 0.2867 - val_acc: 0.9178\n",
      "Epoch 3/10\n",
      "52000/52000 [==============================] - 214s 4ms/step - loss: 0.0923 - acc: 0.9638 - val_loss: 0.2800 - val_acc: 0.9244\n",
      "Epoch 4/10\n",
      "52000/52000 [==============================] - 218s 4ms/step - loss: 0.0854 - acc: 0.9662 - val_loss: 0.3072 - val_acc: 0.9178\n",
      "Epoch 5/10\n",
      "52000/52000 [==============================] - 213s 4ms/step - loss: 0.0796 - acc: 0.9682 - val_loss: 0.3106 - val_acc: 0.9178\n",
      "Epoch 6/10\n",
      "52000/52000 [==============================] - 212s 4ms/step - loss: 0.0790 - acc: 0.9685 - val_loss: 0.3128 - val_acc: 0.9216\n",
      "Epoch 7/10\n",
      "52000/52000 [==============================] - 211s 4ms/step - loss: 0.0752 - acc: 0.9704 - val_loss: 0.3195 - val_acc: 0.9175\n",
      "Epoch 8/10\n",
      "52000/52000 [==============================] - 213s 4ms/step - loss: 0.0731 - acc: 0.9707 - val_loss: 0.3243 - val_acc: 0.9166\n",
      "Epoch 9/10\n",
      "52000/52000 [==============================] - 236s 5ms/step - loss: 0.0690 - acc: 0.9723 - val_loss: 0.3152 - val_acc: 0.9198\n",
      "Epoch 10/10\n",
      "52000/52000 [==============================] - 217s 4ms/step - loss: 0.0716 - acc: 0.9720 - val_loss: 0.3378 - val_acc: 0.9162\n"
     ]
    },
    {
     "data": {
      "text/plain": [
       "<tensorflow.python.keras.callbacks.History at 0x288d0165d30>"
      ]
     },
     "execution_count": 374,
     "metadata": {},
     "output_type": "execute_result"
    }
   ],
   "source": [
    "model1.fit(train_images_2, train_labels_2, validation_split=0.2, epochs=10)"
   ]
  },
  {
   "cell_type": "code",
   "execution_count": 376,
   "metadata": {},
   "outputs": [
    {
     "name": "stdout",
     "output_type": "stream",
     "text": [
      "13000/13000 [==============================] - 8s 584us/step\n",
      "Test accuracy: 0.9196923076923077 \n",
      "Test loss: 0.3275431035860227\n"
     ]
    }
   ],
   "source": [
    "test_loss, test_acc = model1.evaluate(test_images_2, test_labels_2)\n",
    "print('Test accuracy:', test_acc, '\\nTest loss:', test_loss)"
   ]
  },
  {
   "cell_type": "markdown",
   "metadata": {},
   "source": [
    "Модель сильно переобучилась. Попробуем покрутить параметры"
   ]
  },
  {
   "cell_type": "code",
   "execution_count": 377,
   "metadata": {},
   "outputs": [],
   "source": [
    "model2 = keras.Sequential([\n",
    "\n",
    "        \n",
    "        Conv2D(64, kernel_size=(3, 3),\n",
    "                 activation='relu',\n",
    "                 input_shape=input_shape),\n",
    "        Dropout(0.5),\n",
    "        \n",
    "        MaxPooling2D(pool_size=(2, 2)),\n",
    "        Dropout(0.5),\n",
    "    \n",
    "        Flatten(), \n",
    "    \n",
    "        Dense(300, activation='relu'),\n",
    "        Dropout(0.5),\n",
    "    \n",
    "        Dense(26, activation=tf.nn.softmax) \n",
    "    ])"
   ]
  },
  {
   "cell_type": "code",
   "execution_count": 378,
   "metadata": {},
   "outputs": [],
   "source": [
    "model2.compile(optimizer=Adam(lr=0.001), \n",
    "                         loss='categorical_crossentropy',\n",
    "                         metrics=['accuracy'])"
   ]
  },
  {
   "cell_type": "code",
   "execution_count": 379,
   "metadata": {},
   "outputs": [
    {
     "name": "stdout",
     "output_type": "stream",
     "text": [
      "Train on 52000 samples, validate on 13000 samples\n",
      "Epoch 1/10\n",
      "52000/52000 [==============================] - 230s 4ms/step - loss: 0.8832 - acc: 0.7297 - val_loss: 0.5066 - val_acc: 0.8738\n",
      "Epoch 2/10\n",
      "52000/52000 [==============================] - 222s 4ms/step - loss: 0.5272 - acc: 0.8308 - val_loss: 0.4204 - val_acc: 0.8938\n",
      "Epoch 3/10\n",
      "52000/52000 [==============================] - 215s 4ms/step - loss: 0.4545 - acc: 0.8515 - val_loss: 0.3534 - val_acc: 0.9064\n",
      "Epoch 4/10\n",
      "52000/52000 [==============================] - 218s 4ms/step - loss: 0.4079 - acc: 0.8658 - val_loss: 0.3364 - val_acc: 0.9099\n",
      "Epoch 5/10\n",
      "52000/52000 [==============================] - 213s 4ms/step - loss: 0.3783 - acc: 0.8760 - val_loss: 0.3127 - val_acc: 0.9155\n",
      "Epoch 6/10\n",
      "52000/52000 [==============================] - 220s 4ms/step - loss: 0.3565 - acc: 0.8800 - val_loss: 0.2859 - val_acc: 0.9142\n",
      "Epoch 7/10\n",
      "52000/52000 [==============================] - 217s 4ms/step - loss: 0.3416 - acc: 0.8848 - val_loss: 0.2749 - val_acc: 0.9180\n",
      "Epoch 8/10\n",
      "52000/52000 [==============================] - 231s 4ms/step - loss: 0.3247 - acc: 0.8915 - val_loss: 0.2638 - val_acc: 0.9212\n",
      "Epoch 9/10\n",
      "52000/52000 [==============================] - 225s 4ms/step - loss: 0.3078 - acc: 0.8954 - val_loss: 0.2776 - val_acc: 0.9188\n",
      "Epoch 10/10\n",
      "52000/52000 [==============================] - 215s 4ms/step - loss: 0.2975 - acc: 0.8970 - val_loss: 0.2615 - val_acc: 0.9195\n"
     ]
    },
    {
     "data": {
      "text/plain": [
       "<tensorflow.python.keras.callbacks.History at 0x288d0224ef0>"
      ]
     },
     "execution_count": 379,
     "metadata": {},
     "output_type": "execute_result"
    }
   ],
   "source": [
    "model2.fit(train_images_2, train_labels_2, validation_split=0.2, epochs=10)"
   ]
  },
  {
   "cell_type": "code",
   "execution_count": 380,
   "metadata": {},
   "outputs": [
    {
     "name": "stdout",
     "output_type": "stream",
     "text": [
      "13000/13000 [==============================] - 8s 613us/step\n",
      "Test accuracy: 0.9196153846153846 \n",
      "Test loss: 0.25756382212272055\n"
     ]
    }
   ],
   "source": [
    "test_loss, test_acc = model2.evaluate(test_images_2, test_labels_2)\n",
    "print('Test accuracy:', test_acc, '\\nTest loss:', test_loss)"
   ]
  },
  {
   "cell_type": "markdown",
   "metadata": {},
   "source": [
    "Переобучения нет, но качество модели не сильно возросло, зато уменьшились потери. Сохраним модель"
   ]
  },
  {
   "cell_type": "code",
   "execution_count": 400,
   "metadata": {},
   "outputs": [
    {
     "name": "stdout",
     "output_type": "stream",
     "text": [
      "Saved model to disk\n"
     ]
    }
   ],
   "source": [
    "model2_json = model2.to_json()\n",
    "with open(\"cnn_model2.json\", \"w\") as json_file:\n",
    "    json_file.write(model2_json)\n",
    "\n",
    "model2.save_weights(\"cnn_model2.h5\")\n",
    "print(\"Saved model to disk\")"
   ]
  },
  {
   "cell_type": "markdown",
   "metadata": {},
   "source": [
    "Добавим еще один сверточный слой"
   ]
  },
  {
   "cell_type": "code",
   "execution_count": 396,
   "metadata": {},
   "outputs": [],
   "source": [
    "model3 = keras.Sequential([\n",
    "    \n",
    "        Conv2D(64, kernel_size=(5, 5),\n",
    "                 activation='relu',\n",
    "                 input_shape=input_shape),\n",
    "        \n",
    "        MaxPooling2D(pool_size=(2, 2)),\n",
    "    \n",
    "        Conv2D(16, kernel_size=(3, 3),\n",
    "             activation='relu'),\n",
    "        Dropout(0.5),\n",
    "        \n",
    "        Flatten(), \n",
    "    \n",
    "        Dense(300, activation='relu'),\n",
    "        Dropout(0.5),\n",
    "    \n",
    "        Dense(26, activation=tf.nn.softmax) \n",
    "    ])"
   ]
  },
  {
   "cell_type": "code",
   "execution_count": 397,
   "metadata": {},
   "outputs": [],
   "source": [
    "model3.compile(optimizer=Adam(lr=0.001), \n",
    "                         loss='categorical_crossentropy',\n",
    "                         metrics=['accuracy'])"
   ]
  },
  {
   "cell_type": "code",
   "execution_count": 398,
   "metadata": {},
   "outputs": [
    {
     "name": "stdout",
     "output_type": "stream",
     "text": [
      "Train on 52000 samples, validate on 13000 samples\n",
      "Epoch 1/10\n",
      "52000/52000 [==============================] - 126s 2ms/step - loss: 0.8894 - acc: 0.7268 - val_loss: 0.3536 - val_acc: 0.8862\n",
      "Epoch 2/10\n",
      "52000/52000 [==============================] - 111s 2ms/step - loss: 0.4751 - acc: 0.8475 - val_loss: 0.2817 - val_acc: 0.9096\n",
      "Epoch 3/10\n",
      "52000/52000 [==============================] - 112s 2ms/step - loss: 0.3942 - acc: 0.8705 - val_loss: 0.2551 - val_acc: 0.9147\n",
      "Epoch 4/10\n",
      "52000/52000 [==============================] - 114s 2ms/step - loss: 0.3621 - acc: 0.8818 - val_loss: 0.2410 - val_acc: 0.9195\n",
      "Epoch 5/10\n",
      "52000/52000 [==============================] - 121s 2ms/step - loss: 0.3299 - acc: 0.8900 - val_loss: 0.2267 - val_acc: 0.9242\n",
      "Epoch 6/10\n",
      "52000/52000 [==============================] - 121s 2ms/step - loss: 0.3145 - acc: 0.8947 - val_loss: 0.2129 - val_acc: 0.9287\n",
      "Epoch 7/10\n",
      "52000/52000 [==============================] - 119s 2ms/step - loss: 0.2976 - acc: 0.8988 - val_loss: 0.2178 - val_acc: 0.9262\n",
      "Epoch 8/10\n",
      "52000/52000 [==============================] - 122s 2ms/step - loss: 0.2864 - acc: 0.9033 - val_loss: 0.2011 - val_acc: 0.9302\n",
      "Epoch 9/10\n",
      "52000/52000 [==============================] - 118s 2ms/step - loss: 0.2773 - acc: 0.9072 - val_loss: 0.2037 - val_acc: 0.9318\n",
      "Epoch 10/10\n",
      "52000/52000 [==============================] - 114s 2ms/step - loss: 0.2658 - acc: 0.9104 - val_loss: 0.1956 - val_acc: 0.9330\n"
     ]
    },
    {
     "data": {
      "text/plain": [
       "<tensorflow.python.keras.callbacks.History at 0x288bc665ef0>"
      ]
     },
     "execution_count": 398,
     "metadata": {},
     "output_type": "execute_result"
    }
   ],
   "source": [
    "model3.fit(train_images_2, train_labels_2, validation_split=0.2, epochs=10)"
   ]
  },
  {
   "cell_type": "code",
   "execution_count": 399,
   "metadata": {},
   "outputs": [
    {
     "name": "stdout",
     "output_type": "stream",
     "text": [
      "13000/13000 [==============================] - 8s 623us/step\n",
      "Test accuracy: 0.9386153846153846 \n",
      "Test loss: 0.18589052773897463\n"
     ]
    }
   ],
   "source": [
    "test_loss, test_acc = model3.evaluate(test_images_2, test_labels_2)\n",
    "print('Test accuracy:', test_acc, '\\nTest loss:', test_loss)"
   ]
  },
  {
   "cell_type": "code",
   "execution_count": 401,
   "metadata": {},
   "outputs": [
    {
     "name": "stdout",
     "output_type": "stream",
     "text": [
      "Saved model to disk\n"
     ]
    }
   ],
   "source": [
    "model3_json = model3.to_json()\n",
    "with open(\"cnn_model3.json\", \"w\") as json_file:\n",
    "    json_file.write(model3_json)\n",
    "\n",
    "model3.save_weights(\"cnn_model3.h5\")\n",
    "print(\"Saved model to disk\")"
   ]
  },
  {
   "cell_type": "code",
   "execution_count": 402,
   "metadata": {},
   "outputs": [
    {
     "name": "stdout",
     "output_type": "stream",
     "text": [
      "Train on 52000 samples, validate on 13000 samples\n",
      "Epoch 1/10\n",
      "52000/52000 [==============================] - 113s 2ms/step - loss: 0.2603 - acc: 0.9096 - val_loss: 0.2032 - val_acc: 0.9295\n",
      "Epoch 2/10\n",
      "52000/52000 [==============================] - 115s 2ms/step - loss: 0.2552 - acc: 0.9119 - val_loss: 0.1944 - val_acc: 0.9352\n",
      "Epoch 3/10\n",
      "52000/52000 [==============================] - 115s 2ms/step - loss: 0.2502 - acc: 0.9153 - val_loss: 0.1925 - val_acc: 0.9342\n",
      "Epoch 4/10\n",
      "52000/52000 [==============================] - 120s 2ms/step - loss: 0.2394 - acc: 0.9179 - val_loss: 0.1922 - val_acc: 0.9352\n",
      "Epoch 5/10\n",
      "52000/52000 [==============================] - 115s 2ms/step - loss: 0.2389 - acc: 0.9168 - val_loss: 0.1958 - val_acc: 0.9363\n",
      "Epoch 6/10\n",
      "52000/52000 [==============================] - 115s 2ms/step - loss: 0.2309 - acc: 0.9206 - val_loss: 0.1937 - val_acc: 0.9342\n",
      "Epoch 7/10\n",
      "52000/52000 [==============================] - 117s 2ms/step - loss: 0.2281 - acc: 0.9187 - val_loss: 0.1867 - val_acc: 0.9381\n",
      "Epoch 8/10\n",
      "52000/52000 [==============================] - 116s 2ms/step - loss: 0.2293 - acc: 0.9189 - val_loss: 0.1892 - val_acc: 0.9388\n",
      "Epoch 9/10\n",
      "52000/52000 [==============================] - 112s 2ms/step - loss: 0.2241 - acc: 0.9226 - val_loss: 0.1870 - val_acc: 0.9371\n",
      "Epoch 10/10\n",
      "52000/52000 [==============================] - 116s 2ms/step - loss: 0.2187 - acc: 0.9217 - val_loss: 0.1927 - val_acc: 0.9362\n"
     ]
    },
    {
     "data": {
      "text/plain": [
       "<tensorflow.python.keras.callbacks.History at 0x288bc62fa90>"
      ]
     },
     "execution_count": 402,
     "metadata": {},
     "output_type": "execute_result"
    }
   ],
   "source": [
    "model3.fit(train_images_2, train_labels_2, validation_split=0.2, epochs=10)"
   ]
  },
  {
   "cell_type": "code",
   "execution_count": 403,
   "metadata": {},
   "outputs": [
    {
     "name": "stdout",
     "output_type": "stream",
     "text": [
      "13000/13000 [==============================] - 8s 617us/step\n",
      "Test accuracy: 0.9387692307692308 \n",
      "Test loss: 0.18050952054904057\n"
     ]
    }
   ],
   "source": [
    "test_loss, test_acc = model3.evaluate(test_images_2, test_labels_2)\n",
    "print('Test accuracy:', test_acc, '\\nTest loss:', test_loss)"
   ]
  },
  {
   "cell_type": "markdown",
   "metadata": {},
   "source": [
    "Качество не улучшилось. Попробуем увеличить количество фильтров в сверточных слоях"
   ]
  },
  {
   "cell_type": "code",
   "execution_count": 408,
   "metadata": {},
   "outputs": [],
   "source": [
    "model4 = keras.Sequential([\n",
    "    \n",
    "        Conv2D(128, kernel_size=(5, 5),\n",
    "                 activation='relu',\n",
    "                 input_shape=input_shape),\n",
    "        \n",
    "        MaxPooling2D(pool_size=(2, 2)),\n",
    "    \n",
    "        Conv2D(32, kernel_size=(3, 3),\n",
    "             activation='relu'),\n",
    "        Dropout(0.5),\n",
    "        \n",
    "        Flatten(), \n",
    "    \n",
    "        Dense(300, activation='relu'),\n",
    "        Dropout(0.5),\n",
    "    \n",
    "        Dense(26, activation=tf.nn.softmax) \n",
    "    ])"
   ]
  },
  {
   "cell_type": "code",
   "execution_count": 409,
   "metadata": {},
   "outputs": [],
   "source": [
    "model4.compile(optimizer=Adam(lr=0.001), \n",
    "                         loss='categorical_crossentropy',\n",
    "                         metrics=['accuracy'])"
   ]
  },
  {
   "cell_type": "code",
   "execution_count": 410,
   "metadata": {},
   "outputs": [
    {
     "name": "stdout",
     "output_type": "stream",
     "text": [
      "Train on 52000 samples, validate on 13000 samples\n",
      "Epoch 1/10\n",
      "52000/52000 [==============================] - 217s 4ms/step - loss: 0.7800 - acc: 0.7595 - val_loss: 0.3065 - val_acc: 0.9025\n",
      "Epoch 2/10\n",
      "52000/52000 [==============================] - 206s 4ms/step - loss: 0.4060 - acc: 0.8695 - val_loss: 0.2507 - val_acc: 0.9182\n",
      "Epoch 3/10\n",
      "52000/52000 [==============================] - 208s 4ms/step - loss: 0.3384 - acc: 0.8888 - val_loss: 0.2240 - val_acc: 0.9232\n",
      "Epoch 4/10\n",
      "52000/52000 [==============================] - 198s 4ms/step - loss: 0.3019 - acc: 0.8987 - val_loss: 0.2094 - val_acc: 0.9276\n",
      "Epoch 5/10\n",
      "52000/52000 [==============================] - 193s 4ms/step - loss: 0.2723 - acc: 0.9077 - val_loss: 0.2029 - val_acc: 0.9314\n",
      "Epoch 6/10\n",
      "52000/52000 [==============================] - 201s 4ms/step - loss: 0.2559 - acc: 0.9142 - val_loss: 0.1936 - val_acc: 0.9345\n",
      "Epoch 7/10\n",
      "52000/52000 [==============================] - 250s 5ms/step - loss: 0.2459 - acc: 0.9154 - val_loss: 0.1993 - val_acc: 0.9315\n",
      "Epoch 8/10\n",
      "52000/52000 [==============================] - 268s 5ms/step - loss: 0.2322 - acc: 0.9203 - val_loss: 0.1941 - val_acc: 0.9359\n",
      "Epoch 9/10\n",
      "52000/52000 [==============================] - 268s 5ms/step - loss: 0.2183 - acc: 0.9246 - val_loss: 0.1904 - val_acc: 0.9378\n",
      "Epoch 10/10\n",
      "52000/52000 [==============================] - 262s 5ms/step - loss: 0.2140 - acc: 0.9257 - val_loss: 0.1880 - val_acc: 0.9374\n"
     ]
    },
    {
     "data": {
      "text/plain": [
       "<tensorflow.python.keras.callbacks.History at 0x288dd747cf8>"
      ]
     },
     "execution_count": 410,
     "metadata": {},
     "output_type": "execute_result"
    }
   ],
   "source": [
    "model4.fit(train_images_2, train_labels_2, validation_split=0.2, epochs=10)"
   ]
  },
  {
   "cell_type": "code",
   "execution_count": 411,
   "metadata": {},
   "outputs": [
    {
     "name": "stdout",
     "output_type": "stream",
     "text": [
      "13000/13000 [==============================] - 17s 1ms/step\n",
      "Test accuracy: 0.94 \n",
      "Test loss: 0.17091266797139096\n"
     ]
    }
   ],
   "source": [
    "test_loss, test_acc = model4.evaluate(test_images_2, test_labels_2)\n",
    "print('Test accuracy:', test_acc, '\\nTest loss:', test_loss)"
   ]
  },
  {
   "cell_type": "code",
   "execution_count": 412,
   "metadata": {},
   "outputs": [
    {
     "name": "stdout",
     "output_type": "stream",
     "text": [
      "Saved model to disk\n"
     ]
    }
   ],
   "source": [
    "model4_json = model4.to_json()\n",
    "with open(\"cnn_model4.json\", \"w\") as json_file:\n",
    "    json_file.write(model4_json)\n",
    "\n",
    "model4.save_weights(\"cnn_model4.h5\")\n",
    "print(\"Saved model to disk\")"
   ]
  },
  {
   "cell_type": "code",
   "execution_count": 422,
   "metadata": {},
   "outputs": [],
   "source": [
    "model5 = keras.Sequential([\n",
    "    \n",
    "        Conv2D(64, kernel_size=(5, 5),\n",
    "                 activation='relu',\n",
    "                 input_shape=input_shape),\n",
    "        \n",
    "        MaxPooling2D(pool_size=(2, 2)),\n",
    "    \n",
    "        Conv2D(32, kernel_size=(3, 3),\n",
    "             activation='relu'),\n",
    "    \n",
    "        MaxPooling2D(pool_size=(2, 2)),\n",
    "    \n",
    "        Dropout(0.5),\n",
    "        \n",
    "        Flatten(), \n",
    "    \n",
    "        Dense(200, activation='relu'),\n",
    "        Dropout(0.5),\n",
    "    \n",
    "        Dense(26, activation=tf.nn.softmax) \n",
    "    ])"
   ]
  },
  {
   "cell_type": "code",
   "execution_count": 423,
   "metadata": {},
   "outputs": [],
   "source": [
    "model5.compile(optimizer=Adam(lr=0.001), \n",
    "                         loss='categorical_crossentropy',\n",
    "                         metrics=['accuracy'])"
   ]
  },
  {
   "cell_type": "code",
   "execution_count": 424,
   "metadata": {},
   "outputs": [
    {
     "name": "stdout",
     "output_type": "stream",
     "text": [
      "Train on 52000 samples, validate on 13000 samples\n",
      "Epoch 1/10\n",
      "52000/52000 [==============================] - 170s 3ms/step - loss: 1.0270 - acc: 0.6813 - val_loss: 0.3613 - val_acc: 0.8823\n",
      "Epoch 2/10\n",
      "52000/52000 [==============================] - 154s 3ms/step - loss: 0.5373 - acc: 0.8269 - val_loss: 0.2824 - val_acc: 0.9074\n",
      "Epoch 3/10\n",
      "52000/52000 [==============================] - 154s 3ms/step - loss: 0.4542 - acc: 0.8533 - val_loss: 0.2536 - val_acc: 0.9149\n",
      "Epoch 4/10\n",
      "52000/52000 [==============================] - 153s 3ms/step - loss: 0.4104 - acc: 0.8669 - val_loss: 0.2350 - val_acc: 0.9225\n",
      "Epoch 5/10\n",
      "52000/52000 [==============================] - 152s 3ms/step - loss: 0.3788 - acc: 0.8768 - val_loss: 0.2260 - val_acc: 0.9266\n",
      "Epoch 6/10\n",
      "52000/52000 [==============================] - 152s 3ms/step - loss: 0.3600 - acc: 0.8822 - val_loss: 0.2115 - val_acc: 0.9277\n",
      "Epoch 7/10\n",
      "52000/52000 [==============================] - 155s 3ms/step - loss: 0.3485 - acc: 0.8859 - val_loss: 0.2088 - val_acc: 0.9292\n",
      "Epoch 8/10\n",
      "52000/52000 [==============================] - 150s 3ms/step - loss: 0.3280 - acc: 0.8925 - val_loss: 0.2031 - val_acc: 0.9322\n",
      "Epoch 9/10\n",
      "52000/52000 [==============================] - 152s 3ms/step - loss: 0.3199 - acc: 0.8943 - val_loss: 0.1984 - val_acc: 0.9332\n",
      "Epoch 10/10\n",
      "52000/52000 [==============================] - 151s 3ms/step - loss: 0.3131 - acc: 0.8973 - val_loss: 0.1995 - val_acc: 0.9314\n"
     ]
    },
    {
     "data": {
      "text/plain": [
       "<tensorflow.python.keras.callbacks.History at 0x288e5051ac8>"
      ]
     },
     "execution_count": 424,
     "metadata": {},
     "output_type": "execute_result"
    }
   ],
   "source": [
    "model5.fit(train_images_2, train_labels_2, validation_split=0.2, epochs=10)"
   ]
  },
  {
   "cell_type": "code",
   "execution_count": 425,
   "metadata": {},
   "outputs": [
    {
     "name": "stdout",
     "output_type": "stream",
     "text": [
      "13000/13000 [==============================] - 17s 1ms/step\n",
      "Test accuracy: 0.94 \n",
      "Test loss: 0.17091266797139096\n"
     ]
    }
   ],
   "source": [
    "test_loss, test_acc = model5.evaluate(test_images_2, test_labels_2)\n",
    "print('Test accuracy:', test_acc, '\\nTest loss:', test_loss)"
   ]
  },
  {
   "cell_type": "code",
   "execution_count": 430,
   "metadata": {},
   "outputs": [],
   "source": [
    "model6 = keras.Sequential([\n",
    "    \n",
    "        Conv2D(64, kernel_size=(5, 5),\n",
    "                 activation='relu',\n",
    "                 input_shape=input_shape),\n",
    "        \n",
    "        MaxPooling2D(pool_size=(2, 2)),\n",
    "    \n",
    "        Conv2D(32, kernel_size=(3, 3),\n",
    "             activation='relu'),\n",
    "    \n",
    "        MaxPooling2D(pool_size=(2, 2)),\n",
    "    \n",
    "        Dropout(0.5),\n",
    "        \n",
    "        Flatten(), \n",
    "    \n",
    "        Dense(50, activation='relu'),\n",
    "        Dense(300, activation='relu'),\n",
    "        Dropout(0.5),\n",
    "    \n",
    "        Dense(26, activation=tf.nn.softmax) \n",
    "    ])"
   ]
  },
  {
   "cell_type": "code",
   "execution_count": 431,
   "metadata": {},
   "outputs": [],
   "source": [
    "model6.compile(optimizer=Adam(lr=0.001), \n",
    "                         loss='categorical_crossentropy',\n",
    "                         metrics=['accuracy'])"
   ]
  },
  {
   "cell_type": "code",
   "execution_count": 432,
   "metadata": {},
   "outputs": [
    {
     "name": "stdout",
     "output_type": "stream",
     "text": [
      "Train on 52000 samples, validate on 13000 samples\n",
      "Epoch 1/10\n",
      "52000/52000 [==============================] - 167s 3ms/step - loss: 0.9641 - acc: 0.6996 - val_loss: 0.3590 - val_acc: 0.8867\n",
      "Epoch 2/10\n",
      "52000/52000 [==============================] - 155s 3ms/step - loss: 0.4721 - acc: 0.8486 - val_loss: 0.2810 - val_acc: 0.9077\n",
      "Epoch 3/10\n",
      "52000/52000 [==============================] - 156s 3ms/step - loss: 0.3942 - acc: 0.8731 - val_loss: 0.2545 - val_acc: 0.9155\n",
      "Epoch 4/10\n",
      "52000/52000 [==============================] - 153s 3ms/step - loss: 0.3508 - acc: 0.8857 - val_loss: 0.2303 - val_acc: 0.9223\n",
      "Epoch 5/10\n",
      "52000/52000 [==============================] - 153s 3ms/step - loss: 0.3296 - acc: 0.8918 - val_loss: 0.2214 - val_acc: 0.9268\n",
      "Epoch 6/10\n",
      "52000/52000 [==============================] - 152s 3ms/step - loss: 0.3075 - acc: 0.8978 - val_loss: 0.2137 - val_acc: 0.9297\n",
      "Epoch 7/10\n",
      "52000/52000 [==============================] - 148s 3ms/step - loss: 0.2923 - acc: 0.9040 - val_loss: 0.2111 - val_acc: 0.9298\n",
      "Epoch 8/10\n",
      "52000/52000 [==============================] - 150s 3ms/step - loss: 0.2839 - acc: 0.9058 - val_loss: 0.2051 - val_acc: 0.9307\n",
      "Epoch 9/10\n",
      "52000/52000 [==============================] - 151s 3ms/step - loss: 0.2735 - acc: 0.9086 - val_loss: 0.1968 - val_acc: 0.9339\n",
      "Epoch 10/10\n",
      "52000/52000 [==============================] - 153s 3ms/step - loss: 0.2614 - acc: 0.9119 - val_loss: 0.1981 - val_acc: 0.9335\n"
     ]
    },
    {
     "data": {
      "text/plain": [
       "<tensorflow.python.keras.callbacks.History at 0x288e812ee48>"
      ]
     },
     "execution_count": 432,
     "metadata": {},
     "output_type": "execute_result"
    }
   ],
   "source": [
    "model6.fit(train_images_2, train_labels_2, validation_split=0.2, epochs=10)"
   ]
  },
  {
   "cell_type": "code",
   "execution_count": 434,
   "metadata": {},
   "outputs": [
    {
     "name": "stdout",
     "output_type": "stream",
     "text": [
      "13000/13000 [==============================] - 11s 866us/step\n",
      "Test accuracy: 0.9353846153846154 \n",
      "Test loss: 0.18969252068721332\n"
     ]
    }
   ],
   "source": [
    "test_loss, test_acc = model6.evaluate(test_images_2, test_labels_2)\n",
    "print('Test accuracy:', test_acc, '\\nTest loss:', test_loss)"
   ]
  },
  {
   "cell_type": "code",
   "execution_count": 437,
   "metadata": {},
   "outputs": [],
   "source": [
    "from tensorflow.keras.optimizers import Adagrad"
   ]
  },
  {
   "cell_type": "code",
   "execution_count": 443,
   "metadata": {},
   "outputs": [],
   "source": [
    "model7 = keras.Sequential([\n",
    "    \n",
    "        Conv2D(64, kernel_size=(5, 5),\n",
    "                 activation='relu',\n",
    "                 input_shape=input_shape),\n",
    "        \n",
    "        MaxPooling2D(pool_size=(2, 2)),\n",
    "    \n",
    "        Conv2D(32, kernel_size=(3, 3),\n",
    "             activation='relu'),\n",
    "    \n",
    "        MaxPooling2D(pool_size=(2, 2)),\n",
    "    \n",
    "        Dropout(0.5),\n",
    "        \n",
    "        Flatten(), \n",
    "    \n",
    "        Dense(300, activation='relu'),\n",
    "        Dropout(0.5),\n",
    "        Dense(200, activation='relu'),\n",
    "        Dropout(0.5),\n",
    "    \n",
    "        Dense(26, activation=tf.nn.softmax) \n",
    "    ])"
   ]
  },
  {
   "cell_type": "code",
   "execution_count": 444,
   "metadata": {},
   "outputs": [],
   "source": [
    "model7.compile(optimizer=Adam(lr=0.001), \n",
    "                         loss='categorical_crossentropy',\n",
    "                         metrics=['accuracy'])"
   ]
  },
  {
   "cell_type": "code",
   "execution_count": 445,
   "metadata": {},
   "outputs": [
    {
     "name": "stdout",
     "output_type": "stream",
     "text": [
      "Train on 52000 samples, validate on 13000 samples\n",
      "Epoch 1/10\n",
      "52000/52000 [==============================] - 180s 3ms/step - loss: 1.2489 - acc: 0.6149 - val_loss: 0.4188 - val_acc: 0.8648\n",
      "Epoch 2/10\n",
      "52000/52000 [==============================] - 164s 3ms/step - loss: 0.6500 - acc: 0.7953 - val_loss: 0.3087 - val_acc: 0.9043\n",
      "Epoch 3/10\n",
      "52000/52000 [==============================] - 165s 3ms/step - loss: 0.5515 - acc: 0.8269 - val_loss: 0.2680 - val_acc: 0.9178\n",
      "Epoch 4/10\n",
      "52000/52000 [==============================] - 165s 3ms/step - loss: 0.4883 - acc: 0.8458 - val_loss: 0.2528 - val_acc: 0.9158\n",
      "Epoch 5/10\n",
      "52000/52000 [==============================] - 165s 3ms/step - loss: 0.4506 - acc: 0.8581 - val_loss: 0.2292 - val_acc: 0.9238\n",
      "Epoch 6/10\n",
      "52000/52000 [==============================] - 138s 3ms/step - loss: 0.4257 - acc: 0.8646 - val_loss: 0.2327 - val_acc: 0.9179\n",
      "Epoch 7/10\n",
      "52000/52000 [==============================] - 146s 3ms/step - loss: 0.4067 - acc: 0.8712 - val_loss: 0.2197 - val_acc: 0.9269\n",
      "Epoch 8/10\n",
      "52000/52000 [==============================] - 133s 3ms/step - loss: 0.3945 - acc: 0.8755 - val_loss: 0.2172 - val_acc: 0.9273\n",
      "Epoch 9/10\n",
      "52000/52000 [==============================] - 126s 2ms/step - loss: 0.3747 - acc: 0.8788 - val_loss: 0.2089 - val_acc: 0.9302\n",
      "Epoch 10/10\n",
      "52000/52000 [==============================] - 125s 2ms/step - loss: 0.3707 - acc: 0.8818 - val_loss: 0.2233 - val_acc: 0.9265\n"
     ]
    },
    {
     "data": {
      "text/plain": [
       "<tensorflow.python.keras.callbacks.History at 0x288ed405518>"
      ]
     },
     "execution_count": 445,
     "metadata": {},
     "output_type": "execute_result"
    }
   ],
   "source": [
    "model7.fit(train_images_2, train_labels_2, validation_split=0.2, epochs=10)"
   ]
  },
  {
   "cell_type": "code",
   "execution_count": 446,
   "metadata": {},
   "outputs": [
    {
     "name": "stdout",
     "output_type": "stream",
     "text": [
      "13000/13000 [==============================] - 9s 687us/step\n",
      "Test accuracy: 0.9361538461538461 \n",
      "Test loss: 0.19399848203876843\n"
     ]
    }
   ],
   "source": [
    "test_loss, test_acc = model6.evaluate(test_images_2, test_labels_2)\n",
    "print('Test accuracy:', test_acc, '\\nTest loss:', test_loss)"
   ]
  },
  {
   "cell_type": "markdown",
   "metadata": {},
   "source": [
    "Лучшее качество - 0,94 :с (model4)"
   ]
  },
  {
   "cell_type": "markdown",
   "metadata": {},
   "source": [
    "<h3> Задание 2 </h3>"
   ]
  },
  {
   "cell_type": "code",
   "execution_count": 23,
   "metadata": {},
   "outputs": [],
   "source": [
    "from sklearn import metrics"
   ]
  },
  {
   "cell_type": "code",
   "execution_count": 26,
   "metadata": {},
   "outputs": [
    {
     "data": {
      "text/plain": [
       "<module 'plot_cm' from 'C:\\\\Users\\\\admin\\\\Documents\\\\Задания\\\\Майнор\\\\ML\\\\Deep Learning\\\\Lab_2\\\\plot_cm.py'>"
      ]
     },
     "execution_count": 26,
     "metadata": {},
     "output_type": "execute_result"
    }
   ],
   "source": [
    "import importlib \n",
    "import sys \n",
    "from plot_cm import plot_confusion_matrix\n",
    "importlib.reload(sys.modules['plot_cm']) "
   ]
  },
  {
   "cell_type": "code",
   "execution_count": 27,
   "metadata": {},
   "outputs": [],
   "source": [
    "import matplotlib.pyplot as plt\n",
    "from matplotlib import style"
   ]
  },
  {
   "cell_type": "code",
   "execution_count": 28,
   "metadata": {},
   "outputs": [
    {
     "name": "stdout",
     "output_type": "stream",
     "text": [
      "Loaded model from disk\n"
     ]
    }
   ],
   "source": [
    "json_file = open('cnn_model4.json', 'r')\n",
    "loaded_model_json = json_file.read()\n",
    "json_file.close()\n",
    "model = model_from_json(loaded_model_json)\n",
    "\n",
    "model.load_weights(\"cnn_model4.h5\")\n",
    "print(\"Loaded model from disk\")"
   ]
  },
  {
   "cell_type": "code",
   "execution_count": 34,
   "metadata": {},
   "outputs": [
    {
     "data": {
      "image/png": "[encoded data removed]",
      "text/plain": [
       "<Figure size 1800x1800 with 2 Axes>"
      ]
     },
     "metadata": {},
     "output_type": "display_data"
    }
   ],
   "source": [
    "style.use('default')\n",
    "plot_confusion_matrix(cm=metrics.confusion_matrix(test_labels, model.predict_classes(test_images_2)),\n",
    "                      target_names=np.arange(0, 26),\n",
    "                      normalize=True)"
   ]
  },
  {
   "cell_type": "markdown",
   "metadata": {},
   "source": [
    "Между собой путаются буквы под номерами 8 и 11, 6 и 16, 3 и 14, 2 и 4, 0 и 16, 20 и 21, 21 и 24, 8 и 9, 9 и 18"
   ]
  },
  {
   "cell_type": "code",
   "execution_count": 35,
   "metadata": {},
   "outputs": [
    {
     "data": {
      "text/plain": [
       "'a'"
      ]
     },
     "execution_count": 35,
     "metadata": {},
     "output_type": "execute_result"
    }
   ],
   "source": [
    "import string\n",
    "string.ascii_lowercase\n",
    "\n",
    "letters = string.ascii_lowercase\n",
    "\n",
    "letters[0]"
   ]
  },
  {
   "cell_type": "code",
   "execution_count": 36,
   "metadata": {},
   "outputs": [
    {
     "name": "stdout",
     "output_type": "stream",
     "text": [
      "i  и  l\n",
      "g  и  q\n",
      "d  и  o\n",
      "c  и  e\n",
      "a  и  q\n",
      "u  и  v\n",
      "v  и  y\n",
      "i  и  j\n",
      "j  и  s\n"
     ]
    }
   ],
   "source": [
    "print(letters[8], ' и ', letters[11])\n",
    "print(letters[6], ' и ', letters[16])\n",
    "print(letters[3], ' и ', letters[14])\n",
    "print(letters[2], ' и ', letters[4])\n",
    "print(letters[0], ' и ', letters[16])\n",
    "print(letters[20], ' и ', letters[21])\n",
    "print(letters[21], ' и ', letters[24])\n",
    "print(letters[8], ' и ', letters[9])\n",
    "print(letters[9], ' и ', letters[18])"
   ]
  },
  {
   "cell_type": "markdown",
   "metadata": {},
   "source": [
    "Ошибка классификации объясняется схожестью написания этих букв"
   ]
  },
  {
   "cell_type": "code",
   "execution_count": 37,
   "metadata": {},
   "outputs": [],
   "source": [
    "predicted_lables = model.predict_classes(test_images_2)"
   ]
  },
  {
   "cell_type": "code",
   "execution_count": 38,
   "metadata": {},
   "outputs": [],
   "source": [
    "test_labels_series = pd.Series(test_labels)"
   ]
  },
  {
   "cell_type": "code",
   "execution_count": 546,
   "metadata": {
    "scrolled": true
   },
   "outputs": [
    {
     "name": "stdout",
     "output_type": "stream",
     "text": [
      "Индекс буквы:20, Истинное значение:16, Предсказанное значение:6, Индекс предсказанного:7\n",
      "Индекс буквы:56, Истинное значение:19, Предсказанное значение:24, Индекс предсказанного:33\n",
      "Индекс буквы:86, Истинное значение:11, Предсказанное значение:8, Индекс предсказанного:48\n",
      "Индекс буквы:88, Истинное значение:13, Предсказанное значение:16, Индекс предсказанного:20\n",
      "Индекс буквы:101, Истинное значение:8, Предсказанное значение:11, Индекс предсказанного:86\n",
      "Индекс буквы:124, Истинное значение:16, Предсказанное значение:25, Индекс предсказанного:4\n",
      "Индекс буквы:156, Истинное значение:8, Предсказанное значение:11, Индекс предсказанного:86\n",
      "Индекс буквы:205, Истинное значение:8, Предсказанное значение:11, Индекс предсказанного:86\n",
      "Индекс буквы:211, Истинное значение:22, Предсказанное значение:23, Индекс предсказанного:25\n",
      "Индекс буквы:239, Истинное значение:7, Предсказанное значение:11, Индекс предсказанного:86\n",
      "Индекс буквы:260, Истинное значение:16, Предсказанное значение:6, Индекс предсказанного:7\n",
      "Индекс буквы:274, Истинное значение:11, Предсказанное значение:8, Индекс предсказанного:48\n",
      "Индекс буквы:283, Истинное значение:9, Предсказанное значение:3, Индекс предсказанного:0\n",
      "Индекс буквы:292, Истинное значение:9, Предсказанное значение:6, Индекс предсказанного:7\n",
      "Индекс буквы:316, Истинное значение:16, Предсказанное значение:0, Индекс предсказанного:27\n",
      "Индекс буквы:318, Истинное значение:3, Предсказанное значение:11, Индекс предсказанного:86\n",
      "Индекс буквы:325, Истинное значение:21, Предсказанное значение:20, Индекс предсказанного:24\n",
      "Индекс буквы:334, Истинное значение:16, Предсказанное значение:6, Индекс предсказанного:7\n",
      "Индекс буквы:347, Истинное значение:11, Предсказанное значение:10, Индекс предсказанного:9\n",
      "Индекс буквы:373, Истинное значение:20, Предсказанное значение:21, Индекс предсказанного:17\n",
      "Индекс буквы:397, Истинное значение:11, Предсказанное значение:8, Индекс предсказанного:48\n",
      "Индекс буквы:456, Истинное значение:0, Предсказанное значение:13, Индекс предсказанного:6\n",
      "Индекс буквы:459, Истинное значение:23, Предсказанное значение:10, Индекс предсказанного:9\n",
      "Индекс буквы:474, Истинное значение:5, Предсказанное значение:19, Индекс предсказанного:45\n",
      "Индекс буквы:475, Истинное значение:6, Предсказанное значение:16, Индекс предсказанного:20\n",
      "Индекс буквы:515, Истинное значение:7, Предсказанное значение:11, Индекс предсказанного:86\n",
      "Индекс буквы:522, Истинное значение:9, Предсказанное значение:20, Индекс предсказанного:24\n",
      "Индекс буквы:524, Истинное значение:7, Предсказанное значение:24, Индекс предсказанного:33\n",
      "Индекс буквы:565, Истинное значение:8, Предсказанное значение:11, Индекс предсказанного:86\n",
      "Индекс буквы:569, Истинное значение:11, Предсказанное значение:8, Индекс предсказанного:48\n",
      "Индекс буквы:578, Истинное значение:6, Предсказанное значение:0, Индекс предсказанного:27\n",
      "Индекс буквы:580, Истинное значение:6, Предсказанное значение:16, Индекс предсказанного:20\n",
      "Индекс буквы:622, Истинное значение:15, Предсказанное значение:6, Индекс предсказанного:7\n",
      "Индекс буквы:629, Истинное значение:8, Предсказанное значение:11, Индекс предсказанного:86\n",
      "Индекс буквы:699, Истинное значение:24, Предсказанное значение:21, Индекс предсказанного:17\n",
      "Индекс буквы:703, Истинное значение:11, Предсказанное значение:8, Индекс предсказанного:48\n",
      "Индекс буквы:720, Истинное значение:2, Предсказанное значение:4, Индекс предсказанного:18\n",
      "Индекс буквы:724, Истинное значение:22, Предсказанное значение:24, Индекс предсказанного:33\n",
      "Индекс буквы:758, Истинное значение:11, Предсказанное значение:8, Индекс предсказанного:48\n",
      "Индекс буквы:760, Истинное значение:7, Предсказанное значение:10, Индекс предсказанного:9\n",
      "Индекс буквы:769, Истинное значение:10, Предсказанное значение:19, Индекс предсказанного:45\n",
      "Индекс буквы:777, Истинное значение:11, Предсказанное значение:8, Индекс предсказанного:48\n",
      "Индекс буквы:779, Истинное значение:8, Предсказанное значение:24, Индекс предсказанного:33\n",
      "Индекс буквы:814, Истинное значение:8, Предсказанное значение:11, Индекс предсказанного:86\n",
      "Индекс буквы:836, Истинное значение:16, Предсказанное значение:18, Индекс предсказанного:8\n",
      "Индекс буквы:844, Истинное значение:16, Предсказанное значение:6, Индекс предсказанного:7\n",
      "Индекс буквы:911, Истинное значение:6, Предсказанное значение:16, Индекс предсказанного:20\n",
      "Индекс буквы:921, Истинное значение:6, Предсказанное значение:16, Индекс предсказанного:20\n",
      "Индекс буквы:927, Истинное значение:6, Предсказанное значение:25, Индекс предсказанного:4\n",
      "Индекс буквы:931, Истинное значение:17, Предсказанное значение:21, Индекс предсказанного:17\n",
      "Индекс буквы:933, Истинное значение:2, Предсказанное значение:4, Индекс предсказанного:18\n",
      "Индекс буквы:955, Истинное значение:7, Предсказанное значение:13, Индекс предсказанного:6\n",
      "Индекс буквы:956, Истинное значение:6, Предсказанное значение:16, Индекс предсказанного:20\n",
      "Индекс буквы:1034, Истинное значение:8, Предсказанное значение:11, Индекс предсказанного:86\n",
      "Индекс буквы:1042, Истинное значение:20, Предсказанное значение:21, Индекс предсказанного:17\n",
      "Индекс буквы:1054, Истинное значение:19, Предсказанное значение:5, Индекс предсказанного:12\n",
      "Индекс буквы:1058, Истинное значение:11, Предсказанное значение:8, Индекс предсказанного:48\n",
      "Индекс буквы:1067, Истинное значение:2, Предсказанное значение:4, Индекс предсказанного:18\n",
      "Индекс буквы:1068, Истинное значение:16, Предсказанное значение:6, Индекс предсказанного:7\n",
      "Индекс буквы:1108, Истинное значение:1, Предсказанное значение:25, Индекс предсказанного:4\n",
      "Индекс буквы:1119, Истинное значение:19, Предсказанное значение:25, Индекс предсказанного:4\n",
      "Индекс буквы:1149, Истинное значение:11, Предсказанное значение:8, Индекс предсказанного:48\n",
      "Индекс буквы:1161, Истинное значение:11, Предсказанное значение:8, Индекс предсказанного:48\n",
      "Индекс буквы:1198, Истинное значение:8, Предсказанное значение:9, Индекс предсказанного:15\n",
      "Индекс буквы:1241, Истинное значение:10, Предсказанное значение:23, Индекс предсказанного:25\n",
      "Индекс буквы:1248, Истинное значение:11, Предсказанное значение:8, Индекс предсказанного:48\n",
      "Индекс буквы:1296, Истинное значение:21, Предсказанное значение:12, Индекс предсказанного:19\n",
      "Индекс буквы:1312, Истинное значение:4, Предсказанное значение:2, Индекс предсказанного:129\n",
      "Индекс буквы:1339, Истинное значение:6, Предсказанное значение:0, Индекс предсказанного:27\n",
      "Индекс буквы:1357, Истинное значение:10, Предсказанное значение:1, Индекс предсказанного:3\n",
      "Индекс буквы:1365, Истинное значение:7, Предсказанное значение:11, Индекс предсказанного:86\n",
      "Индекс буквы:1374, Истинное значение:9, Предсказанное значение:18, Индекс предсказанного:8\n",
      "Индекс буквы:1438, Истинное значение:0, Предсказанное значение:16, Индекс предсказанного:20\n",
      "Индекс буквы:1445, Истинное значение:8, Предсказанное значение:9, Индекс предсказанного:15\n",
      "Индекс буквы:1467, Истинное значение:16, Предсказанное значение:0, Индекс предсказанного:27\n",
      "Индекс буквы:1468, Истинное значение:15, Предсказанное значение:6, Индекс предсказанного:7\n",
      "Индекс буквы:1499, Истинное значение:6, Предсказанное значение:0, Индекс предсказанного:27\n",
      "Индекс буквы:1543, Истинное значение:21, Предсказанное значение:24, Индекс предсказанного:33\n",
      "Индекс буквы:1550, Истинное значение:21, Предсказанное значение:20, Индекс предсказанного:24\n",
      "Индекс буквы:1556, Истинное значение:8, Предсказанное значение:9, Индекс предсказанного:15\n",
      "Индекс буквы:1557, Истинное значение:6, Предсказанное значение:4, Индекс предсказанного:18\n",
      "Индекс буквы:1566, Истинное значение:16, Предсказанное значение:6, Индекс предсказанного:7\n",
      "Индекс буквы:1577, Истинное значение:6, Предсказанное значение:16, Индекс предсказанного:20\n",
      "Индекс буквы:1585, Истинное значение:14, Предсказанное значение:0, Индекс предсказанного:27\n",
      "Индекс буквы:1609, Истинное значение:21, Предсказанное значение:20, Индекс предсказанного:24\n",
      "Индекс буквы:1630, Истинное значение:20, Предсказанное значение:24, Индекс предсказанного:33\n",
      "Индекс буквы:1655, Истинное значение:19, Предсказанное значение:24, Индекс предсказанного:33\n",
      "Индекс буквы:1685, Истинное значение:11, Предсказанное значение:8, Индекс предсказанного:48\n",
      "Индекс буквы:1699, Истинное значение:17, Предсказанное значение:0, Индекс предсказанного:27\n",
      "Индекс буквы:1700, Истинное значение:9, Предсказанное значение:8, Индекс предсказанного:48\n",
      "Индекс буквы:1702, Истинное значение:6, Предсказанное значение:18, Индекс предсказанного:8\n",
      "Индекс буквы:1705, Истинное значение:16, Предсказанное значение:6, Индекс предсказанного:7\n",
      "Индекс буквы:1733, Истинное значение:16, Предсказанное значение:6, Индекс предсказанного:7\n",
      "Индекс буквы:1747, Истинное значение:8, Предсказанное значение:5, Индекс предсказанного:12\n",
      "Индекс буквы:1792, Истинное значение:11, Предсказанное значение:8, Индекс предсказанного:48\n",
      "Индекс буквы:1802, Истинное значение:11, Предсказанное значение:8, Индекс предсказанного:48\n",
      "Индекс буквы:1806, Истинное значение:19, Предсказанное значение:4, Индекс предсказанного:18\n",
      "Индекс буквы:1850, Истинное значение:19, Предсказанное значение:5, Индекс предсказанного:12\n",
      "Индекс буквы:1855, Истинное значение:15, Предсказанное значение:24, Индекс предсказанного:33\n",
      "Индекс буквы:1874, Истинное значение:9, Предсказанное значение:6, Индекс предсказанного:7\n",
      "Индекс буквы:1875, Истинное значение:6, Предсказанное значение:0, Индекс предсказанного:27\n",
      "Индекс буквы:1888, Истинное значение:6, Предсказанное значение:16, Индекс предсказанного:20\n",
      "Индекс буквы:1906, Истинное значение:11, Предсказанное значение:8, Индекс предсказанного:48\n",
      "Индекс буквы:1915, Истинное значение:8, Предсказанное значение:11, Индекс предсказанного:86\n",
      "Индекс буквы:1919, Истинное значение:12, Предсказанное значение:1, Индекс предсказанного:3\n",
      "Индекс буквы:1930, Истинное значение:8, Предсказанное значение:3, Индекс предсказанного:0\n",
      "Индекс буквы:1950, Истинное значение:8, Предсказанное значение:11, Индекс предсказанного:86\n",
      "Индекс буквы:1956, Истинное значение:11, Предсказанное значение:8, Индекс предсказанного:48\n",
      "Индекс буквы:1980, Истинное значение:24, Предсказанное значение:20, Индекс предсказанного:24\n",
      "Индекс буквы:1984, Истинное значение:16, Предсказанное значение:6, Индекс предсказанного:7\n",
      "Индекс буквы:2004, Истинное значение:24, Предсказанное значение:6, Индекс предсказанного:7\n",
      "Индекс буквы:2008, Истинное значение:2, Предсказанное значение:4, Индекс предсказанного:18\n",
      "Индекс буквы:2012, Истинное значение:19, Предсказанное значение:8, Индекс предсказанного:48\n",
      "Индекс буквы:2031, Истинное значение:11, Предсказанное значение:2, Индекс предсказанного:129\n",
      "Индекс буквы:2084, Истинное значение:2, Предсказанное значение:6, Индекс предсказанного:7\n",
      "Индекс буквы:2114, Истинное значение:13, Предсказанное значение:17, Индекс предсказанного:10\n",
      "Индекс буквы:2118, Истинное значение:17, Предсказанное значение:21, Индекс предсказанного:17\n",
      "Индекс буквы:2146, Истинное значение:0, Предсказанное значение:14, Индекс предсказанного:28\n",
      "Индекс буквы:2150, Истинное значение:21, Предсказанное значение:20, Индекс предсказанного:24\n",
      "Индекс буквы:2167, Истинное значение:11, Предсказанное значение:8, Индекс предсказанного:48\n",
      "Индекс буквы:2171, Истинное значение:9, Предсказанное значение:18, Индекс предсказанного:8\n",
      "Индекс буквы:2184, Истинное значение:6, Предсказанное значение:16, Индекс предсказанного:20\n",
      "Индекс буквы:2195, Истинное значение:8, Предсказанное значение:11, Индекс предсказанного:86\n",
      "Индекс буквы:2199, Истинное значение:6, Предсказанное значение:16, Индекс предсказанного:20\n",
      "Индекс буквы:2205, Истинное значение:10, Предсказанное значение:23, Индекс предсказанного:25\n",
      "Индекс буквы:2255, Истинное значение:14, Предсказанное значение:3, Индекс предсказанного:0\n",
      "Индекс буквы:2269, Истинное значение:3, Предсказанное значение:14, Индекс предсказанного:28\n",
      "Индекс буквы:2283, Истинное значение:8, Предсказанное значение:11, Индекс предсказанного:86\n",
      "Индекс буквы:2299, Истинное значение:6, Предсказанное значение:16, Индекс предсказанного:20\n",
      "Индекс буквы:2318, Истинное значение:22, Предсказанное значение:21, Индекс предсказанного:17\n",
      "Индекс буквы:2321, Истинное значение:11, Предсказанное значение:8, Индекс предсказанного:48\n",
      "Индекс буквы:2387, Истинное значение:13, Предсказанное значение:7, Индекс предсказанного:64\n",
      "Индекс буквы:2388, Истинное значение:11, Предсказанное значение:8, Индекс предсказанного:48\n",
      "Индекс буквы:2389, Истинное значение:6, Предсказанное значение:16, Индекс предсказанного:20\n",
      "Индекс буквы:2405, Истинное значение:8, Предсказанное значение:11, Индекс предсказанного:86\n",
      "Индекс буквы:2421, Истинное значение:18, Предсказанное значение:6, Индекс предсказанного:7\n",
      "Индекс буквы:2427, Истинное значение:9, Предсказанное значение:8, Индекс предсказанного:48\n",
      "Индекс буквы:2431, Истинное значение:11, Предсказанное значение:8, Индекс предсказанного:48\n",
      "Индекс буквы:2453, Истинное значение:5, Предсказанное значение:19, Индекс предсказанного:45\n",
      "Индекс буквы:2541, Истинное значение:16, Предсказанное значение:6, Индекс предсказанного:7\n",
      "Индекс буквы:2545, Истинное значение:23, Предсказанное значение:24, Индекс предсказанного:33\n",
      "Индекс буквы:2566, Истинное значение:4, Предсказанное значение:2, Индекс предсказанного:129\n",
      "Индекс буквы:2595, Истинное значение:8, Предсказанное значение:11, Индекс предсказанного:86\n",
      "Индекс буквы:2596, Истинное значение:9, Предсказанное значение:18, Индекс предсказанного:8\n",
      "Индекс буквы:2607, Истинное значение:15, Предсказанное значение:10, Индекс предсказанного:9\n",
      "Индекс буквы:2623, Истинное значение:21, Предсказанное значение:13, Индекс предсказанного:6\n",
      "Индекс буквы:2648, Истинное значение:8, Предсказанное значение:11, Индекс предсказанного:86\n",
      "Индекс буквы:2710, Истинное значение:8, Предсказанное значение:11, Индекс предсказанного:86\n",
      "Индекс буквы:2726, Истинное значение:8, Предсказанное значение:11, Индекс предсказанного:86\n",
      "Индекс буквы:2736, Истинное значение:20, Предсказанное значение:24, Индекс предсказанного:33\n",
      "Индекс буквы:2748, Истинное значение:25, Предсказанное значение:23, Индекс предсказанного:25\n",
      "Индекс буквы:2749, Истинное значение:16, Предсказанное значение:6, Индекс предсказанного:7\n",
      "Индекс буквы:2777, Истинное значение:4, Предсказанное значение:25, Индекс предсказанного:4\n",
      "Индекс буквы:2782, Истинное значение:21, Предсказанное значение:20, Индекс предсказанного:24\n",
      "Индекс буквы:2798, Истинное значение:3, Предсказанное значение:14, Индекс предсказанного:28\n",
      "Индекс буквы:2803, Истинное значение:22, Предсказанное значение:0, Индекс предсказанного:27\n",
      "Индекс буквы:2824, Истинное значение:11, Предсказанное значение:8, Индекс предсказанного:48\n",
      "Индекс буквы:2861, Истинное значение:17, Предсказанное значение:0, Индекс предсказанного:27\n",
      "Индекс буквы:2913, Истинное значение:6, Предсказанное значение:16, Индекс предсказанного:20\n",
      "Индекс буквы:2978, Истинное значение:11, Предсказанное значение:8, Индекс предсказанного:48\n",
      "Индекс буквы:2985, Истинное значение:11, Предсказанное значение:8, Индекс предсказанного:48\n",
      "Индекс буквы:2991, Истинное значение:16, Предсказанное значение:6, Индекс предсказанного:7\n",
      "Индекс буквы:2993, Истинное значение:8, Предсказанное значение:11, Индекс предсказанного:86\n",
      "Индекс буквы:3061, Истинное значение:21, Предсказанное значение:20, Индекс предсказанного:24\n",
      "Индекс буквы:3105, Истинное значение:10, Предсказанное значение:17, Индекс предсказанного:10\n",
      "Индекс буквы:3107, Истинное значение:19, Предсказанное значение:4, Индекс предсказанного:18\n",
      "Индекс буквы:3123, Истинное значение:8, Предсказанное значение:11, Индекс предсказанного:86\n",
      "Индекс буквы:3137, Истинное значение:0, Предсказанное значение:5, Индекс предсказанного:12\n",
      "Индекс буквы:3153, Истинное значение:8, Предсказанное значение:11, Индекс предсказанного:86\n",
      "Индекс буквы:3166, Истинное значение:13, Предсказанное значение:22, Индекс предсказанного:5\n",
      "Индекс буквы:3178, Истинное значение:6, Предсказанное значение:16, Индекс предсказанного:20\n",
      "Индекс буквы:3183, Истинное значение:11, Предсказанное значение:8, Индекс предсказанного:48\n",
      "Индекс буквы:3202, Истинное значение:17, Предсказанное значение:19, Индекс предсказанного:45\n",
      "Индекс буквы:3203, Истинное значение:24, Предсказанное значение:20, Индекс предсказанного:24\n",
      "Индекс буквы:3213, Истинное значение:13, Предсказанное значение:3, Индекс предсказанного:0\n",
      "Индекс буквы:3214, Истинное значение:21, Предсказанное значение:24, Индекс предсказанного:33\n",
      "Индекс буквы:3251, Истинное значение:8, Предсказанное значение:11, Индекс предсказанного:86\n",
      "Индекс буквы:3262, Истинное значение:0, Предсказанное значение:6, Индекс предсказанного:7\n",
      "Индекс буквы:3266, Истинное значение:21, Предсказанное значение:17, Индекс предсказанного:10\n",
      "Индекс буквы:3279, Истинное значение:11, Предсказанное значение:8, Индекс предсказанного:48\n",
      "Индекс буквы:3287, Истинное значение:8, Предсказанное значение:11, Индекс предсказанного:86\n",
      "Индекс буквы:3305, Истинное значение:6, Предсказанное значение:16, Индекс предсказанного:20\n",
      "Индекс буквы:3317, Истинное значение:11, Предсказанное значение:8, Индекс предсказанного:48\n",
      "Индекс буквы:3329, Истинное значение:5, Предсказанное значение:19, Индекс предсказанного:45\n",
      "Индекс буквы:3330, Истинное значение:5, Предсказанное значение:19, Индекс предсказанного:45\n",
      "Индекс буквы:3333, Истинное значение:0, Предсказанное значение:3, Индекс предсказанного:0\n",
      "Индекс буквы:3335, Истинное значение:6, Предсказанное значение:16, Индекс предсказанного:20\n",
      "Индекс буквы:3352, Истинное значение:4, Предсказанное значение:18, Индекс предсказанного:8\n",
      "Индекс буквы:3356, Истинное значение:22, Предсказанное значение:20, Индекс предсказанного:24\n",
      "Индекс буквы:3373, Истинное значение:21, Предсказанное значение:24, Индекс предсказанного:33\n",
      "Индекс буквы:3381, Истинное значение:12, Предсказанное значение:7, Индекс предсказанного:64\n",
      "Индекс буквы:3382, Истинное значение:8, Предсказанное значение:11, Индекс предсказанного:86\n",
      "Индекс буквы:3398, Истинное значение:13, Предсказанное значение:23, Индекс предсказанного:25\n",
      "Индекс буквы:3407, Истинное значение:20, Предсказанное значение:22, Индекс предсказанного:5\n",
      "Индекс буквы:3415, Истинное значение:11, Предсказанное значение:8, Индекс предсказанного:48\n",
      "Индекс буквы:3454, Истинное значение:8, Предсказанное значение:11, Индекс предсказанного:86\n",
      "Индекс буквы:3477, Истинное значение:2, Предсказанное значение:11, Индекс предсказанного:86\n",
      "Индекс буквы:3492, Истинное значение:0, Предсказанное значение:16, Индекс предсказанного:20\n",
      "Индекс буквы:3505, Истинное значение:11, Предсказанное значение:8, Индекс предсказанного:48\n",
      "Индекс буквы:3534, Истинное значение:0, Предсказанное значение:16, Индекс предсказанного:20\n",
      "Индекс буквы:3540, Истинное значение:8, Предсказанное значение:11, Индекс предсказанного:86\n",
      "Индекс буквы:3566, Истинное значение:6, Предсказанное значение:16, Индекс предсказанного:20\n",
      "Индекс буквы:3583, Истинное значение:10, Предсказанное значение:1, Индекс предсказанного:3\n",
      "Индекс буквы:3587, Истинное значение:4, Предсказанное значение:19, Индекс предсказанного:45\n",
      "Индекс буквы:3627, Истинное значение:23, Предсказанное значение:18, Индекс предсказанного:8\n",
      "Индекс буквы:3638, Истинное значение:16, Предсказанное значение:0, Индекс предсказанного:27\n",
      "Индекс буквы:3655, Истинное значение:10, Предсказанное значение:22, Индекс предсказанного:5\n",
      "Индекс буквы:3657, Истинное значение:20, Предсказанное значение:13, Индекс предсказанного:6\n",
      "Индекс буквы:3670, Истинное значение:6, Предсказанное значение:16, Индекс предсказанного:20\n",
      "Индекс буквы:3677, Истинное значение:6, Предсказанное значение:0, Индекс предсказанного:27\n",
      "Индекс буквы:3682, Истинное значение:11, Предсказанное значение:8, Индекс предсказанного:48\n",
      "Индекс буквы:3688, Истинное значение:6, Предсказанное значение:0, Индекс предсказанного:27\n",
      "Индекс буквы:3739, Истинное значение:1, Предсказанное значение:8, Индекс предсказанного:48\n",
      "Индекс буквы:3749, Истинное значение:1, Предсказанное значение:4, Индекс предсказанного:18\n",
      "Индекс буквы:3762, Истинное значение:15, Предсказанное значение:16, Индекс предсказанного:20\n",
      "Индекс буквы:3805, Истинное значение:8, Предсказанное значение:11, Индекс предсказанного:86\n",
      "Индекс буквы:3811, Истинное значение:8, Предсказанное значение:11, Индекс предсказанного:86\n",
      "Индекс буквы:3816, Истинное значение:16, Предсказанное значение:6, Индекс предсказанного:7\n",
      "Индекс буквы:3820, Истинное значение:13, Предсказанное значение:7, Индекс предсказанного:64\n",
      "Индекс буквы:3823, Истинное значение:8, Предсказанное значение:11, Индекс предсказанного:86\n",
      "Индекс буквы:3824, Истинное значение:3, Предсказанное значение:14, Индекс предсказанного:28\n",
      "Индекс буквы:3827, Истинное значение:21, Предсказанное значение:24, Индекс предсказанного:33\n",
      "Индекс буквы:3843, Истинное значение:17, Предсказанное значение:19, Индекс предсказанного:45\n",
      "Индекс буквы:3855, Истинное значение:11, Предсказанное значение:8, Индекс предсказанного:48\n",
      "Индекс буквы:3861, Истинное значение:6, Предсказанное значение:16, Индекс предсказанного:20\n",
      "Индекс буквы:3887, Истинное значение:22, Предсказанное значение:10, Индекс предсказанного:9\n",
      "Индекс буквы:3888, Истинное значение:24, Предсказанное значение:0, Индекс предсказанного:27\n",
      "Индекс буквы:3894, Истинное значение:18, Предсказанное значение:5, Индекс предсказанного:12\n",
      "Индекс буквы:3939, Истинное значение:16, Предсказанное значение:6, Индекс предсказанного:7\n",
      "Индекс буквы:3944, Истинное значение:11, Предсказанное значение:8, Индекс предсказанного:48\n",
      "Индекс буквы:3963, Истинное значение:6, Предсказанное значение:2, Индекс предсказанного:129\n",
      "Индекс буквы:3969, Истинное значение:6, Предсказанное значение:16, Индекс предсказанного:20\n",
      "Индекс буквы:3970, Истинное значение:11, Предсказанное значение:8, Индекс предсказанного:48\n",
      "Индекс буквы:3973, Истинное значение:4, Предсказанное значение:2, Индекс предсказанного:129\n",
      "Индекс буквы:3984, Истинное значение:21, Предсказанное значение:20, Индекс предсказанного:24\n",
      "Индекс буквы:3989, Истинное значение:16, Предсказанное значение:3, Индекс предсказанного:0\n",
      "Индекс буквы:3994, Истинное значение:3, Предсказанное значение:14, Индекс предсказанного:28\n",
      "Индекс буквы:4003, Истинное значение:19, Предсказанное значение:5, Индекс предсказанного:12\n",
      "Индекс буквы:4015, Истинное значение:8, Предсказанное значение:11, Индекс предсказанного:86\n",
      "Индекс буквы:4028, Истинное значение:11, Предсказанное значение:8, Индекс предсказанного:48\n",
      "Индекс буквы:4031, Истинное значение:18, Предсказанное значение:0, Индекс предсказанного:27\n",
      "Индекс буквы:4064, Истинное значение:21, Предсказанное значение:20, Индекс предсказанного:24\n",
      "Индекс буквы:4084, Истинное значение:8, Предсказанное значение:11, Индекс предсказанного:86\n",
      "Индекс буквы:4099, Истинное значение:21, Предсказанное значение:20, Индекс предсказанного:24\n",
      "Индекс буквы:4113, Истинное значение:6, Предсказанное значение:16, Индекс предсказанного:20\n",
      "Индекс буквы:4147, Истинное значение:8, Предсказанное значение:11, Индекс предсказанного:86\n",
      "Индекс буквы:4168, Истинное значение:6, Предсказанное значение:16, Индекс предсказанного:20\n",
      "Индекс буквы:4177, Истинное значение:8, Предсказанное значение:11, Индекс предсказанного:86\n",
      "Индекс буквы:4181, Истинное значение:23, Предсказанное значение:13, Индекс предсказанного:6\n",
      "Индекс буквы:4198, Истинное значение:8, Предсказанное значение:11, Индекс предсказанного:86\n",
      "Индекс буквы:4221, Истинное значение:3, Предсказанное значение:14, Индекс предсказанного:28\n",
      "Индекс буквы:4229, Истинное значение:2, Предсказанное значение:4, Индекс предсказанного:18\n",
      "Индекс буквы:4233, Истинное значение:8, Предсказанное значение:11, Индекс предсказанного:86\n",
      "Индекс буквы:4266, Истинное значение:8, Предсказанное значение:11, Индекс предсказанного:86\n",
      "Индекс буквы:4278, Истинное значение:6, Предсказанное значение:2, Индекс предсказанного:129\n",
      "Индекс буквы:4296, Истинное значение:2, Предсказанное значение:4, Индекс предсказанного:18\n",
      "Индекс буквы:4301, Истинное значение:15, Предсказанное значение:1, Индекс предсказанного:3\n",
      "Индекс буквы:4307, Истинное значение:8, Предсказанное значение:11, Индекс предсказанного:86\n",
      "Индекс буквы:4331, Истинное значение:16, Предсказанное значение:4, Индекс предсказанного:18\n",
      "Индекс буквы:4376, Истинное значение:8, Предсказанное значение:11, Индекс предсказанного:86\n",
      "Индекс буквы:4408, Истинное значение:8, Предсказанное значение:9, Индекс предсказанного:15\n",
      "Индекс буквы:4410, Истинное значение:13, Предсказанное значение:23, Индекс предсказанного:25\n",
      "Индекс буквы:4413, Истинное значение:11, Предсказанное значение:2, Индекс предсказанного:129\n",
      "Индекс буквы:4420, Истинное значение:4, Предсказанное значение:5, Индекс предсказанного:12\n",
      "Индекс буквы:4462, Истинное значение:2, Предсказанное значение:4, Индекс предсказанного:18\n",
      "Индекс буквы:4466, Истинное значение:17, Предсказанное значение:2, Индекс предсказанного:129\n",
      "Индекс буквы:4478, Истинное значение:7, Предсказанное значение:23, Индекс предсказанного:25\n",
      "Индекс буквы:4480, Истинное значение:3, Предсказанное значение:14, Индекс предсказанного:28\n",
      "Индекс буквы:4508, Истинное значение:16, Предсказанное значение:6, Индекс предсказанного:7\n",
      "Индекс буквы:4537, Истинное значение:8, Предсказанное значение:11, Индекс предсказанного:86\n",
      "Индекс буквы:4544, Истинное значение:6, Предсказанное значение:16, Индекс предсказанного:20\n",
      "Индекс буквы:4546, Истинное значение:5, Предсказанное значение:19, Индекс предсказанного:45\n",
      "Индекс буквы:4569, Истинное значение:8, Предсказанное значение:11, Индекс предсказанного:86\n",
      "Индекс буквы:4597, Истинное значение:11, Предсказанное значение:8, Индекс предсказанного:48\n",
      "Индекс буквы:4598, Истинное значение:11, Предсказанное значение:8, Индекс предсказанного:48\n",
      "Индекс буквы:4600, Истинное значение:11, Предсказанное значение:8, Индекс предсказанного:48\n",
      "Индекс буквы:4616, Истинное значение:14, Предсказанное значение:3, Индекс предсказанного:0\n",
      "Индекс буквы:4646, Истинное значение:20, Предсказанное значение:21, Индекс предсказанного:17\n",
      "Индекс буквы:4655, Истинное значение:6, Предсказанное значение:16, Индекс предсказанного:20\n",
      "Индекс буквы:4690, Истинное значение:6, Предсказанное значение:16, Индекс предсказанного:20\n",
      "Индекс буквы:4696, Истинное значение:1, Предсказанное значение:16, Индекс предсказанного:20\n",
      "Индекс буквы:4701, Истинное значение:0, Предсказанное значение:16, Индекс предсказанного:20\n",
      "Индекс буквы:4707, Истинное значение:6, Предсказанное значение:0, Индекс предсказанного:27\n",
      "Индекс буквы:4709, Истинное значение:15, Предсказанное значение:8, Индекс предсказанного:48\n",
      "Индекс буквы:4712, Истинное значение:6, Предсказанное значение:16, Индекс предсказанного:20\n",
      "Индекс буквы:4714, Истинное значение:3, Предсказанное значение:14, Индекс предсказанного:28\n",
      "Индекс буквы:4716, Истинное значение:16, Предсказанное значение:6, Индекс предсказанного:7\n",
      "Индекс буквы:4773, Истинное значение:8, Предсказанное значение:11, Индекс предсказанного:86\n",
      "Индекс буквы:4788, Истинное значение:8, Предсказанное значение:11, Индекс предсказанного:86\n",
      "Индекс буквы:4800, Истинное значение:17, Предсказанное значение:0, Индекс предсказанного:27\n",
      "Индекс буквы:4806, Истинное значение:0, Предсказанное значение:15, Индекс предсказанного:1\n",
      "Индекс буквы:4823, Истинное значение:20, Предсказанное значение:24, Индекс предсказанного:33\n",
      "Индекс буквы:4832, Истинное значение:11, Предсказанное значение:8, Индекс предсказанного:48\n",
      "Индекс буквы:4833, Истинное значение:8, Предсказанное значение:11, Индекс предсказанного:86\n",
      "Индекс буквы:4843, Истинное значение:7, Предсказанное значение:11, Индекс предсказанного:86\n",
      "Индекс буквы:4844, Истинное значение:11, Предсказанное значение:8, Индекс предсказанного:48\n",
      "Индекс буквы:4845, Истинное значение:11, Предсказанное значение:8, Индекс предсказанного:48\n",
      "Индекс буквы:4873, Истинное значение:1, Предсказанное значение:19, Индекс предсказанного:45\n",
      "Индекс буквы:4901, Истинное значение:21, Предсказанное значение:20, Индекс предсказанного:24\n",
      "Индекс буквы:4925, Истинное значение:6, Предсказанное значение:16, Индекс предсказанного:20\n",
      "Индекс буквы:4928, Истинное значение:16, Предсказанное значение:22, Индекс предсказанного:5\n",
      "Индекс буквы:4932, Истинное значение:11, Предсказанное значение:8, Индекс предсказанного:48\n",
      "Индекс буквы:4960, Истинное значение:14, Предсказанное значение:3, Индекс предсказанного:0\n",
      "Индекс буквы:4970, Истинное значение:16, Предсказанное значение:24, Индекс предсказанного:33\n",
      "Индекс буквы:4980, Истинное значение:11, Предсказанное значение:8, Индекс предсказанного:48\n",
      "Индекс буквы:4988, Истинное значение:5, Предсказанное значение:19, Индекс предсказанного:45\n",
      "Индекс буквы:4998, Истинное значение:6, Предсказанное значение:18, Индекс предсказанного:8\n",
      "Индекс буквы:5007, Истинное значение:8, Предсказанное значение:11, Индекс предсказанного:86\n",
      "Индекс буквы:5026, Истинное значение:12, Предсказанное значение:22, Индекс предсказанного:5\n",
      "Индекс буквы:5032, Истинное значение:17, Предсказанное значение:4, Индекс предсказанного:18\n",
      "Индекс буквы:5059, Истинное значение:1, Предсказанное значение:14, Индекс предсказанного:28\n",
      "Индекс буквы:5076, Истинное значение:8, Предсказанное значение:11, Индекс предсказанного:86\n",
      "Индекс буквы:5088, Истинное значение:8, Предсказанное значение:11, Индекс предсказанного:86\n",
      "Индекс буквы:5120, Истинное значение:18, Предсказанное значение:1, Индекс предсказанного:3\n",
      "Индекс буквы:5124, Истинное значение:8, Предсказанное значение:11, Индекс предсказанного:86\n",
      "Индекс буквы:5130, Истинное значение:8, Предсказанное значение:11, Индекс предсказанного:86\n",
      "Индекс буквы:5158, Истинное значение:8, Предсказанное значение:11, Индекс предсказанного:86\n",
      "Индекс буквы:5241, Истинное значение:16, Предсказанное значение:6, Индекс предсказанного:7\n",
      "Индекс буквы:5243, Истинное значение:1, Предсказанное значение:3, Индекс предсказанного:0\n",
      "Индекс буквы:5295, Истинное значение:5, Предсказанное значение:24, Индекс предсказанного:33\n",
      "Индекс буквы:5327, Истинное значение:17, Предсказанное значение:13, Индекс предсказанного:6\n",
      "Индекс буквы:5342, Истинное значение:8, Предсказанное значение:11, Индекс предсказанного:86\n",
      "Индекс буквы:5353, Истинное значение:16, Предсказанное значение:6, Индекс предсказанного:7\n",
      "Индекс буквы:5367, Истинное значение:15, Предсказанное значение:16, Индекс предсказанного:20\n",
      "Индекс буквы:5374, Истинное значение:6, Предсказанное значение:16, Индекс предсказанного:20\n",
      "Индекс буквы:5387, Истинное значение:9, Предсказанное значение:19, Индекс предсказанного:45\n",
      "Индекс буквы:5390, Истинное значение:8, Предсказанное значение:9, Индекс предсказанного:15\n",
      "Индекс буквы:5393, Истинное значение:14, Предсказанное значение:3, Индекс предсказанного:0\n",
      "Индекс буквы:5400, Истинное значение:11, Предсказанное значение:8, Индекс предсказанного:48\n",
      "Индекс буквы:5431, Истинное значение:16, Предсказанное значение:6, Индекс предсказанного:7\n",
      "Индекс буквы:5449, Истинное значение:1, Предсказанное значение:25, Индекс предсказанного:4\n",
      "Индекс буквы:5450, Истинное значение:4, Предсказанное значение:2, Индекс предсказанного:129\n",
      "Индекс буквы:5458, Истинное значение:20, Предсказанное значение:24, Индекс предсказанного:33\n",
      "Индекс буквы:5468, Истинное значение:8, Предсказанное значение:9, Индекс предсказанного:15\n",
      "Индекс буквы:5513, Истинное значение:11, Предсказанное значение:8, Индекс предсказанного:48\n",
      "Индекс буквы:5521, Истинное значение:8, Предсказанное значение:11, Индекс предсказанного:86\n",
      "Индекс буквы:5538, Истинное значение:12, Предсказанное значение:13, Индекс предсказанного:6\n",
      "Индекс буквы:5566, Истинное значение:0, Предсказанное значение:16, Индекс предсказанного:20\n",
      "Индекс буквы:5597, Истинное значение:21, Предсказанное значение:13, Индекс предсказанного:6\n",
      "Индекс буквы:5615, Истинное значение:3, Предсказанное значение:15, Индекс предсказанного:1\n",
      "Индекс буквы:5624, Истинное значение:8, Предсказанное значение:11, Индекс предсказанного:86\n",
      "Индекс буквы:5629, Истинное значение:7, Предсказанное значение:13, Индекс предсказанного:6\n",
      "Индекс буквы:5637, Истинное значение:8, Предсказанное значение:9, Индекс предсказанного:15\n",
      "Индекс буквы:5640, Истинное значение:6, Предсказанное значение:16, Индекс предсказанного:20\n",
      "Индекс буквы:5654, Истинное значение:13, Предсказанное значение:12, Индекс предсказанного:19\n",
      "Индекс буквы:5668, Истинное значение:8, Предсказанное значение:11, Индекс предсказанного:86\n",
      "Индекс буквы:5672, Истинное значение:8, Предсказанное значение:11, Индекс предсказанного:86\n",
      "Индекс буквы:5707, Истинное значение:15, Предсказанное значение:17, Индекс предсказанного:10\n",
      "Индекс буквы:5708, Истинное значение:21, Предсказанное значение:20, Индекс предсказанного:24\n",
      "Индекс буквы:5741, Истинное значение:11, Предсказанное значение:8, Индекс предсказанного:48\n",
      "Индекс буквы:5743, Истинное значение:16, Предсказанное значение:6, Индекс предсказанного:7\n",
      "Индекс буквы:5749, Истинное значение:8, Предсказанное значение:11, Индекс предсказанного:86\n",
      "Индекс буквы:5755, Истинное значение:8, Предсказанное значение:11, Индекс предсказанного:86\n",
      "Индекс буквы:5775, Истинное значение:8, Предсказанное значение:11, Индекс предсказанного:86\n",
      "Индекс буквы:5829, Истинное значение:8, Предсказанное значение:11, Индекс предсказанного:86\n",
      "Индекс буквы:5831, Истинное значение:6, Предсказанное значение:16, Индекс предсказанного:20\n",
      "Индекс буквы:5856, Истинное значение:8, Предсказанное значение:11, Индекс предсказанного:86\n",
      "Индекс буквы:5874, Истинное значение:6, Предсказанное значение:16, Индекс предсказанного:20\n",
      "Индекс буквы:5891, Истинное значение:11, Предсказанное значение:8, Индекс предсказанного:48\n",
      "Индекс буквы:5902, Истинное значение:6, Предсказанное значение:16, Индекс предсказанного:20\n",
      "Индекс буквы:5922, Истинное значение:2, Предсказанное значение:4, Индекс предсказанного:18\n",
      "Индекс буквы:5951, Истинное значение:16, Предсказанное значение:14, Индекс предсказанного:28\n",
      "Индекс буквы:5965, Истинное значение:8, Предсказанное значение:11, Индекс предсказанного:86\n",
      "Индекс буквы:5996, Истинное значение:25, Предсказанное значение:19, Индекс предсказанного:45\n",
      "Индекс буквы:6001, Истинное значение:21, Предсказанное значение:20, Индекс предсказанного:24\n",
      "Индекс буквы:6007, Истинное значение:8, Предсказанное значение:11, Индекс предсказанного:86\n",
      "Индекс буквы:6025, Истинное значение:11, Предсказанное значение:8, Индекс предсказанного:48\n",
      "Индекс буквы:6039, Истинное значение:8, Предсказанное значение:11, Индекс предсказанного:86\n",
      "Индекс буквы:6056, Истинное значение:6, Предсказанное значение:0, Индекс предсказанного:27\n",
      "Индекс буквы:6083, Истинное значение:10, Предсказанное значение:24, Индекс предсказанного:33\n",
      "Индекс буквы:6121, Истинное значение:8, Предсказанное значение:11, Индекс предсказанного:86\n",
      "Индекс буквы:6161, Истинное значение:6, Предсказанное значение:16, Индекс предсказанного:20\n",
      "Индекс буквы:6194, Истинное значение:11, Предсказанное значение:8, Индекс предсказанного:48\n",
      "Индекс буквы:6195, Истинное значение:6, Предсказанное значение:16, Индекс предсказанного:20\n",
      "Индекс буквы:6201, Истинное значение:17, Предсказанное значение:13, Индекс предсказанного:6\n",
      "Индекс буквы:6214, Истинное значение:5, Предсказанное значение:25, Индекс предсказанного:4\n",
      "Индекс буквы:6235, Истинное значение:4, Предсказанное значение:2, Индекс предсказанного:129\n",
      "Индекс буквы:6240, Истинное значение:17, Предсказанное значение:5, Индекс предсказанного:12\n",
      "Индекс буквы:6274, Истинное значение:8, Предсказанное значение:11, Индекс предсказанного:86\n",
      "Индекс буквы:6280, Истинное значение:2, Предсказанное значение:4, Индекс предсказанного:18\n",
      "Индекс буквы:6290, Истинное значение:24, Предсказанное значение:20, Индекс предсказанного:24\n",
      "Индекс буквы:6313, Истинное значение:25, Предсказанное значение:13, Индекс предсказанного:6\n",
      "Индекс буквы:6364, Истинное значение:11, Предсказанное значение:8, Индекс предсказанного:48\n",
      "Индекс буквы:6375, Истинное значение:0, Предсказанное значение:16, Индекс предсказанного:20\n",
      "Индекс буквы:6385, Истинное значение:11, Предсказанное значение:8, Индекс предсказанного:48\n",
      "Индекс буквы:6396, Истинное значение:8, Предсказанное значение:9, Индекс предсказанного:15\n",
      "Индекс буквы:6418, Истинное значение:4, Предсказанное значение:18, Индекс предсказанного:8\n",
      "Индекс буквы:6420, Истинное значение:22, Предсказанное значение:21, Индекс предсказанного:17\n",
      "Индекс буквы:6423, Истинное значение:8, Предсказанное значение:11, Индекс предсказанного:86\n",
      "Индекс буквы:6426, Истинное значение:0, Предсказанное значение:4, Индекс предсказанного:18\n",
      "Индекс буквы:6432, Истинное значение:13, Предсказанное значение:21, Индекс предсказанного:17\n",
      "Индекс буквы:6460, Истинное значение:17, Предсказанное значение:13, Индекс предсказанного:6\n",
      "Индекс буквы:6463, Истинное значение:11, Предсказанное значение:8, Индекс предсказанного:48\n",
      "Индекс буквы:6487, Истинное значение:21, Предсказанное значение:24, Индекс предсказанного:33\n",
      "Индекс буквы:6491, Истинное значение:8, Предсказанное значение:11, Индекс предсказанного:86\n",
      "Индекс буквы:6503, Истинное значение:24, Предсказанное значение:23, Индекс предсказанного:25\n",
      "Индекс буквы:6539, Истинное значение:6, Предсказанное значение:18, Индекс предсказанного:8\n",
      "Индекс буквы:6540, Истинное значение:7, Предсказанное значение:1, Индекс предсказанного:3\n",
      "Индекс буквы:6558, Истинное значение:16, Предсказанное значение:6, Индекс предсказанного:7\n",
      "Индекс буквы:6570, Истинное значение:16, Предсказанное значение:6, Индекс предсказанного:7\n",
      "Индекс буквы:6578, Истинное значение:8, Предсказанное значение:11, Индекс предсказанного:86\n",
      "Индекс буквы:6587, Истинное значение:11, Предсказанное значение:8, Индекс предсказанного:48\n",
      "Индекс буквы:6594, Истинное значение:2, Предсказанное значение:4, Индекс предсказанного:18\n",
      "Индекс буквы:6647, Истинное значение:6, Предсказанное значение:18, Индекс предсказанного:8\n",
      "Индекс буквы:6661, Истинное значение:7, Предсказанное значение:23, Индекс предсказанного:25\n",
      "Индекс буквы:6672, Истинное значение:8, Предсказанное значение:11, Индекс предсказанного:86\n",
      "Индекс буквы:6676, Истинное значение:16, Предсказанное значение:6, Индекс предсказанного:7\n",
      "Индекс буквы:6684, Истинное значение:7, Предсказанное значение:5, Индекс предсказанного:12\n",
      "Индекс буквы:6692, Истинное значение:5, Предсказанное значение:15, Индекс предсказанного:1\n",
      "Индекс буквы:6720, Истинное значение:17, Предсказанное значение:0, Индекс предсказанного:27\n",
      "Индекс буквы:6721, Истинное значение:11, Предсказанное значение:8, Индекс предсказанного:48\n",
      "Индекс буквы:6743, Истинное значение:11, Предсказанное значение:22, Индекс предсказанного:5\n",
      "Индекс буквы:6747, Истинное значение:11, Предсказанное значение:8, Индекс предсказанного:48\n",
      "Индекс буквы:6760, Истинное значение:0, Предсказанное значение:16, Индекс предсказанного:20\n",
      "Индекс буквы:6780, Истинное значение:8, Предсказанное значение:11, Индекс предсказанного:86\n",
      "Индекс буквы:6788, Истинное значение:16, Предсказанное значение:6, Индекс предсказанного:7\n",
      "Индекс буквы:6790, Истинное значение:0, Предсказанное значение:12, Индекс предсказанного:19\n",
      "Индекс буквы:6806, Истинное значение:8, Предсказанное значение:11, Индекс предсказанного:86\n",
      "Индекс буквы:6902, Истинное значение:11, Предсказанное значение:8, Индекс предсказанного:48\n",
      "Индекс буквы:6903, Истинное значение:21, Предсказанное значение:24, Индекс предсказанного:33\n",
      "Индекс буквы:6944, Истинное значение:24, Предсказанное значение:21, Индекс предсказанного:17\n",
      "Индекс буквы:6978, Истинное значение:5, Предсказанное значение:9, Индекс предсказанного:15\n",
      "Индекс буквы:6984, Истинное значение:21, Предсказанное значение:20, Индекс предсказанного:24\n",
      "Индекс буквы:6993, Истинное значение:16, Предсказанное значение:0, Индекс предсказанного:27\n",
      "Индекс буквы:7017, Истинное значение:8, Предсказанное значение:11, Индекс предсказанного:86\n",
      "Индекс буквы:7037, Истинное значение:6, Предсказанное значение:16, Индекс предсказанного:20\n",
      "Индекс буквы:7051, Истинное значение:22, Предсказанное значение:13, Индекс предсказанного:6\n",
      "Индекс буквы:7058, Истинное значение:8, Предсказанное значение:11, Индекс предсказанного:86\n",
      "Индекс буквы:7063, Истинное значение:6, Предсказанное значение:16, Индекс предсказанного:20\n",
      "Индекс буквы:7116, Истинное значение:11, Предсказанное значение:8, Индекс предсказанного:48\n",
      "Индекс буквы:7187, Истинное значение:13, Предсказанное значение:7, Индекс предсказанного:64\n",
      "Индекс буквы:7190, Истинное значение:8, Предсказанное значение:11, Индекс предсказанного:86\n",
      "Индекс буквы:7195, Истинное значение:6, Предсказанное значение:16, Индекс предсказанного:20\n",
      "Индекс буквы:7215, Истинное значение:11, Предсказанное значение:8, Индекс предсказанного:48\n",
      "Индекс буквы:7224, Истинное значение:8, Предсказанное значение:11, Индекс предсказанного:86\n",
      "Индекс буквы:7232, Истинное значение:13, Предсказанное значение:12, Индекс предсказанного:19\n",
      "Индекс буквы:7268, Истинное значение:6, Предсказанное значение:16, Индекс предсказанного:20\n",
      "Индекс буквы:7275, Истинное значение:2, Предсказанное значение:11, Индекс предсказанного:86\n",
      "Индекс буквы:7305, Истинное значение:24, Предсказанное значение:21, Индекс предсказанного:17\n",
      "Индекс буквы:7309, Истинное значение:21, Предсказанное значение:9, Индекс предсказанного:15\n",
      "Индекс буквы:7317, Истинное значение:11, Предсказанное значение:8, Индекс предсказанного:48\n",
      "Индекс буквы:7354, Истинное значение:6, Предсказанное значение:16, Индекс предсказанного:20\n",
      "Индекс буквы:7357, Истинное значение:6, Предсказанное значение:16, Индекс предсказанного:20\n",
      "Индекс буквы:7367, Истинное значение:4, Предсказанное значение:19, Индекс предсказанного:45\n",
      "Индекс буквы:7421, Истинное значение:8, Предсказанное значение:11, Индекс предсказанного:86\n",
      "Индекс буквы:7435, Истинное значение:3, Предсказанное значение:14, Индекс предсказанного:28\n",
      "Индекс буквы:7442, Истинное значение:11, Предсказанное значение:8, Индекс предсказанного:48\n",
      "Индекс буквы:7443, Истинное значение:6, Предсказанное значение:16, Индекс предсказанного:20\n",
      "Индекс буквы:7450, Истинное значение:11, Предсказанное значение:8, Индекс предсказанного:48\n",
      "Индекс буквы:7463, Истинное значение:11, Предсказанное значение:8, Индекс предсказанного:48\n",
      "Индекс буквы:7486, Истинное значение:0, Предсказанное значение:16, Индекс предсказанного:20\n",
      "Индекс буквы:7490, Истинное значение:12, Предсказанное значение:13, Индекс предсказанного:6\n",
      "Индекс буквы:7500, Истинное значение:9, Предсказанное значение:21, Индекс предсказанного:17\n",
      "Индекс буквы:7505, Истинное значение:6, Предсказанное значение:16, Индекс предсказанного:20\n",
      "Индекс буквы:7520, Истинное значение:0, Предсказанное значение:16, Индекс предсказанного:20\n",
      "Индекс буквы:7581, Истинное значение:15, Предсказанное значение:5, Индекс предсказанного:12\n",
      "Индекс буквы:7591, Истинное значение:21, Предсказанное значение:22, Индекс предсказанного:5\n",
      "Индекс буквы:7612, Истинное значение:22, Предсказанное значение:20, Индекс предсказанного:24\n",
      "Индекс буквы:7617, Истинное значение:14, Предсказанное значение:3, Индекс предсказанного:0\n",
      "Индекс буквы:7654, Истинное значение:15, Предсказанное значение:24, Индекс предсказанного:33\n",
      "Индекс буквы:7710, Истинное значение:17, Предсказанное значение:16, Индекс предсказанного:20\n",
      "Индекс буквы:7714, Истинное значение:22, Предсказанное значение:20, Индекс предсказанного:24\n",
      "Индекс буквы:7720, Истинное значение:11, Предсказанное значение:8, Индекс предсказанного:48\n",
      "Индекс буквы:7737, Истинное значение:6, Предсказанное значение:16, Индекс предсказанного:20\n",
      "Индекс буквы:7743, Истинное значение:9, Предсказанное значение:8, Индекс предсказанного:48\n",
      "Индекс буквы:7749, Истинное значение:6, Предсказанное значение:16, Индекс предсказанного:20\n",
      "Индекс буквы:7751, Истинное значение:20, Предсказанное значение:24, Индекс предсказанного:33\n",
      "Индекс буквы:7759, Истинное значение:21, Предсказанное значение:20, Индекс предсказанного:24\n",
      "Индекс буквы:7768, Истинное значение:6, Предсказанное значение:0, Индекс предсказанного:27\n",
      "Индекс буквы:7855, Истинное значение:8, Предсказанное значение:11, Индекс предсказанного:86\n",
      "Индекс буквы:7903, Истинное значение:8, Предсказанное значение:11, Индекс предсказанного:86\n",
      "Индекс буквы:7912, Истинное значение:8, Предсказанное значение:11, Индекс предсказанного:86\n",
      "Индекс буквы:7944, Истинное значение:24, Предсказанное значение:17, Индекс предсказанного:10\n",
      "Индекс буквы:7945, Истинное значение:8, Предсказанное значение:11, Индекс предсказанного:86\n",
      "Индекс буквы:7946, Истинное значение:4, Предсказанное значение:25, Индекс предсказанного:4\n",
      "Индекс буквы:7949, Истинное значение:6, Предсказанное значение:16, Индекс предсказанного:20\n",
      "Индекс буквы:7952, Истинное значение:4, Предсказанное значение:0, Индекс предсказанного:27\n",
      "Индекс буквы:7962, Истинное значение:6, Предсказанное значение:16, Индекс предсказанного:20\n",
      "Индекс буквы:7968, Истинное значение:9, Предсказанное значение:18, Индекс предсказанного:8\n",
      "Индекс буквы:7994, Истинное значение:21, Предсказанное значение:24, Индекс предсказанного:33\n",
      "Индекс буквы:7998, Истинное значение:21, Предсказанное значение:20, Индекс предсказанного:24\n",
      "Индекс буквы:8011, Истинное значение:20, Предсказанное значение:22, Индекс предсказанного:5\n",
      "Индекс буквы:8032, Истинное значение:8, Предсказанное значение:9, Индекс предсказанного:15\n",
      "Индекс буквы:8048, Истинное значение:14, Предсказанное значение:3, Индекс предсказанного:0\n",
      "Индекс буквы:8060, Истинное значение:15, Предсказанное значение:19, Индекс предсказанного:45\n",
      "Индекс буквы:8068, Истинное значение:0, Предсказанное значение:16, Индекс предсказанного:20\n",
      "Индекс буквы:8076, Истинное значение:6, Предсказанное значение:16, Индекс предсказанного:20\n",
      "Индекс буквы:8140, Истинное значение:8, Предсказанное значение:11, Индекс предсказанного:86\n",
      "Индекс буквы:8210, Истинное значение:0, Предсказанное значение:19, Индекс предсказанного:45\n",
      "Индекс буквы:8237, Истинное значение:6, Предсказанное значение:16, Индекс предсказанного:20\n",
      "Индекс буквы:8271, Истинное значение:16, Предсказанное значение:5, Индекс предсказанного:12\n",
      "Индекс буквы:8273, Истинное значение:21, Предсказанное значение:20, Индекс предсказанного:24\n",
      "Индекс буквы:8286, Истинное значение:20, Предсказанное значение:21, Индекс предсказанного:17\n",
      "Индекс буквы:8306, Истинное значение:6, Предсказанное значение:16, Индекс предсказанного:20\n",
      "Индекс буквы:8307, Истинное значение:7, Предсказанное значение:13, Индекс предсказанного:6\n",
      "Индекс буквы:8335, Истинное значение:6, Предсказанное значение:15, Индекс предсказанного:1\n",
      "Индекс буквы:8336, Истинное значение:3, Предсказанное значение:14, Индекс предсказанного:28\n",
      "Индекс буквы:8345, Истинное значение:7, Предсказанное значение:13, Индекс предсказанного:6\n",
      "Индекс буквы:8358, Истинное значение:11, Предсказанное значение:8, Индекс предсказанного:48\n",
      "Индекс буквы:8359, Истинное значение:21, Предсказанное значение:20, Индекс предсказанного:24\n",
      "Индекс буквы:8366, Истинное значение:21, Предсказанное значение:20, Индекс предсказанного:24\n",
      "Индекс буквы:8404, Истинное значение:8, Предсказанное значение:11, Индекс предсказанного:86\n",
      "Индекс буквы:8420, Истинное значение:14, Предсказанное значение:1, Индекс предсказанного:3\n",
      "Индекс буквы:8425, Истинное значение:8, Предсказанное значение:11, Индекс предсказанного:86\n",
      "Индекс буквы:8434, Истинное значение:11, Предсказанное значение:8, Индекс предсказанного:48\n",
      "Индекс буквы:8458, Истинное значение:8, Предсказанное значение:11, Индекс предсказанного:86\n",
      "Индекс буквы:8484, Истинное значение:11, Предсказанное значение:8, Индекс предсказанного:48\n",
      "Индекс буквы:8507, Истинное значение:0, Предсказанное значение:14, Индекс предсказанного:28\n",
      "Индекс буквы:8528, Истинное значение:6, Предсказанное значение:16, Индекс предсказанного:20\n",
      "Индекс буквы:8553, Истинное значение:24, Предсказанное значение:20, Индекс предсказанного:24\n",
      "Индекс буквы:8588, Истинное значение:8, Предсказанное значение:11, Индекс предсказанного:86\n",
      "Индекс буквы:8590, Истинное значение:8, Предсказанное значение:11, Индекс предсказанного:86\n",
      "Индекс буквы:8614, Истинное значение:20, Предсказанное значение:24, Индекс предсказанного:33\n",
      "Индекс буквы:8624, Истинное значение:0, Предсказанное значение:22, Индекс предсказанного:5\n",
      "Индекс буквы:8631, Истинное значение:17, Предсказанное значение:23, Индекс предсказанного:25\n",
      "Индекс буквы:8635, Истинное значение:8, Предсказанное значение:25, Индекс предсказанного:4\n",
      "Индекс буквы:8656, Истинное значение:6, Предсказанное значение:16, Индекс предсказанного:20\n",
      "Индекс буквы:8666, Истинное значение:16, Предсказанное значение:6, Индекс предсказанного:7\n",
      "Индекс буквы:8677, Истинное значение:3, Предсказанное значение:14, Индекс предсказанного:28\n",
      "Индекс буквы:8683, Истинное значение:17, Предсказанное значение:4, Индекс предсказанного:18\n",
      "Индекс буквы:8685, Истинное значение:24, Предсказанное значение:21, Индекс предсказанного:17\n",
      "Индекс буквы:8692, Истинное значение:6, Предсказанное значение:9, Индекс предсказанного:15\n",
      "Индекс буквы:8699, Истинное значение:9, Предсказанное значение:18, Индекс предсказанного:8\n",
      "Индекс буквы:8718, Истинное значение:8, Предсказанное значение:11, Индекс предсказанного:86\n",
      "Индекс буквы:8719, Истинное значение:11, Предсказанное значение:21, Индекс предсказанного:17\n",
      "Индекс буквы:8762, Истинное значение:11, Предсказанное значение:8, Индекс предсказанного:48\n",
      "Индекс буквы:8783, Истинное значение:6, Предсказанное значение:16, Индекс предсказанного:20\n",
      "Индекс буквы:8818, Истинное значение:21, Предсказанное значение:20, Индекс предсказанного:24\n",
      "Индекс буквы:8823, Истинное значение:16, Предсказанное значение:6, Индекс предсказанного:7\n",
      "Индекс буквы:8829, Истинное значение:8, Предсказанное значение:11, Индекс предсказанного:86\n",
      "Индекс буквы:8837, Истинное значение:11, Предсказанное значение:8, Индекс предсказанного:48\n",
      "Индекс буквы:8851, Истинное значение:16, Предсказанное значение:6, Индекс предсказанного:7\n",
      "Индекс буквы:8857, Истинное значение:19, Предсказанное значение:24, Индекс предсказанного:33\n",
      "Индекс буквы:8858, Истинное значение:17, Предсказанное значение:2, Индекс предсказанного:129\n",
      "Индекс буквы:8861, Истинное значение:11, Предсказанное значение:8, Индекс предсказанного:48\n",
      "Индекс буквы:8872, Истинное значение:16, Предсказанное значение:0, Индекс предсказанного:27\n",
      "Индекс буквы:8884, Истинное значение:4, Предсказанное значение:20, Индекс предсказанного:24\n",
      "Индекс буквы:8899, Истинное значение:11, Предсказанное значение:8, Индекс предсказанного:48\n",
      "Индекс буквы:8935, Истинное значение:15, Предсказанное значение:11, Индекс предсказанного:86\n",
      "Индекс буквы:8947, Истинное значение:21, Предсказанное значение:24, Индекс предсказанного:33\n",
      "Индекс буквы:8952, Истинное значение:11, Предсказанное значение:8, Индекс предсказанного:48\n",
      "Индекс буквы:8971, Истинное значение:23, Предсказанное значение:24, Индекс предсказанного:33\n",
      "Индекс буквы:8977, Истинное значение:6, Предсказанное значение:16, Индекс предсказанного:20\n",
      "Индекс буквы:8984, Истинное значение:16, Предсказанное значение:6, Индекс предсказанного:7\n",
      "Индекс буквы:9034, Истинное значение:11, Предсказанное значение:8, Индекс предсказанного:48\n",
      "Индекс буквы:9036, Истинное значение:5, Предсказанное значение:18, Индекс предсказанного:8\n",
      "Индекс буквы:9038, Истинное значение:24, Предсказанное значение:16, Индекс предсказанного:20\n",
      "Индекс буквы:9043, Истинное значение:0, Предсказанное значение:13, Индекс предсказанного:6\n",
      "Индекс буквы:9048, Истинное значение:21, Предсказанное значение:24, Индекс предсказанного:33\n",
      "Индекс буквы:9051, Истинное значение:3, Предсказанное значение:11, Индекс предсказанного:86\n",
      "Индекс буквы:9055, Истинное значение:6, Предсказанное значение:16, Индекс предсказанного:20\n",
      "Индекс буквы:9082, Истинное значение:24, Предсказанное значение:20, Индекс предсказанного:24\n",
      "Индекс буквы:9109, Истинное значение:11, Предсказанное значение:8, Индекс предсказанного:48\n",
      "Индекс буквы:9121, Истинное значение:10, Предсказанное значение:23, Индекс предсказанного:25\n",
      "Индекс буквы:9142, Истинное значение:8, Предсказанное значение:9, Индекс предсказанного:15\n",
      "Индекс буквы:9158, Истинное значение:13, Предсказанное значение:12, Индекс предсказанного:19\n",
      "Индекс буквы:9159, Истинное значение:11, Предсказанное значение:8, Индекс предсказанного:48\n",
      "Индекс буквы:9177, Истинное значение:11, Предсказанное значение:8, Индекс предсказанного:48\n",
      "Индекс буквы:9200, Истинное значение:11, Предсказанное значение:4, Индекс предсказанного:18\n",
      "Индекс буквы:9237, Истинное значение:24, Предсказанное значение:20, Индекс предсказанного:24\n",
      "Индекс буквы:9241, Истинное значение:23, Предсказанное значение:0, Индекс предсказанного:27\n",
      "Индекс буквы:9246, Истинное значение:18, Предсказанное значение:14, Индекс предсказанного:28\n",
      "Индекс буквы:9260, Истинное значение:11, Предсказанное значение:8, Индекс предсказанного:48\n",
      "Индекс буквы:9282, Истинное значение:23, Предсказанное значение:24, Индекс предсказанного:33\n",
      "Индекс буквы:9309, Истинное значение:18, Предсказанное значение:3, Индекс предсказанного:0\n",
      "Индекс буквы:9314, Истинное значение:6, Предсказанное значение:16, Индекс предсказанного:20\n",
      "Индекс буквы:9316, Истинное значение:16, Предсказанное значение:6, Индекс предсказанного:7\n",
      "Индекс буквы:9385, Истинное значение:8, Предсказанное значение:11, Индекс предсказанного:86\n",
      "Индекс буквы:9411, Истинное значение:17, Предсказанное значение:19, Индекс предсказанного:45\n",
      "Индекс буквы:9440, Истинное значение:6, Предсказанное значение:16, Индекс предсказанного:20\n",
      "Индекс буквы:9455, Истинное значение:8, Предсказанное значение:11, Индекс предсказанного:86\n",
      "Индекс буквы:9470, Истинное значение:1, Предсказанное значение:25, Индекс предсказанного:4\n",
      "Индекс буквы:9487, Истинное значение:6, Предсказанное значение:15, Индекс предсказанного:1\n",
      "Индекс буквы:9524, Истинное значение:8, Предсказанное значение:11, Индекс предсказанного:86\n",
      "Индекс буквы:9525, Истинное значение:8, Предсказанное значение:11, Индекс предсказанного:86\n",
      "Индекс буквы:9539, Истинное значение:13, Предсказанное значение:0, Индекс предсказанного:27\n",
      "Индекс буквы:9550, Истинное значение:9, Предсказанное значение:11, Индекс предсказанного:86\n",
      "Индекс буквы:9557, Истинное значение:16, Предсказанное значение:0, Индекс предсказанного:27\n",
      "Индекс буквы:9568, Истинное значение:8, Предсказанное значение:11, Индекс предсказанного:86\n",
      "Индекс буквы:9573, Истинное значение:11, Предсказанное значение:8, Индекс предсказанного:48\n",
      "Индекс буквы:9581, Истинное значение:6, Предсказанное значение:16, Индекс предсказанного:20\n",
      "Индекс буквы:9601, Истинное значение:6, Предсказанное значение:16, Индекс предсказанного:20\n",
      "Индекс буквы:9607, Истинное значение:6, Предсказанное значение:16, Индекс предсказанного:20\n",
      "Индекс буквы:9609, Истинное значение:8, Предсказанное значение:9, Индекс предсказанного:15\n",
      "Индекс буквы:9629, Истинное значение:12, Предсказанное значение:22, Индекс предсказанного:5\n",
      "Индекс буквы:9646, Истинное значение:16, Предсказанное значение:6, Индекс предсказанного:7\n",
      "Индекс буквы:9653, Истинное значение:17, Предсказанное значение:21, Индекс предсказанного:17\n",
      "Индекс буквы:9657, Истинное значение:14, Предсказанное значение:0, Индекс предсказанного:27\n",
      "Индекс буквы:9682, Истинное значение:9, Предсказанное значение:5, Индекс предсказанного:12\n",
      "Индекс буквы:9685, Истинное значение:0, Предсказанное значение:3, Индекс предсказанного:0\n",
      "Индекс буквы:9694, Истинное значение:11, Предсказанное значение:8, Индекс предсказанного:48\n",
      "Индекс буквы:9756, Истинное значение:8, Предсказанное значение:11, Индекс предсказанного:86\n",
      "Индекс буквы:9757, Истинное значение:5, Предсказанное значение:19, Индекс предсказанного:45\n",
      "Индекс буквы:9766, Истинное значение:8, Предсказанное значение:11, Индекс предсказанного:86\n",
      "Индекс буквы:9792, Истинное значение:25, Предсказанное значение:15, Индекс предсказанного:1\n",
      "Индекс буквы:9817, Истинное значение:8, Предсказанное значение:11, Индекс предсказанного:86\n",
      "Индекс буквы:9818, Истинное значение:11, Предсказанное значение:8, Индекс предсказанного:48\n",
      "Индекс буквы:9833, Истинное значение:16, Предсказанное значение:14, Индекс предсказанного:28\n",
      "Индекс буквы:9840, Истинное значение:11, Предсказанное значение:8, Индекс предсказанного:48\n",
      "Индекс буквы:9854, Истинное значение:6, Предсказанное значение:16, Индекс предсказанного:20\n",
      "Индекс буквы:9865, Истинное значение:8, Предсказанное значение:11, Индекс предсказанного:86\n",
      "Индекс буквы:9881, Истинное значение:6, Предсказанное значение:16, Индекс предсказанного:20\n",
      "Индекс буквы:9899, Истинное значение:6, Предсказанное значение:16, Индекс предсказанного:20\n",
      "Индекс буквы:9909, Истинное значение:21, Предсказанное значение:24, Индекс предсказанного:33\n",
      "Индекс буквы:9932, Истинное значение:11, Предсказанное значение:8, Индекс предсказанного:48\n",
      "Индекс буквы:9935, Истинное значение:11, Предсказанное значение:8, Индекс предсказанного:48\n",
      "Индекс буквы:9937, Истинное значение:12, Предсказанное значение:13, Индекс предсказанного:6\n",
      "Индекс буквы:9945, Истинное значение:23, Предсказанное значение:24, Индекс предсказанного:33\n",
      "Индекс буквы:9958, Истинное значение:23, Предсказанное значение:13, Индекс предсказанного:6\n",
      "Индекс буквы:10015, Истинное значение:6, Предсказанное значение:16, Индекс предсказанного:20\n",
      "Индекс буквы:10041, Истинное значение:8, Предсказанное значение:9, Индекс предсказанного:15\n",
      "Индекс буквы:10047, Истинное значение:8, Предсказанное значение:19, Индекс предсказанного:45\n",
      "Индекс буквы:10057, Истинное значение:23, Предсказанное значение:25, Индекс предсказанного:4\n",
      "Индекс буквы:10068, Истинное значение:6, Предсказанное значение:16, Индекс предсказанного:20\n",
      "Индекс буквы:10075, Истинное значение:6, Предсказанное значение:16, Индекс предсказанного:20\n",
      "Индекс буквы:10076, Истинное значение:15, Предсказанное значение:3, Индекс предсказанного:0\n",
      "Индекс буквы:10079, Истинное значение:7, Предсказанное значение:0, Индекс предсказанного:27\n",
      "Индекс буквы:10085, Истинное значение:19, Предсказанное значение:24, Индекс предсказанного:33\n",
      "Индекс буквы:10094, Истинное значение:3, Предсказанное значение:0, Индекс предсказанного:27\n",
      "Индекс буквы:10109, Истинное значение:8, Предсказанное значение:11, Индекс предсказанного:86\n",
      "Индекс буквы:10111, Истинное значение:11, Предсказанное значение:8, Индекс предсказанного:48\n",
      "Индекс буквы:10119, Истинное значение:8, Предсказанное значение:11, Индекс предсказанного:86\n",
      "Индекс буквы:10129, Истинное значение:6, Предсказанное значение:16, Индекс предсказанного:20\n",
      "Индекс буквы:10133, Истинное значение:15, Предсказанное значение:3, Индекс предсказанного:0\n",
      "Индекс буквы:10142, Истинное значение:19, Предсказанное значение:5, Индекс предсказанного:12\n",
      "Индекс буквы:10158, Истинное значение:8, Предсказанное значение:11, Индекс предсказанного:86\n",
      "Индекс буквы:10160, Истинное значение:15, Предсказанное значение:5, Индекс предсказанного:12\n",
      "Индекс буквы:10171, Истинное значение:20, Предсказанное значение:21, Индекс предсказанного:17\n",
      "Индекс буквы:10186, Истинное значение:0, Предсказанное значение:13, Индекс предсказанного:6\n",
      "Индекс буквы:10201, Истинное значение:11, Предсказанное значение:8, Индекс предсказанного:48\n",
      "Индекс буквы:10246, Истинное значение:8, Предсказанное значение:9, Индекс предсказанного:15\n",
      "Индекс буквы:10250, Истинное значение:11, Предсказанное значение:8, Индекс предсказанного:48\n",
      "Индекс буквы:10260, Истинное значение:8, Предсказанное значение:11, Индекс предсказанного:86\n",
      "Индекс буквы:10317, Истинное значение:14, Предсказанное значение:20, Индекс предсказанного:24\n",
      "Индекс буквы:10319, Истинное значение:3, Предсказанное значение:15, Индекс предсказанного:1\n",
      "Индекс буквы:10331, Истинное значение:24, Предсказанное значение:21, Индекс предсказанного:17\n",
      "Индекс буквы:10362, Истинное значение:2, Предсказанное значение:4, Индекс предсказанного:18\n",
      "Индекс буквы:10374, Истинное значение:8, Предсказанное значение:11, Индекс предсказанного:86\n",
      "Индекс буквы:10418, Истинное значение:16, Предсказанное значение:6, Индекс предсказанного:7\n",
      "Индекс буквы:10444, Истинное значение:8, Предсказанное значение:11, Индекс предсказанного:86\n",
      "Индекс буквы:10456, Истинное значение:9, Предсказанное значение:20, Индекс предсказанного:24\n",
      "Индекс буквы:10506, Истинное значение:12, Предсказанное значение:13, Индекс предсказанного:6\n",
      "Индекс буквы:10511, Истинное значение:11, Предсказанное значение:8, Индекс предсказанного:48\n",
      "Индекс буквы:10519, Истинное значение:25, Предсказанное значение:23, Индекс предсказанного:25\n",
      "Индекс буквы:10552, Истинное значение:11, Предсказанное значение:8, Индекс предсказанного:48\n",
      "Индекс буквы:10553, Истинное значение:9, Предсказанное значение:19, Индекс предсказанного:45\n",
      "Индекс буквы:10563, Истинное значение:11, Предсказанное значение:8, Индекс предсказанного:48\n",
      "Индекс буквы:10585, Истинное значение:10, Предсказанное значение:16, Индекс предсказанного:20\n",
      "Индекс буквы:10587, Истинное значение:21, Предсказанное значение:20, Индекс предсказанного:24\n",
      "Индекс буквы:10602, Истинное значение:2, Предсказанное значение:20, Индекс предсказанного:24\n",
      "Индекс буквы:10614, Истинное значение:14, Предсказанное значение:20, Индекс предсказанного:24\n",
      "Индекс буквы:10630, Истинное значение:8, Предсказанное значение:11, Индекс предсказанного:86\n",
      "Индекс буквы:10652, Истинное значение:21, Предсказанное значение:24, Индекс предсказанного:33\n",
      "Индекс буквы:10654, Истинное значение:15, Предсказанное значение:3, Индекс предсказанного:0\n",
      "Индекс буквы:10662, Истинное значение:6, Предсказанное значение:16, Индекс предсказанного:20\n",
      "Индекс буквы:10663, Истинное значение:17, Предсказанное значение:2, Индекс предсказанного:129\n",
      "Индекс буквы:10671, Истинное значение:16, Предсказанное значение:0, Индекс предсказанного:27\n",
      "Индекс буквы:10686, Истинное значение:13, Предсказанное значение:22, Индекс предсказанного:5\n",
      "Индекс буквы:10698, Истинное значение:23, Предсказанное значение:24, Индекс предсказанного:33\n",
      "Индекс буквы:10715, Истинное значение:20, Предсказанное значение:21, Индекс предсказанного:17\n",
      "Индекс буквы:10722, Истинное значение:8, Предсказанное значение:11, Индекс предсказанного:86\n",
      "Индекс буквы:10727, Истинное значение:3, Предсказанное значение:16, Индекс предсказанного:20\n",
      "Индекс буквы:10728, Истинное значение:15, Предсказанное значение:4, Индекс предсказанного:18\n",
      "Индекс буквы:10741, Истинное значение:9, Предсказанное значение:3, Индекс предсказанного:0\n",
      "Индекс буквы:10774, Истинное значение:23, Предсказанное значение:19, Индекс предсказанного:45\n",
      "Индекс буквы:10842, Истинное значение:8, Предсказанное значение:11, Индекс предсказанного:86\n",
      "Индекс буквы:10852, Истинное значение:11, Предсказанное значение:8, Индекс предсказанного:48\n",
      "Индекс буквы:10854, Истинное значение:10, Предсказанное значение:19, Индекс предсказанного:45\n",
      "Индекс буквы:10890, Истинное значение:13, Предсказанное значение:0, Индекс предсказанного:27\n",
      "Индекс буквы:10892, Истинное значение:5, Предсказанное значение:4, Индекс предсказанного:18\n",
      "Индекс буквы:10903, Истинное значение:17, Предсказанное значение:21, Индекс предсказанного:17\n",
      "Индекс буквы:10917, Истинное значение:20, Предсказанное значение:24, Индекс предсказанного:33\n",
      "Индекс буквы:10959, Истинное значение:15, Предсказанное значение:22, Индекс предсказанного:5\n",
      "Индекс буквы:10985, Истинное значение:7, Предсказанное значение:11, Индекс предсказанного:86\n",
      "Индекс буквы:10988, Истинное значение:5, Предсказанное значение:15, Индекс предсказанного:1\n",
      "Индекс буквы:10993, Истинное значение:6, Предсказанное значение:18, Индекс предсказанного:8\n",
      "Индекс буквы:11009, Истинное значение:13, Предсказанное значение:12, Индекс предсказанного:19\n",
      "Индекс буквы:11016, Истинное значение:11, Предсказанное значение:8, Индекс предсказанного:48\n",
      "Индекс буквы:11022, Истинное значение:11, Предсказанное значение:8, Индекс предсказанного:48\n",
      "Индекс буквы:11025, Истинное значение:8, Предсказанное значение:9, Индекс предсказанного:15\n",
      "Индекс буквы:11028, Истинное значение:8, Предсказанное значение:11, Индекс предсказанного:86\n",
      "Индекс буквы:11042, Истинное значение:11, Предсказанное значение:8, Индекс предсказанного:48\n",
      "Индекс буквы:11046, Истинное значение:24, Предсказанное значение:17, Индекс предсказанного:10\n",
      "Индекс буквы:11082, Истинное значение:11, Предсказанное значение:8, Индекс предсказанного:48\n",
      "Индекс буквы:11084, Истинное значение:8, Предсказанное значение:11, Индекс предсказанного:86\n",
      "Индекс буквы:11101, Истинное значение:8, Предсказанное значение:11, Индекс предсказанного:86\n",
      "Индекс буквы:11144, Истинное значение:17, Предсказанное значение:4, Индекс предсказанного:18\n",
      "Индекс буквы:11155, Истинное значение:0, Предсказанное значение:4, Индекс предсказанного:18\n",
      "Индекс буквы:11162, Истинное значение:16, Предсказанное значение:6, Индекс предсказанного:7\n",
      "Индекс буквы:11170, Истинное значение:3, Предсказанное значение:14, Индекс предсказанного:28\n",
      "Индекс буквы:11185, Истинное значение:8, Предсказанное значение:11, Индекс предсказанного:86\n",
      "Индекс буквы:11213, Истинное значение:3, Предсказанное значение:1, Индекс предсказанного:3\n",
      "Индекс буквы:11258, Истинное значение:11, Предсказанное значение:8, Индекс предсказанного:48\n",
      "Индекс буквы:11273, Истинное значение:6, Предсказанное значение:16, Индекс предсказанного:20\n",
      "Индекс буквы:11276, Истинное значение:8, Предсказанное значение:11, Индекс предсказанного:86\n",
      "Индекс буквы:11281, Истинное значение:17, Предсказанное значение:24, Индекс предсказанного:33\n",
      "Индекс буквы:11306, Истинное значение:8, Предсказанное значение:9, Индекс предсказанного:15\n",
      "Индекс буквы:11354, Истинное значение:4, Предсказанное значение:25, Индекс предсказанного:4\n",
      "Индекс буквы:11383, Истинное значение:8, Предсказанное значение:11, Индекс предсказанного:86\n",
      "Индекс буквы:11407, Истинное значение:11, Предсказанное значение:8, Индекс предсказанного:48\n",
      "Индекс буквы:11412, Истинное значение:11, Предсказанное значение:8, Индекс предсказанного:48\n",
      "Индекс буквы:11424, Истинное значение:0, Предсказанное значение:6, Индекс предсказанного:7\n",
      "Индекс буквы:11426, Истинное значение:9, Предсказанное значение:18, Индекс предсказанного:8\n",
      "Индекс буквы:11433, Истинное значение:8, Предсказанное значение:9, Индекс предсказанного:15\n",
      "Индекс буквы:11442, Истинное значение:6, Предсказанное значение:16, Индекс предсказанного:20\n",
      "Индекс буквы:11457, Истинное значение:7, Предсказанное значение:11, Индекс предсказанного:86\n",
      "Индекс буквы:11462, Истинное значение:17, Предсказанное значение:5, Индекс предсказанного:12\n",
      "Индекс буквы:11473, Истинное значение:11, Предсказанное значение:8, Индекс предсказанного:48\n",
      "Индекс буквы:11489, Истинное значение:8, Предсказанное значение:9, Индекс предсказанного:15\n",
      "Индекс буквы:11534, Истинное значение:23, Предсказанное значение:25, Индекс предсказанного:4\n",
      "Индекс буквы:11592, Истинное значение:11, Предсказанное значение:8, Индекс предсказанного:48\n",
      "Индекс буквы:11632, Истинное значение:6, Предсказанное значение:18, Индекс предсказанного:8\n",
      "Индекс буквы:11641, Истинное значение:7, Предсказанное значение:1, Индекс предсказанного:3\n",
      "Индекс буквы:11645, Истинное значение:7, Предсказанное значение:12, Индекс предсказанного:19\n",
      "Индекс буквы:11650, Истинное значение:4, Предсказанное значение:18, Индекс предсказанного:8\n",
      "Индекс буквы:11660, Истинное значение:13, Предсказанное значение:12, Индекс предсказанного:19\n",
      "Индекс буквы:11735, Истинное значение:11, Предсказанное значение:8, Индекс предсказанного:48\n",
      "Индекс буквы:11758, Истинное значение:21, Предсказанное значение:20, Индекс предсказанного:24\n",
      "Индекс буквы:11760, Истинное значение:20, Предсказанное значение:21, Индекс предсказанного:17\n",
      "Индекс буквы:11788, Истинное значение:13, Предсказанное значение:12, Индекс предсказанного:19\n",
      "Индекс буквы:11844, Истинное значение:8, Предсказанное значение:9, Индекс предсказанного:15\n",
      "Индекс буквы:11852, Истинное значение:16, Предсказанное значение:0, Индекс предсказанного:27\n",
      "Индекс буквы:11859, Истинное значение:6, Предсказанное значение:16, Индекс предсказанного:20\n",
      "Индекс буквы:11871, Истинное значение:9, Предсказанное значение:6, Индекс предсказанного:7\n",
      "Индекс буквы:11887, Истинное значение:18, Предсказанное значение:6, Индекс предсказанного:7\n",
      "Индекс буквы:11923, Истинное значение:16, Предсказанное значение:5, Индекс предсказанного:12\n",
      "Индекс буквы:11945, Истинное значение:7, Предсказанное значение:11, Индекс предсказанного:86\n",
      "Индекс буквы:11972, Истинное значение:24, Предсказанное значение:21, Индекс предсказанного:17\n",
      "Индекс буквы:11974, Истинное значение:7, Предсказанное значение:11, Индекс предсказанного:86\n",
      "Индекс буквы:11985, Истинное значение:11, Предсказанное значение:8, Индекс предсказанного:48\n",
      "Индекс буквы:11994, Истинное значение:8, Предсказанное значение:11, Индекс предсказанного:86\n",
      "Индекс буквы:12007, Истинное значение:1, Предсказанное значение:3, Индекс предсказанного:0\n",
      "Индекс буквы:12084, Истинное значение:11, Предсказанное значение:8, Индекс предсказанного:48\n",
      "Индекс буквы:12086, Истинное значение:11, Предсказанное значение:8, Индекс предсказанного:48\n",
      "Индекс буквы:12087, Истинное значение:15, Предсказанное значение:4, Индекс предсказанного:18\n",
      "Индекс буквы:12093, Истинное значение:8, Предсказанное значение:11, Индекс предсказанного:86\n",
      "Индекс буквы:12160, Истинное значение:7, Предсказанное значение:13, Индекс предсказанного:6\n",
      "Индекс буквы:12216, Истинное значение:24, Предсказанное значение:17, Индекс предсказанного:10\n",
      "Индекс буквы:12260, Истинное значение:16, Предсказанное значение:8, Индекс предсказанного:48\n",
      "Индекс буквы:12280, Истинное значение:13, Предсказанное значение:12, Индекс предсказанного:19\n",
      "Индекс буквы:12300, Истинное значение:8, Предсказанное значение:11, Индекс предсказанного:86\n",
      "Индекс буквы:12328, Истинное значение:3, Предсказанное значение:15, Индекс предсказанного:1\n",
      "Индекс буквы:12337, Истинное значение:14, Предсказанное значение:20, Индекс предсказанного:24\n",
      "Индекс буквы:12353, Истинное значение:15, Предсказанное значение:4, Индекс предсказанного:18\n",
      "Индекс буквы:12354, Истинное значение:20, Предсказанное значение:13, Индекс предсказанного:6\n",
      "Индекс буквы:12429, Истинное значение:11, Предсказанное значение:8, Индекс предсказанного:48\n",
      "Индекс буквы:12436, Истинное значение:14, Предсказанное значение:3, Индекс предсказанного:0\n",
      "Индекс буквы:12441, Истинное значение:21, Предсказанное значение:20, Индекс предсказанного:24\n",
      "Индекс буквы:12496, Истинное значение:0, Предсказанное значение:5, Индекс предсказанного:12\n",
      "Индекс буквы:12505, Истинное значение:9, Предсказанное значение:7, Индекс предсказанного:64\n",
      "Индекс буквы:12516, Истинное значение:5, Предсказанное значение:0, Индекс предсказанного:27\n",
      "Индекс буквы:12523, Истинное значение:11, Предсказанное значение:8, Индекс предсказанного:48\n",
      "Индекс буквы:12528, Истинное значение:0, Предсказанное значение:16, Индекс предсказанного:20\n",
      "Индекс буквы:12560, Истинное значение:23, Предсказанное значение:17, Индекс предсказанного:10\n",
      "Индекс буквы:12598, Истинное значение:15, Предсказанное значение:5, Индекс предсказанного:12\n",
      "Индекс буквы:12616, Истинное значение:8, Предсказанное значение:11, Индекс предсказанного:86\n",
      "Индекс буквы:12619, Истинное значение:1, Предсказанное значение:11, Индекс предсказанного:86\n",
      "Индекс буквы:12668, Истинное значение:7, Предсказанное значение:11, Индекс предсказанного:86\n",
      "Индекс буквы:12676, Истинное значение:8, Предсказанное значение:11, Индекс предсказанного:86\n",
      "Индекс буквы:12688, Истинное значение:7, Предсказанное значение:0, Индекс предсказанного:27\n",
      "Индекс буквы:12734, Истинное значение:3, Предсказанное значение:14, Индекс предсказанного:28\n",
      "Индекс буквы:12749, Истинное значение:11, Предсказанное значение:8, Индекс предсказанного:48\n",
      "Индекс буквы:12756, Истинное значение:11, Предсказанное значение:19, Индекс предсказанного:45\n",
      "Индекс буквы:12761, Истинное значение:23, Предсказанное значение:0, Индекс предсказанного:27\n",
      "Индекс буквы:12783, Истинное значение:10, Предсказанное значение:7, Индекс предсказанного:64\n",
      "Индекс буквы:12794, Истинное значение:16, Предсказанное значение:6, Индекс предсказанного:7\n",
      "Индекс буквы:12797, Истинное значение:21, Предсказанное значение:20, Индекс предсказанного:24\n",
      "Индекс буквы:12825, Истинное значение:10, Предсказанное значение:24, Индекс предсказанного:33\n",
      "Индекс буквы:12832, Истинное значение:8, Предсказанное значение:11, Индекс предсказанного:86\n",
      "Индекс буквы:12867, Истинное значение:8, Предсказанное значение:25, Индекс предсказанного:4\n",
      "Индекс буквы:12878, Истинное значение:14, Предсказанное значение:3, Индекс предсказанного:0\n",
      "Индекс буквы:12889, Истинное значение:5, Предсказанное значение:18, Индекс предсказанного:8\n",
      "Индекс буквы:12912, Истинное значение:6, Предсказанное значение:5, Индекс предсказанного:12\n",
      "Индекс буквы:12917, Истинное значение:7, Предсказанное значение:11, Индекс предсказанного:86\n",
      "Индекс буквы:12944, Истинное значение:25, Предсказанное значение:6, Индекс предсказанного:7\n",
      "Индекс буквы:12963, Истинное значение:16, Предсказанное значение:6, Индекс предсказанного:7\n",
      "Индекс буквы:12980, Истинное значение:17, Предсказанное значение:0, Индекс предсказанного:27\n",
      "Индекс буквы:12981, Истинное значение:19, Предсказанное значение:5, Индекс предсказанного:12\n",
      "Индекс буквы:12989, Истинное значение:8, Предсказанное значение:11, Индекс предсказанного:86\n",
      "Индекс буквы:12991, Истинное значение:8, Предсказанное значение:11, Индекс предсказанного:86\n"
     ]
    }
   ],
   "source": [
    "for index, value in test_labels_series.items():\n",
    "    if value != predicted_lables[index]:\n",
    "        print('Индекс буквы:%d, Истинное значение:%d, Предсказанное значение:%d, Индекс предсказанного:%s'\n",
    "              % (index, value, predicted_lables[index], np.where(test_labels==predicted_lables[index])[0][0]))\n"
   ]
  },
  {
   "cell_type": "code",
   "execution_count": 571,
   "metadata": {},
   "outputs": [
    {
     "data": {
      "image/png": "[encoded data removed]",
      "text/plain": [
       "<Figure size 500x500 with 2 Axes>"
      ]
     },
     "metadata": {},
     "output_type": "display_data"
    }
   ],
   "source": [
    "plt.figure(figsize=(5,5))\n",
    "list = [20,7]\n",
    "for i in range(len(list)):\n",
    "    plt.title('predicted:%s' % letters[test_labels[list[1]]])\n",
    "    plt.subplot(1,2,i+1)\n",
    "    plt.xticks([])\n",
    "    plt.yticks([])\n",
    "    pic = test_images[list[i]]\n",
    "    plt.imshow(pic.reshape((28, 28)).T, cmap='gray')\n",
    "    plt.xlabel('true:%s' % letters[test_labels[list[i]]])\n",
    "    plt.grid(False)\n",
    "\n",
    "plt.show()"
   ]
  },
  {
   "cell_type": "markdown",
   "metadata": {},
   "source": [
    "Букву q(слева) модель определила как g(справа)"
   ]
  },
  {
   "cell_type": "code",
   "execution_count": 572,
   "metadata": {},
   "outputs": [
    {
     "name": "stdout",
     "output_type": "stream",
     "text": [
      "i l g\n"
     ]
    }
   ],
   "source": [
    "print(letters[8],letters[11],letters[6])"
   ]
  },
  {
   "cell_type": "code",
   "execution_count": 578,
   "metadata": {},
   "outputs": [
    {
     "name": "stdout",
     "output_type": "stream",
     "text": [
      "z s m\n"
     ]
    }
   ],
   "source": [
    "print(letters[25],letters[18],letters[12])"
   ]
  },
  {
   "cell_type": "markdown",
   "metadata": {},
   "source": [
    "2. В целом, модель обучилась равномерно, с некоторыми исключениями. Хуже всего определились буквы i, l, g, лучше всего - буквы z, s и m"
   ]
  },
  {
   "cell_type": "code",
   "execution_count": 591,
   "metadata": {},
   "outputs": [
    {
     "name": "stdout",
     "output_type": "stream",
     "text": [
      "точность детектции буквы i = 0.938000\n",
      "точность детектции буквы l = 1.048000\n",
      "точность детектции буквы g = 0.908000\n"
     ]
    }
   ],
   "source": [
    "worst = [8, 11, 6]\n",
    "for i in worst:\n",
    "    true = len(np.where(predicted_lables==i)[0])\n",
    "    al = len(np.where(test_labels==i)[0])\n",
    "    print('точность детектции буквы %s = %f' % (letters[i], true/al) )"
   ]
  },
  {
   "cell_type": "markdown",
   "metadata": {},
   "source": [
    "Модель нашла не все буквы i и g и неправильно определила несколько букв как l"
   ]
  },
  {
   "cell_type": "code",
   "execution_count": 594,
   "metadata": {},
   "outputs": [
    {
     "name": "stdout",
     "output_type": "stream",
     "text": [
      "точность детектции буквы z = 1.016000\n",
      "точность детектции буквы s = 1.024000\n",
      "точность детектции буквы m = 1.004000\n"
     ]
    }
   ],
   "source": [
    "best = [25, 18, 12]\n",
    "for i in best:\n",
    "    true = len(np.where(predicted_lables==i)[0])\n",
    "    al = len(np.where(test_labels==i)[0])\n",
    "    print('точность детектции буквы %s = %f' % (letters[i], true/al) )"
   ]
  },
  {
   "cell_type": "markdown",
   "metadata": {},
   "source": [
    "Модель неправильно определила несколько букв как z, s и m"
   ]
  },
  {
   "cell_type": "markdown",
   "metadata": {},
   "source": [
    "3. Первая буква фамилии - P"
   ]
  },
  {
   "cell_type": "code",
   "execution_count": 595,
   "metadata": {},
   "outputs": [
    {
     "data": {
      "text/plain": [
       "'p'"
      ]
     },
     "execution_count": 595,
     "metadata": {},
     "output_type": "execute_result"
    }
   ],
   "source": [
    "letters[15]"
   ]
  },
  {
   "cell_type": "code",
   "execution_count": 596,
   "metadata": {},
   "outputs": [
    {
     "name": "stdout",
     "output_type": "stream",
     "text": [
      "точность детекции =  0.974\n"
     ]
    }
   ],
   "source": [
    "print('точность детекции = ', len(np.where(predicted_lables==15)[0])/500)"
   ]
  },
  {
   "cell_type": "markdown",
   "metadata": {},
   "source": [
    "Судя по матрице, модель немного путает букву Р с буквами 2, 3, 4 , 5, 6, 8, 10, 11, 16, 17, 19, 22, 24"
   ]
  },
  {
   "cell_type": "markdown",
   "metadata": {},
   "source": [
    "<h3> Задание 4 </h3>"
   ]
  },
  {
   "cell_type": "code",
   "execution_count": 40,
   "metadata": {},
   "outputs": [],
   "source": [
    "from scipy.ndimage import find_objects,label \n",
    "from scipy.ndimage import imread"
   ]
  },
  {
   "cell_type": "code",
   "execution_count": 49,
   "metadata": {},
   "outputs": [],
   "source": [
    "signs=find_objects(labeled)"
   ]
  },
  {
   "cell_type": "code",
   "execution_count": 59,
   "metadata": {},
   "outputs": [],
   "source": [
    "from PIL import Image\n",
    "img = Image.open(\"m.JPEG\")\n",
    " \n",
    "m = img.convert('1') "
   ]
  },
  {
   "cell_type": "code",
   "execution_count": 57,
   "metadata": {},
   "outputs": [],
   "source": [
    "pix = img.load()"
   ]
  },
  {
   "cell_type": "code",
   "execution_count": 58,
   "metadata": {},
   "outputs": [
    {
     "data": {
      "text/plain": [
       "<PixelAccess at 0x2c69cb30b70>"
      ]
     },
     "execution_count": 58,
     "metadata": {},
     "output_type": "execute_result"
    }
   ],
   "source": [
    "pix"
   ]
  },
  {
   "cell_type": "code",
   "execution_count": 160,
   "metadata": {},
   "outputs": [],
   "source": [
    "my_images = []"
   ]
  },
  {
   "cell_type": "code",
   "execution_count": 161,
   "metadata": {},
   "outputs": [],
   "source": [
    "img = Image.open('m.jpeg') \n",
    "img = img.convert('1') \n",
    "m = [] \n",
    "pix = img.load() \n",
    "for x in range(28): \n",
    "    for y in range(28): \n",
    "        m.append(pix[x,y]) "
   ]
  },
  {
   "cell_type": "code",
   "execution_count": 162,
   "metadata": {},
   "outputs": [],
   "source": [
    "img = Image.open('e.jpeg') \n",
    "img = img.convert('1') \n",
    "e = [] \n",
    "pix = img.load() \n",
    "for x in range(28): \n",
    "    for y in range(28): \n",
    "        e.append(pix[x,y]) "
   ]
  },
  {
   "cell_type": "code",
   "execution_count": 163,
   "metadata": {},
   "outputs": [],
   "source": [
    "img = Image.open('r.jpeg') \n",
    "img = img.convert('1') \n",
    "r = [] \n",
    "pix = img.load() \n",
    "for x in range(28): \n",
    "    for y in range(28): \n",
    "        r.append(pix[x,y]) "
   ]
  },
  {
   "cell_type": "code",
   "execution_count": 164,
   "metadata": {},
   "outputs": [],
   "source": [
    "img = Image.open('s.jpeg') \n",
    "img = img.convert('1') \n",
    "s = [] \n",
    "pix = img.load() \n",
    "for x in range(28): \n",
    "    for y in range(28): \n",
    "        s.append(pix[x,y]) "
   ]
  },
  {
   "cell_type": "code",
   "execution_count": 165,
   "metadata": {},
   "outputs": [],
   "source": [
    "img = Image.open('v.jpeg') \n",
    "img = img.convert('1') \n",
    "v = [] \n",
    "pix = img.load() \n",
    "for x in range(28): \n",
    "    for y in range(28): \n",
    "        v.append(pix[x,y]) "
   ]
  },
  {
   "cell_type": "code",
   "execution_count": 166,
   "metadata": {},
   "outputs": [],
   "source": [
    "m = np.array(m)\n",
    "e = np.array(e)\n",
    "r = np.array(r)\n",
    "s = np.array(s)\n",
    "v = np.array(v)"
   ]
  },
  {
   "cell_type": "code",
   "execution_count": 167,
   "metadata": {},
   "outputs": [],
   "source": [
    "m = m / 255.0\n",
    "e = e / 255.0\n",
    "r = r / 255.0\n",
    "s = s / 255.0\n",
    "v = v / 255.0"
   ]
  },
  {
   "cell_type": "code",
   "execution_count": 168,
   "metadata": {},
   "outputs": [],
   "source": [
    "my_images.append(m)\n",
    "my_images.append(v)\n",
    "my_images.append(e)\n",
    "my_images.append(r)\n",
    "my_images.append(s)\n",
    "\n",
    "my_images=np.array(my_images)"
   ]
  },
  {
   "cell_type": "code",
   "execution_count": 169,
   "metadata": {},
   "outputs": [
    {
     "data": {
      "text/plain": [
       "(5, 784)"
      ]
     },
     "execution_count": 169,
     "metadata": {},
     "output_type": "execute_result"
    }
   ],
   "source": [
    "my_images.shape"
   ]
  },
  {
   "cell_type": "code",
   "execution_count": 170,
   "metadata": {},
   "outputs": [],
   "source": [
    "my_images_2 = my_images.reshape(my_images.shape[0], 28, 28, 1)"
   ]
  },
  {
   "cell_type": "code",
   "execution_count": 179,
   "metadata": {},
   "outputs": [],
   "source": [
    "my_labels = [12, 21, 4, 17, 18]"
   ]
  },
  {
   "cell_type": "code",
   "execution_count": 181,
   "metadata": {},
   "outputs": [],
   "source": [
    "my_predicted_lables = model.predict_classes(my_images_2)"
   ]
  },
  {
   "cell_type": "code",
   "execution_count": 182,
   "metadata": {},
   "outputs": [
    {
     "data": {
      "text/plain": [
       "array([16, 16,  1,  1, 16], dtype=int64)"
      ]
     },
     "execution_count": 182,
     "metadata": {},
     "output_type": "execute_result"
    }
   ],
   "source": [
    "my_predicted_lables"
   ]
  },
  {
   "cell_type": "code",
   "execution_count": 192,
   "metadata": {},
   "outputs": [],
   "source": [
    "my_labels_series = pd.Series(my_labels)"
   ]
  },
  {
   "cell_type": "code",
   "execution_count": 196,
   "metadata": {},
   "outputs": [
    {
     "name": "stdout",
     "output_type": "stream",
     "text": [
      "Индекс буквы:0, Истинное значение:12, Предсказанное значение:16, Индекс предсказанного:20\n",
      "Индекс буквы:1, Истинное значение:21, Предсказанное значение:16, Индекс предсказанного:20\n",
      "Индекс буквы:2, Истинное значение:4, Предсказанное значение:1, Индекс предсказанного:3\n",
      "Индекс буквы:3, Истинное значение:17, Предсказанное значение:1, Индекс предсказанного:3\n",
      "Индекс буквы:4, Истинное значение:18, Предсказанное значение:16, Индекс предсказанного:20\n"
     ]
    }
   ],
   "source": [
    "for index, value in my_labels_series.items():\n",
    "    if value != my_predicted_lables[index]:\n",
    "        print('Индекс буквы:%d, Истинное значение:%d, Предсказанное значение:%d, Индекс предсказанного:%s'\n",
    "              % (index, value, my_predicted_lables[index], np.where(test_labels==my_predicted_lables[index])[0][0]))\n"
   ]
  },
  {
   "cell_type": "markdown",
   "metadata": {},
   "source": [
    "Модель не предсказала ни одного правильного значения :D"
   ]
  },
  {
   "cell_type": "code",
   "execution_count": null,
   "metadata": {},
   "outputs": [],
   "source": []
  }
 ],
 "metadata": {
  "kernelspec": {
   "display_name": "Python 3",
   "language": "python",
   "name": "python3"
  },
  "language_info": {
   "codemirror_mode": {
    "name": "ipython",
    "version": 3
   },
   "file_extension": ".py",
   "mimetype": "text/x-python",
   "name": "python",
   "nbconvert_exporter": "python",
   "pygments_lexer": "ipython3",
   "version": "3.6.7"
  }
 },
 "nbformat": 4,
 "nbformat_minor": 2
}
