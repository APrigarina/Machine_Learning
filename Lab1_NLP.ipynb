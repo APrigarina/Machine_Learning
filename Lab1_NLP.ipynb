{
 "cells": [
  {
   "cell_type": "markdown",
   "metadata": {},
   "source": [
    "# <center> Майнор \"Интеллектуальный анализ данных\" </center>"
   ]
  },
  {
   "cell_type": "markdown",
   "metadata": {},
   "source": [
    "# <center> Курс \"Прикладные задачи анализа данных\" </center>"
   ]
  },
  {
   "cell_type": "markdown",
   "metadata": {},
   "source": [
    "# <center>Лабораторная работа №1. NLP</center>"
   ]
  },
  {
   "cell_type": "markdown",
   "metadata": {},
   "source": [
    "В рамках данной лабораторной работы вам предлагается принять участие в Inclass соревновании на [kaggle](https://www.kaggle.com), в рамках которого необходимо построить модель, которая по тексту комментария определяет его \"токсичность\"."
   ]
  },
  {
   "cell_type": "markdown",
   "metadata": {},
   "source": [
    "## Данные"
   ]
  },
  {
   "cell_type": "markdown",
   "metadata": {},
   "source": [
    "Данные представляют из себя тексты комментариев из Википедии на английском языке.  \n",
    "Сами тексты представлены в столбце **comment_text**.  \n",
    "У каждого комментария также есть уникальный идентификатор - **id**."
   ]
  },
  {
   "cell_type": "markdown",
   "metadata": {},
   "source": [
    "Для каждого комментария известно, обладает ли он токсичностью определенного типа.  \n",
    "Всего есть 6 типов токсичности: toxic, severe_toxic, obscene, threat, insult, identity_hate.  \n",
    "  \n",
    "Каждый из них представлен отдельным столбцом в обучающей выборке со значениями:  \n",
    "* `0` - комментарий не обладает данным типом токсичности  \n",
    "* `1` - обладает.  \n",
    "  \n",
    "Комментарий может одновременно обладать несколькими типами токсичности (а может не обладать ни одним). "
   ]
  },
  {
   "cell_type": "code",
   "execution_count": 1,
   "metadata": {},
   "outputs": [],
   "source": [
    "import pandas as pd\n",
    "import numpy as np\n",
    "import matplotlib.pyplot as plt\n",
    "import seaborn as sns\n",
    "\n",
    "from sklearn.metrics import roc_auc_score\n",
    "\n",
    "from matplotlib import style\n",
    "style.use('seaborn')"
   ]
  },
  {
   "cell_type": "markdown",
   "metadata": {},
   "source": [
    "## Задание"
   ]
  },
  {
   "cell_type": "markdown",
   "metadata": {},
   "source": [
    "### Соревнование"
   ]
  },
  {
   "cell_type": "markdown",
   "metadata": {},
   "source": [
    "Инвайт на участие в соревновании: https://www.kaggle.com/t/604ebef4a0d14cc1983005f1a2950bc1.  \n",
    "Чтобы принять участие, вам необходимо создать аккаунт на kaggle."
   ]
  },
  {
   "cell_type": "markdown",
   "metadata": {},
   "source": [
    "В рамках соревнования на kaggle вам необходимо решить задачу **multilabel** классификации: для каждого комментария и для каждого типа токсичности необходимо определить вероятность того, что данный комментарий обладает этим типом токсичности. "
   ]
  },
  {
   "cell_type": "markdown",
   "metadata": {},
   "source": [
    "Метрикой качества (точности) решения в данном соревновании является **ROC AUC**, усредненная по типам токстичноcти. "
   ]
  },
  {
   "cell_type": "markdown",
   "metadata": {},
   "source": [
    "Для того, чтобы попасть в Leaderscore, нужно создать файл с прогнозами для тестовой выборки (как в `sample_submission.csv`) и выполнить сабмит. В сутки можно сделать до 10 сабмитов. "
   ]
  },
  {
   "cell_type": "markdown",
   "metadata": {},
   "source": [
    "<br>  \n",
    "**NB:** Обратите внимание, что текущий рейтинг (до конца соревнования) строится только на части данных. После окончания соревнования рейтинг будет пересчитан на всех данных и позиции могут измениться.  \n",
    "Вы можете сами выбрать **три** модели (сабмита), которые будут провалидированы на всех данных. По умолчанию будут выбраны три модели, давшие лучший результат в текущем рейтинге. "
   ]
  },
  {
   "cell_type": "markdown",
   "metadata": {},
   "source": [
    "<br>  \n",
    "### Оценивание"
   ]
  },
  {
   "cell_type": "markdown",
   "metadata": {},
   "source": [
    "При выполнении лабораторной и создании моделей для классификации вам неоходимо использовать следующие техники, рассмотренные в рамках курса (но не нужно ограничиваться только ими). За использование каждой выставляется определенный балл. "
   ]
  },
  {
   "cell_type": "markdown",
   "metadata": {},
   "source": [
    "**Note 1:** Все техники не должны обязательно использоваться в одном решении/модели. Вы можете, например, в одной моделе использовать векторизацию и LSA, а в другой эмбединги. "
   ]
  },
  {
   "cell_type": "markdown",
   "metadata": {},
   "source": [
    "**Note 2:** Итоговое количество баллов зависит от того, насколько хорошо вы используете технику. Например, просто взять готовые эмбединги будет оценено ниже, чем обучение своих и/или сравнение различных обученных."
   ]
  },
  {
   "cell_type": "markdown",
   "metadata": {},
   "source": [
    "**Техники и баллы:**  \n",
    "  \n",
    "* Приведение слов к начальной форме (лемматизация/стемминг) - 1 балл\n",
    "* Определение и удаление лишних символов и слов - 2 балла\n",
    "* Векторизация текстов (tf-idf or others) - 1 балл\n",
    "* LSA/LDA - 2 балла\n",
    "* Embeddings (word2vec or others) - 2 балла"
   ]
  },
  {
   "cell_type": "markdown",
   "metadata": {},
   "source": [
    "**Баллы за место в (итоговом) рейтинге:**  \n",
    "  \n",
    "* 1 - 7: 4 балла\n",
    "* 8 - 15: 3 балла\n",
    "* 16 - 30: 2 балла\n",
    "* 31 - 50: 1 балл\n",
    "* Ниже 50 : 0 баллов  \n",
    "  \n",
    "**NB:** По ходу лабораторной в соревновании могу появиться baselines, которые необходимо перешагнуть, чтобы получить определенное количество баллов (т.е. просто места в рейтинге не достаточно). "
   ]
  },
  {
   "cell_type": "markdown",
   "metadata": {},
   "source": [
    "**Баллы за kernels:**  \n",
    "  \n",
    "* Вы можете получить дополнительные баллы, если сделаете и выложите kernel.  \n",
    "* За каждый kernel можно получить до 2-х баллов (зависит от качества и темы).\n",
    "* Возможные темы для kernels: EDA, Topic Modeling, Embeddings, сравнение моделей и т.д.\n"
   ]
  },
  {
   "cell_type": "markdown",
   "metadata": {},
   "source": [
    "**Gradeback:**  \n",
    "  \n",
    "Если итоговая оценка за лабораторную окажется выше 10 баллов, лишние баллы пойдут в бонус как 0.2 за каждый лишний балл. Но не забывайте, что бонус также ограничен 1 баллом."
   ]
  },
  {
   "cell_type": "markdown",
   "metadata": {},
   "source": [
    "## Подготовка данных"
   ]
  },
  {
   "cell_type": "code",
   "execution_count": 3,
   "metadata": {},
   "outputs": [
    {
     "data": {
      "text/html": [
       "<div>\n",
       "<style scoped>\n",
       "    .dataframe tbody tr th:only-of-type {\n",
       "        vertical-align: middle;\n",
       "    }\n",
       "\n",
       "    .dataframe tbody tr th {\n",
       "        vertical-align: top;\n",
       "    }\n",
       "\n",
       "    .dataframe thead th {\n",
       "        text-align: right;\n",
       "    }\n",
       "</style>\n",
       "<table border=\"1\" class=\"dataframe\">\n",
       "  <thead>\n",
       "    <tr style=\"text-align: right;\">\n",
       "      <th></th>\n",
       "      <th>id</th>\n",
       "      <th>comment_text</th>\n",
       "      <th>toxic</th>\n",
       "      <th>severe_toxic</th>\n",
       "      <th>obscene</th>\n",
       "      <th>threat</th>\n",
       "      <th>insult</th>\n",
       "      <th>identity_hate</th>\n",
       "    </tr>\n",
       "  </thead>\n",
       "  <tbody>\n",
       "    <tr>\n",
       "      <th>0</th>\n",
       "      <td>0</td>\n",
       "      <td>Gaelic translation \\n\\nHi, don't suppose you c...</td>\n",
       "      <td>0</td>\n",
       "      <td>0</td>\n",
       "      <td>0</td>\n",
       "      <td>0</td>\n",
       "      <td>0</td>\n",
       "      <td>0</td>\n",
       "    </tr>\n",
       "    <tr>\n",
       "      <th>1</th>\n",
       "      <td>1</td>\n",
       "      <td>Hey dick \\nYou don't know what is copyright so...</td>\n",
       "      <td>1</td>\n",
       "      <td>0</td>\n",
       "      <td>1</td>\n",
       "      <td>0</td>\n",
       "      <td>1</td>\n",
       "      <td>0</td>\n",
       "    </tr>\n",
       "    <tr>\n",
       "      <th>2</th>\n",
       "      <td>2</td>\n",
       "      <td>\"\\n\\nAm I correct in thinking that you are ref...</td>\n",
       "      <td>0</td>\n",
       "      <td>0</td>\n",
       "      <td>0</td>\n",
       "      <td>0</td>\n",
       "      <td>0</td>\n",
       "      <td>0</td>\n",
       "    </tr>\n",
       "    <tr>\n",
       "      <th>3</th>\n",
       "      <td>3</td>\n",
       "      <td>== Notable Alumni == \\n\\n Why was this section...</td>\n",
       "      <td>0</td>\n",
       "      <td>0</td>\n",
       "      <td>0</td>\n",
       "      <td>0</td>\n",
       "      <td>0</td>\n",
       "      <td>0</td>\n",
       "    </tr>\n",
       "    <tr>\n",
       "      <th>4</th>\n",
       "      <td>4</td>\n",
       "      <td>I have already been sent this message about va...</td>\n",
       "      <td>1</td>\n",
       "      <td>0</td>\n",
       "      <td>1</td>\n",
       "      <td>0</td>\n",
       "      <td>1</td>\n",
       "      <td>0</td>\n",
       "    </tr>\n",
       "    <tr>\n",
       "      <th>5</th>\n",
       "      <td>5</td>\n",
       "      <td>== exuse me == \\n\\n i was not attacking someon...</td>\n",
       "      <td>0</td>\n",
       "      <td>0</td>\n",
       "      <td>0</td>\n",
       "      <td>0</td>\n",
       "      <td>0</td>\n",
       "      <td>0</td>\n",
       "    </tr>\n",
       "    <tr>\n",
       "      <th>6</th>\n",
       "      <td>6</td>\n",
       "      <td>:You're welcome, Vernon39! Thanks for your imp...</td>\n",
       "      <td>0</td>\n",
       "      <td>0</td>\n",
       "      <td>0</td>\n",
       "      <td>0</td>\n",
       "      <td>0</td>\n",
       "      <td>0</td>\n",
       "    </tr>\n",
       "    <tr>\n",
       "      <th>7</th>\n",
       "      <td>7</td>\n",
       "      <td>Good point by JonC , legally the name of the s...</td>\n",
       "      <td>0</td>\n",
       "      <td>0</td>\n",
       "      <td>0</td>\n",
       "      <td>0</td>\n",
       "      <td>0</td>\n",
       "      <td>0</td>\n",
       "    </tr>\n",
       "    <tr>\n",
       "      <th>8</th>\n",
       "      <td>8</td>\n",
       "      <td>\"\\nNo such \"\"compromise\"\" was reached on Septe...</td>\n",
       "      <td>0</td>\n",
       "      <td>0</td>\n",
       "      <td>0</td>\n",
       "      <td>0</td>\n",
       "      <td>0</td>\n",
       "      <td>0</td>\n",
       "    </tr>\n",
       "    <tr>\n",
       "      <th>9</th>\n",
       "      <td>9</td>\n",
       "      <td>:::Again, we can't take the unverifiable claim...</td>\n",
       "      <td>0</td>\n",
       "      <td>0</td>\n",
       "      <td>0</td>\n",
       "      <td>0</td>\n",
       "      <td>0</td>\n",
       "      <td>0</td>\n",
       "    </tr>\n",
       "  </tbody>\n",
       "</table>\n",
       "</div>"
      ],
      "text/plain": [
       "   id                                       comment_text  toxic  severe_toxic  \\\n",
       "0   0  Gaelic translation \\n\\nHi, don't suppose you c...      0             0   \n",
       "1   1  Hey dick \\nYou don't know what is copyright so...      1             0   \n",
       "2   2  \"\\n\\nAm I correct in thinking that you are ref...      0             0   \n",
       "3   3  == Notable Alumni == \\n\\n Why was this section...      0             0   \n",
       "4   4  I have already been sent this message about va...      1             0   \n",
       "5   5  == exuse me == \\n\\n i was not attacking someon...      0             0   \n",
       "6   6  :You're welcome, Vernon39! Thanks for your imp...      0             0   \n",
       "7   7  Good point by JonC , legally the name of the s...      0             0   \n",
       "8   8  \"\\nNo such \"\"compromise\"\" was reached on Septe...      0             0   \n",
       "9   9  :::Again, we can't take the unverifiable claim...      0             0   \n",
       "\n",
       "   obscene  threat  insult  identity_hate  \n",
       "0        0       0       0              0  \n",
       "1        1       0       1              0  \n",
       "2        0       0       0              0  \n",
       "3        0       0       0              0  \n",
       "4        1       0       1              0  \n",
       "5        0       0       0              0  \n",
       "6        0       0       0              0  \n",
       "7        0       0       0              0  \n",
       "8        0       0       0              0  \n",
       "9        0       0       0              0  "
      ]
     },
     "execution_count": 3,
     "metadata": {},
     "output_type": "execute_result"
    }
   ],
   "source": [
    "train = pd.read_csv(\"Lab_1/data/train.csv\")\n",
    "train.head(10)"
   ]
  },
  {
   "cell_type": "code",
   "execution_count": 4,
   "metadata": {},
   "outputs": [
    {
     "data": {
      "text/plain": [
       "(150000, 8)"
      ]
     },
     "execution_count": 4,
     "metadata": {},
     "output_type": "execute_result"
    }
   ],
   "source": [
    "train.shape"
   ]
  },
  {
   "cell_type": "code",
   "execution_count": 5,
   "metadata": {},
   "outputs": [
    {
     "data": {
      "text/html": [
       "<div>\n",
       "<style scoped>\n",
       "    .dataframe tbody tr th:only-of-type {\n",
       "        vertical-align: middle;\n",
       "    }\n",
       "\n",
       "    .dataframe tbody tr th {\n",
       "        vertical-align: top;\n",
       "    }\n",
       "\n",
       "    .dataframe thead th {\n",
       "        text-align: right;\n",
       "    }\n",
       "</style>\n",
       "<table border=\"1\" class=\"dataframe\">\n",
       "  <thead>\n",
       "    <tr style=\"text-align: right;\">\n",
       "      <th></th>\n",
       "      <th>id</th>\n",
       "      <th>comment_text</th>\n",
       "    </tr>\n",
       "  </thead>\n",
       "  <tbody>\n",
       "    <tr>\n",
       "      <th>0</th>\n",
       "      <td>150000</td>\n",
       "      <td>Dmacks consitatnly edits other peoples pages a...</td>\n",
       "    </tr>\n",
       "    <tr>\n",
       "      <th>1</th>\n",
       "      <td>150001</td>\n",
       "      <td>== Contested deletion == \\n\\n This article sho...</td>\n",
       "    </tr>\n",
       "    <tr>\n",
       "      <th>2</th>\n",
       "      <td>150002</td>\n",
       "      <td>March 2008\\n Please stop. If you continue to v...</td>\n",
       "    </tr>\n",
       "    <tr>\n",
       "      <th>3</th>\n",
       "      <td>150003</td>\n",
       "      <td>\"}\\n\\nAugust Esperanza Newsletter\\n{| style=\"\"...</td>\n",
       "    </tr>\n",
       "    <tr>\n",
       "      <th>4</th>\n",
       "      <td>150004</td>\n",
       "      <td>William Sledd\\n\\nOK, it is time We Tubers had ...</td>\n",
       "    </tr>\n",
       "    <tr>\n",
       "      <th>5</th>\n",
       "      <td>150005</td>\n",
       "      <td>\"\\n\\n Please apologize: you made a clear mista...</td>\n",
       "    </tr>\n",
       "    <tr>\n",
       "      <th>6</th>\n",
       "      <td>150006</td>\n",
       "      <td>What makes and egg crack? \\n FORCE!!!!!!!!! \\n...</td>\n",
       "    </tr>\n",
       "    <tr>\n",
       "      <th>7</th>\n",
       "      <td>150007</td>\n",
       "      <td>\" \\n :::::No, your comparison is invalid. Your...</td>\n",
       "    </tr>\n",
       "    <tr>\n",
       "      <th>8</th>\n",
       "      <td>150008</td>\n",
       "      <td>The Tree in a Test Tube, 1942 (full).ogv|The T...</td>\n",
       "    </tr>\n",
       "    <tr>\n",
       "      <th>9</th>\n",
       "      <td>150009</td>\n",
       "      <td>:::I should have listened to your advice. Alan...</td>\n",
       "    </tr>\n",
       "  </tbody>\n",
       "</table>\n",
       "</div>"
      ],
      "text/plain": [
       "       id                                       comment_text\n",
       "0  150000  Dmacks consitatnly edits other peoples pages a...\n",
       "1  150001  == Contested deletion == \\n\\n This article sho...\n",
       "2  150002  March 2008\\n Please stop. If you continue to v...\n",
       "3  150003  \"}\\n\\nAugust Esperanza Newsletter\\n{| style=\"\"...\n",
       "4  150004  William Sledd\\n\\nOK, it is time We Tubers had ...\n",
       "5  150005  \"\\n\\n Please apologize: you made a clear mista...\n",
       "6  150006  What makes and egg crack? \\n FORCE!!!!!!!!! \\n...\n",
       "7  150007  \" \\n :::::No, your comparison is invalid. Your...\n",
       "8  150008  The Tree in a Test Tube, 1942 (full).ogv|The T...\n",
       "9  150009  :::I should have listened to your advice. Alan..."
      ]
     },
     "execution_count": 5,
     "metadata": {},
     "output_type": "execute_result"
    }
   ],
   "source": [
    "test = pd.read_csv(\"Lab_1/data/test.csv\")\n",
    "test.head(10)"
   ]
  },
  {
   "cell_type": "code",
   "execution_count": 6,
   "metadata": {},
   "outputs": [
    {
     "data": {
      "text/plain": [
       "(50000, 2)"
      ]
     },
     "execution_count": 6,
     "metadata": {},
     "output_type": "execute_result"
    }
   ],
   "source": [
    "test.shape"
   ]
  },
  {
   "cell_type": "markdown",
   "metadata": {},
   "source": [
    "Посмотрим на распределение типов токсичности. Как видно из графика, комментарии распределены по типам неравномерно, что стоит учитывать при обучении"
   ]
  },
  {
   "cell_type": "code",
   "execution_count": 7,
   "metadata": {},
   "outputs": [
    {
     "data": {
      "text/plain": [
       "<matplotlib.axes._subplots.AxesSubplot at 0x2180000c438>"
      ]
     },
     "execution_count": 7,
     "metadata": {},
     "output_type": "execute_result"
    },
    {
     "data": {
      "image/png": "[encoded data removed]",
      "text/plain": [
       "<matplotlib.figure.Figure at 0x2187d8feb00>"
      ]
     },
     "metadata": {},
     "output_type": "display_data"
    }
   ],
   "source": [
    "train.iloc[:, 2:].sum().plot(kind='bar', rot=45)"
   ]
  },
  {
   "cell_type": "code",
   "execution_count": 7,
   "metadata": {},
   "outputs": [
    {
     "name": "stdout",
     "output_type": "stream",
     "text": [
      "Gaelic translation \n",
      "\n",
      "Hi, don't suppose you could help me out with a Gaelic translation for ? Thanks in advance if you're able to -\n",
      "-------------------------------\n",
      "Hey dick \n",
      "You don't know what is copyright so shutup and get out of here, don't write stupid bullshit on my talk page. Dhivehi language is Dhivehi language not your bullshit nonsese.\n",
      "-------------------------------\n",
      "\"\n",
      "\n",
      "Am I correct in thinking that you are referring to the \"\"shattering of the vessels\"\", first discussed by the Arizal? There is a mention of it there . It might be possible to expand on that.   \"\n",
      "-------------------------------\n",
      "== Notable Alumni == \n",
      "\n",
      " Why was this section all-but-deleted? US has many notable allumni, but currently the only one listed is a teacher who just happened to pitch for the Detroit Tigers a long, long time ago (in a galaxy far, far away?). For one, his son Michael Seelbach currently has a lead role in the Chicago production of Wicked. I understand that it was often vandalized by students of the school, but does that merit the almost complete deletion of it? (ps, it looks like it was deleted a l-o-o-o-o-ng time ago...)\n",
      "-------------------------------\n",
      "I have already been sent this message about vandalism. It wasn't me that did it. It was my brother using the computer. You know what? You dumbass pompous fucks think that IPs and shit always tell the whole story. Fuck off, it wasn't me who did it. And you could clearly see I had been warned. Go fucking kill yourself dumbshit.\n",
      "-------------------------------\n",
      "== exuse me == \n",
      "\n",
      " i was not attacking someones page i was merely makeing it better. done bye hope you die\n",
      "-------------------------------\n",
      ":You're welcome, Vernon39! Thanks for your improvements!\n",
      "-------------------------------\n",
      "Good point by JonC , legally the name of the state was still U.K. of G.B. and I. , but the other point being made is as of a qoute from the declaration itself , this is causing some confusion at this stage . Maybe the direct qoute from the declaration used with citation clearly outlining the issue might be better , some editors might object to the long winded intro , its an odd bin alright .\n",
      "-------------------------------\n",
      "\"\n",
      "No such \"\"compromise\"\" was reached on September 26 and no such \"\"consensus\"\" exists.   \"\n",
      "-------------------------------\n",
      ":::Again, we can't take the unverifiable claims of anons alone. If you really think there needs to be a criticism section, you need to find a RELIABLE source to back up your claims.\n",
      "-------------------------------\n",
      "Maybe we should just add something about that, linking to diffraction and aberrations.\n",
      "-------------------------------\n",
      "\"\n",
      "Source? —  (talk2me) \n",
      "\n",
      "Born This Way Sales\n",
      "Gaga confirm that BTW sales are more than 5 million not 2  (http://twitter.com/#!/ladygaga/status/83643608376418304)  — Preceding unsigned comment added by 190.250.192.85   \n",
      "Not a reliable source. —  (talk2me) \"\n",
      "-------------------------------\n",
      "\"\n",
      "See section above; the second episode is called \"\"The End of Time\"\" for definite. At this stage we really should be following what we had for Journey's End before the title The Stolen Earth was revealed.   \"\n",
      "-------------------------------\n",
      "/* Im gay and im Proud */  \n",
      "\n",
      "Listen every one i recently came out of the closet and came out as a homosexual and i have just told my parents this ....HOOORRAY BEER!!!!!!!!\n",
      "\n",
      " The VaNdAl\n",
      "-------------------------------\n",
      "Well, sure. I'd be glad to help someone, And I think I'd be able to use context clues to punch my way through the French. I'll take a look.\n",
      "-------------------------------\n",
      "\"\n",
      "A name being \"\"controversial\"\" even among the usual corps of factional religious zealots who decide to descend on this page in particular, is NOT a valid reason for breaking Wikipedia Naming policy which clearly mandates Catholic Church as the title. And it has been clearly proven by objective research that Catholic Church is NOT ambiguous, but is the principal common name used for this entity. Like most of the persons coming here to support changing the name to RCC, you have totally ignored the relevant Wikipedia Naming Policies and the research gathered over the 12 months of the official decision debate. That is one reason why most of the \"\"drive-by\"\" support contributions here are invalid. They merely promote sectional viewpoints and do not engage with Wikipedia naming policies and the facts supporting the decision taken on those grounds. Simply coming here and saying that you \"\"prefer\"\" RCC has no bearing on the relevant process.  Xandar  \"\n",
      "-------------------------------\n",
      "\"\n",
      "\n",
      "Do NOT call this series \"\"Onegai Sensei\"\". If it were called \"\"Onegai Sensei\"\" it would be titled \"\"おねがい☆先生\"\". But it isn't, it is titled \"\"おねがい☆ティーチャー\"\", note the katakana reads \"\"tei-cha\"\". The katakana is derived from the English word 'teacher', thus it is known as \"\"Onegai Teacher\"\". Those who do call it \"\"Onegai Sensei\"\" have literally took the English word 'teacher', and then translated back into Japanese, and romanized it once again into 'sensei', which if you think about it, is just their way to show off that they know a little Japanese. \"\n",
      "-------------------------------\n",
      "I note these comments were made some time ago, but the section on the Investigations remains unchanged. I am willing to attempt a total rewrite of the section and will put the version here first for discussion.\n",
      "-------------------------------\n",
      "\" \n",
      "\n",
      " : You asked multiple questions and complained that a candidate who hadn't answered them was passing; you were pulled up on it; you started an RfC asking if multiple questions should be barred; you responded, when questioned on this, that you were annoyed that the candidate didn't respond favourably to being asked multiple questions. Those are the facts, and it is disingenuous to suggest that your actions prior to raising said RfC have nothing to do with it. I don't consider a three-sentence response to be \"\"aggressive\"\": blunt, certainly, but it wouldn't have benefited anyone for me to have made the same point in more words.   \"\n",
      "-------------------------------\n",
      "Image:Riggs629.jpg\n",
      "I have tagged Image:Riggs629.jpg as , because it does not provide a fair use rationale.  If you believe the image to be acceptable for fair use according to Wikipedia policy, please provide a rationale explaining as much, in accordance with the fair use rationale guideline, on the image description page.  Please also consider using  or one of the other tags listed at Wikipedia:Image copyright tags#Fair_use.  Thank you.\n",
      "-------------------------------\n",
      "==Table re-formatting== \n",
      " I started merging the 2 tables per event into one today, and standardizing their formatting. Am about 1/2-way through (did 50 free through 100 breast so far). Will be back to finish the rest. -\n",
      "-------------------------------\n",
      ":Also agree...poor move.\n",
      "-------------------------------\n",
      "Sockpuppet investigation. \n",
      "\n",
      "[Wikipedia:Sockpuppet investigations/Valvehueme] I have reported you for suspected abuse of multiple accounts.\n",
      "-------------------------------\n",
      "\" \n",
      " :::No you are quite right, in the field of stats that is correctly called \"\"bias\"\". -   \"\n",
      "-------------------------------\n",
      "\"\n",
      "\n",
      "What about the many readers who will be frustrated by not having a direct link to number-one films in countries other than these? The \"\"English\"\" in \"\"English Wikipedia\"\" means that this encyclopedia is written for anyone who can read English. There are more such people in Asia than in North America, more in continental Europe than in the United Kingdom, and more in Africa than in Australasia. And, even if that was not the case, why assume that readers in a particular country will be more interested in articles about their own country than in those about other countries? I read an encyclopedia to broaden my knowledge, not to read about parochial matters, and I would hope that the same goes for other readers.   \"\n",
      "-------------------------------\n",
      "List ommissions \n",
      "\n",
      " Travis Henry\n",
      " Cadillac Anderson\n",
      " Jody Morris\n",
      "\n",
      "An probably a whole bunch of people in Category:Sports controversies and its subcats.\n",
      "-------------------------------\n",
      "Hi,\n",
      "\n",
      "Taekkyeon is a sensitive topic because many people want to learn it and not enough qualified teachers to disperse the knowledge. If you truly desire to learn Taekkyeon there are only two masters in the world who know the complete system. One is in S. Korea, he doesn't teach many people. The other lives in Los Angeles, CA. The truth is, you have to either move to Los Angeles or S. Korea if you want to learn the Taekkyeon as taught by GM Song and Im Ho. \n",
      "I will tell you this. GM Song was a bodyguard of the remaining Choson Dynasty family memebers. The top Taekkyeon masters always defended the king, They were in the military. Taekkyeon was a military artform first and a civil cultural game for children and adults later. By calling Taekkyeon a civil martial art game is demoting it from its real status. However, Taekkyeon is still a Holistic Martial art with many healing aspects and a civil game for children and adults. Its all three!\n",
      "Please consider me a friend. Which Taekkyeon association are you affiliated with?\n",
      "-------------------------------\n",
      "Murtuza Didn't get the memo \n",
      "\n",
      "This is an Cellular IP that is randomly assigned and changes frequently (1 Day at best). Messages are likely to not be received if they are posted more than a couple of hours within the last post.\n",
      "-------------------------------\n",
      "This is a non-issue, and this discussion is completely outrageous.\n",
      "-------------------------------\n",
      "\"\n",
      "\n",
      " \"\"...at first cleansing the countryside\"\" \n",
      "\n",
      "\"\"In the six months following Stirling Bridge, Wallace led a force to York, at first cleansing the countryside...\"\"\n",
      "\n",
      "This is such a touching reference to genocide that I cannot let it pass. If you're going to write history then you're going to have to stop making weasel comments excusing wanton killing of civilians whose only crime was to be born English. If I remember rightly, Mel Gibson's \"\"Braveheart\"\" did the same trick of mentioning this ethnic cleansing as a segue between scenes. It's just as morally reprehensible as the English doing this to the Scots, or Serbs doing this to Croats or...you get the idea.\n",
      "\n",
      "On the other hand, if you're writing blatent propaganda then this is as good a place as any. I'm sure that Wikipedia's admins will support you, because they don't know any better.\n",
      " \"\n",
      "-------------------------------\n",
      "== File:Elyse2.jpg listed for deletion == \n",
      " An image or media file that you uploaded or altered, File:Elyse2.jpg, has been listed at Wikipedia:Files for deletion. Please see the discussion to see why this is (you may have to search for the title of the image to find its entry), if you are interested in it not being deleted.\n",
      "-------------------------------\n",
      "Speedy tag removed as it establishes notability. My apologies for the speedy.\n",
      "-------------------------------\n",
      "Elliott Castro \n",
      "\n",
      "What stops you from adding the sources yourself? It seems that you just want to be a deletionist rather than improve Wikipedia. You need to get familiarized with Wikipedia's ignore all rules policy. Be constructive, not destructive. You have the option to improve Wikipedia but you are choosing the wrong path and wrong actions. Here, let me help you out. You can also use an online translator such as Google's in case you don't speak Spanish. There's no reason whatsoever to propose a deletion on this article. Ball is in your court.\n",
      "-------------------------------\n",
      "And it was a perfectly valid question as Brad has this habit of turning up, waving his wand and then disappearing without trace.  This block is punitive and pointless.\n",
      "-------------------------------\n",
      "\"\n",
      "\n",
      " Unai Emery - Part 2 \n",
      "\n",
      "Of course, you had every right to compose intro of this article after my \"\"raid\"\", because when I wrote it Sevilla was not yet qualified to the final, I had no business writing that based on a hunch. All in all, though, marvellous European week, Real Madrid out (in Portuguese footy forums, the Ronaldo lovers have yet to acknowledge a poor/subpar performance from this player, yesterday was another one in the eyes of anyone who is not blinded by the preternatural light that emanates from this superior being and actually KNOWS how to watch a game of football!), Napoli out, Fiorentina out (the latter fielded ZERO Italian players both hands combined, in the first leg including three subs!), from BAY-BAR I had no preference whatsoever.\n",
      "\n",
      "Of course, you know for who (the vast majority of) my countrymen are now rooting in the CL final, no? I'll give you a club, starts with a \"\"J\"\"... Best regards 84.90.219.128  \"\n",
      "-------------------------------\n",
      "\" \n",
      "\n",
      " ::Merge carried out. I will incorporate some of the content from the old Frontal lobe injury page. But it was all poorly referenced (non-academic websites) so it will mostly be a re-write/new additions. \"\"Damage to the Frontal Lobe\"\" page now redirects to here.  \"\n",
      "-------------------------------\n",
      "Love,\n",
      "                           Kaitlyn \n",
      "                            Purvis\n",
      "-------------------------------\n",
      "\"\n",
      "\"\"I hope I can rely on you. Thanks. SpongerJack.  \"\" He did. Same one who's been commenting above. See SpongerJack's user talk page for the other Checkuser confirmed socks. BH \"\n",
      "-------------------------------\n",
      "\"No, you are censoring Jewish human rights groups and whitewashing an article about Judeophobic ethnic cleansing committed by Arabs while at the same time adding Arab propaganda denying the real Nakba, the Jewish Nakba, in order to promote your Arab nationalist agenda. Wikipedia already has enough problems with its Israelophobic bias, so people like you and Zero0000 should stay off this article. I recognize that you two regularly write Arab nationalist propaganda for Wikipedia. And how is this an \"\"Arab conspiracy\"\"? The Arabs make no attempt to conceal their desire to \"\"kick the Jews into the sea\"\" and destroy Israel. Denying this fact is equivalent to Holocaust denial.\n",
      "\n",
      "\"\n",
      "-------------------------------\n",
      "==Category== \n",
      " As far as I could I put the articles now in the subcategories and also created some new subcategories Category:Districts of Iraq. Cat. Baghadad would need move to Cat. Baghdad Governorate.\n",
      "-------------------------------\n",
      "\" \n",
      "\n",
      "  \n",
      " ==Agia Sofia== \n",
      "\n",
      " I find it hard to believe that an intelligent person could be making such asinine edits. Of course Agia Sofia could mean \"\"Saint Sophia'', but the fact is that it doesn't. Sophia is a very minor saint and I have never seen it suggested that the basilica was named for her. Its name is the Church of the Holy Wisdom and that's all that needs to be said.  \"\n",
      "-------------------------------\n",
      "\" \n",
      " ::::And your edit is grammatically incorrect (what the hell is a \"\"Chinese Communists propaganda film\"\"?) in the first place. I'm not going to do anything, just in case I become accused of edit warring. Find a better way to word the lede.  | —  email \"\n",
      "-------------------------------\n",
      "Please stop. If you continue to vandalise the other pages, as you did to Claudette Colbert, you will be blocked.\n",
      "\n",
      "Colbert had two husbands. She divorced the first husband immediately. She lost the second husband. Therefore, she was a widow.\n",
      "Spouse(s), Norman Foster (1928-1935), \n",
      "Dr. Joel Pressman (1935 – his death in 1968),\n",
      "She was interred beside her second husband.\n",
      " \n",
      "Because it erased a public fact for a personal thought, is not it destruction?\n",
      "-------------------------------\n",
      "\"\n",
      "\n",
      " F*** OFF! \n",
      "\n",
      "THERE F***ING IS A BLU-RAY VERSION OF \"\"Fantasia\"\" COMING OUT, NOW F*** OFF AND LEAVE ME ALONE! YOU'RE A F***ING BRITISH GUY WHO DOESN'T GET ANYTHING THAT GOES ON IN AMERICA!  \"\n",
      "-------------------------------\n",
      "::Gniniv says he's retired. We shall see - there was a possibility he would have ended up banned (see the discussion at ANI). Funny, the quote from from someone described as an anti-Creationist.\n",
      "-------------------------------\n",
      "\" November 2005 (UTC)\n",
      "\n",
      "Sigh, if there is a dispute over whether the dispute is active then clearly there is a dispute. Also note proponents of \"\"conspiracy theory\"\" (aka propagandists) have so far refused to debate.  T 01:25, 24\"\n",
      "-------------------------------\n",
      "Stamp Act \n",
      "\n",
      "I have been working on a revision of this article for a while and probably should have noted that on the article's discussion page.  I am about ready to add what would be a major revision but I noticed that you were in the process today of making improvements.  Please check out what I've done so far at\n",
      "-------------------------------\n",
      "Hip Hop is dead \n",
      "\n",
      "Hip Hop is dead because they don't,only talk about money,cars and other things.Crunk kills hip hop and the south.That ain't hip hop\n",
      "\n",
      "link title\n",
      "-------------------------------\n",
      "\" \n",
      " ::I agree with Ernest the Sheep and I think that the repeated reversals by  were not well considered. Hammond, according to her own words, \"\"was conceived in England, born in New Zealand, and raised in Australia.\"\" This is properly reflected in the body of her article; that she was born in New Zealand, 6 months before she and her mother followed her father, who had left for Sydney even earlier, does not belong in the lead (or be the basis for any categorisation, which thankfully it currently is not).    \"\n",
      "-------------------------------\n",
      "==Ragweed== \n",
      " Zwobot just added a bunch of interwiki links that had been removed manually recently. Some of the articles (e.g. de:Beifußblättriges Traubenkraut) are on the species Ambrosia artemisiifolia while en:Ragweed is about the genus Ambrosia. The bots are really cool, but once we have some wrong interwiki links they propagate quickly and they are hard to get rid of. Kinda like ragweed, actually -).\n",
      "-------------------------------\n",
      "There are transfers of votes upon elimination in IRV.  That is a verifiable fact.  There are no transfers of votes in IBR upon elimination and that is a verifiable fact. This distinction needs to be made because they are two different bodies of data. Sensible people do care about differences and care about facts.  18:10, 12 Apr 2005 (UTC)\n",
      "-------------------------------\n",
      "NAMBLA\n",
      "\n",
      "You think people like corax, and clayboy don't have any aim in posting in the NAMBLA and pedophile pages?\n",
      "-------------------------------\n",
      "I got refresh 4 times faggot.\n",
      "-------------------------------\n",
      "\" \n",
      "\n",
      " :I removed your mention of Lawrence's homosexuality because it is a disputed issue, not because of my personal opinion on that sexual identity (I don't have a problem with it). Not all sources agree that he was gay, and he most certainly was not an out or \"\"proud\"\" homosexual. Furthermore, you added it in a way that made it say he was famous for being homosexual. This is not supported by sources. Thank you,   \"\n",
      "-------------------------------\n",
      "It's a shame that you've had deleted my subject already.. Well, sorry about anything but at least let me know if there is someplace that might interested & appreciated to discuss about my subject of interest about Rodimus Prime for the movie sequel. Thanks before.\n",
      "-------------------------------\n",
      "\"\n",
      "Oh, forgot to respond here. It's been removed. Thanks for bringing this up. vecia \"\n",
      "-------------------------------\n",
      "This user is a fucking douche bag\n",
      "-------------------------------\n",
      "I did quote a good source \n",
      "\n",
      "I quoted QRZ.COM which is an amateur radio callsign database and I also linked to Tim Gaines's Amateur radio website. Your apology is expected promptly and my changes will be restored, or you will be talking with my attorney!\n",
      "-------------------------------\n",
      "== Semi-protected edit request on 10 February 2014 == \n",
      "\n",
      "  \n",
      "\n",
      " to say miley is slutty dirtbag \n",
      "\n",
      "    \n",
      " s\n",
      "-------------------------------\n",
      "Thank you for experimenting with  Wikipedia. Your test worked, and it has been reverted or removed. Please use the sandbox for any other tests you may want to do. Take a look at the welcome page to learn more about contributing to our encyclopedia. -  (会話)\n",
      "-------------------------------\n",
      "Hi\n",
      "\n",
      "Believe it or not, I don't enjoy cruising onto your talk page. I know the natural reaction is to treat me like a troll, but I am not. I want a debate; I want to discuss some of the issues I brought up with you. Why not do it via email? I am orrelon@hotmail.com\n",
      "-------------------------------\n",
      "Even better would be if those two drawing would have the same color for the rings as the animation at the top of the wiki article. I.e. the inner ring red, the middle ring blue, and the outer ring gold or yellow.\n",
      "-------------------------------\n",
      "== Singular/plural == \n",
      "\n",
      " I think some editing is needed in this article  Chintz just means chints so most of the singular references to Chintz could/should just say chint?\n",
      "-------------------------------\n",
      "Socialist! They must be telling lies.\n",
      "-------------------------------\n",
      "IT IS 95% WORD-FOR-WORD FROM THE PHILADELPHIA INQUIRER ARTICLE WITH NO ORIGINAL WRITING. THAT IS COPYVIO/PLAGIARISM.\n",
      "-------------------------------\n",
      "\" \n",
      " ::::::::: 5? I wish we were allowed to do 5... Stupid headmaster. I hate him. e  \"\n",
      "-------------------------------\n",
      "\"\n",
      "\n",
      "The sources aren't good, but my removal of \"\"Sarin\"\" was hasty. The star actually have such a traditional name. I restored it.  dixit. (mbork3!) \"\n",
      "-------------------------------\n",
      "I totally agree with Jeremy Butler. Oliver Bronson\n",
      "-------------------------------\n",
      ":Absolutely! I removed them last week but they crept back in. It's fixed now.\n",
      "-------------------------------\n",
      "== 粟裕的照片后续问题 == \n",
      "\n",
      " 粟裕条目的照片后续问题，即原来的那张开头照片被shizhao从共享资源里删除了，请问您知否指导相关问题，以及是否能重新上传一下那张照片？虽然这张照片最初并不是您上传的。\n",
      "-------------------------------\n",
      "\"==Please Remove Block Placed by Drmies==\n",
      "\n",
      "\"\n",
      "-------------------------------\n",
      "Because it's standardized layout?\n",
      "-------------------------------\n",
      "==Off== \n",
      " I'm gonna be off soon after a couple of articles have passsed GA. I may return with my ISP address occasionally to have a laugh, and wind a couple of tits up. See ya in Brat-fud.\n",
      "-------------------------------\n",
      "\"\n",
      "\n",
      "  : First of all, this is not an encyclopedia, but an farce being perpetrated on the public in the name of \"\"free open content\"\" encyclopedia. Its not free and open because there are people like you playing God and deciding which piece of content stays and which doesn't, and the decision is based entirely on your beliefs and prejudices. When someone goes against these established beliefs by stating non-obvious things like the \"\"truth\"\" you dont like it and smote it down within an instant. I used to like wikipedia initially, and did make edits which were facts but the things that people (administrators) didn't like to hear were taken down. Now I just make edits for fun and waste your time. Offline, I preach against using wikipedia and I did manage to convince a few people. This is dangerous thing and should be taken down ASAP. Also, I don't need to prove anything to you. Next time I decide to play vandal, I will just use another IP. \n",
      "\n",
      "  P.S: I dont deny that there is genuine vandalism, and that I have done so on some occasions. But only after my attempts to make \"\"valid\"\" contributions were reverted and\"\n",
      "-------------------------------\n",
      "|imageneeded=yes |imagedetails=A photograph of the grounds, preferably one each from the interior and exterior. |infoboxneeded=yes\n",
      "-------------------------------\n",
      "\" \n",
      "\n",
      " == Halliday == \n",
      "\n",
      " Good to see another contributor to his article. If SFL is your thing, you might consider joining the Wikipedia:WikiProject_Linguistics/SFLSFL taskforce. Thanks.   \"\n",
      "-------------------------------\n",
      "I BLOCKED REVERS! I BLOCKED REVERS! I BLOCKED REVERS! I BLOCKED REVERS! I BLOCKED REVERS! I BLOCKED REVERS! I BLOCKED REVERS! I BLOCKED REVERS! I BLOCKED REVERS! I BLOCKED REVERS! I BLOCKED REVERS! I BLOCKED REVERS! I BLOCKED REVERS! I BLOCKED REVERS! I BLOCKED REVERS! I BLOCKED REVERS! I BLOCKED REVERS! I BLOCKED REVERS! I BLOCKED REVERS! I BLOCKED REVERS! I BLOCKED REVERS! I BLOCKED REVERS! I BLOCKED REVERS! I BLOCKED REVERS! I BLOCKED REVERS! I BLOCKED REVERS! I BLOCKED REVERS! I BLOCKED REVERS! I BLOCKED REVERS! I BLOCKED REVERS! I BLOCKED REVERS! I BLOCKED REVERS! I BLOCKED REVERS! I BLOCKED REVERS! I BLOCKED REVERS!\n",
      "-------------------------------\n",
      "It is obvious, if you look at the history. The subjects birth date, etc. should not be removed. The encyclopedic form has repeatedly been reduced in favor of resume/fan site material.\n",
      "-------------------------------\n",
      "Hey, you're not the only Irishman editing this damn thing ;-)\n",
      "-------------------------------\n",
      "If in anyone's judgement a Pulitzer prize winning photograph and a photograph of a guy sucking himself off are of equal value to Wikipedia, their judgement is impaired. -\n",
      "-------------------------------\n",
      "\"I think it's clear who has the \"\"rather insular view of sport\"\". \"\n",
      "-------------------------------\n",
      "\" \n",
      "\n",
      " === Frederick M. Schweitzer and Marvin Perry === \n",
      " Bless sin's version basically includes the \"\"complex story\"\" bit. Plus it adds \"\"were much better off under Islam than Christendom\"\". Here are my thought: \n",
      " * The complex story bit can be mentioned in the body of the article instead as Gerber for example points that out. So, I suggest we omit it from definition section.  \n",
      " * Saying that \"\"Muslim polemics, persecutions and massacres\"\" were less implies life under Islam was better. Of course it was not only \"\"polemics, persecutions and massacres\"\" but also restrictions on professions for example. But I think we can omit these extra points.  \"\n",
      "-------------------------------\n",
      "I shall purge this web site of the weak! \n",
      "\n",
      "hyyuyuyuyuyuyuyuyuyuyuyuyuyuyuyuyuyuyuyuyuyuyuyuyuyuyuyuyuyuyuyuyuyuyuyuyuyuyuyuyuyuyuyuyuyuyuyuyuyuyuyuyuyuyuyuyuyuyuyuyuyuyuyuyuyuyuyuyuyuyuyuyuyuyuyuyuyuyuyuyuyuyuyuyuyuyuyuyuyuyuyuyuyuyuyuyuyuyuyuyuyuyuyuyuyuyuyuyuyuyuyuyuyuyuyuyuyuyuyuyuyuyuyuyuyuyuyuyuyuyuyuyuyuyuyuyuyuyuyuyuyuyuyuyuyuyuyuyuyuyuyuyuyuyuyuyuyuyuyuyuyuyuyuyuyuyuyuyuyuyuyuyuyuyuyuyuyuyuyuyuyuyuyuyuyuyuyuyuyuyuyuyuyuyuyuyuyuyuyuyuyuyuyuyuyuyuyuyuyuyuyuyuyuyuyuyuyuyuyuyuyuyuyuyuyuyuyuyuyuyuyuyuyuyuyuyuyuyuyuyuyuyuyuyuyuyuyuyuyuyuyuyuyuyuyuyuyuyuyuyuyuyuyuyuyuyuyuyuyuyuyuyuyuyuyuyuyuyuyuyuyuyuyuyuyuyuyuyuyuyuyuyuyuyuyuyuyuyuyuyuyuyuyuyuyuyuyuyuyuyuyuyuyuyuyuyuyuyuyuyuyuyuyuyuyuyuyuyuyuyuyuyuyuyuyuyuyuyuyuyuyuyuyuyuyuyuyuyuyuyuyuyuyuyuyuyuyuyuyuyuyuyuyuyuyuyuyuyuyuyuyuyuyuyuyuyuyuyuyuyuyuyuyuyuyuyuyuyuyuyuyuyuyuyuyuyuyuyuyuyuyuyuyuyuyuyuyuyuyuyuyuyuyuyuyuyuyuyuyuyuyuyuyuyuyuyuyuyuyuyuyuyuyuyuyuyuyuyuyuyuyuyuyuyuyuyuyuyuyuyuyuyuyuyuyuyuyuyuyuyuyuyuyuyuyuyuyuyuyuyuyuyuyuyuyuyuyuyuyuyuyuyuyuyuyuyuyuyuyuyuyuyuyuyuyuyuyuyuyuyuyuyuyuyuyuyuyuyuyuyuyuyuyuyuyuyuyuyuyuyuyuyuyuyuyuyuyuyuyuyuyuyuyuyuyuyuyuyuyuyuyuyuyuyuyuyuyuyuyuyuyuyuyuyuyuyuyuyuyuyuyuyuyuyuyuyuyuyuyuyuyuyuyuyuyuyuyuyuyuyuyuyuyuyuyuyuyuyuyuyuyuyuyuyuyuyuyuyuyuyuyuyuyuyuyuyuyuyuyuyuyuyuyuyuyuyuyuyuyuyuyuyuyuyuyuyuyuyuyuyuyuyuyuyuyuyuyuyuyuyuyuyuyuyuyuyuyuyuyuyuyuyuyuyuyuyuyuyuyuyuyuyuyuyuyuyuyuyuyuyuyuyuyuyuyuyuyuyuyuyuyuyuyuyuyuyuyuyuyuyuyuyuyuyuyuyuyuyuyuyuyuyuyuyuyuyuyuyuyuyuyuyuyuyuyuyuyuyuyuyuyuyuyuyuyuyuyuyuyuyuyuyuyuyuyuyuyuyuyuyuyuyuyuyuyuyuyuyuyuyuyuyuyuyuyuyuyuyuyuyuyuyuyuyuyuyuyuyuyuyuyuyuyuyuyuyuyuyuyuyuyuyuyuyuyuyuyuyuyuyuyuyuyuyuyuyuyuyuyuyuyuyuyuyuyuyuyuyuyuyuyuyuyuyuyuyuyuyuyuyuyuyuyuyuyuyuyuyuyuyuyuyuyuyuyuyuyuyuyuyuyuyuyuyuyuyuyuyuyuyuyuyuyuyuyuyuyuyuyuyuyuyuyuyuyuyuyuyuyuyuyuyuyuyuyuyuyuyuyuyuyuyuyuyuyuyuyuyuyuyuyuyuyuyuyuyuyuyuyuyuyuyuyuyuyuyuyuyuyuyuyuyuyuyuyuyuyuyuyuyuyuyuyuyuyuyuyuyuyuyuyuyuyuyuyuyuyuyuyuyuyuyuyuyuyuyuyuyuyuyuyuyuyuyuyuyuyuyuyuyuyuyuyuyuyuyuyuyuyuyuyuyuyuyuyuyuyuyuyuyuyuyuyuyuyuyuyuyuyuyuyuyuyuyuyuyuyuyuyuyuyuyuyuyuyuyuyuyuyuyuyuyuyuyuyuyuyuyuyuyuyuyuyuyuyuyuyuyuyuyuyuyuyuyuyuyuyuyuyuyuyuyuyuyuyuyuyuyuyuyuyuyuyuyuyuyuyuyuyuyuyuyuyuyuyuyuyuyuyuyuyuyuyuyuyuyuyuyuyuyuyuyuyuyuyuyuyuyuyuyuyuyuyuyuyuyuyuyuyuyuyuyuyuyuyuyuyuyuyuyuyuyuyuyuyuyuyuyuyuyuyuyuyuyuyuyuyuyuyuyuyuyuyuyuyuyuyuyuyuyuyuyuyuyuyuyuyuyuyuyuyuyuyuyuyuyuyuyuyuyuyuyuyuyuyuyuyuyuyuyuyuyuyuyuyuyuyuyuyuyuyuyuyuyuyuyuyuyuyuyuyuyuyuyuyuyuyuyuyuyuyuyuyuyuyuyuyuyuyuyuyuyuyuyuyuyuyuyuyuyuyuyuyuyuyuyuyuyuyuyuyuyuyuyuyuyuyuyuyuyuyuyuyuyuyuyuyuyuyuyuyuyuyuyuyuyuyuyuyuyuyuyuyuyuyuyuyuyuyuyuyuyuyuyuyuyuyuyuyuyuyuyuyuyuyuyuyuyuyuyuyuyuyuyuyuyuyuyuyuyuyuyuyuyuyuyuyuyuyuyuyuyuyuyuyuyuyuyuyuyuyuyuyuyuyuyuyuyuyuyuyuyuyuyuyuyuyuyuyuyuyuyuyuyuyuyuyuyuyuyuyuyuyuyuyuyuyuyuyuyuyuyuyuyuyuyuyuyuyuyuyuyuyuyuyuyuyuyuyuyuyuyuyuyuyuyuyuyuyuyuyuyuyuyuyuyuyuyuyuyuyuyuyuyuyuyuyuyuyuyuyuyuyuyuyuyuyuyuyuyuyuyuyuyuyuyuyuyuyuyuyuyuyuyuyuyuyuyuyuyuyuyuyuyuyuyuyuyuyuyuyuyuyuyuyuyuyuyuyuyuyuyuyuyuyuyuyuyuyuyuyuyuyuyuyuyuyuyuyuyuyuyuyuyuyuyuyuyuyuyuyuyuyuyuyuyuyuyuyuyuyuyuyuyuyuyuyuyuyuyuyuyuyuyuyuyuyuyuyuyuyuyuyuyuyuyuyuyuyuyuyuyuyuyuyuyuyuyuyuyuyuyuyuyuyuyuyuyuyuyuyuyuyuyuyuyuyuyuyuyuyuyuyuyuyuyuyuyuyuyuyuyuyuyuyuyuyuyuyuyuyuyuyuyuyuyuyuyuyuyuyuyuyuyuyuyuyuyuyuyuyuyuyuyuyuyuyuyuyuyuyuyuyuyuyuyuyuyuyuyuyuyuyuyuyuyuyuyuyuyuyuyuyuyuyuyuyuyuyuyuyuyuyuyuyuyuyuyuyuyuyuyuyuyuyuyuyuyuyuyuyuyuyuyuyuyuyuyuyuyuyuyuyuyuyuyuyuyuyuyuyuyuyuyuyuyuyuyuyuyuyuyuyuyuyuyuyuyuyuyuyuyuyuyuyuyuyuyuyuyuyuyuyuyuyuyuyuyuyuyuyuyuyuyuyuyuyuyuyuyuyuyuyuyuyuyuyuyuyuyuyuyuyuyuyuyuyuyuyuyuyuyuyuyuyuyuyuyuyuyuyuyuyuyuyuyuyuyuyuyuyuyuyuyuyuyuyuyuyuyuyuyuyuyuyuyuyuyuyuyuyuyuyuyuyuyuyuyuyuyuyuyuyuyuyuyuyuyuyuyuyuyuyuyuyuyuyuyuyuyuyuyuyuyuyuyuyuyuyuyuyuyuyuyuyuyuyuyuyuyuyuyuyuyuyuyuyuyuyuyuyuyuyuyuyuyuyuyuyuyuyuyuyuyuyuyuyuyuyuyuyuyuyuyuyuyuyuyuyuyuyuyuyuyuyuyuyuyuyuyuyuyuyuyuyuyuyuyuyuyuyuyuyuyuyuyuyuyuyuyuyuyuyuyuyuyuyuyuyuyuyuyuyuyuyuyuyuyuyuyuyuyuyuyuyuyuyuyuyuyuyuyuyuyuyuyuyuyuyuyuyuyuyuyuyuyuyuyuyuyuyuyuyuyuyuyuyuyuyuyuyuyuyuyuyuyuyuyuyuyuyuyuyuyuyuyuyuyuyuyuyuyuyuyuyuyuyuyuyuyuyuyuyuyuyuyuyuyuyuyuyuyuyuyuyuyuyuyuyuyuyuyuyuyuyuyuyuyuyuyuyuyuyuyuyuyuyuyuyuyuyuyuyuyuyuyuyuyuyuyuyuyuyuyuyuyuyuyuyuyuyuyuyuyuyuyuyuyuyuyuyuyuyuyuyuyuyuyuyuyuyuyuyuyuyuyuyuyuyuyuyuyuyuyuyuyuyuyuyuyuyuyuyuyuyuyuyuyuyuyuyuyuyuyuyuyuyuyuyuyuyuyuyuyuyuyuyuyuyuyuyuyuyuyuyuyuyuyuyuyuyuyuyuyuyuyuyuyuyuyuyuyuyuyuyuyuyuyuyuyuyuyuyuyuyuyuyuyuyuyuyuyuyuyuyuyuyuyuyuyuyuyuyuyuyuyuyuyuyuyuyuyuyuyuyuyuyuyuyuyuyuyuyuyuyuyuyuyuyuyuyuyuyuyuyuyuyuyuyuyuyuyuyuyuyuyuyuyuyuyuyuyuyuyuyuyuyuyuyuyuyuyuyuyuyuyuyuyuyuyuyuyuyuyuyuyuyuyuyuyuyuyuyuyuyuyuyuyuyuyuyuyuyuyuyuyuyuyuyuyuyuyuyuyuyuyuyuyuyuyuyuyuyuyuyuyuyuyuyuyuyuyuyuyuyuyuyuyuyuyuyuyuyuyuyuyuyuyuyuyuyuyuyuyuyuyuyuyuyuyuyuyuyuyuyuyuyuyuyuyuyuyuyuyuyuyuyuyuyuyuyuyuyuyuyuyuyuyuyuyuyuyuyuyuyuyuyuyuyuyuyuyuyuyuyuyuyuyuyuyuyuyuyuyuyuyuyuyuyuyuyuyuyuyuyuyuyuyuyuyuyuyuyuyuyuyuyuyuyuyuyuyuyuyuyuyuyuyuyuyuyuyuyuyuyuyuyuyuyuyuyuyuyuyuyuyuyuyuyuyuyuyuyuyuyuyuyuyuyuyuyuyuyuyuyuyuyuyuyuyuyuyu\n",
      "-------------------------------\n",
      "Coppinger mentions having actually performed an experiment on this. Perhaps someone else has done the same thing. Maybe you could find a better source? \n",
      " I just think it is wasteful to get rid of such information. Crap or not, Coppinger's statement cannot be completely without basis.\n",
      "-------------------------------\n",
      "Wikipedia is run by SOCIALISTS!!!!!!!! \n",
      "\n",
      "Rev Wright and Barack spent 20 YEARS together. HE is a Black Liberaton theologist..He returned Churchill's bust because Michelle said he had too since england was involved with the slave trade!!!!!\n",
      "-------------------------------\n",
      "\" \n",
      "\n",
      " :::: According to 254 of Encyclopaedic Dictionary of Purāṇas by Swami Parmeshwaranand: \n",
      "\n",
      " ::::  \"\"In a few Puranic passages Buddha has been clearly described as a yogin.  He is said to be a yogacarya.\"\"   \"\n",
      "-------------------------------\n",
      "\"\n",
      "\n",
      "The show would not seem to hold the same opinion, lest we ignore the numerous references to orange hair (\"\"carrot-top\"\", to name just one). Besides, it looks pretty orange to me. —  (T | C) \"\n",
      "-------------------------------\n",
      "\" \n",
      " :That is ridiculous. Unless there's a good and non-disingenuous response, I would absolutely agree with you blocking indef outright. Falsifying sources should simply never be tolerated. //  \"\n",
      "-------------------------------\n",
      "from her/his shadows\n",
      "-------------------------------\n",
      "== YOU == \n",
      "\n",
      " You are an evil one  with your Roy Leep loving tvnewstalk.net WCAU as CBS hating people like the evil spotteddogsdotorg who did not give Scott A Brown the WCAU as CBS tape he promised so I made him into a bad Wikipedia person. I Scott A Brown will do the same to you and all the evil tvnewstalk.net people who Scott A Brown. You can't stop Scott A Brown. That is the Scott A Brown promise. Leave Wikipedia now, remove Roy Leep, give Scott A Brown and not the evil spotteddogsdotorg who did not give Scott A Brown the WCAU as CBS tape he promised credit then I Scott A Brown will leave Wikipedia alone. You are doing this CFIF!\n",
      "-------------------------------\n",
      "REversion\n",
      "Reversion of this article by vandals so called administrators and users like Herostratus should not be allowed here!\n",
      "-------------------------------\n",
      "Protesting Unfair Block\n",
      "I officially protest the unfair block placed by freakofnature and Friday, flunkies of DakotaKhan who stalked me earlier.\n",
      "\n",
      "This is unfair and biased and they are doing so just to harass me, the same as they did reverting my talk page and locking it off.\n",
      "-------------------------------\n",
      "reverthis sucks ballls ted\n",
      "-------------------------------\n",
      "This page needs massive editing \n",
      "\n",
      "The initial section, before we hit the menu of options, is fairly good; it gives a complete plot summary of what we've seen of Inu no Taisho in the manga and anime up to the current point.\n",
      "\n",
      "Everything after that, though, is absolutely horrendous. Not only is it replete with bad grammar, but it is full of unwarranted and incredibly long bits of speculation, particularly the badly spelled character analysis. I've deleted the entire set of menu sections that basically retold the movie, along with the 'character analysis.' \n",
      "\n",
      "For now, I've kept the description page done by the same person who did the above, but it also needs massive editing. I'll probably come back and do it later.\n",
      "-------------------------------\n",
      "\"Welcome to Wikipedia! Your articles and edits are very helpful and appropriate; keep up the good work! Feel free to drop me a message at the \"\"talk\"\" link beside my name.  ↕ T@Lk 06:27, May 1, 2004 (UTC)\n",
      "\n",
      " Origin of the name California \n",
      "\n",
      "I've just translated the sentences, have a look at it. ;)\n",
      "\n",
      " 23:27, 30 Mar 2005 (UTC)\n",
      "\n",
      "Tila Nguyen\n",
      "Hello,\n",
      "\n",
      "I see you've deleted Tila Nguyen from Category:Porn stars and List of heterosexual erotic actresses.  I know Tila does mostly softcore work, but if you search around you will see she appears in films caressing other women in the nude and in a very explicitly sexual manner that is intended to arouse the viewer.  I think she at least qualifies as an erotic actress, even if not completely a porn star.   04:22, 20 Sep 2004 (UTC)\n",
      "\n",
      " Cuyamaca \n",
      "\n",
      "I noticed that you added the merge tag to Cuyamaca and Cuyamaca, California. I originally created a single article but it seemed to me that towns and villages tend to have dedicated articles so I split the article in two. I'm inclined to agree that a single article would be sufficient. Is this consistent with other articles that cover a city, town or village and the like-named region in which they sit? If so, in your opinion, should the articles be consolidated under \"\"Cuyamaca\"\" or \"\"Cuyamaca, California\"\"?  17:58, 27 Sep 2004 (UTC)\n",
      "\n",
      "I couldn't find enough information about the village to expand it so I merged Cuyamaca with Cuyamaca, California and marked Cuyamaca for deletion. I assume that all the other particulars, such as the duplicate article page, will be taken care of.  00:51, 28 Sep 2004 (UTC)\n",
      "\n",
      "thanks for the edits of my pages, I'm often vague and I forget formatting. ps how do you do that neat thing where you make you name ant the time you commented appear after posting a \"\"talk\"\" thing?\n",
      "-maximusnukeage\n",
      "\n",
      "Re: Models Wikiproject\n",
      "That sounds like a good idea.  How do we go about doing it?   00:43, 8 Oct 2004 (UTC)\n",
      "\n",
      "UK railway stations - J\n",
      "Hi. I've reverted your wikification of the UK railway stations - J page. By convention, the entries in the leftmost column are only wikilinked once there is a railway station article for the town/city/locale. Your links go to what are, in the context of a list of UK railway stations, random pages ( best wishes \n",
      "I've created a  basic article for Jewellery Quarter station and inserted a link for just that station.  07:44, 21 Oct 2004 (UTC)\n",
      "\n",
      " Northern vs. Southern California speech \n",
      "\n",
      "In response to your question on the Regional American English talk page, I think it would be fascinating to see a section on differences between Northern and Southern California speech, especially since both regions seem to have distinct characters. Of course, it would be helpful if you could provide other examples, but the one you cited would be a good start, too.  20:19, Nov 7, 2004 (UTC)\n",
      "\n",
      "Culture of Greece\n",
      "\n",
      "Culture of Greece is this week's Collaboration of the week.  Please come and help it become a featured-standard article.\n",
      "\n",
      " Confirmation \n",
      "\n",
      "Jeff, are you sure that her surname is Lee? In the English context, evidence is provided that she is Lee, Sung Hi or Sung Hi-Lee, which says that Sung is her surname. However, using Hangul or Hanja/Hanzi to search, her surname is Lee. You may be correct, but try searching using these methods that I stated. Thanks, User:Chan Han Xiang\n",
      "\n",
      "Tila Nguyen\n",
      "She was in the movie 2 Fast 2 Furious. 13:04, 11 Nov 2004 (UTC)\n",
      "\n",
      " Re: Current Events, death of Iris Chang \n",
      "\n",
      "I put the mention of her death back into the current events section that you removed.  Yes, there is a list of deaths on the right, but it does not contain links to outside news articles.  Also note that Yasser Arafat's death is listed in the main section of the page even though he is listed in the deaths section.  If you have any comments/questions please reply to my talk page.   04:36, 12 Nov 2004 (UTC)\n",
      "\n",
      " I removed the notice of her death, and not Arafat's, because Arafat was a major politician who played an enormous role in his part of the world, and Ms. Chang is a (noted) pop-historian. I though\n",
      "-------------------------------\n",
      "\"\n",
      "\n",
      " ADHD \n",
      "\n",
      "It was a fight there for a while.  Thankfully Scuro has left and I have not seen him in months.  How long ago did you add it the text?  And what user name did you use when you added it?  If you had a user name the easiest way would be to look thru your contributions. (talk · contribs · email) \"\n",
      "-------------------------------\n",
      "89:99, 289 December 5\n",
      "-------------------------------\n",
      "\"\n",
      "\n",
      "He is cited because there were no other books available in English until recently.  -трёп- \"\n",
      "-------------------------------\n",
      "\"\n",
      "\n",
      "I'd say \"\"musicians,\"\" since the term \"\"band\"\" does suggest a smaller number of performers than is present in a typical Cirque presentation (I've seen 6 of the shows, 3 touring and 3 resident; hardly an authority, but still).  Similarly, \"\"orchestra\"\" suggests a larger number, but I guess it really depends upon the context.  Speaking of context, does anyone have any better copy for the LOVE subheading?  It reads just like a press release or advertisement, with lots of peacock words and the \"\"Only at The Mirage\"\" at the end.   \"\n",
      "-------------------------------\n",
      "\" \n",
      "\n",
      " ==Speedy deletion of Mark Louisson== \n",
      "  Thank you for experimenting with Wikipedia. Your test worked, and the page that you created has been or soon will be deleted. Please use the sandbox for any other tests you want to do. Take a look at the welcome page if you would like to learn more about contributing to our encyclopedia  \n",
      "\n",
      " If you think that this notice was placed here in error, you may contest the deletion by adding  to the top of the page (just below the existing speedy deletion or \"\"db\"\" tag), coupled with adding a note on the talk page explaining your position, but be aware that once tagged for speedy deletion, if the article meets the criterion it may be deleted without delay. Please do not remove the speedy deletion tag yourself, but don't hesitate to add information to the article that would would render it more in conformance with Wikipedia's policies and guidelines.     \"\n",
      "-------------------------------\n"
     ]
    }
   ],
   "source": [
    "for i in train['comment_text'].values[:100]:\n",
    "    print(i)\n",
    "    print(\"-------------------------------\")"
   ]
  },
  {
   "cell_type": "markdown",
   "metadata": {},
   "source": [
    "Из текста можно удалить \n",
    "* цифры\n",
    "* сокращения стран \n",
    "* IP - удалится вместе с цифрами и знаками препинания\n",
    "* ссылки\n",
    "* названия файлов с расширениями\n",
    "* вставки(в квадратных скобках)\n",
    "* темы(начинаются с ==)\n",
    "* даты и время - удалятся вместе с цифрами и знаками препинания\n",
    "* иероглифы \n",
    "* разделы Wikipedia:\n",
    "* отметка пересылаемого сообщения Re:\n",
    "* отдельные заглавные буквы\n",
    "* электронные адреса\n",
    "* фрагменты css\n",
    "* опечатки\n",
    "* глагольные сокращения\n",
    "* вставить пропущенный пробел между знаком препинания и следующим за ним словом, чтобы при удалении знаков два слова не слились в одно"
   ]
  },
  {
   "cell_type": "markdown",
   "metadata": {},
   "source": [
    "Также встречаются комментарии, написанные транслитом с русского языка, непонятно как их удалить"
   ]
  },
  {
   "cell_type": "code",
   "execution_count": 8,
   "metadata": {},
   "outputs": [],
   "source": [
    "import re\n",
    "import string"
   ]
  },
  {
   "cell_type": "code",
   "execution_count": 9,
   "metadata": {},
   "outputs": [],
   "source": [
    "string.punctuation += '—'"
   ]
  },
  {
   "cell_type": "code",
   "execution_count": 10,
   "metadata": {},
   "outputs": [],
   "source": [
    "string.punctuation += '→←'"
   ]
  },
  {
   "cell_type": "code",
   "execution_count": 11,
   "metadata": {},
   "outputs": [
    {
     "data": {
      "text/plain": [
       "'!\"#$%&\\'()*+,-./:;<=>?@[\\\\]^_`{|}~—→←'"
      ]
     },
     "execution_count": 11,
     "metadata": {},
     "output_type": "execute_result"
    }
   ],
   "source": [
    "string.punctuation"
   ]
  },
  {
   "cell_type": "code",
   "execution_count": 12,
   "metadata": {},
   "outputs": [],
   "source": [
    "# функция для очисти данных от слов нелатинского алфавита\n",
    "from string import ascii_letters, whitespace\n",
    "\n",
    "good_chars = (ascii_letters + whitespace).encode()\n",
    "junk_chars = bytearray(set(range(0x100)) - set(good_chars))\n",
    "\n",
    "def clean(text):\n",
    "    return text.encode('ascii', 'ignore').translate(None, junk_chars).decode()"
   ]
  },
  {
   "cell_type": "code",
   "execution_count": 13,
   "metadata": {},
   "outputs": [],
   "source": [
    "def clear_data(data):\n",
    "    clean_data = []\n",
    "    \n",
    "    for x in data:\n",
    "        \n",
    "        x = re.sub(r\"\\w+[0-9]+\", \"\", x)\n",
    "        x = re.sub(r\"[0-9]\", \"\", x)\n",
    "        x = re.sub(r\"\\s+[a-zA-Z]\\.+\", \"\", x)\n",
    "        x = re.sub(r\"http\\S+\", \"\", x)\n",
    "        x = re.sub(r\"==\\s*.*\\s*==\", \"\", x)\n",
    "        x = re.sub(r\"\\w+:\\w*\\d*\\.jpg\", \"\", x)\n",
    "        x = re.sub(r\"\\w+:\\w*\\d*\\.JPG\", \"\", x)\n",
    "        x = re.sub(r\"\\[.+\\]\", \"\", x)\n",
    "        x = re.sub(r\"\\|(\\s*\\w*.*\\s*)+\\|*\", \"\", x)\n",
    "        x = re.sub(r\"!(\\s*\\w*.*)+\", \"\", x)\n",
    "        x = re.sub(r\"\\*\\*\\*\", \"uck\", x)\n",
    "        x = re.sub(r\"Wikipedia:.+\", \"\", x)\n",
    "        x = re.sub(r\"WP:.+\", \"\", x)\n",
    "        x = re.sub(r\"Re:\\s*.+\", \"\", x)\n",
    "        x = re.sub(r\"talk:(\\s*.+)+\", \"\", x)\n",
    "        x = re.sub(r\"Talk:(\\s*.+)+\", \"\", x)\n",
    "        x = re.sub(r\"file:(\\s*.+)+\", \"\", x)\n",
    "        x = re.sub(r\"File:(\\s*.+)+\", \"\", x)\n",
    "        x = re.sub(r\"yu{2,}\", \"\", x)\n",
    "        x = re.sub(r\"TAB+\", \"\", x)\n",
    "        x = re.sub(r\".+\\.com\", \"\", x)\n",
    "        x = re.sub(r\"[\\.,\\?/]\\w\", \"[\\.,\\?/]\\s\\w\", x)\n",
    "        x = re.sub(r\"\\n\", \" \", x)\n",
    "        x = re.sub(r\"\\r\", \" \", x)\n",
    "        x = re.sub(r\"\\'s\", \"\", x)\n",
    "        x = re.sub(r\"\\'re\", \"\", x)\n",
    "        x = re.sub(r\"\\'ll\", \"\", x)\n",
    "        x = re.sub(r\"\\'d\", \"\", x)\n",
    "        x = re.sub(r\"can't\", \"\", x)\n",
    "        x = re.sub(r\"won't\", \"\", x)\n",
    "        x = re.sub(r\"n't\", \"\", x)\n",
    "        x = re.sub(r\"I'm\", \"\", x)\n",
    "        x = re.sub(r\"Im\", \"\", x)\n",
    "        \n",
    "        clean_data.append(x)\n",
    "    \n",
    "    clean_data = [''.join([ch for ch in x.lower() if ch not in set(string.punctuation)]) for x in clean_data]\n",
    "    clean_data = [clean(x).strip() for x in clean_data]\n",
    "    clean_data = [' '.join([word for word in x.split(' ') if len(word)>1]) for x in clean_data]\n",
    "        \n",
    "    return clean_data\n",
    "    "
   ]
  },
  {
   "cell_type": "code",
   "execution_count": 14,
   "metadata": {},
   "outputs": [
    {
     "name": "stdout",
     "output_type": "stream",
     "text": [
      "Wall time: 3min 21s\n"
     ]
    }
   ],
   "source": [
    "%%time\n",
    "clean_data = clear_data(train['comment_text'].values)"
   ]
  },
  {
   "cell_type": "code",
   "execution_count": 15,
   "metadata": {},
   "outputs": [],
   "source": [
    "clean_test_data = clear_data(test['comment_text'].values)"
   ]
  },
  {
   "cell_type": "code",
   "execution_count": 16,
   "metadata": {},
   "outputs": [
    {
     "data": {
      "text/plain": [
       "['gaelic translation hi do suppose you could help me out with gaelic translation for thanks in advance if you able to',\n",
       " 'hey dick you do know what is copyright so shutup and get out of here do write stupid bullshit on my talk page dhivehi language is dhivehi language not your bullshit nonsese',\n",
       " 'am correct in thinking that you are referring to the shattering of the vessels first discussed by the arizal there is mention of it there it might be possible to expand on that',\n",
       " 'why was this section allbutdeleted us has many notable allumni but currently the only one listed is teacher who just happened to pitch for the detroit tigers long long time ago in galaxy far far away for one his son michael seelbach currently has lead role in the chicago production of wicked understand that it was often vandalized by students of the school but does that merit the almost complete deletion of it ps it looks like it was deleted loooong time ago',\n",
       " 'have already been sent this message about vandalism it was me that did it it was my brother using the computer you know what you dumbass pompous fucks think that ips and shit always tell the whole story fuck off it was me who did it and you could clearly see had been warned go fucking kill yourself dumbshit',\n",
       " 'was not attacking someones page was merely makeing it better done bye hope you die',\n",
       " 'you welcome',\n",
       " 'good point by jonc legally the name of the state was stillk ofb and but the other point being made is as of qoute from the declaration itself this is causing some confusion at this stage maybe the direct qoute from the declaration used with citation clearly outlining the issue might be better some editors might object to the long winded intro its an odd bin alright',\n",
       " 'no such compromise was reached on september and no such consensus exists',\n",
       " 'again we take the unverifiable claims of anons alone if you really think there needs to be criticism section you need to find reliable source to back up your claims',\n",
       " 'maybe we should just add something about that linking to diffraction and aberrations',\n",
       " 'source me born this way sales gaga confirm that btw sales are more than million not preceding unsigned comment added by not reliable source me',\n",
       " 'see section above the second episode is called the end of time for definite at this stage we really should be following what we had for journey end before the title the stolen earth was revealed',\n",
       " 'gay and im proud listen every one recently came out of the closet and came out as homosexual and have just told my parents this swooorray beer',\n",
       " 'well sure be glad to help someone and think be able to use context clues to punch my way through the french take look',\n",
       " 'name being controversial even among the usual corps of factional religious zealots who decide to descend on this page in particular is not valid reason for breaking wikipedia naming policy which clearly mandates catholic church as the title and it has been clearly proven by objective research that catholic church is not ambiguous but is the principal common name used for this entity like most of the persons coming here to support changing the name to rcc you have totally ignored the relevant wikipedia naming policies and the research gathered over the months of the official decision debate that is one reason why most of the driveby support contributions here are invalid they merely promote sectional viewpoints and do not engage with wikipedia naming policies and the facts supporting the decision taken on those grounds simply coming here and saying that you prefer rcc has no bearing on the relevant process xandar',\n",
       " 'do not call this series onegai sensei if it were called onegai sensei it would be titled but it is it is titled note the katakana reads teicha the katakana is derived from the english word teacher thus it is known as onegai teacher those who do call it onegai sensei have literally took the english word teacher and then translated back into japanese and romanized it once again into ensei which if you think about it is just their way to show off that they know little japanese',\n",
       " 'note these comments were made some time ago but the section on the investigations remains unchanged am willing to attempt total rewrite of the section and will put the version here first for discussion',\n",
       " 'you asked multiple questions and complained that candidate who had answered them was passing you were pulled up on it you started an rfc asking if multiple questions should be barred you responded when questioned on this that you were annoyed that the candidate did respond favourably to being asked multiple questions those are the facts and it is disingenuous to suggest that your actions prior to raising said rfc have nothing to do with it do consider threesentence response to be aggressive blunt certainly but it would have benefited anyone for me to have made the same point in more words',\n",
       " 'have tagged as because it does not provide fair use rationale if you believe the image to be acceptable for fair use according to wikipedia policy please provide rationale explaining as much in accordance with the fair use rationale guideline on the image description page please also consider using or one of the other tags listed at',\n",
       " 'started merging the tables per event into one today and standardizing their formatting am about way through did free through breast so far will be back to finish the rest',\n",
       " 'also agreeswoor move',\n",
       " 'sockpuppet investigation have reported you for suspected abuse of multiple accounts',\n",
       " 'no you are quite right in the field of stats that is correctly called bias',\n",
       " 'what about the many readers who will be frustrated by not having direct link to numberone films in countries other than these the english in english wikipedia means that this encyclopedia is written for anyone who can read english there are more such people in asia than in north america more in continental europe than in the united kingdom and more in africa than in australasia and even if that was not the case why assume that readers in particular country will be more interested in articles about their own country than in those about other countries read an encyclopedia to broaden my knowledge not to read about parochial matters and would hope that the same goes for other readers',\n",
       " 'list ommissions travis henry cadillac anderson jody morris an probably whole bunch of people in categorysports controversies and its subcats',\n",
       " 'hi taekkyeon is sensitive topic because many people want to learn it and not enough qualified teachers to disperse the knowledge if you truly desire to learn taekkyeon there are only two masters in the world who know the complete system one is in korea he does teach many people the other lives in los angeles ca the truth is you have to either move to los angeles or korea if you want to learn the taekkyeon as taught by gm song and ho will tell you this gm song was bodyguard of the remaining choson dynasty family memebers the top taekkyeon masters always defended the king they were in the military taekkyeon was military artform first and civil cultural game for children and adults later by calling taekkyeon civil martial art game is demoting it from its real status however taekkyeon is still holistic martial art with many healing aspects and civil game for children and adults its all three',\n",
       " 'murtuza did get the memo this is an cellular ip that is randomly assigned and changes frequently day at best messages are likely to not be received if they are posted more than couple of hours within the last post',\n",
       " 'this is nonissue and this discussion is completely outrageous',\n",
       " 'swt first cleansing the countryside in the six months following stirling bridge wallace led force to york at first cleansing the countryside this is such touching reference to genocide that cannot let it pass if you going to write history then you going to have to stop making weasel comments excusing wanton killing of civilians whose only crime was to be born english if remember rightly mel gibson braveheart did the same trick of mentioning this ethnic cleansing as segue between scenes it just as morally reprehensible as the english doing this to the scots or serbs doing this to croats orswou get the idea on the other hand if you writing blatent propaganda then this is as good place as any sure that wikipedia admins will support you because they do know any better',\n",
       " 'an image or media file that you uploaded or altered has been listed at',\n",
       " 'speedy tag removed as it establishes notability my apologies for the speedy',\n",
       " 'elliott castro what stops you from adding the sources yourself it seems that you just want to be deletionist rather than improve wikipedia you need to get familiarized with wikipedia ignore all rules policy be constructive not destructive you have the option to improve wikipedia but you are choosing the wrong path and wrong actions here let me help you out you can also use an online translator such as google in case you do speak spanish there no reason whatsoever to propose deletion on this article ball is in your court',\n",
       " 'and it was perfectly valid question as brad has this habit of turning up waving his wand and then disappearing without trace this block is punitive and pointless',\n",
       " 'unai emery part of course you had every right to compose intro of this article after my raid because when wrote it sevilla was not yet qualified to the final had no business writing that based on hunch all in all though marvellous european week real madrid out in portuguese footy forums the ronaldo lovers have yet to acknowledge poorswubpar performance from this player yesterday was another one in the eyes of anyone who is not blinded by the preternatural light that emanates from this superior being and actually knows how to watch game of football',\n",
       " 'merge carried out will incorporate some of the content from the old frontal lobe injury page but it was all poorly referenced nonacademic websites so it will mostly be rewriteswew additions damage to the frontal lobe page now redirects to here',\n",
       " 'love kaitlyn purvis',\n",
       " 'hope can rely on you thanks spongerjack he did same one who been commenting above see spongerjack user talk page for the other checkuser confirmed socks bh',\n",
       " 'no you are censoring jewish human rights groups and whitewashing an article about judeophobic ethnic cleansing committed by arabs while at the same time adding arab propaganda denying the real nakba the jewish nakba in order to promote your arab nationalist agenda wikipedia already has enough problems with its israelophobic bias so people like you and should stay off this article recognize that you two regularly write arab nationalist propaganda for wikipedia and how is this an arab conspiracy the arabs make no attempt to conceal their desire to kick the jews into the sea and destroy israel denying this fact is equivalent to holocaust denial',\n",
       " 'as far as could put the articles now in the subcategories and also created some new subcategories categorydistricts of iraq cat baghadad would need move to cat baghdad governorate',\n",
       " 'find it hard to believe that an intelligent person could be making such asinine edits of course agia sofia could mean saint sophia but the fact is that it does sophia is very minor saint and have never seen it suggested that the basilica was named for her its name is the church of the holy wisdom and that all that needs to be said',\n",
       " 'and your edit is grammatically incorrect what the hell is chinese communists propaganda film in the first place not going to do anything just in case become accused of edit warring find better way to word the lede',\n",
       " 'please stop if you continue to vandalise the other pages as you did to claudette colbert you will be blocked colbert had two husbands she divorced the first husband immediately she lost the second husband therefore she was widow spouses norman foster dr joel pressman his death in she was interred beside her second husband because it erased public fact for personal thought is not it destruction',\n",
       " 'fuck off',\n",
       " 'gniniv says he retired we shall see there was possibility he would have ended up banned see the discussion at ani funny the quote from from someone described as an anticreationist',\n",
       " 'november utc sigh if there is dispute over whether the dispute is active then clearly there is dispute also note proponents of conspiracy theory aka propagandists have so far refused to debate',\n",
       " 'stamp act have been working on revision of this article for while and probably should have noted that on the article discussion page am about ready to add what would be major revision but noticed that you were in the process today of making improvements please check out what ive done so far at',\n",
       " 'hip hop is dead hip hop is dead because they doswnly talk about moneyswars and other thingsswrunk kills hip hop and the southswhat ai hip hop link title',\n",
       " 'agree with ernest the sheep and think that the repeated reversals by were not well considered hammond according to her own words was conceived in england born in new zealand and raised in australia this is properly reflected in the body of her article that she was born in new zealand months before she and her mother followed her father who had left for sydney even earlier does not belong in the lead or be the basis for any categorisation which thankfully it currently is not',\n",
       " 'zwobot just added bunch of interwiki links that had been removed manually recently some of the articles esw debeifublttriges traubenkraut are on the species ambrosia artemisiifolia while enragweed is about the genus ambrosia the bots are really cool but once we have some wrong interwiki links they propagate quickly and they are hard to get rid of kinda like ragweed actually',\n",
       " 'there are transfers of votes upon elimination in irv that is verifiable fact there are no transfers of votes in ibr upon elimination and that is verifiable fact this distinction needs to be made because they are two different bodies of data sensible people do care about differences and care about facts apr utc',\n",
       " 'nambla you think people like corax and clayboy do have any aim in posting in the nambla and pedophile pages',\n",
       " 'got refresh times faggot',\n",
       " 'removed your mention of lawrence homosexuality because it is disputed issue not because of my personal opinion on that sexual identity do have problem with it not all sources agree that he was gay and he most certainly was not an out or proud homosexual furthermore you added it in way that made it say he was famous for being homosexual this is not supported by sources thank you',\n",
       " 'it shame that youve had deleted my subject already well sorry about anything but at least let me know if there is someplace that might interested appreciated to discuss about my subject of interest about rodimus prime for the movie sequel thanks before',\n",
       " 'oh forgot to respond here it been removed thanks for bringing this up vecia',\n",
       " 'this user is fucking douche bag',\n",
       " 'did quote good source quoted qrzswom which is an amateur radio callsign database and also linked to tim gaines amateur radio website your apology is expected promptly and my changes will be restored or you will be talking with my attorney',\n",
       " 'to say miley is slutty dirtbag',\n",
       " 'thank you for experimenting with wikipedia your test worked and it has been reverted or removed please use the sandbox for any other tests you may want to do take look at the welcome page to learn more about contributing to our encyclopedia',\n",
       " 'hi',\n",
       " 'even better would be if those two drawing would have the same color for the rings as the animation at the top of the wiki articlesw the inner ring red the middle ring blue and the outer ring gold or yellow',\n",
       " 'think some editing is needed in this article chintz just means chints so most of the singular references to chintz couldswhould just say chint',\n",
       " 'socialist',\n",
       " 'it is wordforword from the philadelphia inquirer article with no original writing that is copyvioswlagiarism',\n",
       " 'wish we were allowed to do stupid headmaster hate him',\n",
       " 'the sources are good but my removal of sarin was hasty the star actually have such traditional name restored it dixit',\n",
       " 'totally agree with jeremy butler oliver bronson',\n",
       " 'absolutely',\n",
       " 'shizhao',\n",
       " '',\n",
       " 'because it standardized layout',\n",
       " 'gonna be off soon after couple of articles have passsed ga may return with my isp address occasionally to have laugh and wind couple of tits up see ya in bratfud',\n",
       " 'first of all this is not an encyclopedia but an farce being perpetrated on the public in the name of free open content encyclopedia its not free and open because there are people like you playing god and deciding which piece of content stays and which does and the decision is based entirely on your beliefs and prejudices when someone goes against these established beliefs by stating nonobvious things like the truth you dont like it and smote it down within an instant used to like wikipedia initially and did make edits which were facts but the things that people administrators did like to hear were taken down now just make edits for fun and waste your time offline preach against using wikipedia and did manage to convince few people this is dangerous thing and should be taken down asap also do need to prove anything to you next time decide to play vandal will just use another ipsw dont deny that there is genuine vandalism and that have done so on some occasions but only after my attempts to make valid contributions were reverted and',\n",
       " '',\n",
       " 'good to see another contributor to his article if sfl is your thing you might consider joining the',\n",
       " 'blocked revers',\n",
       " 'it is obvious if you look at the history the subjects birth date etc should not be removed the encyclopedic form has repeatedly been reduced in favor of resumeswan site material',\n",
       " 'hey you not the only irishman editing this damn thing',\n",
       " 'if in anyone judgement pulitzer prize winning photograph and photograph of guy sucking himself off are of equal value to wikipedia their judgement is impaired',\n",
       " 'think it clear who has the rather insular view of sport',\n",
       " 'bless sin version basically includes the complex story bit plus it adds were much better off under islam than christendom here are my thought the complex story bit can be mentioned in the body of the article instead as gerber for example points that out so suggest we omit it from definition section saying that muslim polemics persecutions and massacres were less implies life under islam was better of course it was not only polemics persecutions and massacres but also restrictions on professions for example but think we can omit these extra points',\n",
       " 'shall purge this web site of the weak',\n",
       " 'coppinger mentions having actually performed an experiment on this perhaps someone else has done the same thing maybe you could find better source just think it is wasteful to get rid of such information crap or not coppinger statement cannot be completely without basis',\n",
       " 'wikipedia is run by socialists',\n",
       " 'according to of encyclopaedic dictionary of puras by swami parmeshwaranand in few puranic passages buddha has been clearly described as yogin he is said to be yogacarya',\n",
       " 'the show would not seem to hold the same opinion lest we ignore the numerous references to orange hair carrottop to name just one besides it looks pretty orange to me',\n",
       " 'that is ridiculous unless there good and nondisingenuous response would absolutely agree with you blocking indef outright falsifying sources should simply never be tolerated',\n",
       " 'from herswis shadows',\n",
       " 'you are an evil one with your roy leep loving tvnewstalkswet wcau as cbs hating people like the evil spotteddogsdotorg who did not give scott brown the wcau as cbs tape he promised so made him into bad wikipedia person scott brown will do the same to you and all the evil tvnewstalkswet people who scott brown you stop scott brown that is the scott brown promise leave wikipedia now remove roy leep give scott brown and not the evil spotteddogsdotorg who did not give scott brown the wcau as cbs tape he promised credit then scott brown will leave wikipedia alone you are doing this cfif',\n",
       " 'reversion reversion of this article by vandals so called administrators and users like herostratus should not be allowed here',\n",
       " 'protesting unfair block officially protest the unfair block placed by freakofnature and friday flunkies of dakotakhan who stalked me earlier this is unfair and biased and they are doing so just to harass me the same as they did reverting my talk page and locking it off',\n",
       " 'reverthis sucks ballls ted',\n",
       " 'this page needs massive editing the initial section before we hit the menu of options is fairly good it gives complete plot summary of what weve seen of inu no taisho in the manga and anime up to the current point everything after that though is absolutely horrendous not only is it replete with bad grammar but it is full of unwarranted and incredibly long bits of speculation particularly the badly spelled character analysis ive deleted the entire set of menu sections that basically retold the movie along with the character analysis for now ive kept the description page done by the same person who did the above but it also needs massive editing probably come back and do it later',\n",
       " 'welcome to wikipedia',\n",
       " 'adhd it was fight there for while thankfully scuro has left and have not seen him in months how long ago did you add it the text and what user name did you use when you added it if you had user name the easiest way would be to look thru your contributions talk contribs email',\n",
       " 'december',\n",
       " 'he is cited because there were no other books available in english until recently',\n",
       " 'say musicians since the term band does suggest smaller number of performers than is present in typical cirque presentation ive seen of the shows touring and resident hardly an authority but still similarly orchestra suggests larger number but guess it really depends upon the context speaking of context does anyone have any better copy for the love subheading it reads just like press release or advertisement with lots of peacock words and the only at the mirage at the end',\n",
       " 'thank you for experimenting with wikipedia your test worked and the page that you created has been or soon will be deleted please use the sandbox for any other tests you want to do take look at the welcome page if you would like to learn more about contributing to our encyclopedia if you think that this notice was placed here in error you may contest the deletion by adding to the top of the page just below the existing speedy deletion or db tag coupled with adding note on the talk page explaining your position but be aware that once tagged for speedy deletion if the article meets the criterion it may be deleted without delay please do not remove the speedy deletion tag yourself but do hesitate to add information to the article that would would render it more in conformance with wikipedia policies and guidelines']"
      ]
     },
     "execution_count": 16,
     "metadata": {},
     "output_type": "execute_result"
    }
   ],
   "source": [
    "clean_data[:100]"
   ]
  },
  {
   "cell_type": "code",
   "execution_count": 17,
   "metadata": {},
   "outputs": [
    {
     "data": {
      "text/plain": [
       "150000"
      ]
     },
     "execution_count": 17,
     "metadata": {},
     "output_type": "execute_result"
    }
   ],
   "source": [
    "len(clean_data)"
   ]
  },
  {
   "cell_type": "code",
   "execution_count": 18,
   "metadata": {},
   "outputs": [
    {
     "data": {
      "text/plain": [
       "2335"
      ]
     },
     "execution_count": 18,
     "metadata": {},
     "output_type": "execute_result"
    }
   ],
   "source": [
    "len([x for x in clean_data if len(x)<=1])"
   ]
  },
  {
   "cell_type": "markdown",
   "metadata": {},
   "source": [
    "В результате очистки некоторые комментарии оказались пустыми. Не будем их удалять, чтобы вспоследствии не нарушать структуру test-датасета. В остальных комментариях приведем слова к начальной форме."
   ]
  },
  {
   "cell_type": "code",
   "execution_count": 16,
   "metadata": {},
   "outputs": [],
   "source": [
    "import nltk\n",
    "from nltk.corpus import wordnet\n",
    "from nltk.stem import WordNetLemmatizer\n",
    "from nltk.corpus import stopwords"
   ]
  },
  {
   "cell_type": "code",
   "execution_count": 17,
   "metadata": {},
   "outputs": [],
   "source": [
    "wordnet_lemmatizer = WordNetLemmatizer()\n",
    "stop_words = set(stopwords.words('english'))"
   ]
  },
  {
   "cell_type": "code",
   "execution_count": 18,
   "metadata": {},
   "outputs": [],
   "source": [
    "# функция для получения частей речи, передающихся в качестве параметра лемматизатору\n",
    "def get_wordnet_pos(treebank_tag):\n",
    "\n",
    "    if treebank_tag.startswith('J'):\n",
    "        return wordnet.ADJ\n",
    "    elif treebank_tag.startswith('V'):\n",
    "        return wordnet.VERB\n",
    "    elif treebank_tag.startswith('N'):\n",
    "        return wordnet.NOUN\n",
    "    elif treebank_tag.startswith('R'):\n",
    "        return wordnet.ADV\n",
    "    else:\n",
    "        return None"
   ]
  },
  {
   "cell_type": "code",
   "execution_count": 19,
   "metadata": {},
   "outputs": [],
   "source": [
    "# функция лемматизации и очитски от стоп слов\n",
    "def get_lemmas(data):\n",
    "    lemma_data = []\n",
    "    for x in data:\n",
    "        if len(x.split()) <= 1:\n",
    "            lemma_data.append('')\n",
    "            continue\n",
    "        tagged = nltk.pos_tag(x.split())\n",
    "        words = []\n",
    "        for word, tag in tagged:\n",
    "            \n",
    "            wntag = get_wordnet_pos(tag)\n",
    "            \n",
    "            if word not in stop_words:\n",
    "                if wntag is None:\n",
    "                    lemma = wordnet_lemmatizer.lemmatize(word) \n",
    "                else:\n",
    "                    lemma = wordnet_lemmatizer.lemmatize(word, pos=wntag)\n",
    "                words.append(lemma)\n",
    "        sentence = ' '.join(words)\n",
    "        lemma_data.append(sentence)\n",
    "    \n",
    "    return lemma_data"
   ]
  },
  {
   "cell_type": "code",
   "execution_count": 20,
   "metadata": {},
   "outputs": [
    {
     "name": "stdout",
     "output_type": "stream",
     "text": [
      "Wall time: 11min 22s\n"
     ]
    }
   ],
   "source": [
    "%%time\n",
    "new_data = get_lemmas(clean_data)"
   ]
  },
  {
   "cell_type": "code",
   "execution_count": 21,
   "metadata": {},
   "outputs": [],
   "source": [
    "new_test_data = get_lemmas(clean_test_data)"
   ]
  },
  {
   "cell_type": "code",
   "execution_count": 25,
   "metadata": {},
   "outputs": [
    {
     "data": {
      "text/plain": [
       "['gaelic translation hi suppose could help gaelic translation thanks advance able',\n",
       " 'hey dick know copyright shutup get write stupid bullshit talk page dhivehi language dhivehi language bullshit nonsese',\n",
       " 'correct think refer shattering vessel first discuss arizal mention might possible expand',\n",
       " 'section allbutdeleted u many notable allumni currently one list teacher happen pitch detroit tiger long long time ago galaxy far far away one son michael seelbach currently lead role chicago production wicked understand often vandalize student school merit almost complete deletion ps look like delete loooong time ago',\n",
       " 'already send message vandalism brother use computer know dumbass pompous fuck think ip shit always tell whole story fuck could clearly see warn go fuck kill dumbshit',\n",
       " 'attack someone page merely make good do bye hope die',\n",
       " 'welcome',\n",
       " 'good point jonc legally name state stillk ofb point make qoute declaration cause confusion stage maybe direct qoute declaration use citation clearly outline issue might good editor might object long wind intro odd bin alright',\n",
       " 'compromise reach september consensus exists',\n",
       " 'take unverifiable claim anons alone really think need criticism section need find reliable source back claim',\n",
       " 'maybe add something link diffraction aberration',\n",
       " 'source born way sale gaga confirm btw sale million precede unsigned comment add reliable source',\n",
       " 'see section second episode call end time definite stage really follow journey end title steal earth reveal',\n",
       " 'gay im proud listen every one recently come closet come homosexual tell parent swooorray beer',\n",
       " 'well sure glad help someone think able use context clue punch way french take look',\n",
       " 'name controversial even among usual corp factional religious zealot decide descend page particular valid reason break wikipedia naming policy clearly mandate catholic church title clearly prove objective research catholic church ambiguous principal common name use entity like person come support change name rcc totally ignore relevant wikipedia name policy research gather month official decision debate one reason driveby support contribution invalid merely promote sectional viewpoint engage wikipedia name policy fact support decision take ground simply come say prefer rcc bearing relevant process xandar',\n",
       " 'call series onegai sensei call onegai sensei would title title note katakana read teicha katakana derive english word teacher thus know onegai teacher call onegai sensei literally take english word teacher translate back japanese romanize ensei think way show know little japanese',\n",
       " 'note comment make time ago section investigation remain unchanged willing attempt total rewrite section put version first discussion',\n",
       " 'ask multiple question complain candidate answer pass pull start rfc ask multiple question bar respond question annoy candidate respond favourably ask multiple question fact disingenuous suggest action prior raise say rfc nothing consider threesentence response aggressive blunt certainly would benefit anyone make point word',\n",
       " 'tag provide fair use rationale believe image acceptable fair use accord wikipedia policy please provide rationale explain much accordance fair use rationale guideline image description page please also consider use one tag list',\n",
       " 'start merge table per event one today standardize formatting way free breast far back finish rest',\n",
       " 'also agreeswoor move',\n",
       " 'sockpuppet investigation report suspect abuse multiple account',\n",
       " 'quite right field stats correctly call bias',\n",
       " 'many reader frustrate direct link numberone film country english english wikipedia mean encyclopedia write anyone read english people asia north america continental europe united kingdom africa australasia even case assume reader particular country interested article country country read encyclopedia broaden knowledge read parochial matter would hope go reader',\n",
       " 'list ommissions travis henry cadillac anderson jody morris probably whole bunch people categorysports controversy subcats',\n",
       " 'hi taekkyeon sensitive topic many people want learn enough qualified teacher disperse knowledge truly desire learn taekkyeon two master world know complete system one korea teach many people life los angeles ca truth either move los angeles korea want learn taekkyeon taught gm song ho tell gm song bodyguard remain choson dynasty family memebers top taekkyeon master always defend king military taekkyeon military artform first civil cultural game child adult later call taekkyeon civil martial art game demote real status however taekkyeon still holistic martial art many heal aspect civil game child adults three',\n",
       " 'murtuza get memo cellular ip randomly assign change frequently day best message likely receive post couple hour within last post',\n",
       " 'nonissue discussion completely outrageous',\n",
       " 'swt first cleanse countryside six month follow stirling bridge wallace lead force york first cleanse countryside touch reference genocide cannot let pass go write history go stop make weasel comment excuse wanton killing civilian whose crime bear english remember rightly mel gibson braveheart trick mention ethnic cleansing segue scene morally reprehensible english scot serbs croats orswou get idea hand write blatent propaganda good place sure wikipedia admins support know good',\n",
       " 'image medium file upload alter list',\n",
       " 'speedy tag remove establish notability apology speedy',\n",
       " 'elliott castro stop add source seem want deletionist rather improve wikipedia need get familiarize wikipedia ignore rule policy constructive destructive option improve wikipedia choose wrong path wrong action let help also use online translator google case speak spanish reason whatsoever propose deletion article ball court',\n",
       " 'perfectly valid question brad habit turn wave wand disappear without trace block punitive pointless',\n",
       " 'unai emery part course every right compose intro article raid write sevilla yet qualify final business write base hunch though marvellous european week real madrid portuguese footy forums ronaldo lover yet acknowledge poorswubpar performance player yesterday another one eye anyone blind preternatural light emanate superior actually know watch game football',\n",
       " 'merge carry incorporate content old frontal lobe injury page poorly reference nonacademic website mostly rewriteswew addition damage frontal lobe page redirect',\n",
       " 'love kaitlyn purvis',\n",
       " 'hope rely thank spongerjack one comment see spongerjack user talk page checkuser confirm sock bh',\n",
       " 'censor jewish human right group whitewash article judeophobic ethnic cleansing commit arab time add arab propaganda deny real nakba jewish nakba order promote arab nationalist agenda wikipedia already enough problem israelophobic bias people like stay article recognize two regularly write arab nationalist propaganda wikipedia arab conspiracy arab make attempt conceal desire kick jew sea destroy israel deny fact equivalent holocaust denial',\n",
       " 'far could put article subcategories also create new subcategories categorydistricts iraq cat baghadad would need move cat baghdad governorate',\n",
       " 'find hard believe intelligent person could make asinine edits course agia sofia could mean saint sophia fact sophia minor saint never see suggest basilica name name church holy wisdom need say',\n",
       " 'edit grammatically incorrect hell chinese communist propaganda film first place go anything case become accuse edit war find good way word lede',\n",
       " 'please stop continue vandalise page claudette colbert block colbert two husband divorce first husband immediately lose second husband therefore widow spouse norman foster dr joel pressman death interred beside second husband erase public fact personal thought destruction',\n",
       " 'fuck',\n",
       " 'gniniv say retire shall see possibility would end banned see discussion ani funny quote someone describe anticreationist',\n",
       " 'november utc sigh dispute whether dispute active clearly dispute also note proponent conspiracy theory aka propagandist far refuse debate',\n",
       " 'stamp act work revision article probably note article discussion page ready add would major revision notice process today make improvement please check ive do far',\n",
       " 'hip hop dead hip hop dead doswnly talk moneyswars thingsswrunk kill hip hop southswhat ai hip hop link title',\n",
       " 'agree ernest sheep think repeat reversal well consider hammond accord word conceive england bear new zealand raise australia properly reflect body article bear new zealand month mother follow father leave sydney even earlier belong lead basis categorisation thankfully currently',\n",
       " 'zwobot add bunch interwiki link remove manually recently article esw debeifublttriges traubenkraut specie ambrosia artemisiifolia enragweed genus ambrosia bot really cool wrong interwiki link propagate quickly hard get rid kinda like ragweed actually',\n",
       " 'transfer vote upon elimination irv verifiable fact transfer vote ibr upon elimination verifiable fact distinction need make two different body data sensible people care difference care fact apr utc',\n",
       " 'nambla think people like corax clayboy aim post nambla pedophile page',\n",
       " 'get refresh time faggot',\n",
       " 'remove mention lawrence homosexuality dispute issue personal opinion sexual identity problem source agree gay certainly proud homosexual furthermore add way make say famous homosexual support source thank',\n",
       " 'shame youve delete subject already well sorry anything least let know someplace might interest appreciate discuss subject interest rodimus prime movie sequel thanks',\n",
       " 'oh forget respond remove thanks bring vecia',\n",
       " 'user fuck douche bag',\n",
       " 'quote good source quote qrzswom amateur radio callsign database also link tim gaines amateur radio website apology expect promptly change restore talk attorney',\n",
       " 'say miley slutty dirtbag',\n",
       " 'thank experiment wikipedia test work revert remove please use sandbox test may want take look welcome page learn contribute encyclopedia',\n",
       " '',\n",
       " 'even well would two draw would color ring animation top wiki articlesw inner ring red middle ring blue outer ring gold yellow',\n",
       " 'think editing need article chintz mean chints singular reference chintz couldswhould say chint',\n",
       " '',\n",
       " 'wordforword philadelphia inquirer article original writing copyvioswlagiarism',\n",
       " 'wish allow stupid headmaster hate',\n",
       " 'source good removal sarin hasty star actually traditional name restore dixit',\n",
       " 'totally agree jeremy butler oliver bronson',\n",
       " '',\n",
       " '',\n",
       " '',\n",
       " 'standardize layout',\n",
       " 'gonna soon couple article pass ga may return isp address occasionally laugh wind couple tit see ya bratfud',\n",
       " 'first encyclopedia farce perpetrate public name free open content encyclopedia free open people like play god decide piece content stay decision base entirely belief prejudice someone go establish belief state nonobvious thing like truth dont like smite within instant use like wikipedia initially make edits fact thing people administrator like hear take make edits fun waste time offline preach use wikipedia manage convince people dangerous thing take asap also need prove anything next time decide play vandal use another ipsw dont deny genuine vandalism do occasion attempt make valid contribution revert',\n",
       " '',\n",
       " 'good see another contributor article sfl thing might consider join',\n",
       " 'block revers',\n",
       " 'obvious look history subject birth date etc remove encyclopedic form repeatedly reduce favor resumeswan site material',\n",
       " 'hey irishman edit damn thing',\n",
       " 'anyone judgement pulitzer prize win photograph photograph guy suck equal value wikipedia judgement impaired',\n",
       " 'think clear rather insular view sport',\n",
       " 'bless sin version basically include complex story bit plus add much good islam christendom thought complex story bit mention body article instead gerber example point suggest omit definition section say muslim polemic persecution massacre less implies life islam good course polemics persecution massacre also restriction profession example think omit extra point',\n",
       " 'shall purge web site weak',\n",
       " 'coppinger mention actually perform experiment perhaps someone else do thing maybe could find good source think wasteful get rid information crap coppinger statement cannot completely without basis',\n",
       " 'wikipedia run socialist',\n",
       " 'accord encyclopaedic dictionary puras swami parmeshwaranand puranic passage buddha clearly describe yogi say yogacarya',\n",
       " 'show would seem hold opinion lest ignore numerous reference orange hair carrottop name one besides look pretty orange',\n",
       " 'ridiculous unless good nondisingenuous response would absolutely agree block indef outright falsify source simply never tolerate',\n",
       " 'herswis shadow',\n",
       " 'evil one roy leep loving tvnewstalkswet wcau cbs hat people like evil spotteddogsdotorg give scott brown wcau cbs tape promise make bad wikipedia person scott brown evil tvnewstalkswet people scott brown stop scott brown scott brown promise leave wikipedia remove roy leep give scott brown evil spotteddogsdotorg give scott brown wcau cbs tape promise credit scott brown leave wikipedia alone cfif',\n",
       " 'reversion reversion article vandal call administrator user like herostratus allow',\n",
       " 'protest unfair block officially protest unfair block place freakofnature friday flunky dakotakhan stalk earlier unfair bias harass revert talk page lock',\n",
       " 'reverthis suck ballls ted',\n",
       " 'page need massive edit initial section hit menu option fairly good give complete plot summary weve see inu taisho manga anime current point everything though absolutely horrendous replete bad grammar full unwarranted incredibly long bit speculation particularly badly spell character analysis ive delete entire set menu section basically retell movie along character analysis ive keep description page do person also need massive editing probably come back later',\n",
       " 'welcome wikipedia',\n",
       " 'adhd fight thankfully scuro leave see month long ago add text user name use add user name easy way would look thru contribution talk contribs email',\n",
       " '',\n",
       " 'cite book available english recently',\n",
       " 'say musician since term band suggest small number performer present typical cirque presentation ive see show tour resident hardly authority still similarly orchestra suggests large number guess really depend upon context speaking context anyone good copy love subheading read like press release advertisement lot peacock word mirage end',\n",
       " 'thank experiment wikipedia test work page create soon delete please use sandbox test want take look welcome page would like learn contribute encyclopedia think notice place error may contest deletion add top page exist speedy deletion db tag couple add note talk page explain position aware tag speedy deletion article meet criterion may delete without delay please remove speedy deletion tag hesitate add information article would would render conformance wikipedia policy guideline']"
      ]
     },
     "execution_count": 25,
     "metadata": {},
     "output_type": "execute_result"
    }
   ],
   "source": [
    "new_data[:100]"
   ]
  },
  {
   "cell_type": "markdown",
   "metadata": {},
   "source": [
    "## Векторизация"
   ]
  },
  {
   "cell_type": "code",
   "execution_count": 136,
   "metadata": {},
   "outputs": [],
   "source": [
    "from sklearn.feature_extraction.text import TfidfVectorizer"
   ]
  },
  {
   "cell_type": "code",
   "execution_count": 137,
   "metadata": {},
   "outputs": [],
   "source": [
    "tfidf_vectorizer = TfidfVectorizer(max_df=0.99, \n",
    "                                   min_df=0.0001,\n",
    "                                   strip_accents='unicode')"
   ]
  },
  {
   "cell_type": "code",
   "execution_count": 138,
   "metadata": {},
   "outputs": [],
   "source": [
    "dtm = tfidf_vectorizer.fit_transform(new_data)"
   ]
  },
  {
   "cell_type": "code",
   "execution_count": 139,
   "metadata": {},
   "outputs": [
    {
     "data": {
      "text/plain": [
       "<150000x11358 sparse matrix of type '<class 'numpy.float64'>'\n",
       "\twith 2408129 stored elements in Compressed Sparse Row format>"
      ]
     },
     "execution_count": 139,
     "metadata": {},
     "output_type": "execute_result"
    }
   ],
   "source": [
    "dtm"
   ]
  },
  {
   "cell_type": "markdown",
   "metadata": {},
   "source": [
    "## LDA"
   ]
  },
  {
   "cell_type": "code",
   "execution_count": 140,
   "metadata": {},
   "outputs": [],
   "source": [
    "from sklearn.decomposition import LatentDirichletAllocation"
   ]
  },
  {
   "cell_type": "code",
   "execution_count": 141,
   "metadata": {},
   "outputs": [
    {
     "name": "stdout",
     "output_type": "stream",
     "text": [
      "CPU times: user 3min 32s, sys: 56 ms, total: 3min 32s\n",
      "Wall time: 3min 32s\n"
     ]
    }
   ],
   "source": [
    "%%time\n",
    "lda = LatentDirichletAllocation(n_components=6)\n",
    "lda.fit(dtm)"
   ]
  },
  {
   "cell_type": "code",
   "execution_count": 142,
   "metadata": {},
   "outputs": [],
   "source": [
    "topics_lda = lda.transform(dtm)"
   ]
  },
  {
   "cell_type": "code",
   "execution_count": 143,
   "metadata": {},
   "outputs": [
    {
     "data": {
      "text/plain": [
       "(150000, 6)"
      ]
     },
     "execution_count": 143,
     "metadata": {},
     "output_type": "execute_result"
    }
   ],
   "source": [
    "topics_lda.shape"
   ]
  },
  {
   "cell_type": "code",
   "execution_count": 144,
   "metadata": {},
   "outputs": [
    {
     "data": {
      "text/plain": [
       "<matplotlib.axes._subplots.AxesSubplot at 0x7f4e2be2f518>"
      ]
     },
     "execution_count": 144,
     "metadata": {},
     "output_type": "execute_result"
    },
    {
     "data": {
      "image/png": "[encoded data removed]",
      "text/plain": [
       "<Figure size 1296x576 with 2 Axes>"
      ]
     },
     "metadata": {},
     "output_type": "display_data"
    }
   ],
   "source": [
    "plt.figure(figsize=(18, 8))\n",
    "sns.heatmap(topics_lda[0:10, :], annot=True,  fmt='.3')"
   ]
  },
  {
   "cell_type": "code",
   "execution_count": 145,
   "metadata": {},
   "outputs": [
    {
     "data": {
      "text/html": [
       "<div>\n",
       "<style scoped>\n",
       "    .dataframe tbody tr th:only-of-type {\n",
       "        vertical-align: middle;\n",
       "    }\n",
       "\n",
       "    .dataframe tbody tr th {\n",
       "        vertical-align: top;\n",
       "    }\n",
       "\n",
       "    .dataframe thead th {\n",
       "        text-align: right;\n",
       "    }\n",
       "</style>\n",
       "<table border=\"1\" class=\"dataframe\">\n",
       "  <thead>\n",
       "    <tr style=\"text-align: right;\">\n",
       "      <th></th>\n",
       "      <th>toxic</th>\n",
       "      <th>severe_toxic</th>\n",
       "      <th>obscene</th>\n",
       "      <th>threat</th>\n",
       "      <th>insult</th>\n",
       "      <th>identity_hate</th>\n",
       "    </tr>\n",
       "  </thead>\n",
       "  <tbody>\n",
       "    <tr>\n",
       "      <th>0</th>\n",
       "      <td>0</td>\n",
       "      <td>0</td>\n",
       "      <td>0</td>\n",
       "      <td>0</td>\n",
       "      <td>0</td>\n",
       "      <td>0</td>\n",
       "    </tr>\n",
       "    <tr>\n",
       "      <th>1</th>\n",
       "      <td>1</td>\n",
       "      <td>0</td>\n",
       "      <td>1</td>\n",
       "      <td>0</td>\n",
       "      <td>1</td>\n",
       "      <td>0</td>\n",
       "    </tr>\n",
       "    <tr>\n",
       "      <th>2</th>\n",
       "      <td>0</td>\n",
       "      <td>0</td>\n",
       "      <td>0</td>\n",
       "      <td>0</td>\n",
       "      <td>0</td>\n",
       "      <td>0</td>\n",
       "    </tr>\n",
       "    <tr>\n",
       "      <th>3</th>\n",
       "      <td>0</td>\n",
       "      <td>0</td>\n",
       "      <td>0</td>\n",
       "      <td>0</td>\n",
       "      <td>0</td>\n",
       "      <td>0</td>\n",
       "    </tr>\n",
       "    <tr>\n",
       "      <th>4</th>\n",
       "      <td>1</td>\n",
       "      <td>0</td>\n",
       "      <td>1</td>\n",
       "      <td>0</td>\n",
       "      <td>1</td>\n",
       "      <td>0</td>\n",
       "    </tr>\n",
       "    <tr>\n",
       "      <th>5</th>\n",
       "      <td>0</td>\n",
       "      <td>0</td>\n",
       "      <td>0</td>\n",
       "      <td>0</td>\n",
       "      <td>0</td>\n",
       "      <td>0</td>\n",
       "    </tr>\n",
       "    <tr>\n",
       "      <th>6</th>\n",
       "      <td>0</td>\n",
       "      <td>0</td>\n",
       "      <td>0</td>\n",
       "      <td>0</td>\n",
       "      <td>0</td>\n",
       "      <td>0</td>\n",
       "    </tr>\n",
       "    <tr>\n",
       "      <th>7</th>\n",
       "      <td>0</td>\n",
       "      <td>0</td>\n",
       "      <td>0</td>\n",
       "      <td>0</td>\n",
       "      <td>0</td>\n",
       "      <td>0</td>\n",
       "    </tr>\n",
       "    <tr>\n",
       "      <th>8</th>\n",
       "      <td>0</td>\n",
       "      <td>0</td>\n",
       "      <td>0</td>\n",
       "      <td>0</td>\n",
       "      <td>0</td>\n",
       "      <td>0</td>\n",
       "    </tr>\n",
       "    <tr>\n",
       "      <th>9</th>\n",
       "      <td>0</td>\n",
       "      <td>0</td>\n",
       "      <td>0</td>\n",
       "      <td>0</td>\n",
       "      <td>0</td>\n",
       "      <td>0</td>\n",
       "    </tr>\n",
       "  </tbody>\n",
       "</table>\n",
       "</div>"
      ],
      "text/plain": [
       "   toxic  severe_toxic  obscene  threat  insult  identity_hate\n",
       "0      0             0        0       0       0              0\n",
       "1      1             0        1       0       1              0\n",
       "2      0             0        0       0       0              0\n",
       "3      0             0        0       0       0              0\n",
       "4      1             0        1       0       1              0\n",
       "5      0             0        0       0       0              0\n",
       "6      0             0        0       0       0              0\n",
       "7      0             0        0       0       0              0\n",
       "8      0             0        0       0       0              0\n",
       "9      0             0        0       0       0              0"
      ]
     },
     "execution_count": 145,
     "metadata": {},
     "output_type": "execute_result"
    }
   ],
   "source": [
    "train.iloc[:10, 2:]"
   ]
  },
  {
   "cell_type": "markdown",
   "metadata": {},
   "source": [
    "С некоторыми типами модель угадала. Качество получилось выше среднего:"
   ]
  },
  {
   "cell_type": "code",
   "execution_count": 146,
   "metadata": {},
   "outputs": [],
   "source": [
    "preds = pd.DataFrame(topics_lda)"
   ]
  },
  {
   "cell_type": "code",
   "execution_count": 147,
   "metadata": {},
   "outputs": [],
   "source": [
    "y_scores = preds.values\n",
    "y_true = train.iloc[:, 2:].values"
   ]
  },
  {
   "cell_type": "code",
   "execution_count": 148,
   "metadata": {
    "scrolled": true
   },
   "outputs": [
    {
     "data": {
      "text/plain": [
       "0.6530376620635673"
      ]
     },
     "execution_count": 148,
     "metadata": {},
     "output_type": "execute_result"
    }
   ],
   "source": [
    "roc_auc_score(y_true, y_scores, average='micro')"
   ]
  },
  {
   "cell_type": "code",
   "execution_count": 149,
   "metadata": {},
   "outputs": [],
   "source": [
    "topics_words_lda = pd.DataFrame(lda.components_.T, index = tfidf_vectorizer.get_feature_names())"
   ]
  },
  {
   "cell_type": "code",
   "execution_count": 150,
   "metadata": {},
   "outputs": [
    {
     "name": "stdout",
     "output_type": "stream",
     "text": [
      "Type 0\n",
      "suck      415.226629\n",
      "like      388.231417\n",
      "shit      366.204033\n",
      "know      320.085727\n",
      "gay       317.393675\n",
      "stupid    304.019337\n",
      "hey       303.107672\n",
      "bitch     276.847679\n",
      "love      263.375447\n",
      "Name: 0, dtype: float64 \n",
      "\n",
      "Type 1\n",
      "hi          261.131336\n",
      "english     252.445477\n",
      "barnstar    215.470507\n",
      "language    213.994211\n",
      "article     189.703312\n",
      "say         173.971182\n",
      "country     158.284819\n",
      "know        157.148751\n",
      "state       155.766788\n",
      "Name: 1, dtype: float64 \n",
      "\n",
      "Type 2\n",
      "source     1118.287544\n",
      "say         832.398863\n",
      "use         757.067989\n",
      "think       699.898363\n",
      "make        682.013607\n",
      "section     572.425330\n",
      "like        570.755594\n",
      "fact        510.596589\n",
      "know        501.014723\n",
      "Name: 2, dtype: float64 \n",
      "\n",
      "Type 3\n",
      "page         1236.844028\n",
      "wikipedia    1023.577025\n",
      "block        1004.146733\n",
      "talk          811.252129\n",
      "welcome       772.043160\n",
      "thank         718.950331\n",
      "stop          643.949577\n",
      "vandalize     635.255407\n",
      "vandalism     623.540350\n",
      "Name: 3, dtype: float64 \n",
      "\n",
      "Type 4\n",
      "image     616.384415\n",
      "block     594.474382\n",
      "talk      561.781438\n",
      "edit      504.117817\n",
      "user      498.697197\n",
      "attack    485.487472\n",
      "editor    484.231930\n",
      "make      456.524316\n",
      "good      452.513128\n",
      "Name: 4, dtype: float64 \n",
      "\n",
      "Type 5\n",
      "page          909.557691\n",
      "thanks        794.690623\n",
      "deletion      708.549212\n",
      "add           705.628576\n",
      "link          569.554515\n",
      "delete        566.806801\n",
      "talk          510.246156\n",
      "tag           471.800842\n",
      "discussion    452.709688\n",
      "Name: 5, dtype: float64 \n",
      "\n"
     ]
    }
   ],
   "source": [
    "for i in range(6):\n",
    "    print('Type', i)\n",
    "    print(topics_words_lda[i].sort_values(ascending=False)[1:10], '\\n')"
   ]
  },
  {
   "cell_type": "markdown",
   "metadata": {},
   "source": [
    "Модель разлелила комментарии на темы, не учитывая эмоциональную окраску слов"
   ]
  },
  {
   "cell_type": "markdown",
   "metadata": {},
   "source": [
    "## LSA"
   ]
  },
  {
   "cell_type": "code",
   "execution_count": 151,
   "metadata": {},
   "outputs": [],
   "source": [
    "from sklearn.decomposition import TruncatedSVD"
   ]
  },
  {
   "cell_type": "code",
   "execution_count": 152,
   "metadata": {},
   "outputs": [
    {
     "name": "stdout",
     "output_type": "stream",
     "text": [
      "CPU times: user 736 ms, sys: 320 ms, total: 1.06 s\n",
      "Wall time: 1.06 s\n"
     ]
    }
   ],
   "source": [
    "%%time\n",
    "lsa = TruncatedSVD(n_components=6)\n",
    "lsa.fit(dtm)"
   ]
  },
  {
   "cell_type": "code",
   "execution_count": 153,
   "metadata": {},
   "outputs": [],
   "source": [
    "topics_lsa = lsa.transform(dtm)"
   ]
  },
  {
   "cell_type": "code",
   "execution_count": 154,
   "metadata": {},
   "outputs": [
    {
     "data": {
      "text/plain": [
       "(150000, 6)"
      ]
     },
     "execution_count": 154,
     "metadata": {},
     "output_type": "execute_result"
    }
   ],
   "source": [
    "topics_lsa.shape"
   ]
  },
  {
   "cell_type": "code",
   "execution_count": 155,
   "metadata": {},
   "outputs": [
    {
     "data": {
      "text/plain": [
       "<matplotlib.axes._subplots.AxesSubplot at 0x7f4e2b46d7f0>"
      ]
     },
     "execution_count": 155,
     "metadata": {},
     "output_type": "execute_result"
    },
    {
     "data": {
      "image/png": "[encoded data removed]",
      "text/plain": [
       "<Figure size 1296x576 with 2 Axes>"
      ]
     },
     "metadata": {},
     "output_type": "display_data"
    }
   ],
   "source": [
    "plt.figure(figsize=(18, 8))\n",
    "sns.heatmap(topics_lsa[0:10, :], annot=True,  fmt='.3')"
   ]
  },
  {
   "cell_type": "code",
   "execution_count": 156,
   "metadata": {},
   "outputs": [],
   "source": [
    "preds = pd.DataFrame(topics_lsa)"
   ]
  },
  {
   "cell_type": "code",
   "execution_count": 157,
   "metadata": {},
   "outputs": [],
   "source": [
    "y_scores = preds.values\n",
    "y_true = train.iloc[:, 2:].values"
   ]
  },
  {
   "cell_type": "code",
   "execution_count": 158,
   "metadata": {},
   "outputs": [
    {
     "data": {
      "text/plain": [
       "0.5734862163344222"
      ]
     },
     "execution_count": 158,
     "metadata": {},
     "output_type": "execute_result"
    }
   ],
   "source": [
    "roc_auc_score(y_true, y_scores, average='micro')"
   ]
  },
  {
   "cell_type": "code",
   "execution_count": 159,
   "metadata": {},
   "outputs": [],
   "source": [
    "topics_words_lsa = pd.DataFrame(lsa.components_.T, index = tfidf_vectorizer.get_feature_names())"
   ]
  },
  {
   "cell_type": "code",
   "execution_count": 160,
   "metadata": {},
   "outputs": [
    {
     "data": {
      "text/plain": [
       "(11358, 6)"
      ]
     },
     "execution_count": 160,
     "metadata": {},
     "output_type": "execute_result"
    }
   ],
   "source": [
    "topics_words_lsa.shape"
   ]
  },
  {
   "cell_type": "code",
   "execution_count": 161,
   "metadata": {},
   "outputs": [
    {
     "name": "stdout",
     "output_type": "stream",
     "text": [
      "Type 0\n",
      "article      0.332832\n",
      "edit         0.234975\n",
      "wikipedia    0.217648\n",
      "talk         0.209153\n",
      "block        0.147156\n",
      "use          0.138930\n",
      "make         0.136828\n",
      "like         0.132165\n",
      "add          0.127537\n",
      "Name: 0, dtype: float64 \n",
      "\n",
      "Type 1\n",
      "block        0.419102\n",
      "vandalize    0.294564\n",
      "continue     0.281183\n",
      "page         0.232631\n",
      "stop         0.170203\n",
      "wikipedia    0.108295\n",
      "talk         0.062950\n",
      "vandalism    0.049783\n",
      "user         0.049476\n",
      "Name: 1, dtype: float64 \n",
      "\n",
      "Type 2\n",
      "wikipedia     0.402560\n",
      "thank         0.260748\n",
      "hello         0.223306\n",
      "test          0.208401\n",
      "experiment    0.172058\n",
      "sandbox       0.169080\n",
      "thanks        0.160701\n",
      "use           0.147280\n",
      "contribute    0.102412\n",
      "Name: 2, dtype: float64 \n",
      "\n",
      "Type 3\n",
      "talk          0.525141\n",
      "deletion      0.127501\n",
      "delete        0.098040\n",
      "speedy        0.084953\n",
      "user          0.083511\n",
      "tag           0.072280\n",
      "comment       0.068818\n",
      "thanks        0.067388\n",
      "discussion    0.046200\n",
      "Name: 3, dtype: float64 \n",
      "\n",
      "Type 4\n",
      "deletion     0.287453\n",
      "wikipedia    0.209916\n",
      "speedy       0.183383\n",
      "tag          0.154920\n",
      "delete       0.146775\n",
      "welcome      0.112539\n",
      "criterion    0.105849\n",
      "add          0.097244\n",
      "subject      0.085008\n",
      "Name: 4, dtype: float64 \n",
      "\n",
      "Type 5\n",
      "wikipedia    0.110205\n",
      "talk         0.073286\n",
      "shit         0.072826\n",
      "page         0.072598\n",
      "bitch        0.063823\n",
      "welcome      0.058016\n",
      "delete       0.054333\n",
      "deletion     0.052496\n",
      "cunt         0.042634\n",
      "Name: 5, dtype: float64 \n",
      "\n"
     ]
    }
   ],
   "source": [
    "for i in range(6):\n",
    "    print('Type %d'% i)\n",
    "    print(topics_words_lsa[i].sort_values(ascending=False)[1:10], '\\n')"
   ]
  },
  {
   "cell_type": "markdown",
   "metadata": {},
   "source": [
    "### Векторизация с n-граммами"
   ]
  },
  {
   "cell_type": "code",
   "execution_count": 162,
   "metadata": {},
   "outputs": [],
   "source": [
    "tfidf_vectorizer = TfidfVectorizer(max_df=0.99, \n",
    "                                   min_df=0.0001,\n",
    "                                   strip_accents='unicode', \n",
    "                                   stop_words='english',\n",
    "                                   ngram_range=(1,3))"
   ]
  },
  {
   "cell_type": "code",
   "execution_count": 163,
   "metadata": {},
   "outputs": [
    {
     "data": {
      "text/plain": [
       "<150000x27362 sparse matrix of type '<class 'numpy.float64'>'\n",
       "\twith 3171100 stored elements in Compressed Sparse Row format>"
      ]
     },
     "execution_count": 163,
     "metadata": {},
     "output_type": "execute_result"
    }
   ],
   "source": [
    "dtm = tfidf_vectorizer.fit_transform(new_data)\n",
    "dtm"
   ]
  },
  {
   "cell_type": "code",
   "execution_count": 164,
   "metadata": {},
   "outputs": [
    {
     "name": "stdout",
     "output_type": "stream",
     "text": [
      "CPU times: user 3min 44s, sys: 88 ms, total: 3min 45s\n",
      "Wall time: 3min 45s\n"
     ]
    }
   ],
   "source": [
    "%%time\n",
    "lda = LatentDirichletAllocation(n_components=6)\n",
    "lda.fit(dtm)"
   ]
  },
  {
   "cell_type": "code",
   "execution_count": 165,
   "metadata": {},
   "outputs": [],
   "source": [
    "topics_lda = lda.transform(dtm)"
   ]
  },
  {
   "cell_type": "code",
   "execution_count": 166,
   "metadata": {},
   "outputs": [
    {
     "data": {
      "text/plain": [
       "<matplotlib.axes._subplots.AxesSubplot at 0x7f4992b7e278>"
      ]
     },
     "execution_count": 166,
     "metadata": {},
     "output_type": "execute_result"
    },
    {
     "data": {
      "image/png": "[encoded data removed]",
      "text/plain": [
       "<Figure size 1296x576 with 2 Axes>"
      ]
     },
     "metadata": {},
     "output_type": "display_data"
    }
   ],
   "source": [
    "plt.figure(figsize=(18, 8))\n",
    "sns.heatmap(topics_lda[0:10, :], annot=True,  fmt='.3')"
   ]
  },
  {
   "cell_type": "code",
   "execution_count": 167,
   "metadata": {},
   "outputs": [],
   "source": [
    "preds = pd.DataFrame(topics_lda)"
   ]
  },
  {
   "cell_type": "code",
   "execution_count": 168,
   "metadata": {},
   "outputs": [],
   "source": [
    "y_scores = preds.values\n",
    "y_true = train.iloc[:, 2:].values"
   ]
  },
  {
   "cell_type": "code",
   "execution_count": 169,
   "metadata": {},
   "outputs": [
    {
     "data": {
      "text/plain": [
       "0.5128322863304455"
      ]
     },
     "execution_count": 169,
     "metadata": {},
     "output_type": "execute_result"
    }
   ],
   "source": [
    "roc_auc_score(y_true, y_scores, average='micro')"
   ]
  },
  {
   "cell_type": "code",
   "execution_count": 170,
   "metadata": {},
   "outputs": [
    {
     "data": {
      "text/plain": [
       "welcome              377.724294\n",
       "wikipedia            308.652074\n",
       "hello                278.843120\n",
       "welcome wikipedia    273.089744\n",
       "delete               265.536945\n",
       "speedy               259.018745\n",
       "fuck                 254.283026\n",
       "page                 249.469539\n",
       "add                  240.987009\n",
       "Name: 0, dtype: float64"
      ]
     },
     "execution_count": 170,
     "metadata": {},
     "output_type": "execute_result"
    }
   ],
   "source": [
    "topics_words_lda = pd.DataFrame(lda.components_.T, index = tfidf_vectorizer.get_feature_names())\n",
    "topics_words_lda[0].sort_values(ascending=False)[1:10]"
   ]
  },
  {
   "cell_type": "code",
   "execution_count": null,
   "metadata": {},
   "outputs": [],
   "source": []
  },
  {
   "cell_type": "code",
   "execution_count": 171,
   "metadata": {},
   "outputs": [
    {
     "name": "stdout",
     "output_type": "stream",
     "text": [
      "CPU times: user 1.02 s, sys: 84 ms, total: 1.11 s\n",
      "Wall time: 1.01 s\n"
     ]
    }
   ],
   "source": [
    "%%time\n",
    "lsa = TruncatedSVD(n_components=6)\n",
    "lsa.fit(dtm)"
   ]
  },
  {
   "cell_type": "code",
   "execution_count": 172,
   "metadata": {},
   "outputs": [],
   "source": [
    "topics_lsa = lsa.transform(dtm)"
   ]
  },
  {
   "cell_type": "code",
   "execution_count": 173,
   "metadata": {},
   "outputs": [
    {
     "data": {
      "text/plain": [
       "<matplotlib.axes._subplots.AxesSubplot at 0x7f4df26e3748>"
      ]
     },
     "execution_count": 173,
     "metadata": {},
     "output_type": "execute_result"
    },
    {
     "data": {
      "image/png": "[encoded data removed]",
      "text/plain": [
       "<Figure size 1296x576 with 2 Axes>"
      ]
     },
     "metadata": {},
     "output_type": "display_data"
    }
   ],
   "source": [
    "plt.figure(figsize=(18, 8))\n",
    "sns.heatmap(topics_lsa[0:10, :], annot=True,  fmt='.3')"
   ]
  },
  {
   "cell_type": "code",
   "execution_count": 174,
   "metadata": {},
   "outputs": [],
   "source": [
    "preds = pd.DataFrame(topics_lsa)"
   ]
  },
  {
   "cell_type": "code",
   "execution_count": 175,
   "metadata": {},
   "outputs": [],
   "source": [
    "y_scores = preds.values\n",
    "y_true = train.iloc[:, 2:].values"
   ]
  },
  {
   "cell_type": "code",
   "execution_count": 176,
   "metadata": {},
   "outputs": [
    {
     "data": {
      "text/plain": [
       "0.6227921745486709"
      ]
     },
     "execution_count": 176,
     "metadata": {},
     "output_type": "execute_result"
    }
   ],
   "source": [
    "roc_auc_score(y_true, y_scores, average='micro')"
   ]
  },
  {
   "cell_type": "code",
   "execution_count": 177,
   "metadata": {},
   "outputs": [
    {
     "data": {
      "text/plain": [
       "page         0.288374\n",
       "edit         0.188186\n",
       "talk         0.185768\n",
       "wikipedia    0.173614\n",
       "make         0.141556\n",
       "like         0.136429\n",
       "think        0.133287\n",
       "use          0.131656\n",
       "say          0.128741\n",
       "Name: 0, dtype: float64"
      ]
     },
     "execution_count": 177,
     "metadata": {},
     "output_type": "execute_result"
    }
   ],
   "source": [
    "topics_words_lsa = pd.DataFrame(lsa.components_.T, index = tfidf_vectorizer.get_feature_names())\n",
    "topics_words_lsa[0].sort_values(ascending=False)[1:10]"
   ]
  },
  {
   "cell_type": "markdown",
   "metadata": {},
   "source": [
    "## Word2Vec"
   ]
  },
  {
   "cell_type": "code",
   "execution_count": 27,
   "metadata": {},
   "outputs": [
    {
     "name": "stderr",
     "output_type": "stream",
     "text": [
      "C:\\Users\\admin\\Anaconda3\\lib\\site-packages\\gensim\\utils.py:1209: UserWarning: detected Windows; aliasing chunkize to chunkize_serial\n",
      "  warnings.warn(\"detected Windows; aliasing chunkize to chunkize_serial\")\n"
     ]
    }
   ],
   "source": [
    "from gensim.utils import simple_preprocess\n",
    "from gensim.models.word2vec import Word2Vec"
   ]
  },
  {
   "cell_type": "code",
   "execution_count": 28,
   "metadata": {},
   "outputs": [],
   "source": [
    "comment_tokens = []\n",
    "for i in range(len(new_data)):\n",
    "    tokens = simple_preprocess(new_data[i])\n",
    "    comment_tokens.append(tokens)"
   ]
  },
  {
   "cell_type": "code",
   "execution_count": 29,
   "metadata": {},
   "outputs": [],
   "source": [
    "w2v_model = Word2Vec(size=100, \n",
    "                     window=4,\n",
    "                     sg=0, # cbow, 1 - skip gram\n",
    "                     hs=0, # hierarchical softmax\n",
    "                     negative=10, # число слов для которых обновлять веса\n",
    "                     sample=0.001, # в вероятности \n",
    "                     alpha=0.025, # learing rate\n",
    "                     min_alpha=0.0001, # до чего уменьшать lr\n",
    "                     min_count=1, # слова которые встретились минимум два раза\n",
    "                     workers=4)"
   ]
  },
  {
   "cell_type": "code",
   "execution_count": 30,
   "metadata": {},
   "outputs": [],
   "source": [
    "w2v_model.build_vocab(sentences=comment_tokens)"
   ]
  },
  {
   "cell_type": "code",
   "execution_count": 31,
   "metadata": {},
   "outputs": [
    {
     "data": {
      "text/plain": [
       "161743"
      ]
     },
     "execution_count": 31,
     "metadata": {},
     "output_type": "execute_result"
    }
   ],
   "source": [
    "len(w2v_model.wv.vocab)"
   ]
  },
  {
   "cell_type": "code",
   "execution_count": 32,
   "metadata": {},
   "outputs": [
    {
     "data": {
      "text/plain": [
       "150000"
      ]
     },
     "execution_count": 32,
     "metadata": {},
     "output_type": "execute_result"
    }
   ],
   "source": [
    "w2v_model.corpus_count"
   ]
  },
  {
   "cell_type": "code",
   "execution_count": 33,
   "metadata": {},
   "outputs": [
    {
     "name": "stdout",
     "output_type": "stream",
     "text": [
      "Wall time: 14min 37s\n"
     ]
    },
    {
     "data": {
      "text/plain": [
       "(374579229, 393444400)"
      ]
     },
     "execution_count": 33,
     "metadata": {},
     "output_type": "execute_result"
    }
   ],
   "source": [
    "%%time\n",
    "w2v_model.train(comment_tokens, total_examples=w2v_model.corpus_count, epochs=100, compute_loss=True) "
   ]
  },
  {
   "cell_type": "markdown",
   "metadata": {},
   "source": [
    "Посмотрим, насколько хорошо обучилась модель. Она выдает довольно правильные ответы"
   ]
  },
  {
   "cell_type": "code",
   "execution_count": 33,
   "metadata": {},
   "outputs": [
    {
     "data": {
      "text/plain": [
       "[('first', 0.6571258306503296),\n",
       " ('least', 0.5418002605438232),\n",
       " ('yet', 0.5396069288253784),\n",
       " ('third', 0.5122408270835876),\n",
       " ('even', 0.50956791639328),\n",
       " ('someone', 0.5076727271080017),\n",
       " ('since', 0.4843164384365082),\n",
       " ('say', 0.4765189588069916),\n",
       " ('think', 0.47448205947875977),\n",
       " ('either', 0.4717817008495331)]"
      ]
     },
     "execution_count": 33,
     "metadata": {},
     "output_type": "execute_result"
    }
   ],
   "source": [
    "w2v_model.wv.most_similar(positive=['one', 'second'], negative=['two'], topn=10)"
   ]
  },
  {
   "cell_type": "code",
   "execution_count": 34,
   "metadata": {},
   "outputs": [
    {
     "data": {
      "text/plain": [
       "[('comment', 0.5731837749481201),\n",
       " ('response', 0.5477202534675598),\n",
       " ('note', 0.5268842577934265),\n",
       " ('barnstars', 0.49947449564933777),\n",
       " ('warning', 0.4725459814071655),\n",
       " ('reply', 0.45644867420196533),\n",
       " ('feedback', 0.44625648856163025),\n",
       " ('email', 0.4203319549560547),\n",
       " ('discussion', 0.39284586906433105),\n",
       " ('contributor', 0.3919331133365631)]"
      ]
     },
     "execution_count": 34,
     "metadata": {},
     "output_type": "execute_result"
    }
   ],
   "source": [
    "w2v_model.wv.most_similar(positive=['message', 'receive'], negative=['send'], topn=10)"
   ]
  },
  {
   "cell_type": "code",
   "execution_count": 35,
   "metadata": {},
   "outputs": [
    {
     "data": {
      "text/plain": [
       "[('fowl', 0.4842471480369568),\n",
       " ('dog', 0.4784161448478699),\n",
       " ('klepto', 0.44821807742118835),\n",
       " ('rutan', 0.4244723320007324),\n",
       " ('genus', 0.4173891246318817),\n",
       " ('ness', 0.41194093227386475),\n",
       " ('zombies', 0.40990936756134033),\n",
       " ('puppy', 0.40797674655914307),\n",
       " ('shrimp', 0.40748006105422974),\n",
       " ('nondiffusing', 0.4063184857368469)]"
      ]
     },
     "execution_count": 35,
     "metadata": {},
     "output_type": "execute_result"
    }
   ],
   "source": [
    "w2v_model.wv.similar_by_word(\"cat\")"
   ]
  },
  {
   "cell_type": "code",
   "execution_count": 36,
   "metadata": {},
   "outputs": [
    {
     "data": {
      "text/plain": [
       "[('wiki', 0.856576681137085),\n",
       " ('wp', 0.801637589931488),\n",
       " ('encyclopedia', 0.6108202338218689),\n",
       " ('user', 0.5500448346138),\n",
       " ('allow', 0.5416158437728882),\n",
       " ('editor', 0.5264638066291809),\n",
       " ('policy', 0.5193881392478943),\n",
       " ('site', 0.5181913375854492),\n",
       " ('wish', 0.48319607973098755),\n",
       " ('encourage', 0.4823598265647888)]"
      ]
     },
     "execution_count": 36,
     "metadata": {},
     "output_type": "execute_result"
    }
   ],
   "source": [
    "w2v_model.wv.similar_by_word(\"wikipedia\")"
   ]
  },
  {
   "cell_type": "code",
   "execution_count": 34,
   "metadata": {},
   "outputs": [],
   "source": [
    "size = 100"
   ]
  },
  {
   "cell_type": "code",
   "execution_count": 35,
   "metadata": {},
   "outputs": [],
   "source": [
    "# функция для получения вектора комментария из векторов слов, входящих в него\n",
    "def get_comment_vector(comment):\n",
    "    vec = np.zeros((1, size))\n",
    "    count = 0\n",
    "    for word in comment:\n",
    "        try:\n",
    "            vec += w2v_model[word].reshape((1, size))\n",
    "            count += 1\n",
    "        except KeyError:\n",
    "            continue\n",
    "    if count!=0:\n",
    "        vec /= count\n",
    "    return vec"
   ]
  },
  {
   "cell_type": "code",
   "execution_count": 36,
   "metadata": {},
   "outputs": [
    {
     "name": "stderr",
     "output_type": "stream",
     "text": [
      "C:\\Users\\admin\\Anaconda3\\lib\\site-packages\\ipykernel_launcher.py:7: DeprecationWarning: Call to deprecated `__getitem__` (Method will be removed in 4.0.0, use self.wv.__getitem__() instead).\n",
      "  import sys\n"
     ]
    }
   ],
   "source": [
    "comment_vector = np.concatenate([get_comment_vector(comment) for comment in comment_tokens])"
   ]
  },
  {
   "cell_type": "code",
   "execution_count": 37,
   "metadata": {},
   "outputs": [
    {
     "data": {
      "text/plain": [
       "(150000, 100)"
      ]
     },
     "execution_count": 37,
     "metadata": {},
     "output_type": "execute_result"
    }
   ],
   "source": [
    "comment_vector.shape"
   ]
  },
  {
   "cell_type": "code",
   "execution_count": null,
   "metadata": {},
   "outputs": [],
   "source": [
    "#w2v_model2 = Word2Vec(size=500, \n",
    "#                     window=4,\n",
    "#                     sg=0, # cbow, 1 - skip gram\n",
    "#                     hs=0, # hierarchical softmax\n",
    "#                     negative=5, # число слов для которых обновлять веса\n",
    "#                     sample=0.0001, # в вероятности \n",
    "#                     alpha=0.025, # learing rate\n",
    "#                     min_alpha=0.0001, # до чего уменьшать lr\n",
    "#                     min_count=2, # слова которые встретились минимум два раза\n",
    "#                     workers=4)"
   ]
  },
  {
   "cell_type": "code",
   "execution_count": null,
   "metadata": {},
   "outputs": [],
   "source": [
    "#w2v_model2.build_vocab(sentences=comment_tokens)"
   ]
  },
  {
   "cell_type": "code",
   "execution_count": null,
   "metadata": {},
   "outputs": [],
   "source": [
    "#%%time\n",
    "#w2v_model2.train(comment_tokens, total_examples=w2v_model.corpus_count, epochs=100, compute_loss=True) "
   ]
  },
  {
   "cell_type": "markdown",
   "metadata": {},
   "source": [
    "## Train test split"
   ]
  },
  {
   "cell_type": "markdown",
   "metadata": {},
   "source": [
    "Попробуем сделать стратифицированные выборки"
   ]
  },
  {
   "cell_type": "code",
   "execution_count": 25,
   "metadata": {},
   "outputs": [],
   "source": [
    "from sklearn.model_selection import train_test_split"
   ]
  },
  {
   "cell_type": "code",
   "execution_count": 141,
   "metadata": {},
   "outputs": [
    {
     "data": {
      "text/plain": [
       "(150000, 100)"
      ]
     },
     "execution_count": 141,
     "metadata": {},
     "output_type": "execute_result"
    }
   ],
   "source": [
    "Data = pd.DataFrame(comment_vector)\n",
    "Data.shape"
   ]
  },
  {
   "cell_type": "code",
   "execution_count": 142,
   "metadata": {},
   "outputs": [
    {
     "data": {
      "text/plain": [
       "(150000, 6)"
      ]
     },
     "execution_count": 142,
     "metadata": {},
     "output_type": "execute_result"
    }
   ],
   "source": [
    "label = train.iloc[:,2:]\n",
    "label.shape"
   ]
  },
  {
   "cell_type": "code",
   "execution_count": 157,
   "metadata": {},
   "outputs": [],
   "source": [
    "train_data, test_data, train_labels, test_labels = train_test_split(Data, label, test_size=0.3, stratify=label)"
   ]
  },
  {
   "cell_type": "markdown",
   "metadata": {},
   "source": [
    "## SVM"
   ]
  },
  {
   "cell_type": "code",
   "execution_count": 49,
   "metadata": {},
   "outputs": [],
   "source": [
    "from sklearn.svm import SVC\n",
    "from sklearn.multiclass import OneVsRestClassifier"
   ]
  },
  {
   "cell_type": "code",
   "execution_count": null,
   "metadata": {},
   "outputs": [],
   "source": [
    "#clf = OneVsRestClassifier(SVC(С=0.1, kernel='linear', probability=True))"
   ]
  },
  {
   "cell_type": "code",
   "execution_count": null,
   "metadata": {},
   "outputs": [],
   "source": [
    "#%%time\n",
    "#clf.fit(train_data, train_labels)"
   ]
  },
  {
   "cell_type": "code",
   "execution_count": null,
   "metadata": {},
   "outputs": [],
   "source": [
    "#pred_labels = pd.DataFrame(clf.predict_proba(test_data))"
   ]
  },
  {
   "cell_type": "code",
   "execution_count": null,
   "metadata": {},
   "outputs": [],
   "source": [
    "#roc_auc_score(test_labels,pred_labels)"
   ]
  },
  {
   "cell_type": "markdown",
   "metadata": {},
   "source": [
    "Считалось очень долго, даже на kaggle, так что пока оставим и попробуем другой алгоритм"
   ]
  },
  {
   "cell_type": "markdown",
   "metadata": {},
   "source": [
    "## Logistic Regression"
   ]
  },
  {
   "cell_type": "code",
   "execution_count": 144,
   "metadata": {},
   "outputs": [],
   "source": [
    "from sklearn.linear_model import LogisticRegressionCV"
   ]
  },
  {
   "cell_type": "code",
   "execution_count": 158,
   "metadata": {},
   "outputs": [],
   "source": [
    "log_reg = OneVsRestClassifier(LogisticRegressionCV(cv=skf, multi_class='ovr'))"
   ]
  },
  {
   "cell_type": "code",
   "execution_count": 159,
   "metadata": {},
   "outputs": [
    {
     "name": "stdout",
     "output_type": "stream",
     "text": [
      "Wall time: 53.2 s\n"
     ]
    },
    {
     "data": {
      "text/plain": [
       "OneVsRestClassifier(estimator=LogisticRegressionCV(Cs=10, class_weight=None,\n",
       "           cv=StratifiedKFold(n_splits=2, random_state=None, shuffle=False),\n",
       "           dual=False, fit_intercept=True, intercept_scaling=1.0,\n",
       "           max_iter=100, multi_class='ovr', n_jobs=None, penalty='l2',\n",
       "           random_state=None, refit=True, scoring=None, solver='lbfgs',\n",
       "           tol=0.0001, verbose=0),\n",
       "          n_jobs=None)"
      ]
     },
     "execution_count": 159,
     "metadata": {},
     "output_type": "execute_result"
    }
   ],
   "source": [
    "%%time\n",
    "log_reg.fit(train_data, train_labels)"
   ]
  },
  {
   "cell_type": "code",
   "execution_count": 169,
   "metadata": {},
   "outputs": [],
   "source": [
    "pred_labels = pd.DataFrame(log_reg.predict_proba(test_data))"
   ]
  },
  {
   "cell_type": "code",
   "execution_count": 171,
   "metadata": {},
   "outputs": [
    {
     "data": {
      "text/plain": [
       "0.9422161033632181"
      ]
     },
     "execution_count": 171,
     "metadata": {},
     "output_type": "execute_result"
    }
   ],
   "source": [
    "roc_auc_score(test_labels,pred_labels)"
   ]
  },
  {
   "cell_type": "markdown",
   "metadata": {},
   "source": [
    "## CNN"
   ]
  },
  {
   "cell_type": "code",
   "execution_count": 54,
   "metadata": {},
   "outputs": [
    {
     "name": "stderr",
     "output_type": "stream",
     "text": [
      "C:\\Users\\admin\\Anaconda3\\lib\\site-packages\\h5py\\__init__.py:36: FutureWarning: Conversion of the second argument of issubdtype from `float` to `np.floating` is deprecated. In future, it will be treated as `np.float64 == np.dtype(float).type`.\n",
      "  from ._conv import register_converters as _register_converters\n",
      "Using TensorFlow backend.\n"
     ]
    }
   ],
   "source": [
    "from keras.models import Model\n",
    "from keras.preprocessing.text import Tokenizer\n",
    "from keras.preprocessing import sequence\n",
    "from keras.models import Sequential\n",
    "from keras.layers import Activation, Dense, Dropout, Input, Embedding, Conv1D, Conv2D, GlobalMaxPooling1D, GlobalAveragePooling1D, concatenate, Flatten\n",
    "from keras.optimizers import Adam, RMSprop"
   ]
  },
  {
   "cell_type": "markdown",
   "metadata": {},
   "source": [
    "Для того, чтобы представить комментарии в виде матриц для нейронной сети, необходимо задать максимальную длину комментария"
   ]
  },
  {
   "cell_type": "code",
   "execution_count": 55,
   "metadata": {},
   "outputs": [],
   "source": [
    "len_comments = [] # список длин каждого комментария\n",
    "for comment in comment_tokens:\n",
    "    len_comments.append(len(comment))"
   ]
  },
  {
   "cell_type": "code",
   "execution_count": 56,
   "metadata": {},
   "outputs": [],
   "source": [
    "len_comments = pd.Series(len_comments)"
   ]
  },
  {
   "cell_type": "code",
   "execution_count": 57,
   "metadata": {},
   "outputs": [
    {
     "data": {
      "text/plain": [
       "<matplotlib.axes._subplots.AxesSubplot at 0x218464036d8>"
      ]
     },
     "execution_count": 57,
     "metadata": {},
     "output_type": "execute_result"
    },
    {
     "data": {
      "image/png": "[encoded data removed]",
      "text/plain": [
       "<matplotlib.figure.Figure at 0x21846400f98>"
      ]
     },
     "metadata": {},
     "output_type": "display_data"
    }
   ],
   "source": [
    "len_comments.hist(bins=50, figsize=(20,15))"
   ]
  },
  {
   "cell_type": "markdown",
   "metadata": {},
   "source": [
    "Большинство комментариев имеют небольшую длину, близкую к 0"
   ]
  },
  {
   "cell_type": "code",
   "execution_count": 58,
   "metadata": {},
   "outputs": [
    {
     "data": {
      "text/plain": [
       "91.0"
      ]
     },
     "execution_count": 58,
     "metadata": {},
     "output_type": "execute_result"
    }
   ],
   "source": [
    "len_comments.quantile(q=0.95)"
   ]
  },
  {
   "cell_type": "markdown",
   "metadata": {},
   "source": [
    "Значение 91 покрывает 95% процентов всех комментариев, значит ограничим максимальный размер вектора каждого комментария этим числом. Если количество слов в комментарии будет превышать это число, они отбросятся, недостающие слова заменятся нулями"
   ]
  },
  {
   "cell_type": "code",
   "execution_count": 60,
   "metadata": {},
   "outputs": [
    {
     "data": {
      "text/plain": [
       "142617"
      ]
     },
     "execution_count": 60,
     "metadata": {},
     "output_type": "execute_result"
    }
   ],
   "source": [
    "len(len_comments[len_comments<92].index)"
   ]
  },
  {
   "cell_type": "code",
   "execution_count": null,
   "metadata": {},
   "outputs": [],
   "source": [
    "#idx = len_comments[len_comments<92].index - был вариант брать предложения только с меньшим количеством слов, \n",
    "                                            #чтобы не обрезать слова из длинных комментариев, но на результат это не повлияло"
   ]
  },
  {
   "cell_type": "code",
   "execution_count": 102,
   "metadata": {},
   "outputs": [],
   "source": [
    "Data = new_data\n",
    "label = train.iloc[:,2:].values"
   ]
  },
  {
   "cell_type": "code",
   "execution_count": 103,
   "metadata": {},
   "outputs": [],
   "source": [
    "train_data,test_data,train_labels,test_labels = train_test_split(Data, label,test_size=0.05, stratify=label)"
   ]
  },
  {
   "cell_type": "code",
   "execution_count": 104,
   "metadata": {},
   "outputs": [],
   "source": [
    "max_words = 161743 # размер словаря\n",
    "max_len = 91 # максимальная длина комментария"
   ]
  },
  {
   "cell_type": "markdown",
   "metadata": {},
   "source": [
    "Размер словаря намного превышает максимальную длину комментария. Так как мы хотим представить каждый комментарий в виде вектора длины 91, где каждый элемент(слово) будет соответствовать его номеру в словаре, то комментарии с разным набором слов будут заметно отличаться друг от друга. В задаче классификации по темам это могло бы быть полезно, посмотрим, как это повлияет на анализ токсичности"
   ]
  },
  {
   "cell_type": "code",
   "execution_count": 105,
   "metadata": {},
   "outputs": [],
   "source": [
    "tok = Tokenizer(num_words=max_words)\n",
    "tok.fit_on_texts(comment_tokens)"
   ]
  },
  {
   "cell_type": "code",
   "execution_count": 106,
   "metadata": {},
   "outputs": [],
   "source": [
    "train_sequences = tok.texts_to_sequences(train_data)\n",
    "train_sequences_matrix = sequence.pad_sequences(train_sequences,maxlen=max_len) \n",
    "\n",
    "test_sequences = tok.texts_to_sequences(test_data)\n",
    "test_sequences_matrix = sequence.pad_sequences(test_sequences,maxlen=max_len)"
   ]
  },
  {
   "cell_type": "code",
   "execution_count": 107,
   "metadata": {},
   "outputs": [
    {
     "data": {
      "text/plain": [
       "(142500, 91)"
      ]
     },
     "execution_count": 107,
     "metadata": {},
     "output_type": "execute_result"
    }
   ],
   "source": [
    "train_sequences_matrix.shape"
   ]
  },
  {
   "cell_type": "markdown",
   "metadata": {},
   "source": [
    "Создадим \"веса\" для слов для слоя Embedding, для этого возьмем векторные представления слов, полученные в модели word2vec"
   ]
  },
  {
   "cell_type": "code",
   "execution_count": 67,
   "metadata": {},
   "outputs": [],
   "source": [
    "word_index = tok.word_index"
   ]
  },
  {
   "cell_type": "code",
   "execution_count": 244,
   "metadata": {},
   "outputs": [
    {
     "data": {
      "text/plain": [
       "{'article': 1,\n",
       " 'page': 2,\n",
       " 'wikipedia': 3,\n",
       " 'would': 4,\n",
       " 'use': 5,\n",
       " 'one': 6,\n",
       " 'make': 7,\n",
       " 'like': 8,\n",
       " 'please': 9,\n",
       " 'say': 10,\n",
       " 'think': 11,\n",
       " 'edit': 12,\n",
       " 'talk': 13,\n",
       " 'see': 14,\n",
       " 'source': 15,\n",
       " 'know': 16,\n",
       " 'get': 17,\n",
       " 'go': 18,\n",
       " 'also': 19,\n",
       " 'add': 20,\n",
       " 'people': 21,\n",
       " 'time': 22,\n",
       " 'good': 23,\n",
       " 'need': 24,\n",
       " 'take': 25,\n",
       " 'may': 26,\n",
       " 'remove': 27,\n",
       " 'want': 28,\n",
       " 'look': 29,\n",
       " 'well': 30,\n",
       " 'delete': 31,\n",
       " 'link': 32,\n",
       " 'find': 33,\n",
       " 'block': 34,\n",
       " 'even': 35,\n",
       " 'work': 36,\n",
       " 'fuck': 37,\n",
       " 'could': 38,\n",
       " 'name': 39,\n",
       " 'change': 40,\n",
       " 'thanks': 41,\n",
       " 'user': 42,\n",
       " 'section': 43,\n",
       " 'give': 44,\n",
       " 'way': 45,\n",
       " 'information': 46,\n",
       " 'point': 47,\n",
       " 'comment': 48,\n",
       " 'seem': 49,\n",
       " 'try': 50,\n",
       " 'list': 51,\n",
       " 'thing': 52,\n",
       " 'write': 53,\n",
       " 'first': 54,\n",
       " 'fact': 55,\n",
       " 'editor': 56,\n",
       " 'deletion': 57,\n",
       " 'state': 58,\n",
       " 'read': 59,\n",
       " 'reference': 60,\n",
       " 'new': 61,\n",
       " 'right': 62,\n",
       " 'much': 63,\n",
       " 'many': 64,\n",
       " 'image': 65,\n",
       " 'ive': 66,\n",
       " 'really': 67,\n",
       " 'discussion': 68,\n",
       " 'include': 69,\n",
       " 'come': 70,\n",
       " 'mean': 71,\n",
       " 'since': 72,\n",
       " 'revert': 73,\n",
       " 'edits': 74,\n",
       " 'reason': 75,\n",
       " 'call': 76,\n",
       " 'help': 77,\n",
       " 'back': 78,\n",
       " 'thank': 79,\n",
       " 'two': 80,\n",
       " 'someone': 81,\n",
       " 'note': 82,\n",
       " 'place': 83,\n",
       " 'question': 84,\n",
       " 'word': 85,\n",
       " 'year': 86,\n",
       " 'still': 87,\n",
       " 'issue': 88,\n",
       " 'mention': 89,\n",
       " 'something': 90,\n",
       " 'hi': 91,\n",
       " 'tag': 92,\n",
       " 'stop': 93,\n",
       " 'show': 94,\n",
       " 'consider': 95,\n",
       " 'put': 96,\n",
       " 'create': 97,\n",
       " 'claim': 98,\n",
       " 'leave': 99,\n",
       " 'case': 100,\n",
       " 'content': 101,\n",
       " 'problem': 102,\n",
       " 'keep': 103,\n",
       " 'post': 104,\n",
       " 'history': 105,\n",
       " 'without': 106,\n",
       " 'believe': 107,\n",
       " 'ask': 108,\n",
       " 'let': 109,\n",
       " 'part': 110,\n",
       " 'another': 111,\n",
       " 'however': 112,\n",
       " 'utc': 113,\n",
       " 'person': 114,\n",
       " 'actually': 115,\n",
       " 'subject': 116,\n",
       " 'suck': 117,\n",
       " 'policy': 118,\n",
       " 'sure': 119,\n",
       " 'do': 120,\n",
       " 'never': 121,\n",
       " 'might': 122,\n",
       " 'day': 123,\n",
       " 'start': 124,\n",
       " 'agree': 125,\n",
       " 'nigger': 126,\n",
       " 'tell': 127,\n",
       " 'anything': 128,\n",
       " 'feel': 129,\n",
       " 'term': 130,\n",
       " 'book': 131,\n",
       " 'continue': 132,\n",
       " 'vandalism': 133,\n",
       " 'support': 134,\n",
       " 'view': 135,\n",
       " 'understand': 136,\n",
       " 'regard': 137,\n",
       " 'attack': 138,\n",
       " 'opinion': 139,\n",
       " 'already': 140,\n",
       " 'explain': 141,\n",
       " 'provide': 142,\n",
       " 'move': 143,\n",
       " 'request': 144,\n",
       " 'little': 145,\n",
       " 'personal': 146,\n",
       " 'long': 147,\n",
       " 'wrong': 148,\n",
       " 'notice': 149,\n",
       " 'though': 150,\n",
       " 'nothing': 151,\n",
       " 'site': 152,\n",
       " 'war': 153,\n",
       " 'world': 154,\n",
       " 'gay': 155,\n",
       " 'wiki': 156,\n",
       " 'anyone': 157,\n",
       " 'number': 158,\n",
       " 'example': 159,\n",
       " 'speedy': 160,\n",
       " 'best': 161,\n",
       " 'different': 162,\n",
       " 'rather': 163,\n",
       " 'appear': 164,\n",
       " 'copyright': 165,\n",
       " 'bad': 166,\n",
       " 'suggest': 167,\n",
       " 'rule': 168,\n",
       " 'others': 169,\n",
       " 'sorry': 170,\n",
       " 'check': 171,\n",
       " 'last': 172,\n",
       " 'text': 173,\n",
       " 'must': 174,\n",
       " 'free': 175,\n",
       " 'great': 176,\n",
       " 'matter': 177,\n",
       " 'review': 178,\n",
       " 'statement': 179,\n",
       " 'lot': 180,\n",
       " 'probably': 181,\n",
       " 'correct': 182,\n",
       " 'account': 183,\n",
       " 'group': 184,\n",
       " 'report': 185,\n",
       " 'reliable': 186,\n",
       " 'follow': 187,\n",
       " 'english': 188,\n",
       " 'discuss': 189,\n",
       " 'least': 190,\n",
       " 'either': 191,\n",
       " 'every': 192,\n",
       " 'welcome': 193,\n",
       " 'life': 194,\n",
       " 'website': 195,\n",
       " 'material': 196,\n",
       " 'ip': 197,\n",
       " 'far': 198,\n",
       " 'enough': 199,\n",
       " 'language': 200,\n",
       " 'simply': 201,\n",
       " 'idea': 202,\n",
       " 'old': 203,\n",
       " 'cite': 204,\n",
       " 'original': 205,\n",
       " 'yes': 206,\n",
       " 'fair': 207,\n",
       " 'else': 208,\n",
       " 'criterion': 209,\n",
       " 'message': 210,\n",
       " 'clear': 211,\n",
       " 'version': 212,\n",
       " 'notable': 213,\n",
       " 'consensus': 214,\n",
       " 'quote': 215,\n",
       " 'exist': 216,\n",
       " 'etc': 217,\n",
       " 'hope': 218,\n",
       " 'happen': 219,\n",
       " 'title': 220,\n",
       " 'address': 221,\n",
       " 'maybe': 222,\n",
       " 'end': 223,\n",
       " 'yet': 224,\n",
       " 'base': 225,\n",
       " 'around': 226,\n",
       " 'clearly': 227,\n",
       " 'real': 228,\n",
       " 'guy': 229,\n",
       " 'evidence': 230,\n",
       " 'guideline': 231,\n",
       " 'quite': 232,\n",
       " 'country': 233,\n",
       " 'lead': 234,\n",
       " 'bit': 235,\n",
       " 'picture': 236,\n",
       " 'care': 237,\n",
       " 'refer': 238,\n",
       " 'encyclopedia': 239,\n",
       " 'true': 240,\n",
       " 'become': 241,\n",
       " 'oh': 242,\n",
       " 'perhaps': 243,\n",
       " 'faggot': 244,\n",
       " 'ever': 245,\n",
       " 'topic': 246,\n",
       " 'research': 247,\n",
       " 'whether': 248,\n",
       " 'template': 249,\n",
       " 'admin': 250,\n",
       " 'die': 251,\n",
       " 'dont': 252,\n",
       " 'sentence': 253,\n",
       " 'live': 254,\n",
       " 'instead': 255,\n",
       " 'american': 256,\n",
       " 'important': 257,\n",
       " 'shit': 258,\n",
       " 'hello': 259,\n",
       " 'citation': 260,\n",
       " 'pov': 261,\n",
       " 'second': 262,\n",
       " 'contribution': 263,\n",
       " 'big': 264,\n",
       " 'medium': 265,\n",
       " 'game': 266,\n",
       " 'allow': 267,\n",
       " 'always': 268,\n",
       " 'interest': 269,\n",
       " 'school': 270,\n",
       " 'ban': 271,\n",
       " 'current': 272,\n",
       " 'top': 273,\n",
       " 'hate': 274,\n",
       " 'argument': 275,\n",
       " 'kind': 276,\n",
       " 'several': 277,\n",
       " 'cannot': 278,\n",
       " 'concern': 279,\n",
       " 'man': 280,\n",
       " 'whole': 281,\n",
       " 'main': 282,\n",
       " 'vandalize': 283,\n",
       " 'high': 284,\n",
       " 'kill': 285,\n",
       " 'course': 286,\n",
       " 'present': 287,\n",
       " 'line': 288,\n",
       " 'common': 289,\n",
       " 'general': 290,\n",
       " 'jew': 291,\n",
       " 'possible': 292,\n",
       " 'love': 293,\n",
       " 'describe': 294,\n",
       " 'ok': 295,\n",
       " 'upload': 296,\n",
       " 'hey': 297,\n",
       " 'result': 298,\n",
       " 'order': 299,\n",
       " 'dispute': 300,\n",
       " 'sense': 301,\n",
       " 'contribute': 302,\n",
       " 'position': 303,\n",
       " 'mind': 304,\n",
       " 'less': 305,\n",
       " 'answer': 306,\n",
       " 'attempt': 307,\n",
       " 'lol': 308,\n",
       " 'accept': 309,\n",
       " 'test': 310,\n",
       " 'form': 311,\n",
       " 'learn': 312,\n",
       " 'project': 313,\n",
       " 'dick': 314,\n",
       " 'stupid': 315,\n",
       " 'action': 316,\n",
       " 'three': 317,\n",
       " 'specific': 318,\n",
       " 'company': 319,\n",
       " 'date': 320,\n",
       " 'play': 321,\n",
       " 'fix': 322,\n",
       " 'bias': 323,\n",
       " 'member': 324,\n",
       " 'cause': 325,\n",
       " 'act': 326,\n",
       " 'system': 327,\n",
       " 'per': 328,\n",
       " 'appropriate': 329,\n",
       " 'although': 330,\n",
       " 'paragraph': 331,\n",
       " 'type': 332,\n",
       " 'th': 333,\n",
       " 'city': 334,\n",
       " 'side': 335,\n",
       " 'wish': 336,\n",
       " 'area': 337,\n",
       " 'category': 338,\n",
       " 'summary': 339,\n",
       " 'law': 340,\n",
       " 'info': 341,\n",
       " 'relevant': 342,\n",
       " 'involve': 343,\n",
       " 'next': 344,\n",
       " 'large': 345,\n",
       " 'improve': 346,\n",
       " 'party': 347,\n",
       " 'record': 348,\n",
       " 'theory': 349,\n",
       " 'detail': 350,\n",
       " 'bring': 351,\n",
       " 'standard': 352,\n",
       " 'publish': 353,\n",
       " 'band': 354,\n",
       " 'week': 355,\n",
       " 'meet': 356,\n",
       " 'single': 357,\n",
       " 'youve': 358,\n",
       " 'reply': 359,\n",
       " 'currently': 360,\n",
       " 'pretty': 361,\n",
       " 'as': 362,\n",
       " 'anyway': 363,\n",
       " 'power': 364,\n",
       " 'appreciate': 365,\n",
       " 'propose': 366,\n",
       " 'official': 367,\n",
       " 'file': 368,\n",
       " 'copy': 369,\n",
       " 'ball': 370,\n",
       " 'administrator': 371,\n",
       " 'small': 372,\n",
       " 'public': 373,\n",
       " 'accord': 374,\n",
       " 'run': 375,\n",
       " 'speak': 376,\n",
       " 'especially': 377,\n",
       " 'community': 378,\n",
       " 'reader': 379,\n",
       " 'completely': 380,\n",
       " 'stuff': 381,\n",
       " 'certainly': 382,\n",
       " 'process': 383,\n",
       " 'assume': 384,\n",
       " 'release': 385,\n",
       " 'away': 386,\n",
       " 'within': 387,\n",
       " 'prove': 388,\n",
       " 'hard': 389,\n",
       " 'film': 390,\n",
       " 'close': 391,\n",
       " 'recent': 392,\n",
       " 'everyone': 393,\n",
       " 'entry': 394,\n",
       " 'cover': 395,\n",
       " 'deal': 396,\n",
       " 'god': 397,\n",
       " 'month': 398,\n",
       " 'sound': 399,\n",
       " 'government': 400,\n",
       " 'author': 401,\n",
       " 'response': 402,\n",
       " 'definition': 403,\n",
       " 'unless': 404,\n",
       " 'addition': 405,\n",
       " 'moron': 406,\n",
       " 'sort': 407,\n",
       " 'full': 408,\n",
       " 'guess': 409,\n",
       " 'therefore': 410,\n",
       " 'indicate': 411,\n",
       " 'age': 412,\n",
       " 'today': 413,\n",
       " 'notability': 414,\n",
       " 'later': 415,\n",
       " 'web': 416,\n",
       " 'able': 417,\n",
       " 'obviously': 418,\n",
       " 'everything': 419,\n",
       " 'decide': 420,\n",
       " 'nice': 421,\n",
       " 'due': 422,\n",
       " 'photo': 423,\n",
       " 'news': 424,\n",
       " 'story': 425,\n",
       " 'cunt': 426,\n",
       " 'event': 427,\n",
       " 'open': 428,\n",
       " 'character': 429,\n",
       " 'email': 430,\n",
       " 'political': 431,\n",
       " 'early': 432,\n",
       " 'relate': 433,\n",
       " 'set': 434,\n",
       " 'warning': 435,\n",
       " 'force': 436,\n",
       " 'neutral': 437,\n",
       " 'hear': 438,\n",
       " 'friend': 439,\n",
       " 'hand': 440,\n",
       " 'child': 441,\n",
       " 'similar': 442,\n",
       " 'hold': 443,\n",
       " 'study': 444,\n",
       " 'search': 445,\n",
       " 'lie': 446,\n",
       " 'wonder': 447,\n",
       " 'particular': 448,\n",
       " 'head': 449,\n",
       " 'truth': 450,\n",
       " 'fat': 451,\n",
       " 'ago': 452,\n",
       " 'major': 453,\n",
       " 'white': 454,\n",
       " 'explanation': 455,\n",
       " 'exactly': 456,\n",
       " 'figure': 457,\n",
       " 'require': 458,\n",
       " 'redirect': 459,\n",
       " 'british': 460,\n",
       " 'family': 461,\n",
       " 'past': 462,\n",
       " 'woman': 463,\n",
       " 'happy': 464,\n",
       " 'fine': 465,\n",
       " 'whatever': 466,\n",
       " 'sandbox': 467,\n",
       " 'merge': 468,\n",
       " 'future': 469,\n",
       " 'disagree': 470,\n",
       " 'faith': 471,\n",
       " 'im': 472,\n",
       " 'sign': 473,\n",
       " 'vote': 474,\n",
       " 'stand': 475,\n",
       " 'lack': 476,\n",
       " 'short': 477,\n",
       " 'often': 478,\n",
       " 'national': 479,\n",
       " 'suppose': 480,\n",
       " 'piece': 481,\n",
       " 'error': 482,\n",
       " 'description': 483,\n",
       " 'miss': 484,\n",
       " 'mistake': 485,\n",
       " 'entire': 486,\n",
       " 'black': 487,\n",
       " 'human': 488,\n",
       " 'generally': 489,\n",
       " 'boob': 490,\n",
       " 'almost': 491,\n",
       " 'hour': 492,\n",
       " 'contact': 493,\n",
       " 'united': 494,\n",
       " 'false': 495,\n",
       " 'experiment': 496,\n",
       " 'university': 497,\n",
       " 'remember': 498,\n",
       " 'likely': 499,\n",
       " 'debate': 500,\n",
       " 'respond': 501,\n",
       " 'ignore': 502,\n",
       " 'avoid': 503,\n",
       " 'saw': 504,\n",
       " 'warn': 505,\n",
       " 'couple': 506,\n",
       " 'recently': 507,\n",
       " 'indeed': 508,\n",
       " 'difference': 509,\n",
       " 'context': 510,\n",
       " 'death': 511,\n",
       " 'send': 512,\n",
       " 'google': 513,\n",
       " 'certain': 514,\n",
       " 'bullshit': 515,\n",
       " 'watch': 516,\n",
       " 'conflict': 517,\n",
       " 'german': 518,\n",
       " 'thought': 519,\n",
       " 'aware': 520,\n",
       " 'turn': 521,\n",
       " 'fail': 522,\n",
       " 'oppose': 523,\n",
       " 'update': 524,\n",
       " 'remain': 525,\n",
       " 'interested': 526,\n",
       " 'useful': 527,\n",
       " 'bitch': 528,\n",
       " 'knowledge': 529,\n",
       " 'criticism': 530,\n",
       " 'abuse': 531,\n",
       " 'otherwise': 532,\n",
       " 'begin': 533,\n",
       " 'late': 534,\n",
       " 'church': 535,\n",
       " 'level': 536,\n",
       " 'along': 537,\n",
       " 'nonsense': 538,\n",
       " 'violation': 539,\n",
       " 'argue': 540,\n",
       " 'song': 541,\n",
       " 'actual': 542,\n",
       " 'suggestion': 543,\n",
       " 'individual': 544,\n",
       " 'music': 545,\n",
       " 'break': 546,\n",
       " 'respect': 547,\n",
       " 'penis': 548,\n",
       " 'job': 549,\n",
       " 'stay': 550,\n",
       " 'video': 551,\n",
       " 'bear': 552,\n",
       " 'complete': 553,\n",
       " 'thus': 554,\n",
       " 'lose': 555,\n",
       " 'style': 556,\n",
       " 'obvious': 557,\n",
       " 'status': 558,\n",
       " 'science': 559,\n",
       " 'separate': 560,\n",
       " 'mother': 561,\n",
       " 'purpose': 562,\n",
       " 'replace': 563,\n",
       " 'simple': 564,\n",
       " 'wp': 565,\n",
       " 'team': 566,\n",
       " 'accuse': 567,\n",
       " 'alone': 568,\n",
       " 'admins': 569,\n",
       " 'previous': 570,\n",
       " 'apply': 571,\n",
       " 'various': 572,\n",
       " 'contain': 573,\n",
       " 'confirm': 574,\n",
       " 'internet': 575,\n",
       " 'share': 576,\n",
       " 'wait': 577,\n",
       " 'christian': 578,\n",
       " 'doubt': 579,\n",
       " 'control': 580,\n",
       " 'proper': 581,\n",
       " 'john': 582,\n",
       " 'poop': 583,\n",
       " 'de': 584,\n",
       " 'proof': 585,\n",
       " 'million': 586,\n",
       " 'mr': 587,\n",
       " 'violate': 588,\n",
       " 'organization': 589,\n",
       " 'soon': 590,\n",
       " 'valid': 591,\n",
       " 'fight': 592,\n",
       " 'seriously': 593,\n",
       " 'cheer': 594,\n",
       " 'license': 595,\n",
       " 'external': 596,\n",
       " 'effort': 597,\n",
       " 'greek': 598,\n",
       " 'archive': 599,\n",
       " 'situation': 600,\n",
       " 'series': 601,\n",
       " 'fan': 602,\n",
       " 'npov': 603,\n",
       " 'easy': 604,\n",
       " 'accurate': 605,\n",
       " 'choose': 606,\n",
       " 'expect': 607,\n",
       " 'table': 608,\n",
       " 'together': 609,\n",
       " 'space': 610,\n",
       " 'hell': 611,\n",
       " 'personally': 612,\n",
       " 'culture': 613,\n",
       " 'period': 614,\n",
       " 'yeah': 615,\n",
       " 'available': 616,\n",
       " 'multiple': 617,\n",
       " 'album': 618,\n",
       " 'usually': 619,\n",
       " 'rest': 620,\n",
       " 'data': 621,\n",
       " 'service': 622,\n",
       " 'necessary': 623,\n",
       " 'contest': 624,\n",
       " 'face': 625,\n",
       " 'box': 626,\n",
       " 'huge': 627,\n",
       " 'direct': 628,\n",
       " 'serious': 629,\n",
       " 'biography': 630,\n",
       " 'map': 631,\n",
       " 'experience': 632,\n",
       " 'historical': 633,\n",
       " 'offer': 634,\n",
       " 'protect': 635,\n",
       " 'apparently': 636,\n",
       " 'effect': 637,\n",
       " 'idiot': 638,\n",
       " 'bark': 639,\n",
       " 'document': 640,\n",
       " 'south': 641,\n",
       " 'reach': 642,\n",
       " 'troll': 643,\n",
       " 'religion': 644,\n",
       " 'third': 645,\n",
       " 'decision': 646,\n",
       " 'restore': 647,\n",
       " 'receive': 648,\n",
       " 'orly': 649,\n",
       " 'legal': 650,\n",
       " 'except': 651,\n",
       " 'house': 652,\n",
       " 'following': 653,\n",
       " 'paper': 654,\n",
       " 'pay': 655,\n",
       " 'movie': 656,\n",
       " 'attention': 657,\n",
       " 'online': 658,\n",
       " 'among': 659,\n",
       " 'quality': 660,\n",
       " 'belong': 661,\n",
       " 'none': 662,\n",
       " 'vandal': 663,\n",
       " 'behavior': 664,\n",
       " 'low': 665,\n",
       " 'mark': 666,\n",
       " 'rewrite': 667,\n",
       " 'field': 668,\n",
       " 'upon': 669,\n",
       " 'kid': 670,\n",
       " 'king': 671,\n",
       " 'light': 672,\n",
       " 'afd': 673,\n",
       " 'episode': 674,\n",
       " 'incorrect': 675,\n",
       " 'plan': 676,\n",
       " 'accusation': 677,\n",
       " 'july': 678,\n",
       " 'directly': 679,\n",
       " 'dead': 680,\n",
       " 'unblock': 681,\n",
       " 'raise': 682,\n",
       " 'eye': 683,\n",
       " 'okay': 684,\n",
       " 'feature': 685,\n",
       " 'confuse': 686,\n",
       " 'primary': 687,\n",
       " 'century': 688,\n",
       " 'modern': 689,\n",
       " 'four': 690,\n",
       " 'student': 691,\n",
       " 'establish': 692,\n",
       " 'court': 693,\n",
       " 'significant': 694,\n",
       " 'meaning': 695,\n",
       " 'editing': 696,\n",
       " 'practice': 697,\n",
       " 'military': 698,\n",
       " 'bot': 699,\n",
       " 'repeat': 700,\n",
       " 'shall': 701,\n",
       " 'press': 702,\n",
       " 'nominate': 703,\n",
       " 'sock': 704,\n",
       " 'body': 705,\n",
       " 'specify': 706,\n",
       " 'cock': 707,\n",
       " 'boy': 708,\n",
       " 'disruptive': 709,\n",
       " 'jewish': 710,\n",
       " 'phrase': 711,\n",
       " 'sometimes': 712,\n",
       " 'international': 713,\n",
       " 'specifically': 714,\n",
       " 'count': 715,\n",
       " 'define': 716,\n",
       " 'return': 717,\n",
       " 'business': 718,\n",
       " 'poor': 719,\n",
       " 'population': 720,\n",
       " 'outside': 721,\n",
       " 'anal': 722,\n",
       " 'men': 723,\n",
       " 'promote': 724,\n",
       " 'uk': 725,\n",
       " 'rationale': 726,\n",
       " 'award': 727,\n",
       " 'amount': 728,\n",
       " 'log': 729,\n",
       " 'expand': 730,\n",
       " 'focus': 731,\n",
       " 'strong': 732,\n",
       " 'march': 733,\n",
       " 'america': 734,\n",
       " 'bother': 735,\n",
       " 'scientific': 736,\n",
       " 'irrelevant': 737,\n",
       " 'movement': 738,\n",
       " 'admit': 739,\n",
       " 'french': 740,\n",
       " 'intend': 741,\n",
       " 'value': 742,\n",
       " 'inclusion': 743,\n",
       " 'computer': 744,\n",
       " 'reflect': 745,\n",
       " 'india': 746,\n",
       " 'worth': 747,\n",
       " 'object': 748,\n",
       " 'particularly': 749,\n",
       " 'product': 750,\n",
       " 'chance': 751,\n",
       " 'north': 752,\n",
       " 'controversy': 753,\n",
       " 'race': 754,\n",
       " 'class': 755,\n",
       " 'totally': 756,\n",
       " 'pass': 757,\n",
       " 'sex': 758,\n",
       " 'hit': 759,\n",
       " 'august': 760,\n",
       " 'neither': 761,\n",
       " 'represent': 762,\n",
       " 'click': 763,\n",
       " 'concept': 764,\n",
       " 'format': 765,\n",
       " 'red': 766,\n",
       " 'entirely': 767,\n",
       " 'club': 768,\n",
       " 'june': 769,\n",
       " 'waste': 770,\n",
       " 'majority': 771,\n",
       " 'january': 772,\n",
       " 'towards': 773,\n",
       " 'april': 774,\n",
       " 'wikiproject': 775,\n",
       " 'contribs': 776,\n",
       " 'nation': 777,\n",
       " 'independent': 778,\n",
       " 'realize': 779,\n",
       " 'serve': 780,\n",
       " 'push': 781,\n",
       " 'forget': 782,\n",
       " 'program': 783,\n",
       " 'build': 784,\n",
       " 'dear': 785,\n",
       " 'israel': 786,\n",
       " 'home': 787,\n",
       " 'nger': 788,\n",
       " 'interesting': 789,\n",
       " 'inappropriate': 790,\n",
       " 'absolutely': 791,\n",
       " 'design': 792,\n",
       " 'civil': 793,\n",
       " 'insult': 794,\n",
       " 'wanker': 795,\n",
       " 'contributor': 796,\n",
       " 'infobox': 797,\n",
       " 'merely': 798,\n",
       " 'possibly': 799,\n",
       " 'player': 800,\n",
       " 'muslim': 801,\n",
       " 'compare': 802,\n",
       " 'final': 803,\n",
       " 'authority': 804,\n",
       " 'nazi': 805,\n",
       " 'damn': 806,\n",
       " 'half': 807,\n",
       " 'clean': 808,\n",
       " 'removal': 809,\n",
       " 'label': 810,\n",
       " 'bastard': 811,\n",
       " 'deserve': 812,\n",
       " 'join': 813,\n",
       " 'racist': 814,\n",
       " 'nobody': 815,\n",
       " 'art': 816,\n",
       " 'fucking': 817,\n",
       " 'joke': 818,\n",
       " 'eat': 819,\n",
       " 'minor': 820,\n",
       " 'moment': 821,\n",
       " 'step': 822,\n",
       " 'instance': 823,\n",
       " 'st': 824,\n",
       " 'mine': 825,\n",
       " 'across': 826,\n",
       " 'nature': 827,\n",
       " 'match': 828,\n",
       " 'behind': 829,\n",
       " 'expert': 830,\n",
       " 'russian': 831,\n",
       " 'anonymous': 832,\n",
       " 'stick': 833,\n",
       " 'december': 834,\n",
       " 'indian': 835,\n",
       " 'fit': 836,\n",
       " 'unsigned': 837,\n",
       " 'spend': 838,\n",
       " 'properly': 839,\n",
       " 'save': 840,\n",
       " 'letter': 841,\n",
       " 'advice': 842,\n",
       " 'highly': 843,\n",
       " 'former': 844,\n",
       " 'acceptable': 845,\n",
       " 'president': 846,\n",
       " 'longer': 847,\n",
       " 'wtf': 848,\n",
       " 'flag': 849,\n",
       " 'minute': 850,\n",
       " 'fall': 851,\n",
       " 'cool': 852,\n",
       " 'unsourced': 853,\n",
       " 'total': 854,\n",
       " 'origin': 855,\n",
       " 'october': 856,\n",
       " 'verify': 857,\n",
       " 'engage': 858,\n",
       " 'produce': 859,\n",
       " 'sw': 860,\n",
       " 'definitely': 861,\n",
       " 'crap': 862,\n",
       " 'speedily': 863,\n",
       " 'prevent': 864,\n",
       " 'college': 865,\n",
       " 'influence': 866,\n",
       " 'academic': 867,\n",
       " 'unfortunately': 868,\n",
       " 'despite': 869,\n",
       " 'money': 870,\n",
       " 'september': 871,\n",
       " 'local': 872,\n",
       " 'basic': 873,\n",
       " 'access': 874,\n",
       " 'season': 875,\n",
       " 'easily': 876,\n",
       " 'earth': 877,\n",
       " 'nipple': 878,\n",
       " 'crime': 879,\n",
       " 'november': 880,\n",
       " 'ahead': 881,\n",
       " 'reasonable': 882,\n",
       " 'land': 883,\n",
       " 'helpful': 884,\n",
       " 'prefer': 885,\n",
       " 'social': 886,\n",
       " 'tv': 887,\n",
       " 'usage': 888,\n",
       " 'imply': 889,\n",
       " 'cut': 890,\n",
       " 'special': 891,\n",
       " 'verifiable': 892,\n",
       " 'board': 893,\n",
       " 'insert': 894,\n",
       " 'battle': 895,\n",
       " 'drop': 896,\n",
       " 'threat': 897,\n",
       " 'father': 898,\n",
       " 'limit': 899,\n",
       " 'army': 900,\n",
       " 'mostly': 901,\n",
       " 'somebody': 902,\n",
       " 'blog': 903,\n",
       " 'air': 904,\n",
       " 'rape': 905,\n",
       " 'dickhead': 906,\n",
       " 'participate': 907,\n",
       " 'difficult': 908,\n",
       " 'chinese': 909,\n",
       " 'spell': 910,\n",
       " 'region': 911,\n",
       " 'identify': 912,\n",
       " 'basis': 913,\n",
       " 'trouble': 914,\n",
       " 'society': 915,\n",
       " 'religious': 916,\n",
       " 'european': 917,\n",
       " 'jesus': 918,\n",
       " 'basically': 919,\n",
       " 'treat': 920,\n",
       " 'method': 921,\n",
       " 'belief': 922,\n",
       " 'newspaper': 923,\n",
       " 'determine': 924,\n",
       " 'popular': 925,\n",
       " 'thats': 926,\n",
       " 'btw': 927,\n",
       " 'fully': 928,\n",
       " 'connection': 929,\n",
       " 'february': 930,\n",
       " 'girl': 931,\n",
       " 'grow': 932,\n",
       " 'express': 933,\n",
       " 'code': 934,\n",
       " 'ground': 935,\n",
       " 'star': 936,\n",
       " 'west': 937,\n",
       " 'conclusion': 938,\n",
       " 'catholic': 939,\n",
       " 'ridiculous': 940,\n",
       " 'finally': 941,\n",
       " 'controversial': 942,\n",
       " 'occur': 943,\n",
       " 'alternative': 944,\n",
       " 'model': 945,\n",
       " 'win': 946,\n",
       " 'username': 947,\n",
       " 'role': 948,\n",
       " 'young': 949,\n",
       " 'previously': 950,\n",
       " 'weight': 951,\n",
       " 'proposal': 952,\n",
       " 'blank': 953,\n",
       " 'rock': 954,\n",
       " 'recognize': 955,\n",
       " 'water': 956,\n",
       " 'somewhere': 957,\n",
       " 'resolve': 958,\n",
       " 'ga': 959,\n",
       " 'forum': 960,\n",
       " 'nomination': 961,\n",
       " 'rfc': 962,\n",
       " 'forward': 963,\n",
       " 'approach': 964,\n",
       " 'police': 965,\n",
       " 'factual': 966,\n",
       " 'suspect': 967,\n",
       " 'creation': 968,\n",
       " 'dog': 969,\n",
       " 'seek': 970,\n",
       " 'defend': 971,\n",
       " 'spanish': 972,\n",
       " 'son': 973,\n",
       " 'york': 974,\n",
       " 'scholar': 975,\n",
       " 'near': 976,\n",
       " 'negative': 977,\n",
       " 'asshole': 978,\n",
       " 'east': 979,\n",
       " 'translation': 980,\n",
       " 'objection': 981,\n",
       " 'publication': 982,\n",
       " 'middle': 983,\n",
       " 'ref': 984,\n",
       " 'mess': 985,\n",
       " 'david': 986,\n",
       " 'enjoy': 987,\n",
       " 'beyond': 988,\n",
       " 'manner': 989,\n",
       " 'apology': 990,\n",
       " 'propaganda': 991,\n",
       " 'deny': 992,\n",
       " 'no': 993,\n",
       " 'listen': 994,\n",
       " 'mass': 995,\n",
       " 'assert': 996,\n",
       " 'justify': 997,\n",
       " 'prior': 998,\n",
       " 'night': 999,\n",
       " 'importance': 1000,\n",
       " ...}"
      ]
     },
     "execution_count": 244,
     "metadata": {},
     "output_type": "execute_result"
    }
   ],
   "source": [
    "word_index"
   ]
  },
  {
   "cell_type": "code",
   "execution_count": 68,
   "metadata": {},
   "outputs": [
    {
     "data": {
      "text/plain": [
       "161743"
      ]
     },
     "execution_count": 68,
     "metadata": {},
     "output_type": "execute_result"
    }
   ],
   "source": [
    "len(word_index)"
   ]
  },
  {
   "cell_type": "code",
   "execution_count": 69,
   "metadata": {},
   "outputs": [
    {
     "data": {
      "text/plain": [
       "161743"
      ]
     },
     "execution_count": 69,
     "metadata": {},
     "output_type": "execute_result"
    }
   ],
   "source": [
    "len(w2v_model.wv.vocab)"
   ]
  },
  {
   "cell_type": "code",
   "execution_count": 70,
   "metadata": {},
   "outputs": [],
   "source": [
    "embeddings_index = {}\n",
    "for word, index in word_index.items():\n",
    "    embeddings_index[word] = w2v_model.wv[word]"
   ]
  },
  {
   "cell_type": "code",
   "execution_count": 71,
   "metadata": {},
   "outputs": [],
   "source": [
    "embedding_matrix = np.zeros((max_words+1, 100))\n",
    "for word, i in word_index.items():\n",
    "    embedding_vector = embeddings_index.get(word)\n",
    "    if embedding_vector is not None:\n",
    "        embedding_matrix[i] = embedding_vector"
   ]
  },
  {
   "cell_type": "code",
   "execution_count": 74,
   "metadata": {},
   "outputs": [],
   "source": [
    "image_input = Input(shape=(max_len, ))\n",
    "layer = Embedding(input_dim=max_words+1, output_dim=100, input_length=max_len, weights=[embedding_matrix])(image_input)\n",
    "layer = Dropout(0.7) (layer)\n",
    "layer = Conv1D(filters=100, kernel_size=3, activation='relu')(layer)\n",
    "avg_pl = GlobalAveragePooling1D()(layer)\n",
    "max_pl = GlobalMaxPooling1D()(layer)\n",
    "\n",
    "conc = concatenate([avg_pl, max_pl])\n",
    "\n",
    "layer = Dense(6, activation=\"sigmoid\")(conc)\n",
    "cnn_model = Model(inputs=image_input, outputs=layer)"
   ]
  },
  {
   "cell_type": "code",
   "execution_count": 75,
   "metadata": {},
   "outputs": [],
   "source": [
    "cnn_model.compile(loss='binary_crossentropy', optimizer=Adam(lr=0.001), metrics=['accuracy'])"
   ]
  },
  {
   "cell_type": "code",
   "execution_count": 76,
   "metadata": {},
   "outputs": [
    {
     "name": "stdout",
     "output_type": "stream",
     "text": [
      "Train on 135375 samples, validate on 7125 samples\n",
      "Epoch 1/10\n",
      "135375/135375 [==============================] - 524s 4ms/step - loss: 0.1124 - acc: 0.9652 - val_loss: 0.0812 - val_acc: 0.9731\n",
      "Epoch 2/10\n",
      "135375/135375 [==============================] - 521s 4ms/step - loss: 0.0816 - acc: 0.9729 - val_loss: 0.0834 - val_acc: 0.9729\n",
      "Epoch 3/10\n",
      "135375/135375 [==============================] - 520s 4ms/step - loss: 0.0766 - acc: 0.9741 - val_loss: 0.0770 - val_acc: 0.9743\n",
      "Epoch 4/10\n",
      "135375/135375 [==============================] - 544s 4ms/step - loss: 0.0737 - acc: 0.9748 - val_loss: 0.0883 - val_acc: 0.9720\n",
      "Epoch 5/10\n",
      "135375/135375 [==============================] - 535s 4ms/step - loss: 0.0718 - acc: 0.9753 - val_loss: 0.0683 - val_acc: 0.9762\n",
      "Epoch 6/10\n",
      "135375/135375 [==============================] - 535s 4ms/step - loss: 0.0701 - acc: 0.9758 - val_loss: 0.0747 - val_acc: 0.9751\n",
      "Epoch 7/10\n",
      "135375/135375 [==============================] - 523s 4ms/step - loss: 0.0691 - acc: 0.9759 - val_loss: 0.0683 - val_acc: 0.9765\n",
      "Epoch 8/10\n",
      "135375/135375 [==============================] - 464s 3ms/step - loss: 0.0681 - acc: 0.9763 - val_loss: 0.0675 - val_acc: 0.9776\n",
      "Epoch 9/10\n",
      "135375/135375 [==============================] - 430s 3ms/step - loss: 0.0669 - acc: 0.9765 - val_loss: 0.0698 - val_acc: 0.9767\n",
      "Epoch 10/10\n",
      "135375/135375 [==============================] - 410s 3ms/step - loss: 0.0664 - acc: 0.9765 - val_loss: 0.0648 - val_acc: 0.9779\n"
     ]
    },
    {
     "data": {
      "text/plain": [
       "<keras.callbacks.History at 0x21842ea31d0>"
      ]
     },
     "execution_count": 76,
     "metadata": {},
     "output_type": "execute_result"
    }
   ],
   "source": [
    "cnn_model.fit(train_sequences_matrix, train_labels, validation_split=0.05, epochs=10, batch_size=128)"
   ]
  },
  {
   "cell_type": "code",
   "execution_count": 77,
   "metadata": {},
   "outputs": [],
   "source": [
    "pred_labels = cnn_model.predict(test_sequences_matrix)"
   ]
  },
  {
   "cell_type": "code",
   "execution_count": 78,
   "metadata": {},
   "outputs": [
    {
     "data": {
      "text/plain": [
       "0.9688184679768416"
      ]
     },
     "execution_count": 78,
     "metadata": {},
     "output_type": "execute_result"
    }
   ],
   "source": [
    "roc_auc_score(test_labels,pred_labels)"
   ]
  },
  {
   "cell_type": "code",
   "execution_count": 79,
   "metadata": {},
   "outputs": [],
   "source": [
    "final_test_sentences = tok.texts_to_sequences(new_test_data)\n",
    "final_test_matrix = sequence.pad_sequences(final_test_sentences,maxlen=max_len)"
   ]
  },
  {
   "cell_type": "code",
   "execution_count": 80,
   "metadata": {},
   "outputs": [],
   "source": [
    "pred_test = cnn_model.predict(final_test_matrix)"
   ]
  },
  {
   "cell_type": "code",
   "execution_count": 81,
   "metadata": {},
   "outputs": [],
   "source": [
    "submission = pd.DataFrame({'id': test.id})"
   ]
  },
  {
   "cell_type": "code",
   "execution_count": 82,
   "metadata": {},
   "outputs": [],
   "source": [
    "submission = submission.join(pd.DataFrame(data=pred_test, columns=train.columns.tolist()[2:]))"
   ]
  },
  {
   "cell_type": "code",
   "execution_count": 83,
   "metadata": {},
   "outputs": [],
   "source": [
    "submission.to_csv('submission.csv', index=False)"
   ]
  },
  {
   "cell_type": "code",
   "execution_count": 84,
   "metadata": {},
   "outputs": [
    {
     "data": {
      "text/html": [
       "<div>\n",
       "<style scoped>\n",
       "    .dataframe tbody tr th:only-of-type {\n",
       "        vertical-align: middle;\n",
       "    }\n",
       "\n",
       "    .dataframe tbody tr th {\n",
       "        vertical-align: top;\n",
       "    }\n",
       "\n",
       "    .dataframe thead th {\n",
       "        text-align: right;\n",
       "    }\n",
       "</style>\n",
       "<table border=\"1\" class=\"dataframe\">\n",
       "  <thead>\n",
       "    <tr style=\"text-align: right;\">\n",
       "      <th></th>\n",
       "      <th>id</th>\n",
       "      <th>toxic</th>\n",
       "      <th>severe_toxic</th>\n",
       "      <th>obscene</th>\n",
       "      <th>threat</th>\n",
       "      <th>insult</th>\n",
       "      <th>identity_hate</th>\n",
       "    </tr>\n",
       "  </thead>\n",
       "  <tbody>\n",
       "    <tr>\n",
       "      <th>0</th>\n",
       "      <td>150000</td>\n",
       "      <td>0.582710</td>\n",
       "      <td>0.007130</td>\n",
       "      <td>0.145887</td>\n",
       "      <td>0.002489</td>\n",
       "      <td>0.176508</td>\n",
       "      <td>0.013374</td>\n",
       "    </tr>\n",
       "    <tr>\n",
       "      <th>1</th>\n",
       "      <td>150001</td>\n",
       "      <td>0.015951</td>\n",
       "      <td>0.000367</td>\n",
       "      <td>0.004417</td>\n",
       "      <td>0.000210</td>\n",
       "      <td>0.006007</td>\n",
       "      <td>0.003361</td>\n",
       "    </tr>\n",
       "    <tr>\n",
       "      <th>2</th>\n",
       "      <td>150002</td>\n",
       "      <td>0.020151</td>\n",
       "      <td>0.000531</td>\n",
       "      <td>0.006888</td>\n",
       "      <td>0.000615</td>\n",
       "      <td>0.005150</td>\n",
       "      <td>0.001044</td>\n",
       "    </tr>\n",
       "    <tr>\n",
       "      <th>3</th>\n",
       "      <td>150003</td>\n",
       "      <td>0.006069</td>\n",
       "      <td>0.000346</td>\n",
       "      <td>0.004013</td>\n",
       "      <td>0.000447</td>\n",
       "      <td>0.002536</td>\n",
       "      <td>0.000715</td>\n",
       "    </tr>\n",
       "    <tr>\n",
       "      <th>4</th>\n",
       "      <td>150004</td>\n",
       "      <td>0.018623</td>\n",
       "      <td>0.000392</td>\n",
       "      <td>0.004656</td>\n",
       "      <td>0.000676</td>\n",
       "      <td>0.006703</td>\n",
       "      <td>0.001451</td>\n",
       "    </tr>\n",
       "  </tbody>\n",
       "</table>\n",
       "</div>"
      ],
      "text/plain": [
       "       id     toxic  severe_toxic   obscene    threat    insult  identity_hate\n",
       "0  150000  0.582710      0.007130  0.145887  0.002489  0.176508       0.013374\n",
       "1  150001  0.015951      0.000367  0.004417  0.000210  0.006007       0.003361\n",
       "2  150002  0.020151      0.000531  0.006888  0.000615  0.005150       0.001044\n",
       "3  150003  0.006069      0.000346  0.004013  0.000447  0.002536       0.000715\n",
       "4  150004  0.018623      0.000392  0.004656  0.000676  0.006703       0.001451"
      ]
     },
     "execution_count": 84,
     "metadata": {},
     "output_type": "execute_result"
    }
   ],
   "source": [
    "submission.head()"
   ]
  },
  {
   "cell_type": "markdown",
   "metadata": {},
   "source": [
    "## LSTM"
   ]
  },
  {
   "cell_type": "code",
   "execution_count": 108,
   "metadata": {},
   "outputs": [],
   "source": [
    "from keras.layers import LSTM, Activation, Dense, Dropout, Input, Embedding, MaxPooling1D, BatchNormalization\n",
    "from keras.optimizers import RMSprop\n",
    "\n",
    "from keras.utils import to_categorical\n",
    "from keras.callbacks import EarlyStopping"
   ]
  },
  {
   "cell_type": "code",
   "execution_count": 109,
   "metadata": {},
   "outputs": [],
   "source": [
    "model = Sequential()\n",
    "model.add(Embedding(input_dim=max_words+1, output_dim=100, input_length=max_len, weights=[embedding_matrix], trainable=True))\n",
    "model.add(LSTM(60, return_sequences=True))\n",
    "\n",
    "model.add(Conv1D(filters=128, kernel_size=5))\n",
    "model.add(MaxPooling1D(pool_size=3))\n",
    "model.add(GlobalMaxPooling1D())\n",
    "model.add(BatchNormalization())\n",
    "\n",
    "model.add(Dense(50, activation='relu'))\n",
    "model.add(Dropout(0.3))\n",
    "model.add(Dense(6, activation='sigmoid'))"
   ]
  },
  {
   "cell_type": "code",
   "execution_count": 110,
   "metadata": {},
   "outputs": [],
   "source": [
    "model.compile(loss='binary_crossentropy',optimizer=RMSprop(lr=0.001),metrics=['accuracy'])"
   ]
  },
  {
   "cell_type": "code",
   "execution_count": 111,
   "metadata": {},
   "outputs": [
    {
     "name": "stdout",
     "output_type": "stream",
     "text": [
      "Train on 135375 samples, validate on 7125 samples\n",
      "Epoch 1/10\n",
      "135375/135375 [==============================] - 460s 3ms/step - loss: 0.0892 - acc: 0.9686 - val_loss: 0.0672 - val_acc: 0.9778\n",
      "Epoch 2/10\n",
      "135375/135375 [==============================] - 449s 3ms/step - loss: 0.0639 - acc: 0.9778 - val_loss: 0.0672 - val_acc: 0.9778\n",
      "Epoch 3/10\n",
      "135375/135375 [==============================] - 449s 3ms/step - loss: 0.0601 - acc: 0.9788 - val_loss: 0.0650 - val_acc: 0.9783\n",
      "Epoch 4/10\n",
      "135375/135375 [==============================] - 451s 3ms/step - loss: 0.0574 - acc: 0.9797 - val_loss: 0.0672 - val_acc: 0.9781\n",
      "Epoch 5/10\n",
      "135375/135375 [==============================] - 457s 3ms/step - loss: 0.0547 - acc: 0.9804 - val_loss: 0.0659 - val_acc: 0.9780\n",
      "Epoch 6/10\n",
      "135375/135375 [==============================] - 454s 3ms/step - loss: 0.0521 - acc: 0.9812 - val_loss: 0.0717 - val_acc: 0.9782\n",
      "Epoch 7/10\n",
      "135375/135375 [==============================] - 451s 3ms/step - loss: 0.0495 - acc: 0.9818 - val_loss: 0.0735 - val_acc: 0.9775\n",
      "Epoch 8/10\n",
      "135375/135375 [==============================] - 450s 3ms/step - loss: 0.0472 - acc: 0.9826 - val_loss: 0.0796 - val_acc: 0.9769\n",
      "Epoch 9/10\n",
      "135375/135375 [==============================] - 449s 3ms/step - loss: 0.0451 - acc: 0.9834 - val_loss: 0.0857 - val_acc: 0.9770\n",
      "Epoch 10/10\n",
      "135375/135375 [==============================] - 448s 3ms/step - loss: 0.0434 - acc: 0.9840 - val_loss: 0.0862 - val_acc: 0.9767\n"
     ]
    },
    {
     "data": {
      "text/plain": [
       "<keras.callbacks.History at 0x2183e07beb8>"
      ]
     },
     "execution_count": 111,
     "metadata": {},
     "output_type": "execute_result"
    }
   ],
   "source": [
    "model.fit(train_sequences_matrix,train_labels,batch_size=128,epochs=10,validation_split=0.05)"
   ]
  },
  {
   "cell_type": "code",
   "execution_count": 112,
   "metadata": {},
   "outputs": [],
   "source": [
    "pred_labels = model.predict(test_sequences_matrix)"
   ]
  },
  {
   "cell_type": "code",
   "execution_count": 113,
   "metadata": {},
   "outputs": [
    {
     "data": {
      "text/plain": [
       "0.9606481431176425"
      ]
     },
     "execution_count": 113,
     "metadata": {},
     "output_type": "execute_result"
    }
   ],
   "source": [
    "roc_auc_score(test_labels,pred_labels)"
   ]
  },
  {
   "cell_type": "code",
   "execution_count": 114,
   "metadata": {},
   "outputs": [],
   "source": [
    "pred_test = model.predict(final_test_matrix)"
   ]
  },
  {
   "cell_type": "code",
   "execution_count": 115,
   "metadata": {},
   "outputs": [],
   "source": [
    "submission = pd.DataFrame({'id': test.id})"
   ]
  },
  {
   "cell_type": "code",
   "execution_count": 116,
   "metadata": {},
   "outputs": [],
   "source": [
    "submission = submission.join(pd.DataFrame(data=pred_test, columns=train.columns.tolist()[2:]))"
   ]
  },
  {
   "cell_type": "code",
   "execution_count": 117,
   "metadata": {},
   "outputs": [],
   "source": [
    "submission.to_csv('submission.csv', index=False)"
   ]
  },
  {
   "cell_type": "markdown",
   "metadata": {},
   "source": [
    "Модель немного переобучается, и ни одна из множества попыток с изменением параметра Dropout и learning rate не смогла это исправить(считала отдельно на kaggle, т.к. очень ресурсозатратно)"
   ]
  },
  {
   "cell_type": "code",
   "execution_count": 118,
   "metadata": {},
   "outputs": [],
   "source": [
    "model = Sequential()\n",
    "model.add(Embedding(max_words+1, 100, input_length=max_len,  weights=[embedding_matrix], trainable=True))\n",
    "model.add(Dropout(0.6))\n",
    "model.add(LSTM(60, return_sequences=True))\n",
    "\n",
    "model.add(Conv1D(filters=128, kernel_size=5))\n",
    "model.add(MaxPooling1D(pool_size=3))\n",
    "model.add(GlobalMaxPooling1D())\n",
    "model.add(BatchNormalization())\n",
    "\n",
    "model.add(Dense(50, activation='relu'))\n",
    "model.add(Dropout(0.6))\n",
    "model.add(Dense(6, activation='sigmoid'))"
   ]
  },
  {
   "cell_type": "code",
   "execution_count": 119,
   "metadata": {},
   "outputs": [],
   "source": [
    "model.compile(loss='binary_crossentropy',optimizer=RMSprop(lr=0.001),metrics=['accuracy'])"
   ]
  },
  {
   "cell_type": "code",
   "execution_count": 120,
   "metadata": {},
   "outputs": [
    {
     "name": "stdout",
     "output_type": "stream",
     "text": [
      "Train on 135375 samples, validate on 7125 samples\n",
      "Epoch 1/10\n",
      "135375/135375 [==============================] - 482s 4ms/step - loss: 0.1142 - acc: 0.9601 - val_loss: 0.0807 - val_acc: 0.9740\n",
      "Epoch 2/10\n",
      "135375/135375 [==============================] - 482s 4ms/step - loss: 0.0805 - acc: 0.9735 - val_loss: 0.0718 - val_acc: 0.9761\n",
      "Epoch 3/10\n",
      "135375/135375 [==============================] - 474s 4ms/step - loss: 0.0779 - acc: 0.9742 - val_loss: 0.0703 - val_acc: 0.9771\n",
      "Epoch 4/10\n",
      "135375/135375 [==============================] - 499s 4ms/step - loss: 0.0762 - acc: 0.9746 - val_loss: 0.0717 - val_acc: 0.9776\n",
      "Epoch 5/10\n",
      "135375/135375 [==============================] - 543s 4ms/step - loss: 0.0770 - acc: 0.9744 - val_loss: 0.0720 - val_acc: 0.9774\n",
      "Epoch 6/10\n",
      "135375/135375 [==============================] - 572s 4ms/step - loss: 0.0751 - acc: 0.9750 - val_loss: 0.0747 - val_acc: 0.9762\n",
      "Epoch 7/10\n",
      "135375/135375 [==============================] - 653s 5ms/step - loss: 0.0744 - acc: 0.9749 - val_loss: 0.0745 - val_acc: 0.9759\n",
      "Epoch 8/10\n",
      "135375/135375 [==============================] - 654s 5ms/step - loss: 0.0741 - acc: 0.9752 - val_loss: 0.0688 - val_acc: 0.9781\n",
      "Epoch 9/10\n",
      "135375/135375 [==============================] - 675s 5ms/step - loss: 0.0736 - acc: 0.9754 - val_loss: 0.0707 - val_acc: 0.9775\n",
      "Epoch 10/10\n",
      "135375/135375 [==============================] - 649s 5ms/step - loss: 0.0729 - acc: 0.9754 - val_loss: 0.0705 - val_acc: 0.9775\n"
     ]
    },
    {
     "data": {
      "text/plain": [
       "<keras.callbacks.History at 0x218416b7d30>"
      ]
     },
     "execution_count": 120,
     "metadata": {},
     "output_type": "execute_result"
    }
   ],
   "source": [
    "model.fit(train_sequences_matrix,train_labels,batch_size=128,epochs=10,validation_split=0.05)"
   ]
  },
  {
   "cell_type": "code",
   "execution_count": 121,
   "metadata": {},
   "outputs": [],
   "source": [
    "pred_labels = model.predict(test_sequences_matrix)"
   ]
  },
  {
   "cell_type": "code",
   "execution_count": 122,
   "metadata": {},
   "outputs": [
    {
     "data": {
      "text/plain": [
       "0.9572563726772865"
      ]
     },
     "execution_count": 122,
     "metadata": {},
     "output_type": "execute_result"
    }
   ],
   "source": [
    "roc_auc_score(test_labels,pred_labels)"
   ]
  },
  {
   "cell_type": "code",
   "execution_count": null,
   "metadata": {},
   "outputs": [],
   "source": []
  }
 ],
 "metadata": {
  "kernelspec": {
   "display_name": "Python 3",
   "language": "python",
   "name": "python3"
  },
  "language_info": {
   "codemirror_mode": {
    "name": "ipython",
    "version": 3
   },
   "file_extension": ".py",
   "mimetype": "text/x-python",
   "name": "python",
   "nbconvert_exporter": "python",
   "pygments_lexer": "ipython3",
   "version": "3.6.4"
  }
 },
 "nbformat": 4,
 "nbformat_minor": 1
}
